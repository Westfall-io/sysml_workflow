{
 "cells": [
  {
   "cell_type": "markdown",
   "id": "85b1489e-45a4-4a8e-b5b1-c8115704b87f",
   "metadata": {
    "kernel": "SoS",
    "tags": []
   },
   "source": [
    "# FireSat Model"
   ]
  },
  {
   "cell_type": "markdown",
   "id": "99cdd5ca-bdc3-41b7-b18d-e5001c5832ae",
   "metadata": {
    "kernel": "SoS"
   },
   "source": [
    "## Model Libraries"
   ]
  },
  {
   "cell_type": "markdown",
   "id": "e3f1b72a-2c8e-4e92-92af-03ee37782f35",
   "metadata": {
    "kernel": "SoS"
   },
   "source": [
    "The following models establish some of the libraries to be used common to many models, it imports things such as units and creates new attributes not defined within the standard library, like dollars."
   ]
  },
  {
   "cell_type": "markdown",
   "id": "22832820-b305-4626-b511-d12acd7c3965",
   "metadata": {
    "kernel": "SoS"
   },
   "source": [
    "Comm Library adds item definitions for links and port definitions for connection ports."
   ]
  },
  {
   "cell_type": "code",
   "execution_count": null,
   "id": "b82bd5a5-159f-4288-b969-b231e7113974",
   "metadata": {
    "kernel": "SysML",
    "tags": []
   },
   "outputs": [
    {
     "name": "stdout",
     "output_type": "stream",
     "text": [
      "Reading /usr/local/share/jupyter/kernels/sysml/sysml.library/Kernel Libraries/Kernel Function Library/StringFunctions.kerml...\n"
     ]
    },
    {
     "name": "stderr",
     "output_type": "stream",
     "text": [
      "log4j:WARN No appenders could be found for logger (org.eclipse.xtext.parser.antlr.AbstractInternalAntlrParser).\n",
      "log4j:WARN Please initialize the log4j system properly.\n",
      "log4j:WARN See http://logging.apache.org/log4j/1.2/faq.html#noconfig for more info.\n"
     ]
    },
    {
     "name": "stdout",
     "output_type": "stream",
     "text": [
      "Reading /usr/local/share/jupyter/kernels/sysml/sysml.library/Kernel Libraries/Kernel Function Library/IntegerFunctions.kerml...\n",
      "Reading /usr/local/share/jupyter/kernels/sysml/sysml.library/Kernel Libraries/Kernel Function Library/VectorFunctions.kerml...\n",
      "Reading /usr/local/share/jupyter/kernels/sysml/sysml.library/Kernel Libraries/Kernel Function Library/RealFunctions.kerml...\n",
      "Reading /usr/local/share/jupyter/kernels/sysml/sysml.library/Kernel Libraries/Kernel Function Library/DataFunctions.kerml...\n",
      "Reading /usr/local/share/jupyter/kernels/sysml/sysml.library/Kernel Libraries/Kernel Function Library/RationalFunctions.kerml...\n",
      "Reading /usr/local/share/jupyter/kernels/sysml/sysml.library/Kernel Libraries/Kernel Function Library/BaseFunctions.kerml...\n",
      "Reading /usr/local/share/jupyter/kernels/sysml/sysml.library/Kernel Libraries/Kernel Function Library/SequenceFunctions.kerml...\n",
      "Reading /usr/local/share/jupyter/kernels/sysml/sysml.library/Kernel Libraries/Kernel Function Library/OccurrenceFunctions.kerml...\n",
      "Reading /usr/local/share/jupyter/kernels/sysml/sysml.library/Kernel Libraries/Kernel Function Library/NaturalFunctions.kerml...\n",
      "Reading /usr/local/share/jupyter/kernels/sysml/sysml.library/Kernel Libraries/Kernel Function Library/TrigFunctions.kerml...\n",
      "Reading /usr/local/share/jupyter/kernels/sysml/sysml.library/Kernel Libraries/Kernel Function Library/ComplexFunctions.kerml...\n",
      "Reading /usr/local/share/jupyter/kernels/sysml/sysml.library/Kernel Libraries/Kernel Function Library/NumericalFunctions.kerml...\n",
      "Reading /usr/local/share/jupyter/kernels/sysml/sysml.library/Kernel Libraries/Kernel Function Library/ScalarFunctions.kerml...\n",
      "Reading /usr/local/share/jupyter/kernels/sysml/sysml.library/Kernel Libraries/Kernel Function Library/ControlFunctions.kerml...\n",
      "Reading /usr/local/share/jupyter/kernels/sysml/sysml.library/Kernel Libraries/Kernel Function Library/BooleanFunctions.kerml...\n",
      "Reading /usr/local/share/jupyter/kernels/sysml/sysml.library/Kernel Libraries/Kernel Function Library/CollectionFunctions.kerml...\n",
      "Reading /usr/local/share/jupyter/kernels/sysml/sysml.library/Kernel Libraries/Kernel Data Type Library/Collections.kerml...\n",
      "Reading /usr/local/share/jupyter/kernels/sysml/sysml.library/Kernel Libraries/Kernel Data Type Library/ScalarValues.kerml...\n",
      "Reading /usr/local/share/jupyter/kernels/sysml/sysml.library/Kernel Libraries/Kernel Data Type Library/VectorValues.kerml...\n",
      "Reading /usr/local/share/jupyter/kernels/sysml/sysml.library/Kernel Libraries/Kernel Semantic Library/Transfers.kerml...\n",
      "Reading /usr/local/share/jupyter/kernels/sysml/sysml.library/Kernel Libraries/Kernel Semantic Library/ControlPerformances.kerml...\n",
      "Reading /usr/local/share/jupyter/kernels/sysml/sysml.library/Kernel Libraries/Kernel Semantic Library/TransitionPerformances.kerml...\n",
      "Reading /usr/local/share/jupyter/kernels/sysml/sysml.library/Kernel Libraries/Kernel Semantic Library/FeatureReferencingPerformances.kerml...\n",
      "Reading /usr/local/share/jupyter/kernels/sysml/sysml.library/Kernel Libraries/Kernel Semantic Library/Observation.kerml...\n",
      "Reading /usr/local/share/jupyter/kernels/sysml/sysml.library/Kernel Libraries/Kernel Semantic Library/Occurrences.kerml...\n",
      "Reading /usr/local/share/jupyter/kernels/sysml/sysml.library/Kernel Libraries/Kernel Semantic Library/Links.kerml...\n",
      "Reading /usr/local/share/jupyter/kernels/sysml/sysml.library/Kernel Libraries/Kernel Semantic Library/Performances.kerml...\n",
      "Reading /usr/local/share/jupyter/kernels/sysml/sysml.library/Kernel Libraries/Kernel Semantic Library/Clocks.kerml...\n",
      "Reading /usr/local/share/jupyter/kernels/sysml/sysml.library/Kernel Libraries/Kernel Semantic Library/Triggers.kerml...\n",
      "Reading /usr/local/share/jupyter/kernels/sysml/sysml.library/Kernel Libraries/Kernel Semantic Library/KerML.kerml...\n",
      "Reading /usr/local/share/jupyter/kernels/sysml/sysml.library/Kernel Libraries/Kernel Semantic Library/StatePerformances.kerml...\n",
      "Reading /usr/local/share/jupyter/kernels/sysml/sysml.library/Kernel Libraries/Kernel Semantic Library/Base.kerml...\n",
      "Reading /usr/local/share/jupyter/kernels/sysml/sysml.library/Kernel Libraries/Kernel Semantic Library/SpatialFrames.kerml...\n",
      "Reading /usr/local/share/jupyter/kernels/sysml/sysml.library/Kernel Libraries/Kernel Semantic Library/Objects.kerml...\n",
      "Reading /usr/local/share/jupyter/kernels/sysml/sysml.library/Kernel Libraries/Kernel Semantic Library/Metaobjects.kerml...\n",
      "Reading /usr/local/share/jupyter/kernels/sysml/sysml.library/Systems Library/Connections.sysml...\n",
      "Reading /usr/local/share/jupyter/kernels/sysml/sysml.library/Systems Library/StandardViewDefinitions.sysml...\n",
      "Reading /usr/local/share/jupyter/kernels/sysml/sysml.library/Systems Library/Items.sysml...\n",
      "Reading /usr/local/share/jupyter/kernels/sysml/sysml.library/Systems Library/Cases.sysml...\n",
      "Reading /usr/local/share/jupyter/kernels/sysml/sysml.library/Systems Library/AnalysisCases.sysml...\n",
      "Reading /usr/local/share/jupyter/kernels/sysml/sysml.library/Systems Library/Ports.sysml...\n",
      "Reading /usr/local/share/jupyter/kernels/sysml/sysml.library/Systems Library/UseCases.sysml...\n",
      "Reading /usr/local/share/jupyter/kernels/sysml/sysml.library/Systems Library/Parts.sysml...\n",
      "Reading /usr/local/share/jupyter/kernels/sysml/sysml.library/Systems Library/Metadata.sysml...\n",
      "Reading /usr/local/share/jupyter/kernels/sysml/sysml.library/Systems Library/Constraints.sysml...\n",
      "Reading /usr/local/share/jupyter/kernels/sysml/sysml.library/Systems Library/Interfaces.sysml...\n",
      "Reading /usr/local/share/jupyter/kernels/sysml/sysml.library/Systems Library/Actions.sysml...\n",
      "Reading /usr/local/share/jupyter/kernels/sysml/sysml.library/Systems Library/Allocations.sysml...\n",
      "Reading /usr/local/share/jupyter/kernels/sysml/sysml.library/Systems Library/VerificationCases.sysml...\n",
      "Reading /usr/local/share/jupyter/kernels/sysml/sysml.library/Systems Library/Views.sysml...\n",
      "Reading /usr/local/share/jupyter/kernels/sysml/sysml.library/Systems Library/Requirements.sysml...\n",
      "Reading /usr/local/share/jupyter/kernels/sysml/sysml.library/Systems Library/SysML.sysml...\n",
      "Reading /usr/local/share/jupyter/kernels/sysml/sysml.library/Systems Library/Calculations.sysml...\n",
      "Reading /usr/local/share/jupyter/kernels/sysml/sysml.library/Systems Library/States.sysml...\n",
      "Reading /usr/local/share/jupyter/kernels/sysml/sysml.library/Systems Library/Attributes.sysml...\n",
      "Reading /usr/local/share/jupyter/kernels/sysml/sysml.library/Domain Libraries/Requirement Derivation/RequirementDerivation.sysml...\n",
      "Reading /usr/local/share/jupyter/kernels/sysml/sysml.library/Domain Libraries/Requirement Derivation/DerivationConnections.sysml...\n",
      "Reading /usr/local/share/jupyter/kernels/sysml/sysml.library/Domain Libraries/Metadata/RiskMetadata.sysml...\n",
      "Reading /usr/local/share/jupyter/kernels/sysml/sysml.library/Domain Libraries/Metadata/ParametersOfInterestMetadata.sysml...\n",
      "Reading /usr/local/share/jupyter/kernels/sysml/sysml.library/Domain Libraries/Metadata/ModelingMetadata.sysml...\n",
      "Reading /usr/local/share/jupyter/kernels/sysml/sysml.library/Domain Libraries/Metadata/ImageMetadata.sysml...\n",
      "Reading /usr/local/share/jupyter/kernels/sysml/sysml.library/Domain Libraries/Geometry/ShapeItems.sysml...\n",
      "Reading /usr/local/share/jupyter/kernels/sysml/sysml.library/Domain Libraries/Geometry/SpatialItems.sysml...\n",
      "Reading /usr/local/share/jupyter/kernels/sysml/sysml.library/Domain Libraries/Cause and Effect/CausationConnections.sysml...\n",
      "Reading /usr/local/share/jupyter/kernels/sysml/sysml.library/Domain Libraries/Cause and Effect/CauseAndEffect.sysml...\n",
      "Reading /usr/local/share/jupyter/kernels/sysml/sysml.library/Domain Libraries/Quantities and Units/Time.sysml...\n",
      "Reading /usr/local/share/jupyter/kernels/sysml/sysml.library/Domain Libraries/Quantities and Units/ISQThermodynamics.sysml...\n",
      "Reading /usr/local/share/jupyter/kernels/sysml/sysml.library/Domain Libraries/Quantities and Units/ISQAcoustics.sysml...\n",
      "Reading /usr/local/share/jupyter/kernels/sysml/sysml.library/Domain Libraries/Quantities and Units/ISQMechanics.sysml...\n",
      "Reading /usr/local/share/jupyter/kernels/sysml/sysml.library/Domain Libraries/Quantities and Units/ISQElectromagnetism.sysml...\n",
      "Reading /usr/local/share/jupyter/kernels/sysml/sysml.library/Domain Libraries/Quantities and Units/ISQCondensedMatter.sysml...\n",
      "Reading /usr/local/share/jupyter/kernels/sysml/sysml.library/Domain Libraries/Quantities and Units/ISQBase.sysml...\n",
      "Reading /usr/local/share/jupyter/kernels/sysml/sysml.library/Domain Libraries/Quantities and Units/ISQAtomicNuclear.sysml...\n",
      "Reading /usr/local/share/jupyter/kernels/sysml/sysml.library/Domain Libraries/Quantities and Units/ISQSpaceTime.sysml...\n",
      "Reading /usr/local/share/jupyter/kernels/sysml/sysml.library/Domain Libraries/Quantities and Units/ISQChemistryMolecular.sysml...\n",
      "Reading /usr/local/share/jupyter/kernels/sysml/sysml.library/Domain Libraries/Quantities and Units/ISQCharacteristicNumbers.sysml...\n",
      "Reading /usr/local/share/jupyter/kernels/sysml/sysml.library/Domain Libraries/Quantities and Units/MeasurementReferences.sysml...\n",
      "Reading /usr/local/share/jupyter/kernels/sysml/sysml.library/Domain Libraries/Quantities and Units/Quantities.sysml...\n",
      "Reading /usr/local/share/jupyter/kernels/sysml/sysml.library/Domain Libraries/Quantities and Units/ISQInformation.sysml...\n",
      "Reading /usr/local/share/jupyter/kernels/sysml/sysml.library/Domain Libraries/Quantities and Units/SIPrefixes.sysml...\n",
      "Reading /usr/local/share/jupyter/kernels/sysml/sysml.library/Domain Libraries/Quantities and Units/VectorCalculations.sysml...\n",
      "Reading /usr/local/share/jupyter/kernels/sysml/sysml.library/Domain Libraries/Quantities and Units/ISQLight.sysml...\n",
      "Reading /usr/local/share/jupyter/kernels/sysml/sysml.library/Domain Libraries/Quantities and Units/ISQ.sysml...\n",
      "Reading /usr/local/share/jupyter/kernels/sysml/sysml.library/Domain Libraries/Quantities and Units/MeasurementRefCalculations.sysml...\n",
      "Reading /usr/local/share/jupyter/kernels/sysml/sysml.library/Domain Libraries/Quantities and Units/SI.sysml...\n",
      "Reading /usr/local/share/jupyter/kernels/sysml/sysml.library/Domain Libraries/Quantities and Units/TensorCalculations.sysml...\n",
      "Reading /usr/local/share/jupyter/kernels/sysml/sysml.library/Domain Libraries/Quantities and Units/QuantityCalculations.sysml...\n",
      "Reading /usr/local/share/jupyter/kernels/sysml/sysml.library/Domain Libraries/Quantities and Units/USCustomaryUnits.sysml...\n",
      "Reading /usr/local/share/jupyter/kernels/sysml/sysml.library/Domain Libraries/Analysis/SampledFunctions.sysml...\n",
      "Reading /usr/local/share/jupyter/kernels/sysml/sysml.library/Domain Libraries/Analysis/AnalysisTooling.sysml...\n",
      "Reading /usr/local/share/jupyter/kernels/sysml/sysml.library/Domain Libraries/Analysis/StateSpaceRepresentation.sysml...\n",
      "Reading /usr/local/share/jupyter/kernels/sysml/sysml.library/Domain Libraries/Analysis/TradeStudies.sysml...\n"
     ]
    },
    {
     "name": "stderr",
     "output_type": "stream",
     "text": [
      "Sep 20, 2023 9:21:17 PM io.github.spencerpark.jupyter.channels.Loop start\n",
      "INFO: Loop starting...\n",
      "Sep 20, 2023 9:21:17 PM io.github.spencerpark.jupyter.channels.Loop start\n",
      "INFO: Loop started.\n",
      "Sep 20, 2023 9:21:17 PM io.github.spencerpark.jupyter.channels.Loop start\n",
      "INFO: Loop starting...\n",
      "Sep 20, 2023 9:21:17 PM io.github.spencerpark.jupyter.channels.Loop start\n",
      "INFO: Loop started.\n",
      "Sep 20, 2023 9:21:17 PM io.github.spencerpark.jupyter.channels.Loop start\n",
      "INFO: Loop starting...\n",
      "Sep 20, 2023 9:21:17 PM io.github.spencerpark.jupyter.channels.Loop start\n",
      "INFO: Loop started.\n"
     ]
    },
    {
     "data": {
      "text/plain": [
       "Package CommLibrary (09e3684f-80c4-4e72-9e83-ff8cf7a84474)\n"
      ]
     },
     "execution_count": 2,
     "metadata": {},
     "output_type": "execute_result"
    }
   ],
   "source": [
    "package CommLibrary {\n",
    "    import ISQ::TimeValue;\n",
    "    import SI::Hz;\n",
    "    import SIPrefixes::mega;\n",
    "    import MeasurementReferences::DerivedUnit;\n",
    "    MHz : DerivedUnit = mega * Hz;\n",
    "    item def 'S-band Uplink' {\n",
    "        attribute frequency = 2025 [MHz];\n",
    "    }\n",
    "\n",
    "    item def 'S-band Downlink' {\n",
    "        attribute frequency = 2200 [MHz];\n",
    "    }\n",
    "\n",
    "    item def 'Ku-band Downlink' {\n",
    "        attribute frequency = 25600 [MHz];\n",
    "    }\n",
    "\n",
    "    port def Ku_Downlink_Port  {\n",
    "        out signal : 'Ku-band Downlink';\n",
    "    }\n",
    "\n",
    "    port def S_Uplink_Port {\n",
    "        out signal : 'S-band Uplink';\n",
    "    }\n",
    "\n",
    "    port def S_Downlink_Port {\n",
    "        out signal : 'S-band Downlink';\n",
    "    }\n",
    "\n",
    "    interface def S_Uplink_Interface {\n",
    "        end supplierPort : S_Uplink_Port;\n",
    "        end consumerPort : ~S_Uplink_Port;\n",
    "        attribute commTime : TimeValue;\n",
    "    }\n",
    "\n",
    "    interface def S_Downlink_Interface {\n",
    "        end supplierPort : S_Downlink_Port;\n",
    "        end consumerPort : ~S_Downlink_Port;\n",
    "    }\n",
    "    \n",
    "    interface def Ku_Downlink_Interface {\n",
    "        end supplierPort : Ku_Downlink_Port;\n",
    "        end consumerPort : ~Ku_Downlink_Port;\n",
    "    }\n",
    "}"
   ]
  },
  {
   "cell_type": "code",
   "execution_count": 2,
   "id": "9bb61b04-7c7b-4651-9acf-d0e064723990",
   "metadata": {
    "kernel": "SysML"
   },
   "outputs": [
    {
     "data": {
      "text/plain": [
       "Package PropLibrary (7f164605-8fdc-4780-97b9-6ae8d8e1ad6a)\n"
      ]
     },
     "execution_count": 3,
     "metadata": {},
     "output_type": "execute_result"
    }
   ],
   "source": [
    "package PropLibrary {\n",
    "    item def Fuel;\n",
    "    port def FuelPort {\n",
    "        in fuel : Fuel;\n",
    "    }\n",
    "    interface def Fuel_Interface {\n",
    "        end supplierPort : FuelPort;\n",
    "        end consumerPort : ~FuelPort;\n",
    "    }\n",
    "}"
   ]
  },
  {
   "cell_type": "code",
   "execution_count": 3,
   "id": "36a46981-2480-433e-9fde-5eeb3126423e",
   "metadata": {
    "kernel": "SysML",
    "tags": []
   },
   "outputs": [
    {
     "data": {
      "text/plain": [
       "Package VehicleQuantities (98185641-3bf2-4463-9952-bbccf171b0ec)\n"
      ]
     },
     "execution_count": 4,
     "metadata": {},
     "output_type": "execute_result"
    }
   ],
   "source": [
    "package VehicleQuantities {\n",
    "    import ScalarValues::*;\n",
    "    import Quantities::*;\n",
    "    import ShapeItems::*;\n",
    "    import MeasurementReferences::DerivedUnit;\n",
    "    import VectorCalculations::*;\n",
    "    import ISQ::*;\n",
    "    import SI::*;\n",
    "    import SIPrefixes::*;\n",
    "    import USCustomaryUnits::*;\n",
    "    import Time::*;\n",
    "\n",
    "    kW : DerivedUnit = kilo * W;\n",
    "    MHz : DerivedUnit = mega * Hz;\n",
    "    attribute dollars : Real;\n",
    "\n",
    "    import CommLibrary::*;\n",
    "    import PropLibrary::*;\n",
    "}"
   ]
  },
  {
   "cell_type": "markdown",
   "id": "167d2f84-9f3f-4255-9ab0-a1427f7a4276",
   "metadata": {
    "kernel": "SysML"
   },
   "source": [
    "## Logical Architecture"
   ]
  },
  {
   "cell_type": "markdown",
   "id": "7fce090b-47ce-4c38-afba-4c252c26b321",
   "metadata": {
    "kernel": "SysML"
   },
   "source": [
    "### Space Segment Models"
   ]
  },
  {
   "cell_type": "markdown",
   "id": "1ae210a4-3790-4872-98b4-2146fdfb8f05",
   "metadata": {
    "kernel": "SysML"
   },
   "source": [
    "#### Spacecraft Models"
   ]
  },
  {
   "cell_type": "markdown",
   "id": "69eadf96-c763-4395-be00-d0ae70006dc7",
   "metadata": {
    "kernel": "SysML"
   },
   "source": [
    "##### Payload Models"
   ]
  },
  {
   "cell_type": "code",
   "execution_count": 4,
   "id": "7d150b48-322d-4517-869c-91735b10f3a4",
   "metadata": {
    "kernel": "SysML"
   },
   "outputs": [
    {
     "data": {
      "text/plain": [
       "Package Payload Sensor Logical Architecture (041f1b91-d6d7-45a9-b193-20e0b01b6ca9)\n"
      ]
     },
     "execution_count": 5,
     "metadata": {},
     "output_type": "execute_result"
    }
   ],
   "source": [
    "package 'Payload Sensor Logical Architecture' {\n",
    "    import VehicleQuantities::*;\n",
    "    abstract part def 'Payload Sensor' {\n",
    "        abstract part def 'Electro-optical' {\n",
    "            attribute length : Real;\n",
    "        }\n",
    "    }\n",
    "}"
   ]
  },
  {
   "cell_type": "markdown",
   "id": "49156a95-1d73-4c94-8e5f-ce0b8520061b",
   "metadata": {
    "kernel": "SysML"
   },
   "source": [
    "##### Spacecraft Models"
   ]
  },
  {
   "cell_type": "code",
   "execution_count": 5,
   "id": "6469fd56-11c4-46a1-98f9-cd6f00f77e54",
   "metadata": {
    "kernel": "SysML"
   },
   "outputs": [
    {
     "data": {
      "text/plain": [
       "Package Propulsion Element (a96f8467-50ea-4fad-a982-d1d52c895ebf)\n"
      ]
     },
     "execution_count": 6,
     "metadata": {},
     "output_type": "execute_result"
    }
   ],
   "source": [
    "package 'Propulsion Element' {\n",
    "    import VehicleQuantities::*;\n",
    "    \n",
    "    part def Hundred_N_Thruster {\n",
    "        attribute Thrust = 100 [N];\n",
    "        port fuelIn : ~FuelPort;\n",
    "    }\n",
    "    \n",
    "    part def Six_kg_Tank {\n",
    "        attribute mass = 6 [kg];\n",
    "        port fuelOut : FuelPort;\n",
    "    }\n",
    "    \n",
    "    abstract part def 'Propulsion System' {\n",
    "        part Tank : Six_kg_Tank;\n",
    "        part Engine : Hundred_N_Thruster;\n",
    "    }\n",
    "    \n",
    "    part PropElement : 'Propulsion System';\n",
    "    \n",
    "    interface 'Fuel Link' : Fuel_Interface connect \n",
    "        supplierPort ::> PropElement.Tank.fuelOut to \n",
    "        consumerPort ::> PropElement.Engine.fuelIn;\n",
    "}"
   ]
  },
  {
   "cell_type": "code",
   "execution_count": 6,
   "id": "604f5077-218c-4662-820b-757e2fc50186",
   "metadata": {
    "kernel": "SysML"
   },
   "outputs": [
    {
     "data": {
      "text/plain": [
       "Package Spacecraft Bus Logical Architecture (ebdb38e7-fd32-4e1f-b2f6-0447ec0a0c5f)\n"
      ]
     },
     "execution_count": 7,
     "metadata": {},
     "output_type": "execute_result"
    }
   ],
   "source": [
    "package 'Spacecraft Bus Logical Architecture' {\n",
    "    import VehicleQuantities::*;\n",
    "    abstract part def 'Spacecraft Bus' {\n",
    "        import 'Propulsion Element'::*;\n",
    "        abstract part def ADCS;\n",
    "        abstract part def Navigation;\n",
    "        abstract part def 'C&DH';\n",
    "        abstract part def 'TT&C' {\n",
    "            part s_antenna {\n",
    "                port commsIn : S_Uplink_Port;\n",
    "                port commsOut : S_Downlink_Port;\n",
    "                attribute gain = 3;\n",
    "            }\n",
    "            part ku_antenna {\n",
    "                port commsOut : Ku_Downlink_Port;\n",
    "            }\n",
    "        }\n",
    "        abstract part def Power;\n",
    "        abstract part def Structures;\n",
    "        abstract part def Thermal;\n",
    "        \n",
    "        part comms : 'TT&C';\n",
    "    }\n",
    "}"
   ]
  },
  {
   "cell_type": "markdown",
   "id": "d3e38305-38f9-4ac8-84c6-ec3ef582c0a1",
   "metadata": {
    "kernel": "SysML"
   },
   "source": [
    "##### Spacecraft Logical Architecture"
   ]
  },
  {
   "cell_type": "code",
   "execution_count": 7,
   "id": "6b2de44d-d550-4b10-beec-2edfbfa111ad",
   "metadata": {
    "kernel": "SysML"
   },
   "outputs": [
    {
     "name": "stdout",
     "output_type": "stream",
     "text": [
      "WARNING:Duplicate of inherited member name (7.sysml line : 12 column : 24)\n"
     ]
    },
    {
     "data": {
      "text/plain": [
       "Package Spacecraft Logical Architecture (1c5014e3-a75f-493e-8847-117db491d736)\n"
      ]
     },
     "execution_count": 8,
     "metadata": {},
     "output_type": "execute_result"
    }
   ],
   "source": [
    "package 'Spacecraft Logical Architecture' {\n",
    "    import VehicleQuantities::*;\n",
    "\n",
    "    abstract part def Spacecraft {\n",
    "        import 'Spacecraft Bus Logical Architecture'::*;\n",
    "        import 'Payload Sensor Logical Architecture'::*;\n",
    "        part bus : 'Spacecraft Bus';\n",
    "        part sensor : 'Payload Sensor';\n",
    "    }\n",
    "\n",
    "    part def '3UCubeSat' :> Spacecraft {\n",
    "        constraint def volume :> ShapeItems::RectangularCuboid{\n",
    "            :>> height := 340.5 [mm];\n",
    "            :>> width := 100 [mm];\n",
    "            :>> length := 100 [mm];\n",
    "        }\n",
    "    }\n",
    "}"
   ]
  },
  {
   "cell_type": "markdown",
   "id": "8fd64877-4e3e-4a67-9b8e-ebdf70be285b",
   "metadata": {
    "kernel": "SysML"
   },
   "source": [
    "#### Space Segment Logical Architecture"
   ]
  },
  {
   "cell_type": "code",
   "execution_count": 8,
   "id": "25abe25b-b29f-4167-ac82-8a7ee12cdb17",
   "metadata": {
    "kernel": "SysML"
   },
   "outputs": [
    {
     "data": {
      "text/plain": [
       "Package Spacecraft Segment Logical Architecture (e245e722-4ced-4f79-8e2a-573dfd5de7a3)\n"
      ]
     },
     "execution_count": 9,
     "metadata": {},
     "output_type": "execute_result"
    }
   ],
   "source": [
    "package 'Spacecraft Segment Logical Architecture' {\n",
    "    abstract part def 'Spacecraft Segment' {\n",
    "        import 'Spacecraft Logical Architecture'::*;\n",
    "\n",
    "        part spacecraft : '3UCubeSat' [50] {\n",
    "           attribute orbit {\n",
    "              attribute sma = 8000 [km];\n",
    "           }\n",
    "        }\n",
    "    }\n",
    "}"
   ]
  },
  {
   "cell_type": "markdown",
   "id": "5caa32ce-61cf-4f2d-973d-89b8fa58270a",
   "metadata": {
    "kernel": "SysML"
   },
   "source": [
    "### Launch Segment Model"
   ]
  },
  {
   "cell_type": "code",
   "execution_count": 9,
   "id": "55b9c42a-257a-473c-9ea7-8923b0e56c9b",
   "metadata": {
    "kernel": "SysML",
    "tags": []
   },
   "outputs": [
    {
     "data": {
      "text/plain": [
       "Package Launch Segment Parts (7b0d5d8a-c8c2-4312-9188-d1d917061522)\n"
      ]
     },
     "execution_count": 10,
     "metadata": {},
     "output_type": "execute_result"
    }
   ],
   "source": [
    "package 'Launch Segment Parts' {\n",
    "    abstract part def 'Launch Segment';\n",
    "}"
   ]
  },
  {
   "cell_type": "markdown",
   "id": "511db7ba-7c80-4442-a764-5768e46d336b",
   "metadata": {
    "kernel": "SysML"
   },
   "source": [
    "### Ground Segment Model"
   ]
  },
  {
   "cell_type": "code",
   "execution_count": 10,
   "id": "5afcdaac-b715-42ce-939a-1cc5eb5f8ca7",
   "metadata": {
    "kernel": "SysML"
   },
   "outputs": [
    {
     "data": {
      "text/plain": [
       "Package Ground Segment Parts (e5814fa6-f185-4eb0-9ade-88463e4f5ba3)\n"
      ]
     },
     "execution_count": 11,
     "metadata": {},
     "output_type": "execute_result"
    }
   ],
   "source": [
    "package 'Ground Segment Parts' {\n",
    "    import VehicleQuantities::*;\n",
    "    abstract part def 'Ground Segment' {\n",
    "        abstract part def Communications {\n",
    "            part s_antenna {\n",
    "                port commsOut : S_Uplink_Port;\n",
    "                port commsIn : ~S_Downlink_Port;\n",
    "                attribute gain = 10;\n",
    "                attribute location {\n",
    "                   attribute latitude = 10 [degree];\n",
    "                   attribute longitude = 10 [degree];\n",
    "                   attribute altitude = 0 [m];\n",
    "                }\n",
    "            }\n",
    "\n",
    "            part ku_antenna {\n",
    "                port commsIn : ~Ku_Downlink_Port;\n",
    "            }\n",
    "        }\n",
    "        part comms : Communications;\n",
    "        abstract part def 'Mission Processing';\n",
    "        abstract part def Operations;\n",
    "    }\n",
    "    \n",
    "}"
   ]
  },
  {
   "cell_type": "markdown",
   "id": "1799ad91-e5d4-4441-be85-57f7d34e6ebf",
   "metadata": {
    "kernel": "SysML"
   },
   "source": [
    "### Logical Architecture Model"
   ]
  },
  {
   "cell_type": "code",
   "execution_count": 11,
   "id": "b8fbe1dd-43a9-41d6-a5bf-14389045704a",
   "metadata": {
    "kernel": "SysML"
   },
   "outputs": [
    {
     "data": {
      "text/plain": [
       "Package Logical Architecture (2b7e76cf-7d38-48bf-9603-4a938596b0f3)\n"
      ]
     },
     "execution_count": 12,
     "metadata": {},
     "output_type": "execute_result"
    }
   ],
   "source": [
    "package 'Logical Architecture' {\n",
    "    import VehicleQuantities::*;\n",
    "    import 'Spacecraft Segment Logical Architecture'::*;\n",
    "    part space : 'Spacecraft Segment';\n",
    "    import 'Launch Segment Parts'::*;\n",
    "    import 'Ground Segment Parts'::*;\n",
    "    part ground : 'Ground Segment';\n",
    "    \n",
    "    interface 'S-band Uplink Communication' : S_Uplink_Interface connect \n",
    "        supplierPort ::> ground.comms.s_antenna.commsOut to \n",
    "        consumerPort ::> space.spacecraft.bus.comms.s_antenna.commsIn;\n",
    "    \n",
    "    interface 'S-band Downlink Communication' : S_Downlink_Interface connect \n",
    "        supplierPort ::> space.spacecraft.bus.comms.s_antenna.commsOut to \n",
    "        consumerPort ::> ground.comms.s_antenna.commsIn;\n",
    "\n",
    "    interface 'Ku-band Downlink Communication' : Ku_Downlink_Interface connect \n",
    "        supplierPort ::> space.spacecraft.bus.comms.ku_antenna.commsOut to \n",
    "        consumerPort ::> ground.comms.ku_antenna.commsIn;\n",
    "}"
   ]
  },
  {
   "cell_type": "markdown",
   "id": "cb1050a8-37bf-4b72-8a68-16bcab1ed502",
   "metadata": {
    "kernel": "SysML"
   },
   "source": [
    "## Mission, Use Cases"
   ]
  },
  {
   "cell_type": "code",
   "execution_count": 12,
   "id": "e2717566-a13e-4a65-8de8-b89f2faa292d",
   "metadata": {
    "kernel": "SysML"
   },
   "outputs": [
    {
     "name": "stdout",
     "output_type": "stream",
     "text": [
      "WARNING:Bound features should have conforming types (12.sysml line : 27 column : 40)\n"
     ]
    },
    {
     "data": {
      "text/plain": [
       "Package Firesat Mission (2f3e9206-0a49-452b-8204-88bfe9d1344b)\n"
      ]
     },
     "execution_count": 13,
     "metadata": {},
     "output_type": "execute_result"
    }
   ],
   "source": [
    "package 'Firesat Mission' {\n",
    "    import 'Logical Architecture'::'Spacecraft Segment'::Spacecraft::'Payload Sensor'::'Electro-optical';\n",
    "    import 'Logical Architecture'::'Spacecraft Segment'::Spacecraft::'Spacecraft Bus'::'C&DH';\n",
    "    alias Sensor for 'Electro-optical';\n",
    "    alias DataProcessing for 'C&DH';\n",
    "    part def Fire;\n",
    "    \n",
    "    use case def 'Collect' {\n",
    "        subject sensor : Sensor;\n",
    "        actor fire : Fire;\n",
    "        objective {\n",
    "            doc /* Detect fires with EO */\n",
    "        }\n",
    "    }\n",
    "    \n",
    "    use case def 'Process' {\n",
    "        subject dpe : DataProcessing;\n",
    "        actor sensor : Sensor;\n",
    "        objective {\n",
    "            doc /* Collect data for processing */\n",
    "        }\n",
    "    }\n",
    "    \n",
    "    use case 'Detect Fires' : 'Collect' {\n",
    "        first start;\n",
    "        \n",
    "        then use case 'Process Data' : 'Process' {\n",
    "            actor :>> sensor = 'Collect'::sensor;\n",
    "        }\n",
    "    }\n",
    "    \n",
    "}"
   ]
  },
  {
   "cell_type": "markdown",
   "id": "9840d3c3-1dbf-42e0-9217-c0dc5fe741a2",
   "metadata": {
    "kernel": "SysML"
   },
   "source": [
    "## Requirements"
   ]
  },
  {
   "cell_type": "code",
   "execution_count": 30,
   "id": "6b17be5d-0a5f-4825-8e31-55cc5d0c8bc5",
   "metadata": {
    "kernel": "SysML"
   },
   "outputs": [
    {
     "data": {
      "text/plain": [
       "Package Requirements (869ea793-33ec-44d5-ab75-7b556756e51d)\n"
      ]
     },
     "execution_count": 30,
     "metadata": {},
     "output_type": "execute_result"
    }
   ],
   "source": [
    "package Requirements {\n",
    "    import 'Logical Architecture'::*;\n",
    "    import VerificationCases::VerdictKind;\n",
    "    \n",
    "    requirement CommunicationReq {\n",
    "        subject link : S_Uplink_Interface;\n",
    "        attribute commTime : TimeValue = link.commTime;\n",
    "        attribute commReqd : TimeValue = 600 [s];\n",
    "        doc /* The ground shall be able to \n",
    "        * communicate to a satellite for 10 minutes per day. */\n",
    "        require constraint { commTime >= commReqd }\n",
    "    }\n",
    "\n",
    "    // This verification has a single stage.\n",
    "    verification def CommTimeTest_single {\n",
    "        import AnalysisTooling::*;\n",
    "        \n",
    "        subject link : S_Uplink_Interface;\n",
    "        objective {\n",
    "            verify CommunicationReq;\n",
    "        }\n",
    "\n",
    "        action collectData {\n",
    "            metadata ToolExecution {\n",
    "                toolName = \"Artifacts\";\n",
    "                uri = \"aserv://localhost/Vehicle/Equation1\";\n",
    "            }\n",
    "\n",
    "            in location = (ground.comms.s_antenna.location.latitude, \n",
    "               ground.comms.s_antenna.location.longitude, \n",
    "               ground.comms.s_antenna.location.altitude) { @ToolVariable { name = \"groundLocation\"; } }\n",
    "            in gainT = ground.comms.s_antenna.gain { @ToolVariable { name = \"gainTransmit\"; } }\n",
    "            in gainR = space.spacecraft.bus.comms.s_antenna.gain { @ToolVariable { name = \"gainReceive\"; } }\n",
    "            out result : VerdictKind { @ToolVariable { name = \"bucket://junit.xml\"; } }\n",
    "        }\n",
    "        \n",
    "        return verdict : VerdictKind = collectData.result;\n",
    "    }\n",
    "\n",
    "    // This is a multi-stage validation.\n",
    "    verification def CommTimeTest_multi {\n",
    "        import AnalysisTooling::*;\n",
    "        \n",
    "        subject link : S_Uplink_Interface;\n",
    "        objective {\n",
    "            verify CommunicationReq;\n",
    "        }\n",
    "        \n",
    "        action collectData {\n",
    "            metadata ToolExecution {\n",
    "                toolName = \"Harbor\";\n",
    "                uri = \"aserv://localhost/Vehicle/Equation1\";\n",
    "            }\n",
    "\n",
    "            metadata ToolExecution {\n",
    "                toolName = \"Artifacts\";\n",
    "                uri = \"aserv://localhost/Vehicle/Equation1\";\n",
    "            }\n",
    "\n",
    "            in location = (ground.comms.s_antenna.location.latitude, \n",
    "               ground.comms.s_antenna.location.longitude, \n",
    "               ground.comms.s_antenna.location.altitude) { @ToolVariable { name = \"groundLocation\"; } }\n",
    "            in gainT = ground.comms.s_antenna.gain { @ToolVariable { name = \"gainTransmit\"; } }\n",
    "            in gainR = space.spacecraft.bus.comms.s_antenna.gain { @ToolVariable { name = \"gainReceive\"; } }\n",
    "            out commTimeFile { @ToolVariable { name = \"bucket://output.txt\"; } }\n",
    "        }\n",
    "\n",
    "        action processData {\n",
    "            metadata ToolExecution {\n",
    "                toolName = \"Harbor\";\n",
    "                uri = \"aserv://localhost/Vehicle/Equation1\";\n",
    "            }\n",
    "\n",
    "            metadata ToolExecution {\n",
    "                toolName = \"Artifacts\";\n",
    "                uri = \"aserv://localhost/Vehicle/Equation1\";\n",
    "            }\n",
    "            in commTimeFile = collectData.commTimeFile { @ToolVariable { name = \"bucket://output.txt\"; } }\n",
    "            in commReqd = CommunicationReq.commReqd { @ToolVariable { name = \"commReqd\"; } }\n",
    "            out result : VerdictKind { @ToolVariable { name = \"bucket://junit.xml\"; } }\n",
    "        }\n",
    "        \n",
    "        return verdict : VerdictKind = processData.result;\n",
    "    }\n",
    "\n",
    "    // This validation has invalid actions.\n",
    "    verification def CommTimeTest_invalid {\n",
    "        import AnalysisTooling::*;\n",
    "        \n",
    "        subject link : S_Uplink_Interface;\n",
    "        objective {\n",
    "            verify CommunicationReq;\n",
    "        }\n",
    "\n",
    "        action collectData {\n",
    "            metadata ToolExecution {\n",
    "                toolName = \"Artifacts\";\n",
    "                uri = \"aserv://localhost/Vehicle/Equation1\";\n",
    "            }\n",
    "\n",
    "            in location = (ground.comms.s_antenna.location.latitude, \n",
    "               ground.comms.s_antenna.location.longitude, \n",
    "               ground.comms.s_antenna.location.altitude) { @ToolVariable { name = \"groundLocation\"; } }\n",
    "            in gainT = ground.comms.s_antenna.gain { @ToolVariable { name = \"gainTransmit\"; } }\n",
    "            in gainR = space.spacecraft.bus.comms.s_antenna.gain { @ToolVariable { name = \"gainReceive\"; } }\n",
    "            out commTimeFile { @ToolVariable { name = \"bucket://output.txt\"; } }\n",
    "        }\n",
    "\n",
    "        action processData {\n",
    "            metadata ToolExecution {\n",
    "                toolName = \"Harbor\";\n",
    "                uri = \"aserv://localhost/Vehicle/Equation1\";\n",
    "            }\n",
    "            in commTimeFile = collectData.commTimeFile { @ToolVariable { name = \"bucket://output.txt\"; } }\n",
    "            in commReqd = CommunicationReq.commReqd { @ToolVariable { name = \"commReqd\"; } }\n",
    "            out result : VerdictKind { @ToolVariable { name = \"bucket://junit.xml\"; } }\n",
    "        }\n",
    "        \n",
    "        return verdict : VerdictKind = processData.result;\n",
    "    }\n",
    "    \n",
    "    verification CommTimeTest_Val {\n",
    "        return verdict = VerdictKind::pass;\n",
    "    }\n",
    "    \n",
    "}"
   ]
  },
  {
   "cell_type": "code",
   "execution_count": 14,
   "id": "efd54baf-7c59-4689-b760-64a1cc8fc4f3",
   "metadata": {
    "kernel": "SysML"
   },
   "outputs": [
    {
     "data": {
      "text/plain": [
       "Package Requirements (06c4eeaf-fd2b-49b4-9495-45073af22877)\n",
       "  [NamespaceImport] Package Logical Architecture (2b7e76cf-7d38-48bf-9603-4a938596b0f3)\n",
       "  [MembershipImport] OwningMembership (6938ec1e-bab7-48c3-83cd-c4e6102cdfa0)\n",
       "  [OwningMembership] RequirementUsage CommunicationReq (696c8e66-879b-4497-b7a5-572b3022b992)\n",
       "    [ReturnParameterMembership] ReferenceUsage result (8f8c2a7f-f124-438a-8b60-2a3c7b45c086)\n",
       "  [OwningMembership] VerificationCaseDefinition CommTimeTest (868fbf1b-dabb-4b3a-9969-0916c57bfc2a)\n",
       "    [Subclassification (implicit)] VerificationCaseDefinition VerificationCase (47f5248d-9140-50c8-b28c-16d68d573621)\n",
       "    [NamespaceImport] LibraryPackage AnalysisTooling (4e927f98-8d7d-5bd1-a1ea-81cc460b41e3)\n",
       "    [SubjectMembership] ReferenceUsage link (775ab06c-e5b3-410f-b394-2dc4cb26da6a)\n",
       "      [Subsetting (implicit)] Feature objects (33d1bd68-58e2-555e-98a3-b0b679542260)\n",
       "      [Redefinition (implicit)] ReferenceUsage subj (d8e03d87-a650-5e7a-a16d-2d4afc0539ce)\n",
       "      [FeatureTyping] InterfaceDefinition S_Uplink_Interface (22126018-73e3-40fc-8e02-800fa7b6abcf)\n",
       "    [ObjectiveMembership] RequirementUsage s_uplink_verification (99d6ffd8-e63e-445c-a5a6-03f32935f9a5)\n",
       "      [ReturnParameterMembership] ReferenceUsage result (ed68cb17-f72c-43f8-8322-ba610d43e6ed)\n",
       "    [FeatureMembership] ActionUsage collectData (a5e46adc-ebbe-4f01-afb1-23440ec6ae9e)\n",
       "      [Subsetting (implicit)] ActionUsage subactions (3cd3b18a-02fd-5ca8-908a-9acac924a5b3)\n",
       "      [Subsetting (implicit)] Step enclosedPerformances (d2f2efc4-b3fe-5807-85bc-416fbebb05f0)\n",
       "      [OwningMembership] MetadataUsage (d532eb4e-a561-44b2-ae73-00c8aba68982)\n",
       "        [Subsetting (implicit)] ItemUsage metadataItems (86a03620-14b1-5162-be76-c630db385329)\n",
       "        [FeatureTyping] MetadataDefinition ToolExecution (0159651d-d06c-586b-8811-22900cdc37c2)\n",
       "        [FeatureMembership] ReferenceUsage toolName (e29fbd33-6767-4c01-8cc4-186bd3945b69)\n",
       "          [Redefinition] AttributeUsage toolName (2baff8ef-aae1-57c9-838d-46abee0109e5)\n",
       "          [FeatureValue] LiteralString Harbor (af7f2552-98e2-4ccc-a13d-8710b4b71e73)\n",
       "            [ReturnParameterMembership] Feature result (f107ca45-88ef-4ce4-9ae2-9d38453c6123)\n",
       "        [FeatureMembership] ReferenceUsage uri (3bf39e30-80cf-44cf-9373-79b2ffc60d49)\n",
       "          [Redefinition] AttributeUsage uri (6090146b-d46d-54cf-98ab-1772b53d6181)\n",
       "          [FeatureValue] LiteralString aserv://localhost/Vehicle/Equation1 (02af47fc-38ff-4f3e-8d73-b6a7583b5501)\n",
       "            [ReturnParameterMembership] Feature result (150f1a6e-bffe-4f96-80ad-2e5593c3f9f6)\n",
       "      [OwningMembership] MetadataUsage (2ee63b62-ff84-4773-a36e-6e7b99d63a4e)\n",
       "        [Subsetting (implicit)] ItemUsage metadataItems (86a03620-14b1-5162-be76-c630db385329)\n",
       "        [FeatureTyping] MetadataDefinition ToolExecution (0159651d-d06c-586b-8811-22900cdc37c2)\n",
       "        [FeatureMembership] ReferenceUsage toolName (1c88ef54-e815-4236-a465-00f4671f45cd)\n",
       "          [Redefinition] AttributeUsage toolName (2baff8ef-aae1-57c9-838d-46abee0109e5)\n",
       "          [FeatureValue] LiteralString Artifacts (c06fe3d3-c186-484b-b11b-7de3e6cc2952)\n",
       "            [ReturnParameterMembership] Feature result (9e610392-faf1-4860-8d25-60f520a14ac2)\n",
       "        [FeatureMembership] ReferenceUsage uri (2237f493-b9e2-4668-b625-3428d5e4323a)\n",
       "          [Redefinition] AttributeUsage uri (6090146b-d46d-54cf-98ab-1772b53d6181)\n",
       "          [FeatureValue] LiteralString aserv://localhost/Vehicle/Equation1 (4cdeec24-42a3-4007-ba4a-5a07d8234786)\n",
       "            [ReturnParameterMembership] Feature result (3c008092-c03f-4aec-840f-4312169ac91b)\n",
       "      [FeatureMembership] ReferenceUsage location (6dca1355-6f38-419f-bfdd-cd833ac1842b)\n",
       "        [Subsetting (implicit)] Feature things (3176ab6a-8d7b-5e14-b263-57bd30f77f78)\n",
       "        [FeatureValue] OperatorExpression , (ac1afc1b-4246-4ba4-ae89-d9e039298447)\n",
       "          [ReturnParameterMembership] Feature result (10afaf40-d727-46b1-b046-522e94606572)\n",
       "        [OwningMembership] MetadataUsage (73895b0d-e037-4d16-b57a-b34d9673eefb)\n",
       "          [Subsetting (implicit)] ItemUsage metadataItems (86a03620-14b1-5162-be76-c630db385329)\n",
       "          [FeatureTyping] MetadataDefinition ToolVariable (faf363d5-40e8-5a6c-8a5e-ef0a2f2f56ed)\n",
       "          [FeatureMembership] ReferenceUsage name (a510271b-34dc-4cbd-a53e-2dfb568c5081)\n",
       "            [Redefinition] AttributeUsage name (5f513dd7-f2a0-5f5a-813f-9eaeb8dcaccd)\n",
       "            [FeatureValue] LiteralString groundLocation (b8eebd9b-7577-4f0a-b6cd-61e8f5849364)\n",
       "              [ReturnParameterMembership] Feature result (43b81a99-cc63-41f4-b151-f4345bd95e3b)\n",
       "      [FeatureMembership] ReferenceUsage gainT (6586c443-825c-4e7c-87eb-c000fd064530)\n",
       "        [Subsetting (implicit)] Feature things (3176ab6a-8d7b-5e14-b263-57bd30f77f78)\n",
       "        [FeatureValue] FeatureChainExpression . (7f3add0d-bc8a-45a3-8525-aa082b05f6ea)\n",
       "          [ReturnParameterMembership] Feature result (6de1677e-0ce9-4e0f-95e3-aa90cb4d4ed4)\n",
       "        [OwningMembership] MetadataUsage (335ff2ca-3582-45b1-8f3e-69658e86855e)\n",
       "          [Subsetting (implicit)] ItemUsage metadataItems (86a03620-14b1-5162-be76-c630db385329)\n",
       "          [FeatureTyping] MetadataDefinition ToolVariable (faf363d5-40e8-5a6c-8a5e-ef0a2f2f56ed)\n",
       "          [FeatureMembership] ReferenceUsage name (811d70b4-9664-41fd-a08c-6e7a6d5838b3)\n",
       "            [Redefinition] AttributeUsage name (5f513dd7-f2a0-5f5a-813f-9eaeb8dcaccd)\n",
       "            [FeatureValue] LiteralString gainTransmit (e409b809-cef7-4b54-835b-30446104af51)\n",
       "              [ReturnParameterMembership] Feature result (5f61835a-e0b2-41a1-b624-8d39ee604a0c)\n",
       "      [FeatureMembership] ReferenceUsage gainR (e8bf1d8d-90fe-4403-8499-d4560b243c1a)\n",
       "        [Subsetting (implicit)] Feature things (3176ab6a-8d7b-5e14-b263-57bd30f77f78)\n",
       "        [FeatureValue] FeatureChainExpression . (fec086c0-f30a-4380-bd77-5abf9a8fdece)\n",
       "          [ReturnParameterMembership] Feature result (8ffd9450-77b8-485a-9610-084404f99ce8)\n",
       "        [OwningMembership] MetadataUsage (4f7528f5-dd45-4ace-aa6b-0ad6ab0ee1ff)\n",
       "          [Subsetting (implicit)] ItemUsage metadataItems (86a03620-14b1-5162-be76-c630db385329)\n",
       "          [FeatureTyping] MetadataDefinition ToolVariable (faf363d5-40e8-5a6c-8a5e-ef0a2f2f56ed)\n",
       "          [FeatureMembership] ReferenceUsage name (6f00f68c-cbd4-4623-b1e1-c058f832dc2e)\n",
       "            [Redefinition] AttributeUsage name (5f513dd7-f2a0-5f5a-813f-9eaeb8dcaccd)\n",
       "            [FeatureValue] LiteralString gainReceive (678589cf-5abf-4a87-b560-e0ee670dac9d)\n",
       "              [ReturnParameterMembership] Feature result (3d9d3ecd-a5db-4ea9-8583-4912eac54f82)\n",
       "      [FeatureMembership] ReferenceUsage commTimeFile (a39ff9da-ab9d-4b8d-a04e-50d56eff7dde)\n",
       "        [Subsetting (implicit)] Feature things (3176ab6a-8d7b-5e14-b263-57bd30f77f78)\n",
       "        [OwningMembership] MetadataUsage (af8ccc7d-6938-40eb-b31a-8b56fcb0add2)\n",
       "          [Subsetting (implicit)] ItemUsage metadataItems (86a03620-14b1-5162-be76-c630db385329)\n",
       "          [FeatureTyping] MetadataDefinition ToolVariable (faf363d5-40e8-5a6c-8a5e-ef0a2f2f56ed)\n",
       "          [FeatureMembership] ReferenceUsage name (dae126cd-58b8-4f6d-86b1-e6f202199654)\n",
       "            [Redefinition] AttributeUsage name (5f513dd7-f2a0-5f5a-813f-9eaeb8dcaccd)\n",
       "            [FeatureValue] LiteralString bucket://output.txt (f3a90389-b2bf-45a8-8506-45963d97d895)\n",
       "              [ReturnParameterMembership] Feature result (9ba03e4f-1eab-4106-9022-370687bff832)\n",
       "    [FeatureMembership] ActionUsage processData (875dc947-eced-410b-b837-1edb66199559)\n",
       "      [Subsetting (implicit)] ActionUsage subactions (3cd3b18a-02fd-5ca8-908a-9acac924a5b3)\n",
       "      [Subsetting (implicit)] Step enclosedPerformances (d2f2efc4-b3fe-5807-85bc-416fbebb05f0)\n",
       "      [OwningMembership] MetadataUsage (fbe7f6c0-bb44-451f-8277-e1623b6bd91e)\n",
       "        [Subsetting (implicit)] ItemUsage metadataItems (86a03620-14b1-5162-be76-c630db385329)\n",
       "        [FeatureTyping] MetadataDefinition ToolExecution (0159651d-d06c-586b-8811-22900cdc37c2)\n",
       "        [FeatureMembership] ReferenceUsage toolName (0dbc5cf6-524a-46dc-8f3a-02e6f2985277)\n",
       "          [Redefinition] AttributeUsage toolName (2baff8ef-aae1-57c9-838d-46abee0109e5)\n",
       "          [FeatureValue] LiteralString Harbor (afdd8887-b1f2-4b49-a3e1-6f2ed46768ff)\n",
       "            [ReturnParameterMembership] Feature result (5de7ada7-08f7-412c-bdee-bbc16e1774d7)\n",
       "        [FeatureMembership] ReferenceUsage uri (666b97a9-e36e-4d90-bd72-1461bdee1028)\n",
       "          [Redefinition] AttributeUsage uri (6090146b-d46d-54cf-98ab-1772b53d6181)\n",
       "          [FeatureValue] LiteralString aserv://localhost/Vehicle/Equation1 (f98a8f64-0fe0-410c-b41b-b80b2a186e8e)\n",
       "            [ReturnParameterMembership] Feature result (dc5198ba-4a24-4bdd-b64c-df646b066cf8)\n",
       "      [OwningMembership] MetadataUsage (cfbfc91b-3b3a-4065-82fc-6b408dc2ce26)\n",
       "        [Subsetting (implicit)] ItemUsage metadataItems (86a03620-14b1-5162-be76-c630db385329)\n",
       "        [FeatureTyping] MetadataDefinition ToolExecution (0159651d-d06c-586b-8811-22900cdc37c2)\n",
       "        [FeatureMembership] ReferenceUsage toolName (d9fbeb1d-6a26-464a-90d9-2d4cb3753a72)\n",
       "          [Redefinition] AttributeUsage toolName (2baff8ef-aae1-57c9-838d-46abee0109e5)\n",
       "          [FeatureValue] LiteralString Artifacts (ade0e451-f796-47dd-8fa6-e314f14f6dc1)\n",
       "            [ReturnParameterMembership] Feature result (063d6f6f-96d1-4471-95e3-fd7e1288fe72)\n",
       "        [FeatureMembership] ReferenceUsage uri (eecc806e-20e2-425a-b7e4-45df23853001)\n",
       "          [Redefinition] AttributeUsage uri (6090146b-d46d-54cf-98ab-1772b53d6181)\n",
       "          [FeatureValue] LiteralString aserv://localhost/Vehicle/Equation1 (8682453c-ae6b-4db2-aa08-ac9707bb33ff)\n",
       "            [ReturnParameterMembership] Feature result (bd6fbe9c-c8a8-4727-b99a-c54d3a449e7c)\n",
       "      [FeatureMembership] ReferenceUsage commTimeFile (87597224-074b-458a-848e-24ce6d78ef49)\n",
       "        [Subsetting (implicit)] Feature things (3176ab6a-8d7b-5e14-b263-57bd30f77f78)\n",
       "        [FeatureValue] FeatureChainExpression . (47760f1a-392b-46fe-a043-7c59620d7d43)\n",
       "          [ReturnParameterMembership] Feature result (5b500e84-5926-49f3-9d44-083e6e6f459d)\n",
       "        [OwningMembership] MetadataUsage (17ff8a57-4064-44f0-8848-8a82fda65742)\n",
       "          [Subsetting (implicit)] ItemUsage metadataItems (86a03620-14b1-5162-be76-c630db385329)\n",
       "          [FeatureTyping] MetadataDefinition ToolVariable (faf363d5-40e8-5a6c-8a5e-ef0a2f2f56ed)\n",
       "          [FeatureMembership] ReferenceUsage name (0a0e2c83-9926-4524-ad0a-8246275ad996)\n",
       "            [Redefinition] AttributeUsage name (5f513dd7-f2a0-5f5a-813f-9eaeb8dcaccd)\n",
       "            [FeatureValue] LiteralString bucket://output.txt (ea8c7203-8fb3-489c-9eb6-7ae288d44eed)\n",
       "              [ReturnParameterMembership] Feature result (6c13e618-f09c-488a-af32-61fe565b77d8)\n",
       "      [FeatureMembership] ReferenceUsage commReqd (5530a91c-516b-48fa-ab8e-970bbee05b62)\n",
       "        [Subsetting (implicit)] Feature things (3176ab6a-8d7b-5e14-b263-57bd30f77f78)\n",
       "        [FeatureValue] FeatureChainExpression . (8501e842-8b89-4d91-84ae-90a7e16f747e)\n",
       "          [ReturnParameterMembership] Feature result (669a0180-aad7-4646-9c48-a9ec7d8403fb)\n",
       "        [OwningMembership] MetadataUsage (ddeff5d1-47f6-4ee4-89e6-9a897601e9c9)\n",
       "          [Subsetting (implicit)] ItemUsage metadataItems (86a03620-14b1-5162-be76-c630db385329)\n",
       "          [FeatureTyping] MetadataDefinition ToolVariable (faf363d5-40e8-5a6c-8a5e-ef0a2f2f56ed)\n",
       "          [FeatureMembership] ReferenceUsage name (12608982-ace7-414b-9568-a69dd8ede6d7)\n",
       "            [Redefinition] AttributeUsage name (5f513dd7-f2a0-5f5a-813f-9eaeb8dcaccd)\n",
       "            [FeatureValue] LiteralString commReqd (37dd9a63-7ecb-400f-ab81-d3743de41506)\n",
       "              [ReturnParameterMembership] Feature result (1d402c07-85df-4777-9131-3d60c125e347)\n",
       "      [FeatureMembership] ReferenceUsage result (e406ae3a-17e1-4dab-97e9-d40c0509970d)\n",
       "        [Subsetting (implicit)] Feature dataValues (e3cf6666-8d68-5824-9480-7acad0d4512c)\n",
       "        [FeatureTyping] EnumerationDefinition VerdictKind (f06263b0-9202-57eb-944a-e0abb70837fb)\n",
       "        [OwningMembership] MetadataUsage (06fbd750-97d1-4422-ac83-87931c757bee)\n",
       "          [Subsetting (implicit)] ItemUsage metadataItems (86a03620-14b1-5162-be76-c630db385329)\n",
       "          [FeatureTyping] MetadataDefinition ToolVariable (faf363d5-40e8-5a6c-8a5e-ef0a2f2f56ed)\n",
       "          [FeatureMembership] ReferenceUsage name (ba128c9a-e9c7-4d11-a210-c89e61431679)\n",
       "            [Redefinition] AttributeUsage name (5f513dd7-f2a0-5f5a-813f-9eaeb8dcaccd)\n",
       "            [FeatureValue] LiteralString bucket://junit.xml (7334d2e0-7fce-45f2-bb17-4a926abe8e93)\n",
       "              [ReturnParameterMembership] Feature result (281623a3-667b-4c64-86eb-1d238487390f)\n",
       "    [ReturnParameterMembership] ReferenceUsage verdict (8a3f04a4-15c6-4df4-b6b8-6e71e8c220fc)\n",
       "      [Redefinition (implicit)] ReferenceUsage verdict (80c8f193-1609-5f1c-be90-0494b52b61b2)\n",
       "      [FeatureTyping] EnumerationDefinition VerdictKind (f06263b0-9202-57eb-944a-e0abb70837fb)\n",
       "      [FeatureValue] FeatureChainExpression . (6723d831-a119-4d22-be0c-3e0864adf157)\n",
       "        [ReturnParameterMembership] Feature result (fc21f415-12a1-4d11-ab3a-579fe6d26761)\n",
       "  [OwningMembership] VerificationCaseUsage CommTimeTest_Val (81687f12-0b45-493d-8975-e07f7d5c30c9)\n",
       "    [Subsetting (implicit)] VerificationCaseUsage verificationCases (91f01a71-e825-5ed0-851e-540cac929303)\n",
       "    [SubjectMembership] ReferenceUsage subj (2f82671c-9829-480c-9ed0-8cd6b15d9abe)\n",
       "      [Redefinition (implicit)] ReferenceUsage subj (7fa7ac61-acf5-5762-8cc7-c6b0cf5b3cb4)\n",
       "    [ReturnParameterMembership] ReferenceUsage verdict (11a88658-0a19-4ad1-a6fe-f53d43d58f24)\n",
       "      [Redefinition (implicit)] ReferenceUsage verdict (48316edb-0bc1-5b47-b62a-8372915b9f37)\n",
       "      [FeatureValue] FeatureReferenceExpression pass (8706fbbe-35ef-4b20-971d-7c1477ca2677)\n",
       "        [ReturnParameterMembership] Feature result (37107b81-3b8b-4046-8ec2-f36c632fe8ec)\n",
       "    [ObjectiveMembership] RequirementUsage obj (47670df2-e8d4-44b3-91f2-51c61efbe172)\n",
       "      [ReturnParameterMembership] ReferenceUsage result (37b781b8-8f33-4bd0-b484-7315cab42175)\n"
      ]
     },
     "execution_count": 15,
     "metadata": {},
     "output_type": "execute_result"
    }
   ],
   "source": [
    "%show Requirements"
   ]
  },
  {
   "cell_type": "code",
   "execution_count": null,
   "id": "ac49ceaf-3fbc-46b8-b610-6f819811a51d",
   "metadata": {
    "kernel": "SysML"
   },
   "outputs": [],
   "source": []
  },
  {
   "cell_type": "code",
   "execution_count": 15,
   "id": "b4fefb23-8005-4682-9de5-2d5c7c7d18eb",
   "metadata": {
    "kernel": "SysML"
   },
   "outputs": [
    {
     "data": {
      "image/svg+xml": [
       "<?xml version=\"1.0\" encoding=\"UTF-8\" standalone=\"no\"?><svg xmlns=\"http://www.w3.org/2000/svg\" xmlns:xlink=\"http://www.w3.org/1999/xlink\" contentStyleType=\"text/css\" height=\"208px\" preserveAspectRatio=\"none\" style=\"width:992px;height:208px;background:#FFFFFF;\" version=\"1.1\" viewBox=\"0 0 992 208\" width=\"992px\" zoomAndPan=\"magnify\"><defs><filter height=\"300%\" id=\"f1m8vv8yjld006\" width=\"300%\" x=\"-1\" y=\"-1\"><feGaussianBlur result=\"blurOut\" stdDeviation=\"2.0\"/><feColorMatrix in=\"blurOut\" result=\"blurOut2\" type=\"matrix\" values=\"0 0 0 0 0 0 0 0 0 0 0 0 0 0 0 0 0 0 .4 0\"/><feOffset dx=\"4.0\" dy=\"4.0\" in=\"blurOut2\" result=\"blurOut3\"/><feBlend in=\"SourceGraphic\" in2=\"blurOut3\" mode=\"normal\"/></filter></defs><g><!--MD5=[43c9051892ef23e1a46a86907403d788]\n",
       "class E1--><a href=\"psysml:a5e46adc-ebbe-4f01-afb1-23440ec6ae9e\" target=\"_top\" title=\"psysml:a5e46adc-ebbe-4f01-afb1-23440ec6ae9e\" xlink:actuate=\"onRequest\" xlink:href=\"psysml:a5e46adc-ebbe-4f01-afb1-23440ec6ae9e\" xlink:show=\"new\" xlink:title=\"psysml:a5e46adc-ebbe-4f01-afb1-23440ec6ae9e\" xlink:type=\"simple\"><g id=\"elem_E1\"><rect fill=\"#FFFACD\" filter=\"url(#f1m8vv8yjld006)\" height=\"189.1594\" id=\"E1\" rx=\"10\" ry=\"10\" style=\"stroke:#181818;stroke-width:0.5;\" width=\"324\" x=\"7\" y=\"7\"/><text fill=\"#000000\" font-family=\"sans-serif\" font-size=\"12\" font-style=\"italic\" lengthAdjust=\"spacing\" textLength=\"112\" x=\"113\" y=\"23.1387\">«#ToolExecution»</text><text fill=\"#000000\" font-family=\"sans-serif\" font-size=\"14\" lengthAdjust=\"spacing\" textLength=\"77\" x=\"126.5\" y=\"38.9639\">collectData</text><line style=\"stroke:#181818;stroke-width:0.5;\" x1=\"8\" x2=\"330\" y1=\"47.2656\" y2=\"47.2656\"/><text fill=\"#000000\" font-family=\"sans-serif\" font-size=\"14\" font-weight=\"bold\" lengthAdjust=\"spacing\" textLength=\"14\" x=\"13\" y=\"74.7795\">in</text><text fill=\"#000000\" font-family=\"sans-serif\" font-size=\"14\" lengthAdjust=\"spacing\" textLength=\"55\" x=\"31\" y=\"74.7795\">gainR =</text><text fill=\"#000000\" font-family=\"sans-serif\" font-size=\"14\" lengthAdjust=\"spacing\" textLength=\"312\" x=\"13\" y=\"91.0764\">space.spacecraft.bus.comms.s_antenna.gain</text><text fill=\"#000000\" font-family=\"sans-serif\" font-size=\"14\" font-weight=\"bold\" lengthAdjust=\"spacing\" textLength=\"14\" x=\"13\" y=\"107.3732\">in</text><text fill=\"#000000\" font-family=\"sans-serif\" font-size=\"14\" lengthAdjust=\"spacing\" textLength=\"272\" x=\"31\" y=\"107.3732\">gainT = ground.comms.s_antenna.gain</text><text fill=\"#000000\" font-family=\"sans-serif\" font-size=\"14\" font-weight=\"bold\" lengthAdjust=\"spacing\" textLength=\"14\" x=\"13\" y=\"123.6701\">in</text><text fill=\"#000000\" font-family=\"sans-serif\" font-size=\"14\" lengthAdjust=\"spacing\" textLength=\"70\" x=\"31\" y=\"123.6701\">location =</text><text fill=\"#000000\" font-family=\"sans-serif\" font-size=\"14\" lengthAdjust=\"spacing\" textLength=\"303\" x=\"13\" y=\"139.967\">(ground.comms.s_antenna.location.latitude,</text><text fill=\"#000000\" font-family=\"sans-serif\" font-size=\"14\" lengthAdjust=\"spacing\" textLength=\"312\" x=\"13\" y=\"156.2639\">ground.comms.s_antenna.location.longitude,</text><text fill=\"#000000\" font-family=\"sans-serif\" font-size=\"14\" lengthAdjust=\"spacing\" textLength=\"299\" x=\"13\" y=\"172.5607\">ground.comms.s_antenna.location.altitude)</text><text fill=\"#000000\" font-family=\"sans-serif\" font-size=\"14\" font-weight=\"bold\" lengthAdjust=\"spacing\" textLength=\"26\" x=\"13\" y=\"188.8576\">out</text><text fill=\"#000000\" font-family=\"sans-serif\" font-size=\"14\" lengthAdjust=\"spacing\" textLength=\"100\" x=\"43\" y=\"188.8576\">commTimeFile</text><text fill=\"#000000\" font-family=\"sans-serif\" font-size=\"14\" font-style=\"italic\" lengthAdjust=\"spacing\" textLength=\"78\" x=\"130\" y=\"59.6123\">parameters</text></g></a><g id=\"elem_E2\"><path d=\"M366,62 L366,140.5313 L658,140.5313 L658,72 L648,62 L366,62 \" fill=\"#FEFFDD\" filter=\"url(#f1m8vv8yjld006)\" style=\"stroke:#181818;stroke-width:0.5;\"/><path d=\"M648,62 L648,72 L658,72 L648,62 \" fill=\"#FEFFDD\" style=\"stroke:#181818;stroke-width:1.0;\"/><text fill=\"#000000\" font-family=\"monospace\" font-size=\"13\" lengthAdjust=\"spacing\" textLength=\"112\" x=\"372\" y=\"79.0669\">              </text><a href=\"psysml:d532eb4e-a561-44b2-ae73-00c8aba68982\" target=\"_top\" title=\"psysml:d532eb4e-a561-44b2-ae73-00c8aba68982\" xlink:actuate=\"onRequest\" xlink:href=\"psysml:d532eb4e-a561-44b2-ae73-00c8aba68982\" xlink:show=\"new\" xlink:title=\"psysml:d532eb4e-a561-44b2-ae73-00c8aba68982\" xlink:type=\"simple\"><text fill=\"#0000FF\" font-family=\"sans-serif\" font-size=\"13\" lengthAdjust=\"spacing\" text-decoration=\"underline\" textLength=\"79\" x=\"484\" y=\"79.0669\">«metadata»</text></a><text fill=\"#000000\" font-family=\"monospace\" font-size=\"13\" font-style=\"italic\" lengthAdjust=\"spacing\" textLength=\"104\" x=\"372\" y=\"94.1997\">             </text><text fill=\"#000000\" font-family=\"sans-serif\" font-size=\"13\" font-style=\"italic\" lengthAdjust=\"spacing\" textLength=\"90\" x=\"476\" y=\"94.1997\">ToolExecution</text><line style=\"stroke:#181818;stroke-width:1.0;\" x1=\"367\" x2=\"657\" y1=\"97.2656\" y2=\"97.2656\"/><text fill=\"#000000\" font-family=\"sans-serif\" font-size=\"13\" lengthAdjust=\"spacing\" textLength=\"140\" x=\"372\" y=\"113.3325\">toolName =  \"Harbor\"</text><text fill=\"#000000\" font-family=\"sans-serif\" font-size=\"13\" lengthAdjust=\"spacing\" textLength=\"271\" x=\"372\" y=\"128.4653\">uri =  \"aserv://localhost/Vehicle/Equation1\"</text></g><g id=\"elem_E3\"><path d=\"M693,62 L693,140.5313 L985,140.5313 L985,72 L975,62 L693,62 \" fill=\"#FEFFDD\" filter=\"url(#f1m8vv8yjld006)\" style=\"stroke:#181818;stroke-width:0.5;\"/><path d=\"M975,62 L975,72 L985,72 L975,62 \" fill=\"#FEFFDD\" style=\"stroke:#181818;stroke-width:1.0;\"/><text fill=\"#000000\" font-family=\"monospace\" font-size=\"13\" lengthAdjust=\"spacing\" textLength=\"112\" x=\"699\" y=\"79.0669\">              </text><a href=\"psysml:2ee63b62-ff84-4773-a36e-6e7b99d63a4e\" target=\"_top\" title=\"psysml:2ee63b62-ff84-4773-a36e-6e7b99d63a4e\" xlink:actuate=\"onRequest\" xlink:href=\"psysml:2ee63b62-ff84-4773-a36e-6e7b99d63a4e\" xlink:show=\"new\" xlink:title=\"psysml:2ee63b62-ff84-4773-a36e-6e7b99d63a4e\" xlink:type=\"simple\"><text fill=\"#0000FF\" font-family=\"sans-serif\" font-size=\"13\" lengthAdjust=\"spacing\" text-decoration=\"underline\" textLength=\"79\" x=\"811\" y=\"79.0669\">«metadata»</text></a><text fill=\"#000000\" font-family=\"monospace\" font-size=\"13\" font-style=\"italic\" lengthAdjust=\"spacing\" textLength=\"104\" x=\"699\" y=\"94.1997\">             </text><text fill=\"#000000\" font-family=\"sans-serif\" font-size=\"13\" font-style=\"italic\" lengthAdjust=\"spacing\" textLength=\"90\" x=\"803\" y=\"94.1997\">ToolExecution</text><line style=\"stroke:#181818;stroke-width:1.0;\" x1=\"694\" x2=\"984\" y1=\"97.2656\" y2=\"97.2656\"/><text fill=\"#000000\" font-family=\"sans-serif\" font-size=\"13\" lengthAdjust=\"spacing\" textLength=\"149\" x=\"699\" y=\"113.3325\">toolName =  \"Artifacts\"</text><text fill=\"#000000\" font-family=\"sans-serif\" font-size=\"13\" lengthAdjust=\"spacing\" textLength=\"271\" x=\"699\" y=\"128.4653\">uri =  \"aserv://localhost/Vehicle/Equation1\"</text></g><!--MD5=[e1fcd5921a1c7555e4743305e5dc0c07]\n",
       "@startuml\r\n",
       "skin sysmlc\r\n",
       "skinparam wrapWidth 300\r\n",
       "hide circle\r\n",
       "\r\n",
       "comp usage \"collectData  \" as E1 <<#ToolExecution>>[[psysml:a5e46adc-ebbe-4f01-afb1-23440ec6ae9e ]] {\r\n",
       "##//parameters//##\r\n",
       "<b>in</b> gainR <U+003D> space.spacecraft.bus.comms.s<U+005F>antenna.gain\r\n",
       "<b>in</b> gainT <U+003D> ground.comms.s<U+005F>antenna.gain\r\n",
       "<b>in</b> location <U+003D> (ground.comms.s<U+005F>antenna.location.latitude,                ground.comms.s<U+005F>antenna.location.longitude,                ground.comms.s<U+005F>antenna.location.altitude)\r\n",
       "<b>out</b> commTimeFile\r\n",
       "}\r\n",
       "note as E2\r\n",
       "\"\"              \"\"[[psysml:d532eb4e-a561-44b2-ae73-00c8aba68982 «metadata»]]\r\n",
       "==== \"\"             \"\"ToolExecution\r\n",
       "- -\r\n",
       "toolName =  \"Harbor\"\r\n",
       "uri =  \"aserv://localhost/Vehicle/Equation1\"\r\n",
       "end note\r\n",
       "note as E3\r\n",
       "\"\"              \"\"[[psysml:2ee63b62-ff84-4773-a36e-6e7b99d63a4e «metadata»]]\r\n",
       "==== \"\"             \"\"ToolExecution\r\n",
       "- -\r\n",
       "toolName =  \"Artifacts\"\r\n",
       "uri =  \"aserv://localhost/Vehicle/Equation1\"\r\n",
       "end note\r\n",
       "@enduml\r\n",
       "\n",
       "PlantUML version 1.2022.7(Mon Aug 22 17:01:30 UTC 2022)\n",
       "(EPL source distribution)\n",
       "Java Runtime: OpenJDK Runtime Environment\n",
       "JVM: OpenJDK 64-Bit Server VM\n",
       "Default Encoding: UTF-8\n",
       "Language: en\n",
       "Country: null\n",
       "--></g></svg>"
      ]
     },
     "execution_count": 16,
     "metadata": {},
     "output_type": "execute_result"
    }
   ],
   "source": [
    "%viz --style=STDCOLOR Requirements::CommTimeTest::collectData"
   ]
  },
  {
   "cell_type": "code",
   "execution_count": 16,
   "id": "f947677a-72fd-4d8a-85cd-ecab32644fc1",
   "metadata": {
    "kernel": "SysML"
   },
   "outputs": [
    {
     "data": {
      "text/plain": [
       "Usage: %eval [--target=<NAME>] <EXPR>\n",
       "\n",
       "Print the results of evaluating <EXPR> on the target given by <NAME>, which must be fully qualified.\n",
       "If a target is not given, then evaluate <EXPR> in global scope.\n"
      ]
     },
     "execution_count": 17,
     "metadata": {},
     "output_type": "execute_result"
    }
   ],
   "source": [
    "%eval -h"
   ]
  },
  {
   "cell_type": "code",
   "execution_count": 17,
   "id": "a365bfea-0b5b-4d8c-9c3e-3f07a7aaf678",
   "metadata": {
    "kernel": "SysML"
   },
   "outputs": [
    {
     "data": {
      "image/svg+xml": [
       "<?xml version=\"1.0\" encoding=\"UTF-8\" standalone=\"no\"?><svg xmlns=\"http://www.w3.org/2000/svg\" xmlns:xlink=\"http://www.w3.org/1999/xlink\" contentStyleType=\"text/css\" height=\"553px\" preserveAspectRatio=\"none\" style=\"width:1942px;height:553px;background:#FFFFFF;\" version=\"1.1\" viewBox=\"0 0 1942 553\" width=\"1942px\" zoomAndPan=\"magnify\"><defs><filter height=\"300%\" id=\"f4xhzhhydxlj5\" width=\"300%\" x=\"-1\" y=\"-1\"><feGaussianBlur result=\"blurOut\" stdDeviation=\"2.0\"/><feColorMatrix in=\"blurOut\" result=\"blurOut2\" type=\"matrix\" values=\"0 0 0 0 0 0 0 0 0 0 0 0 0 0 0 0 0 0 .4 0\"/><feOffset dx=\"4.0\" dy=\"4.0\" in=\"blurOut2\" result=\"blurOut3\"/><feBlend in=\"SourceGraphic\" in2=\"blurOut3\" mode=\"normal\"/></filter></defs><g><!--MD5=[43c9051892ef23e1a46a86907403d788]\n",
       "class E1--><a href=\"psysml:a6d0ec3f-180c-4fb0-a22e-ff1f7034ebbd\" target=\"_top\" title=\"psysml:a6d0ec3f-180c-4fb0-a22e-ff1f7034ebbd\" xlink:actuate=\"onRequest\" xlink:href=\"psysml:a6d0ec3f-180c-4fb0-a22e-ff1f7034ebbd\" xlink:show=\"new\" xlink:title=\"psysml:a6d0ec3f-180c-4fb0-a22e-ff1f7034ebbd\" xlink:type=\"simple\"><g id=\"elem_E1\"><rect fill=\"#FFFACD\" filter=\"url(#f4xhzhhydxlj5)\" height=\"48.2656\" id=\"E1\" rx=\"10\" ry=\"10\" style=\"stroke:#181818;stroke-width:0.5;\" width=\"114\" x=\"306.5\" y=\"7\"/><text fill=\"#000000\" font-family=\"sans-serif\" font-size=\"12\" font-style=\"italic\" lengthAdjust=\"spacing\" textLength=\"40\" x=\"343.5\" y=\"23.1387\">«part»</text><text fill=\"#000000\" font-family=\"sans-serif\" font-size=\"14\" lengthAdjust=\"spacing\" textLength=\"100\" x=\"309.5\" y=\"38.9639\">comms: TT&amp;C</text><line style=\"stroke:#181818;stroke-width:0.5;\" x1=\"307.5\" x2=\"419.5\" y1=\"47.2656\" y2=\"47.2656\"/></g></a><!--MD5=[b4997ac47864f28c2f74865a473b2911]\n",
       "class E2--><a href=\"psysml:92bd00b8-1eb1-4c59-8cf9-792f5acae044\" target=\"_top\" title=\"psysml:92bd00b8-1eb1-4c59-8cf9-792f5acae044\" xlink:actuate=\"onRequest\" xlink:href=\"psysml:92bd00b8-1eb1-4c59-8cf9-792f5acae044\" xlink:show=\"new\" xlink:title=\"psysml:92bd00b8-1eb1-4c59-8cf9-792f5acae044\" xlink:type=\"simple\"><g id=\"elem_E2\"><rect fill=\"#FFFACD\" filter=\"url(#f4xhzhhydxlj5)\" height=\"166.7875\" id=\"E2\" rx=\"10\" ry=\"10\" style=\"stroke:#181818;stroke-width:0.5;\" width=\"211\" x=\"7\" y=\"123\"/><text fill=\"#000000\" font-family=\"sans-serif\" font-size=\"12\" font-style=\"italic\" lengthAdjust=\"spacing\" textLength=\"40\" x=\"92.5\" y=\"139.1387\">«part»</text><text fill=\"#000000\" font-family=\"sans-serif\" font-size=\"14\" lengthAdjust=\"spacing\" textLength=\"84\" x=\"66.5\" y=\"154.9639\">^s_antenna</text><line style=\"stroke:#181818;stroke-width:0.5;\" x1=\"8\" x2=\"217\" y1=\"163.2656\" y2=\"163.2656\"/><text fill=\"#000000\" font-family=\"sans-serif\" font-size=\"14\" lengthAdjust=\"spacing\" textLength=\"58\" x=\"13\" y=\"190.7795\">gain = 3</text><text fill=\"#000000\" font-family=\"sans-serif\" font-size=\"14\" font-style=\"italic\" lengthAdjust=\"spacing\" textLength=\"65\" x=\"80\" y=\"175.6123\">attributes</text><line style=\"stroke:#181818;stroke-width:1.0;\" x1=\"8\" x2=\"217\" y1=\"198.0813\" y2=\"198.0813\"/><text fill=\"#000000\" font-family=\"sans-serif\" font-size=\"14\" lengthAdjust=\"spacing\" textLength=\"165\" x=\"13\" y=\"225.5951\">commsIn: S_Uplink_Port</text><text fill=\"#000000\" font-family=\"sans-serif\" font-size=\"14\" font-style=\"italic\" lengthAdjust=\"spacing\" textLength=\"35\" x=\"95\" y=\"210.4279\">ports</text><text fill=\"#000000\" font-family=\"sans-serif\" font-size=\"14\" lengthAdjust=\"spacing\" textLength=\"4\" x=\"25\" y=\"247.892\"> </text><rect fill=\"#FFFACD\" height=\"2\" style=\"stroke:#000000;stroke-width:1.0;\" width=\"2\" x=\"22\" y=\"242.0453\"/><line style=\"stroke:#000000;stroke-width:1.0;\" x1=\"15\" x2=\"23\" y1=\"243.0453\" y2=\"243.0453\"/><line style=\"stroke:#000000;stroke-width:1.0;\" x1=\"15\" x2=\"15\" y1=\"234.8969\" y2=\"243.0453\"/><text fill=\"#000000\" font-family=\"sans-serif\" font-size=\"14\" lengthAdjust=\"spacing\" textLength=\"199\" x=\"13\" y=\"266.1889\">commsOut: S_Downlink_Port</text><text fill=\"#000000\" font-family=\"sans-serif\" font-size=\"14\" lengthAdjust=\"spacing\" textLength=\"4\" x=\"25\" y=\"284.4857\"> </text><rect fill=\"#FFFACD\" height=\"2\" style=\"stroke:#000000;stroke-width:1.0;\" width=\"2\" x=\"22\" y=\"278.6391\"/><line style=\"stroke:#000000;stroke-width:1.0;\" x1=\"15\" x2=\"23\" y1=\"279.6391\" y2=\"279.6391\"/><line style=\"stroke:#000000;stroke-width:1.0;\" x1=\"15\" x2=\"15\" y1=\"271.4906\" y2=\"279.6391\"/></g></a><!--MD5=[09b614a08d8cba4a07c9adeb5e0fee81]\n",
       "class E3--><a href=\"psysml:d162b147-0a14-4e34-9736-3de9f33d0ae6\" target=\"_top\" title=\"psysml:d162b147-0a14-4e34-9736-3de9f33d0ae6\" xlink:actuate=\"onRequest\" xlink:href=\"psysml:d162b147-0a14-4e34-9736-3de9f33d0ae6\" xlink:show=\"new\" xlink:title=\"psysml:d162b147-0a14-4e34-9736-3de9f33d0ae6\" xlink:type=\"simple\"><g id=\"elem_E3\"><rect fill=\"#FFFACD\" filter=\"url(#f4xhzhhydxlj5)\" height=\"95.3781\" id=\"E3\" rx=\"10\" ry=\"10\" style=\"stroke:#181818;stroke-width:0.5;\" width=\"220\" x=\"253.5\" y=\"159\"/><text fill=\"#000000\" font-family=\"sans-serif\" font-size=\"12\" font-style=\"italic\" lengthAdjust=\"spacing\" textLength=\"40\" x=\"343.5\" y=\"175.1387\">«part»</text><text fill=\"#000000\" font-family=\"sans-serif\" font-size=\"14\" lengthAdjust=\"spacing\" textLength=\"93\" x=\"313\" y=\"190.9639\">^ku_antenna</text><line style=\"stroke:#181818;stroke-width:0.5;\" x1=\"254.5\" x2=\"472.5\" y1=\"199.2656\" y2=\"199.2656\"/><text fill=\"#000000\" font-family=\"sans-serif\" font-size=\"14\" lengthAdjust=\"spacing\" textLength=\"208\" x=\"259.5\" y=\"226.7795\">commsOut: Ku_Downlink_Port</text><text fill=\"#000000\" font-family=\"sans-serif\" font-size=\"14\" font-style=\"italic\" lengthAdjust=\"spacing\" textLength=\"35\" x=\"346\" y=\"211.6123\">ports</text><text fill=\"#000000\" font-family=\"sans-serif\" font-size=\"14\" lengthAdjust=\"spacing\" textLength=\"4\" x=\"271.5\" y=\"249.0764\"> </text><rect fill=\"#FFFACD\" height=\"2\" style=\"stroke:#000000;stroke-width:1.0;\" width=\"2\" x=\"268.5\" y=\"243.2297\"/><line style=\"stroke:#000000;stroke-width:1.0;\" x1=\"261.5\" x2=\"269.5\" y1=\"244.2297\" y2=\"244.2297\"/><line style=\"stroke:#000000;stroke-width:1.0;\" x1=\"261.5\" x2=\"261.5\" y1=\"236.0813\" y2=\"244.2297\"/></g></a><!--MD5=[ebbe1d658d1005bcc118a6aa81145e00]\n",
       "class E4--><a href=\"psysml:6b023a5f-7418-47c3-b797-1e1313e98c0d\" target=\"_top\" title=\"psysml:6b023a5f-7418-47c3-b797-1e1313e98c0d\" xlink:actuate=\"onRequest\" xlink:href=\"psysml:6b023a5f-7418-47c3-b797-1e1313e98c0d\" xlink:show=\"new\" xlink:title=\"psysml:6b023a5f-7418-47c3-b797-1e1313e98c0d\" xlink:type=\"simple\"><g id=\"elem_E4\"><rect fill=\"#FFFACD\" filter=\"url(#f4xhzhhydxlj5)\" height=\"48.2656\" id=\"E4\" rx=\"10\" ry=\"10\" style=\"stroke:#181818;stroke-width:0.5;\" width=\"190\" x=\"1239.5\" y=\"7\"/><text fill=\"#000000\" font-family=\"sans-serif\" font-size=\"12\" font-style=\"italic\" lengthAdjust=\"spacing\" textLength=\"40\" x=\"1314.5\" y=\"23.1387\">«part»</text><text fill=\"#000000\" font-family=\"sans-serif\" font-size=\"14\" lengthAdjust=\"spacing\" textLength=\"176\" x=\"1242.5\" y=\"38.9639\">comms: Communications</text><line style=\"stroke:#181818;stroke-width:0.5;\" x1=\"1240.5\" x2=\"1428.5\" y1=\"47.2656\" y2=\"47.2656\"/></g></a><!--MD5=[270fce915f116d4de14055a7c1d9a0f3]\n",
       "class E5--><a href=\"psysml:018bbde3-2421-4694-8a22-953981e144a1\" target=\"_top\" title=\"psysml:018bbde3-2421-4694-8a22-953981e144a1\" xlink:actuate=\"onRequest\" xlink:href=\"psysml:018bbde3-2421-4694-8a22-953981e144a1\" xlink:show=\"new\" xlink:title=\"psysml:018bbde3-2421-4694-8a22-953981e144a1\" xlink:type=\"simple\"><g id=\"elem_E5\"><rect fill=\"#FFFACD\" filter=\"url(#f4xhzhhydxlj5)\" height=\"183.0844\" id=\"E5\" rx=\"10\" ry=\"10\" style=\"stroke:#181818;stroke-width:0.5;\" width=\"210\" x=\"979.5\" y=\"115\"/><text fill=\"#000000\" font-family=\"sans-serif\" font-size=\"12\" font-style=\"italic\" lengthAdjust=\"spacing\" textLength=\"40\" x=\"1064.5\" y=\"131.1387\">«part»</text><text fill=\"#000000\" font-family=\"sans-serif\" font-size=\"14\" lengthAdjust=\"spacing\" textLength=\"84\" x=\"1038.5\" y=\"146.9639\">^s_antenna</text><line style=\"stroke:#181818;stroke-width:0.5;\" x1=\"980.5\" x2=\"1188.5\" y1=\"155.2656\" y2=\"155.2656\"/><text fill=\"#000000\" font-family=\"sans-serif\" font-size=\"14\" lengthAdjust=\"spacing\" textLength=\"67\" x=\"985.5\" y=\"182.7795\">gain = 10</text><text fill=\"#000000\" font-family=\"sans-serif\" font-size=\"14\" lengthAdjust=\"spacing\" textLength=\"54\" x=\"985.5\" y=\"199.0764\">location</text><text fill=\"#000000\" font-family=\"sans-serif\" font-size=\"14\" font-style=\"italic\" lengthAdjust=\"spacing\" textLength=\"65\" x=\"1052\" y=\"167.6123\">attributes</text><line style=\"stroke:#181818;stroke-width:1.0;\" x1=\"980.5\" x2=\"1188.5\" y1=\"206.3781\" y2=\"206.3781\"/><text fill=\"#000000\" font-family=\"sans-serif\" font-size=\"14\" lengthAdjust=\"spacing\" textLength=\"198\" x=\"985.5\" y=\"233.892\">commsIn: ~S_Downlink_Port</text><text fill=\"#000000\" font-family=\"sans-serif\" font-size=\"14\" font-style=\"italic\" lengthAdjust=\"spacing\" textLength=\"35\" x=\"1067\" y=\"218.7248\">ports</text><text fill=\"#000000\" font-family=\"sans-serif\" font-size=\"14\" lengthAdjust=\"spacing\" textLength=\"4\" x=\"997.5\" y=\"256.1889\"> </text><rect fill=\"#FFFACD\" height=\"2\" style=\"stroke:#000000;stroke-width:1.0;\" width=\"2\" x=\"994.5\" y=\"250.3422\"/><line style=\"stroke:#000000;stroke-width:1.0;\" x1=\"987.5\" x2=\"995.5\" y1=\"251.3422\" y2=\"251.3422\"/><line style=\"stroke:#000000;stroke-width:1.0;\" x1=\"987.5\" x2=\"987.5\" y1=\"243.1938\" y2=\"251.3422\"/><text fill=\"#000000\" font-family=\"sans-serif\" font-size=\"14\" lengthAdjust=\"spacing\" textLength=\"178\" x=\"985.5\" y=\"274.4857\">commsOut: S_Uplink_Port</text><text fill=\"#000000\" font-family=\"sans-serif\" font-size=\"14\" lengthAdjust=\"spacing\" textLength=\"4\" x=\"997.5\" y=\"292.7826\"> </text><rect fill=\"#FFFACD\" height=\"2\" style=\"stroke:#000000;stroke-width:1.0;\" width=\"2\" x=\"994.5\" y=\"286.9359\"/><line style=\"stroke:#000000;stroke-width:1.0;\" x1=\"987.5\" x2=\"995.5\" y1=\"287.9359\" y2=\"287.9359\"/><line style=\"stroke:#000000;stroke-width:1.0;\" x1=\"987.5\" x2=\"987.5\" y1=\"279.7875\" y2=\"287.9359\"/></g></a><!--MD5=[60a26617385b1d2d0262a64233df1f8d]\n",
       "class E6--><a href=\"psysml:4d0adb2a-0d16-4b63-951f-179ac3d5b0e0\" target=\"_top\" title=\"psysml:4d0adb2a-0d16-4b63-951f-179ac3d5b0e0\" xlink:actuate=\"onRequest\" xlink:href=\"psysml:4d0adb2a-0d16-4b63-951f-179ac3d5b0e0\" xlink:show=\"new\" xlink:title=\"psysml:4d0adb2a-0d16-4b63-951f-179ac3d5b0e0\" xlink:type=\"simple\"><g id=\"elem_E6\"><rect fill=\"#FFFACD\" filter=\"url(#f4xhzhhydxlj5)\" height=\"95.3781\" id=\"E6\" rx=\"10\" ry=\"10\" style=\"stroke:#181818;stroke-width:0.5;\" width=\"219\" x=\"1225\" y=\"159\"/><text fill=\"#000000\" font-family=\"sans-serif\" font-size=\"12\" font-style=\"italic\" lengthAdjust=\"spacing\" textLength=\"40\" x=\"1314.5\" y=\"175.1387\">«part»</text><text fill=\"#000000\" font-family=\"sans-serif\" font-size=\"14\" lengthAdjust=\"spacing\" textLength=\"93\" x=\"1284\" y=\"190.9639\">^ku_antenna</text><line style=\"stroke:#181818;stroke-width:0.5;\" x1=\"1226\" x2=\"1443\" y1=\"199.2656\" y2=\"199.2656\"/><text fill=\"#000000\" font-family=\"sans-serif\" font-size=\"14\" lengthAdjust=\"spacing\" textLength=\"207\" x=\"1231\" y=\"226.7795\">commsIn: ~Ku_Downlink_Port</text><text fill=\"#000000\" font-family=\"sans-serif\" font-size=\"14\" font-style=\"italic\" lengthAdjust=\"spacing\" textLength=\"35\" x=\"1317\" y=\"211.6123\">ports</text><text fill=\"#000000\" font-family=\"sans-serif\" font-size=\"14\" lengthAdjust=\"spacing\" textLength=\"4\" x=\"1243\" y=\"249.0764\"> </text><rect fill=\"#FFFACD\" height=\"2\" style=\"stroke:#000000;stroke-width:1.0;\" width=\"2\" x=\"1240\" y=\"243.2297\"/><line style=\"stroke:#000000;stroke-width:1.0;\" x1=\"1233\" x2=\"1241\" y1=\"244.2297\" y2=\"244.2297\"/><line style=\"stroke:#000000;stroke-width:1.0;\" x1=\"1233\" x2=\"1233\" y1=\"236.0813\" y2=\"244.2297\"/></g></a><!--MD5=[2156ba9850f5573cc1fc38a6a4b2f02b]\n",
       "class E7--><a href=\"psysml:fa8a9cc7-781b-474a-8441-3e6d42fc1df9\" target=\"_top\" title=\"psysml:fa8a9cc7-781b-474a-8441-3e6d42fc1df9\" xlink:actuate=\"onRequest\" xlink:href=\"psysml:fa8a9cc7-781b-474a-8441-3e6d42fc1df9\" xlink:show=\"new\" xlink:title=\"psysml:fa8a9cc7-781b-474a-8441-3e6d42fc1df9\" xlink:type=\"simple\"><g id=\"elem_E7\"><rect fill=\"#FFFACD\" filter=\"url(#f4xhzhhydxlj5)\" height=\"48.2656\" id=\"E7\" style=\"stroke:#181818;stroke-width:0.5;\" width=\"432\" x=\"1479.5\" y=\"182.5\"/><text fill=\"#000000\" font-family=\"sans-serif\" font-size=\"12\" font-style=\"italic\" lengthAdjust=\"spacing\" textLength=\"68\" x=\"1661.5\" y=\"198.6387\">«part  def»</text><text fill=\"#000000\" font-family=\"sans-serif\" font-size=\"14\" font-style=\"italic\" lengthAdjust=\"spacing\" textLength=\"426\" x=\"1482.5\" y=\"214.4639\">'Ground Segment Parts'::'Ground Segment'::Communications</text><line style=\"stroke:#181818;stroke-width:0.5;\" x1=\"1480.5\" x2=\"1910.5\" y1=\"222.7656\" y2=\"222.7656\"/></g></a><!--MD5=[b9389687b975829384b498ac4b7476b2]\n",
       "class E8--><a href=\"psysml:018bbde3-2421-4694-8a22-953981e144a1\" target=\"_top\" title=\"psysml:018bbde3-2421-4694-8a22-953981e144a1\" xlink:actuate=\"onRequest\" xlink:href=\"psysml:018bbde3-2421-4694-8a22-953981e144a1\" xlink:show=\"new\" xlink:title=\"psysml:018bbde3-2421-4694-8a22-953981e144a1\" xlink:type=\"simple\"><g id=\"elem_E8\"><rect fill=\"#FFFACD\" filter=\"url(#f4xhzhhydxlj5)\" height=\"183.0844\" id=\"E8\" rx=\"10\" ry=\"10\" style=\"stroke:#181818;stroke-width:0.5;\" width=\"210\" x=\"1465.5\" y=\"358\"/><text fill=\"#000000\" font-family=\"sans-serif\" font-size=\"12\" font-style=\"italic\" lengthAdjust=\"spacing\" textLength=\"40\" x=\"1550.5\" y=\"374.1387\">«part»</text><text fill=\"#000000\" font-family=\"sans-serif\" font-size=\"14\" lengthAdjust=\"spacing\" textLength=\"72\" x=\"1530.5\" y=\"389.9639\">s_antenna</text><line style=\"stroke:#181818;stroke-width:0.5;\" x1=\"1466.5\" x2=\"1674.5\" y1=\"398.2656\" y2=\"398.2656\"/><text fill=\"#000000\" font-family=\"sans-serif\" font-size=\"14\" lengthAdjust=\"spacing\" textLength=\"67\" x=\"1471.5\" y=\"425.7795\">gain = 10</text><text fill=\"#000000\" font-family=\"sans-serif\" font-size=\"14\" lengthAdjust=\"spacing\" textLength=\"54\" x=\"1471.5\" y=\"442.0764\">location</text><text fill=\"#000000\" font-family=\"sans-serif\" font-size=\"14\" font-style=\"italic\" lengthAdjust=\"spacing\" textLength=\"65\" x=\"1538\" y=\"410.6123\">attributes</text><line style=\"stroke:#181818;stroke-width:1.0;\" x1=\"1466.5\" x2=\"1674.5\" y1=\"449.3781\" y2=\"449.3781\"/><text fill=\"#000000\" font-family=\"sans-serif\" font-size=\"14\" lengthAdjust=\"spacing\" textLength=\"198\" x=\"1471.5\" y=\"476.892\">commsIn: ~S_Downlink_Port</text><text fill=\"#000000\" font-family=\"sans-serif\" font-size=\"14\" font-style=\"italic\" lengthAdjust=\"spacing\" textLength=\"35\" x=\"1553\" y=\"461.7248\">ports</text><text fill=\"#000000\" font-family=\"sans-serif\" font-size=\"14\" lengthAdjust=\"spacing\" textLength=\"4\" x=\"1483.5\" y=\"499.1889\"> </text><rect fill=\"#FFFACD\" height=\"2\" style=\"stroke:#000000;stroke-width:1.0;\" width=\"2\" x=\"1480.5\" y=\"493.3422\"/><line style=\"stroke:#000000;stroke-width:1.0;\" x1=\"1473.5\" x2=\"1481.5\" y1=\"494.3422\" y2=\"494.3422\"/><line style=\"stroke:#000000;stroke-width:1.0;\" x1=\"1473.5\" x2=\"1473.5\" y1=\"486.1938\" y2=\"494.3422\"/><text fill=\"#000000\" font-family=\"sans-serif\" font-size=\"14\" lengthAdjust=\"spacing\" textLength=\"178\" x=\"1471.5\" y=\"517.4857\">commsOut: S_Uplink_Port</text><text fill=\"#000000\" font-family=\"sans-serif\" font-size=\"14\" lengthAdjust=\"spacing\" textLength=\"4\" x=\"1483.5\" y=\"535.7826\"> </text><rect fill=\"#FFFACD\" height=\"2\" style=\"stroke:#000000;stroke-width:1.0;\" width=\"2\" x=\"1480.5\" y=\"529.9359\"/><line style=\"stroke:#000000;stroke-width:1.0;\" x1=\"1473.5\" x2=\"1481.5\" y1=\"530.9359\" y2=\"530.9359\"/><line style=\"stroke:#000000;stroke-width:1.0;\" x1=\"1473.5\" x2=\"1473.5\" y1=\"522.7875\" y2=\"530.9359\"/></g></a><!--MD5=[fd4143e9d270a159db93a4ea2a975926]\n",
       "class E9--><a href=\"psysml:4d0adb2a-0d16-4b63-951f-179ac3d5b0e0\" target=\"_top\" title=\"psysml:4d0adb2a-0d16-4b63-951f-179ac3d5b0e0\" xlink:actuate=\"onRequest\" xlink:href=\"psysml:4d0adb2a-0d16-4b63-951f-179ac3d5b0e0\" xlink:show=\"new\" xlink:title=\"psysml:4d0adb2a-0d16-4b63-951f-179ac3d5b0e0\" xlink:type=\"simple\"><g id=\"elem_E9\"><rect fill=\"#FFFACD\" filter=\"url(#f4xhzhhydxlj5)\" height=\"95.3781\" id=\"E9\" rx=\"10\" ry=\"10\" style=\"stroke:#181818;stroke-width:0.5;\" width=\"219\" x=\"1711\" y=\"402\"/><text fill=\"#000000\" font-family=\"sans-serif\" font-size=\"12\" font-style=\"italic\" lengthAdjust=\"spacing\" textLength=\"40\" x=\"1800.5\" y=\"418.1387\">«part»</text><text fill=\"#000000\" font-family=\"sans-serif\" font-size=\"14\" lengthAdjust=\"spacing\" textLength=\"81\" x=\"1776\" y=\"433.9639\">ku_antenna</text><line style=\"stroke:#181818;stroke-width:0.5;\" x1=\"1712\" x2=\"1929\" y1=\"442.2656\" y2=\"442.2656\"/><text fill=\"#000000\" font-family=\"sans-serif\" font-size=\"14\" lengthAdjust=\"spacing\" textLength=\"207\" x=\"1717\" y=\"469.7795\">commsIn: ~Ku_Downlink_Port</text><text fill=\"#000000\" font-family=\"sans-serif\" font-size=\"14\" font-style=\"italic\" lengthAdjust=\"spacing\" textLength=\"35\" x=\"1803\" y=\"454.6123\">ports</text><text fill=\"#000000\" font-family=\"sans-serif\" font-size=\"14\" lengthAdjust=\"spacing\" textLength=\"4\" x=\"1729\" y=\"492.0764\"> </text><rect fill=\"#FFFACD\" height=\"2\" style=\"stroke:#000000;stroke-width:1.0;\" width=\"2\" x=\"1726\" y=\"486.2297\"/><line style=\"stroke:#000000;stroke-width:1.0;\" x1=\"1719\" x2=\"1727\" y1=\"487.2297\" y2=\"487.2297\"/><line style=\"stroke:#000000;stroke-width:1.0;\" x1=\"1719\" x2=\"1719\" y1=\"479.0813\" y2=\"487.2297\"/></g></a><!--MD5=[96f4274e9e20536e775497830990834d]\n",
       "class E10--><a href=\"psysml:1979bb9a-a624-47e2-8de9-f65ff2a651cf\" target=\"_top\" title=\"psysml:1979bb9a-a624-47e2-8de9-f65ff2a651cf\" xlink:actuate=\"onRequest\" xlink:href=\"psysml:1979bb9a-a624-47e2-8de9-f65ff2a651cf\" xlink:show=\"new\" xlink:title=\"psysml:1979bb9a-a624-47e2-8de9-f65ff2a651cf\" xlink:type=\"simple\"><g id=\"elem_E10\"><rect fill=\"#FFFACD\" filter=\"url(#f4xhzhhydxlj5)\" height=\"48.2656\" id=\"E10\" style=\"stroke:#181818;stroke-width:0.5;\" width=\"436\" x=\"508.5\" y=\"182.5\"/><text fill=\"#000000\" font-family=\"sans-serif\" font-size=\"12\" font-style=\"italic\" lengthAdjust=\"spacing\" textLength=\"68\" x=\"692.5\" y=\"198.6387\">«part  def»</text><text fill=\"#000000\" font-family=\"sans-serif\" font-size=\"14\" font-style=\"italic\" lengthAdjust=\"spacing\" textLength=\"430\" x=\"511.5\" y=\"214.4639\">'Spacecraft Bus Logical Architecture'::'Spacecraft Bus'::'TT&amp;C'</text><line style=\"stroke:#181818;stroke-width:0.5;\" x1=\"509.5\" x2=\"943.5\" y1=\"222.7656\" y2=\"222.7656\"/></g></a><!--MD5=[1dd1bfd58a279cf63c5f349dbc8fc6a1]\n",
       "class E11--><a href=\"psysml:92bd00b8-1eb1-4c59-8cf9-792f5acae044\" target=\"_top\" title=\"psysml:92bd00b8-1eb1-4c59-8cf9-792f5acae044\" xlink:actuate=\"onRequest\" xlink:href=\"psysml:92bd00b8-1eb1-4c59-8cf9-792f5acae044\" xlink:show=\"new\" xlink:title=\"psysml:92bd00b8-1eb1-4c59-8cf9-792f5acae044\" xlink:type=\"simple\"><g id=\"elem_E11\"><rect fill=\"#FFFACD\" filter=\"url(#f4xhzhhydxlj5)\" height=\"166.7875\" id=\"E11\" rx=\"10\" ry=\"10\" style=\"stroke:#181818;stroke-width:0.5;\" width=\"211\" x=\"495\" y=\"366\"/><text fill=\"#000000\" font-family=\"sans-serif\" font-size=\"12\" font-style=\"italic\" lengthAdjust=\"spacing\" textLength=\"40\" x=\"580.5\" y=\"382.1387\">«part»</text><text fill=\"#000000\" font-family=\"sans-serif\" font-size=\"14\" lengthAdjust=\"spacing\" textLength=\"72\" x=\"560.5\" y=\"397.9639\">s_antenna</text><line style=\"stroke:#181818;stroke-width:0.5;\" x1=\"496\" x2=\"705\" y1=\"406.2656\" y2=\"406.2656\"/><text fill=\"#000000\" font-family=\"sans-serif\" font-size=\"14\" lengthAdjust=\"spacing\" textLength=\"58\" x=\"501\" y=\"433.7795\">gain = 3</text><text fill=\"#000000\" font-family=\"sans-serif\" font-size=\"14\" font-style=\"italic\" lengthAdjust=\"spacing\" textLength=\"65\" x=\"568\" y=\"418.6123\">attributes</text><line style=\"stroke:#181818;stroke-width:1.0;\" x1=\"496\" x2=\"705\" y1=\"441.0813\" y2=\"441.0813\"/><text fill=\"#000000\" font-family=\"sans-serif\" font-size=\"14\" lengthAdjust=\"spacing\" textLength=\"165\" x=\"501\" y=\"468.5951\">commsIn: S_Uplink_Port</text><text fill=\"#000000\" font-family=\"sans-serif\" font-size=\"14\" font-style=\"italic\" lengthAdjust=\"spacing\" textLength=\"35\" x=\"583\" y=\"453.4279\">ports</text><text fill=\"#000000\" font-family=\"sans-serif\" font-size=\"14\" lengthAdjust=\"spacing\" textLength=\"4\" x=\"513\" y=\"490.892\"> </text><rect fill=\"#FFFACD\" height=\"2\" style=\"stroke:#000000;stroke-width:1.0;\" width=\"2\" x=\"510\" y=\"485.0453\"/><line style=\"stroke:#000000;stroke-width:1.0;\" x1=\"503\" x2=\"511\" y1=\"486.0453\" y2=\"486.0453\"/><line style=\"stroke:#000000;stroke-width:1.0;\" x1=\"503\" x2=\"503\" y1=\"477.8969\" y2=\"486.0453\"/><text fill=\"#000000\" font-family=\"sans-serif\" font-size=\"14\" lengthAdjust=\"spacing\" textLength=\"199\" x=\"501\" y=\"509.1889\">commsOut: S_Downlink_Port</text><text fill=\"#000000\" font-family=\"sans-serif\" font-size=\"14\" lengthAdjust=\"spacing\" textLength=\"4\" x=\"513\" y=\"527.4857\"> </text><rect fill=\"#FFFACD\" height=\"2\" style=\"stroke:#000000;stroke-width:1.0;\" width=\"2\" x=\"510\" y=\"521.6391\"/><line style=\"stroke:#000000;stroke-width:1.0;\" x1=\"503\" x2=\"511\" y1=\"522.6391\" y2=\"522.6391\"/><line style=\"stroke:#000000;stroke-width:1.0;\" x1=\"503\" x2=\"503\" y1=\"514.4906\" y2=\"522.6391\"/></g></a><!--MD5=[49a0ec8f00dab7302a31f22d0f0fe584]\n",
       "class E12--><a href=\"psysml:d162b147-0a14-4e34-9736-3de9f33d0ae6\" target=\"_top\" title=\"psysml:d162b147-0a14-4e34-9736-3de9f33d0ae6\" xlink:actuate=\"onRequest\" xlink:href=\"psysml:d162b147-0a14-4e34-9736-3de9f33d0ae6\" xlink:show=\"new\" xlink:title=\"psysml:d162b147-0a14-4e34-9736-3de9f33d0ae6\" xlink:type=\"simple\"><g id=\"elem_E12\"><rect fill=\"#FFFACD\" filter=\"url(#f4xhzhhydxlj5)\" height=\"95.3781\" id=\"E12\" rx=\"10\" ry=\"10\" style=\"stroke:#181818;stroke-width:0.5;\" width=\"220\" x=\"741.5\" y=\"402\"/><text fill=\"#000000\" font-family=\"sans-serif\" font-size=\"12\" font-style=\"italic\" lengthAdjust=\"spacing\" textLength=\"40\" x=\"831.5\" y=\"418.1387\">«part»</text><text fill=\"#000000\" font-family=\"sans-serif\" font-size=\"14\" lengthAdjust=\"spacing\" textLength=\"81\" x=\"807\" y=\"433.9639\">ku_antenna</text><line style=\"stroke:#181818;stroke-width:0.5;\" x1=\"742.5\" x2=\"960.5\" y1=\"442.2656\" y2=\"442.2656\"/><text fill=\"#000000\" font-family=\"sans-serif\" font-size=\"14\" lengthAdjust=\"spacing\" textLength=\"208\" x=\"747.5\" y=\"469.7795\">commsOut: Ku_Downlink_Port</text><text fill=\"#000000\" font-family=\"sans-serif\" font-size=\"14\" font-style=\"italic\" lengthAdjust=\"spacing\" textLength=\"35\" x=\"834\" y=\"454.6123\">ports</text><text fill=\"#000000\" font-family=\"sans-serif\" font-size=\"14\" lengthAdjust=\"spacing\" textLength=\"4\" x=\"759.5\" y=\"492.0764\"> </text><rect fill=\"#FFFACD\" height=\"2\" style=\"stroke:#000000;stroke-width:1.0;\" width=\"2\" x=\"756.5\" y=\"486.2297\"/><line style=\"stroke:#000000;stroke-width:1.0;\" x1=\"749.5\" x2=\"757.5\" y1=\"487.2297\" y2=\"487.2297\"/><line style=\"stroke:#000000;stroke-width:1.0;\" x1=\"749.5\" x2=\"749.5\" y1=\"479.0813\" y2=\"487.2297\"/></g></a><!--MD5=[a523cb2a0b79ecf9065ad8783f96c320]\n",
       "reverse link E1 to E2--><g id=\"link_E1_E2\"><a href=\"psysml:2e185c0d-5efe-4260-8bac-7f71d43b09fe\" target=\"_top\" title=\"psysml:2e185c0d-5efe-4260-8bac-7f71d43b09fe\" xlink:actuate=\"onRequest\" xlink:href=\"psysml:2e185c0d-5efe-4260-8bac-7f71d43b09fe\" xlink:show=\"new\" xlink:title=\"psysml:2e185c0d-5efe-4260-8bac-7f71d43b09fe\" xlink:type=\"simple\"><path d=\"M315.64,62.09 C291.4,77.56 261.64,96.93 235.5,115 C229.83,118.92 224.04,122.98 218.22,127.1 \" fill=\"none\" id=\"E1-backto-E2\" style=\"stroke:#181818;stroke-width:1.0;\"/><polygon fill=\"#181818\" points=\"326.71,55.05,319.5005,54.896,316.5855,61.4917,323.795,61.6457,326.71,55.05\" style=\"stroke:#181818;stroke-width:1.0;\"/><text fill=\"#000000\" font-family=\"sans-serif\" font-size=\"13\" lengthAdjust=\"spacing\" textLength=\"8\" x=\"225.9347\" y=\"118.0689\">1</text></a></g><!--MD5=[5d7b3810b1dd9b5164bea1151b29b665]\n",
       "reverse link E1 to E3--><g id=\"link_E1_E3\"><a href=\"psysml:afd6c997-2c1a-48bd-bc5b-2de87c6a23da\" target=\"_top\" title=\"psysml:afd6c997-2c1a-48bd-bc5b-2de87c6a23da\" xlink:actuate=\"onRequest\" xlink:href=\"psysml:afd6c997-2c1a-48bd-bc5b-2de87c6a23da\" xlink:show=\"new\" xlink:title=\"psysml:afd6c997-2c1a-48bd-bc5b-2de87c6a23da\" xlink:type=\"simple\"><path d=\"M363.5,68.21 C363.5,94.53 363.5,130.38 363.5,158.84 \" fill=\"none\" id=\"E1-backto-E3\" style=\"stroke:#181818;stroke-width:1.0;\"/><polygon fill=\"#181818\" points=\"363.5,55.04,359.5,61.04,363.5,67.04,367.5,61.04,363.5,55.04\" style=\"stroke:#181818;stroke-width:1.0;\"/><text fill=\"#000000\" font-family=\"sans-serif\" font-size=\"13\" lengthAdjust=\"spacing\" textLength=\"8\" x=\"354.9125\" y=\"147.7873\">1</text></a></g><!--MD5=[62aa6af11e70f752912c1cb0466f24f7]\n",
       "reverse link E4 to E5--><g id=\"link_E4_E5\"><a href=\"psysml:030effbb-55fc-4713-9da1-78dabc571e8c\" target=\"_top\" title=\"psysml:030effbb-55fc-4713-9da1-78dabc571e8c\" xlink:actuate=\"onRequest\" xlink:href=\"psysml:030effbb-55fc-4713-9da1-78dabc571e8c\" xlink:show=\"new\" xlink:title=\"psysml:030effbb-55fc-4713-9da1-78dabc571e8c\" xlink:type=\"simple\"><path d=\"M1287.04,62.13 C1263,77.62 1233.47,96.98 1207.5,115 C1201.62,119.08 1195.61,123.31 1189.57,127.6 \" fill=\"none\" id=\"E4-backto-E5\" style=\"stroke:#181818;stroke-width:1.0;\"/><polygon fill=\"#181818\" points=\"1298.01,55.08,1290.8001,54.9503,1287.9073,61.5558,1295.1172,61.6854,1298.01,55.08\" style=\"stroke:#181818;stroke-width:1.0;\"/><text fill=\"#000000\" font-family=\"sans-serif\" font-size=\"13\" lengthAdjust=\"spacing\" textLength=\"8\" x=\"1197.5798\" y=\"118.3237\">1</text></a></g><!--MD5=[6db378b65e1aef66a01cb3103812b399]\n",
       "reverse link E4 to E6--><g id=\"link_E4_E6\"><a href=\"psysml:c6f0f57d-57c1-46cd-9b79-78e9324236f1\" target=\"_top\" title=\"psysml:c6f0f57d-57c1-46cd-9b79-78e9324236f1\" xlink:actuate=\"onRequest\" xlink:href=\"psysml:c6f0f57d-57c1-46cd-9b79-78e9324236f1\" xlink:show=\"new\" xlink:title=\"psysml:c6f0f57d-57c1-46cd-9b79-78e9324236f1\" xlink:type=\"simple\"><path d=\"M1334.5,68.21 C1334.5,94.53 1334.5,130.38 1334.5,158.84 \" fill=\"none\" id=\"E4-backto-E6\" style=\"stroke:#181818;stroke-width:1.0;\"/><polygon fill=\"#181818\" points=\"1334.5,55.04,1330.5,61.04,1334.5,67.04,1338.5,61.04,1334.5,55.04\" style=\"stroke:#181818;stroke-width:1.0;\"/><text fill=\"#000000\" font-family=\"sans-serif\" font-size=\"13\" lengthAdjust=\"spacing\" textLength=\"8\" x=\"1325.9125\" y=\"147.7873\">1</text></a></g><!--MD5=[1215d52114495cf35c63de9a53fffc82]\n",
       "link E4 to E7--><g id=\"link_E4_E7\"><a href=\"psysml:549ff081-1b79-46b6-8ee4-ea170a8d89f6\" target=\"_top\" title=\"psysml:549ff081-1b79-46b6-8ee4-ea170a8d89f6\" xlink:actuate=\"onRequest\" xlink:href=\"psysml:549ff081-1b79-46b6-8ee4-ea170a8d89f6\" xlink:show=\"new\" xlink:title=\"psysml:549ff081-1b79-46b6-8ee4-ea170a8d89f6\" xlink:type=\"simple\"><path d=\"M1382.44,55.04 C1445.82,85.5 1557.8,139.32 1629.25,173.66 \" fill=\"none\" id=\"E4-to-E7\" style=\"stroke:#181818;stroke-width:1.0;\"/><polygon fill=\"#FFFFFF\" points=\"1647.36,182.37,1627.2022,180.4557,1633.2624,167.8353,1647.36,182.37\" style=\"stroke:#181818;stroke-width:1.0;\"/><ellipse cx=\"1622.9297\" cy=\"176.1854\" fill=\"#181818\" rx=\"2\" ry=\"2\" style=\"stroke:#181818;stroke-width:1.0;\"/><ellipse cx=\"1627.2584\" cy=\"167.1708\" fill=\"#181818\" rx=\"2\" ry=\"2\" style=\"stroke:#181818;stroke-width:1.0;\"/></a></g><!--MD5=[dc164f5e8a733ab456ef1add180e9e34]\n",
       "reverse link E7 to E8--><g id=\"link_E7_E8\"><a href=\"psysml:030effbb-55fc-4713-9da1-78dabc571e8c\" target=\"_top\" title=\"psysml:030effbb-55fc-4713-9da1-78dabc571e8c\" xlink:actuate=\"onRequest\" xlink:href=\"psysml:030effbb-55fc-4713-9da1-78dabc571e8c\" xlink:show=\"new\" xlink:title=\"psysml:030effbb-55fc-4713-9da1-78dabc571e8c\" xlink:type=\"simple\"><path d=\"M1677.52,242.17 C1661.87,272.34 1638.49,317.42 1617.57,357.75 \" fill=\"none\" id=\"E7-backto-E8\" style=\"stroke:#181818;stroke-width:1.0;\"/><polygon fill=\"#181818\" points=\"1683.51,230.61,1677.197,234.095,1677.9858,241.2629,1684.2989,237.7778,1683.51,230.61\" style=\"stroke:#181818;stroke-width:1.0;\"/><text fill=\"#000000\" font-family=\"sans-serif\" font-size=\"13\" lengthAdjust=\"spacing\" textLength=\"8\" x=\"1613.0021\" y=\"346.9098\">1</text></a></g><!--MD5=[e4a10ef82d0e328e31cac39a31e58dda]\n",
       "reverse link E7 to E9--><g id=\"link_E7_E9\"><a href=\"psysml:c6f0f57d-57c1-46cd-9b79-78e9324236f1\" target=\"_top\" title=\"psysml:c6f0f57d-57c1-46cd-9b79-78e9324236f1\" xlink:actuate=\"onRequest\" xlink:href=\"psysml:c6f0f57d-57c1-46cd-9b79-78e9324236f1\" xlink:show=\"new\" xlink:title=\"psysml:c6f0f57d-57c1-46cd-9b79-78e9324236f1\" xlink:type=\"simple\"><path d=\"M1713.6,242.4 C1735.36,284.35 1771.97,354.93 1796.18,401.61 \" fill=\"none\" id=\"E7-backto-E9\" style=\"stroke:#181818;stroke-width:1.0;\"/><polygon fill=\"#181818\" points=\"1707.49,230.61,1706.7011,237.7778,1713.0142,241.2629,1713.803,234.095,1707.49,230.61\" style=\"stroke:#181818;stroke-width:1.0;\"/><text fill=\"#000000\" font-family=\"sans-serif\" font-size=\"13\" lengthAdjust=\"spacing\" textLength=\"8\" x=\"1784.1975\" y=\"390.8704\">1</text></a></g><!--MD5=[0ebb7641bcb0d4fb9a3dd9700ebb7034]\n",
       "link E1 to E10--><g id=\"link_E1_E10\"><a href=\"psysml:009fd9bb-75a3-4d09-8088-3e6cf0106e8f\" target=\"_top\" title=\"psysml:009fd9bb-75a3-4d09-8088-3e6cf0106e8f\" xlink:actuate=\"onRequest\" xlink:href=\"psysml:009fd9bb-75a3-4d09-8088-3e6cf0106e8f\" xlink:show=\"new\" xlink:title=\"psysml:009fd9bb-75a3-4d09-8088-3e6cf0106e8f\" xlink:type=\"simple\"><path d=\"M411.7,55.04 C475.44,85.5 588.04,139.32 659.88,173.66 \" fill=\"none\" id=\"E1-to-E10\" style=\"stroke:#181818;stroke-width:1.0;\"/><polygon fill=\"#FFFFFF\" points=\"678.1,182.37,657.9386,180.4941,663.9748,167.8622,678.1,182.37\" style=\"stroke:#181818;stroke-width:1.0;\"/><ellipse cx=\"653.6579\" cy=\"176.2319\" fill=\"#181818\" rx=\"2\" ry=\"2\" style=\"stroke:#181818;stroke-width:1.0;\"/><ellipse cx=\"657.9695\" cy=\"167.2091\" fill=\"#181818\" rx=\"2\" ry=\"2\" style=\"stroke:#181818;stroke-width:1.0;\"/></a></g><!--MD5=[de308be4a2431766a05a907a031c07fc]\n",
       "reverse link E10 to E11--><g id=\"link_E10_E11\"><a href=\"psysml:2e185c0d-5efe-4260-8bac-7f71d43b09fe\" target=\"_top\" title=\"psysml:2e185c0d-5efe-4260-8bac-7f71d43b09fe\" xlink:actuate=\"onRequest\" xlink:href=\"psysml:2e185c0d-5efe-4260-8bac-7f71d43b09fe\" xlink:show=\"new\" xlink:title=\"psysml:2e185c0d-5efe-4260-8bac-7f71d43b09fe\" xlink:type=\"simple\"><path d=\"M708.21,242.48 C691.39,274.65 665.79,323.61 643.77,365.73 \" fill=\"none\" id=\"E10-backto-E11\" style=\"stroke:#181818;stroke-width:1.0;\"/><polygon fill=\"#181818\" points=\"714.42,230.61,708.095,234.0734,708.8593,241.2438,715.1843,237.7805,714.42,230.61\" style=\"stroke:#181818;stroke-width:1.0;\"/><text fill=\"#000000\" font-family=\"sans-serif\" font-size=\"13\" lengthAdjust=\"spacing\" textLength=\"8\" x=\"639.1448\" y=\"354.9682\">1</text></a></g><!--MD5=[1d54f998c6d5961a1a9184be73a7eb6c]\n",
       "reverse link E10 to E12--><g id=\"link_E10_E12\"><a href=\"psysml:afd6c997-2c1a-48bd-bc5b-2de87c6a23da\" target=\"_top\" title=\"psysml:afd6c997-2c1a-48bd-bc5b-2de87c6a23da\" xlink:actuate=\"onRequest\" xlink:href=\"psysml:afd6c997-2c1a-48bd-bc5b-2de87c6a23da\" xlink:show=\"new\" xlink:title=\"psysml:afd6c997-2c1a-48bd-bc5b-2de87c6a23da\" xlink:type=\"simple\"><path d=\"M744.6,242.4 C766.36,284.35 802.97,354.93 827.18,401.61 \" fill=\"none\" id=\"E10-backto-E12\" style=\"stroke:#181818;stroke-width:1.0;\"/><polygon fill=\"#181818\" points=\"738.49,230.61,737.7011,237.7778,744.0142,241.2629,744.803,234.095,738.49,230.61\" style=\"stroke:#181818;stroke-width:1.0;\"/><text fill=\"#000000\" font-family=\"sans-serif\" font-size=\"13\" lengthAdjust=\"spacing\" textLength=\"8\" x=\"815.1975\" y=\"390.8704\">1</text></a></g><!--MD5=[bcd5f8f9cd118ed704d7c0a2af228edc]\n",
       "@startuml\r\n",
       "skin sysmlc\r\n",
       "skinparam wrapWidth 300\r\n",
       "hide circle\r\n",
       "   \r\n",
       "comp usage \"comms: TT&C  \" as E1  <<(T,blue) part>> [[psysml:a6d0ec3f-180c-4fb0-a22e-ff1f7034ebbd ]] {\r\n",
       "}\r\n",
       "comp usage \"^s_antenna  \" as E2  <<(T,blue) part>> [[psysml:92bd00b8-1eb1-4c59-8cf9-792f5acae044 ]] {\r\n",
       "##//attributes//##\r\n",
       "gain <U+003D> 3\r\n",
       "- -\r\n",
       "##//ports//##\r\n",
       "commsIn: S_Uplink_Port\r\n",
       "|_ \r\n",
       "commsOut: S_Downlink_Port\r\n",
       "|_ \r\n",
       "}\r\n",
       "comp usage \"^ku_antenna  \" as E3  <<(T,blue) part>> [[psysml:d162b147-0a14-4e34-9736-3de9f33d0ae6 ]] {\r\n",
       "##//ports//##\r\n",
       "commsOut: Ku_Downlink_Port\r\n",
       "|_ \r\n",
       "}\r\n",
       "comp usage \"comms: Communications  \" as E4  <<(T,blue) part>> [[psysml:6b023a5f-7418-47c3-b797-1e1313e98c0d ]] {\r\n",
       "}\r\n",
       "comp usage \"^s_antenna  \" as E5  <<(T,blue) part>> [[psysml:018bbde3-2421-4694-8a22-953981e144a1 ]] {\r\n",
       "##//attributes//##\r\n",
       "gain <U+003D> 10\r\n",
       "location\r\n",
       "- -\r\n",
       "##//ports//##\r\n",
       "commsIn: ~S_Downlink_Port\r\n",
       "|_ \r\n",
       "commsOut: S_Uplink_Port\r\n",
       "|_ \r\n",
       "}\r\n",
       "comp usage \"^ku_antenna  \" as E6  <<(T,blue) part>> [[psysml:4d0adb2a-0d16-4b63-951f-179ac3d5b0e0 ]] {\r\n",
       "##//ports//##\r\n",
       "commsIn: ~Ku_Downlink_Port\r\n",
       "|_ \r\n",
       "}\r\n",
       "comp def \"<i>'Ground Segment Parts'::'Ground Segment'::Communications</i>\" as E7  <<(T,blue) part  def>> [[psysml:fa8a9cc7-781b-474a-8441-3e6d42fc1df9 ]] {\r\n",
       "}\r\n",
       "comp usage \"s_antenna  \" as E8  <<(T,blue) part>> [[psysml:018bbde3-2421-4694-8a22-953981e144a1 ]] {\r\n",
       "##//attributes//##\r\n",
       "gain <U+003D> 10\r\n",
       "location\r\n",
       "- -\r\n",
       "##//ports//##\r\n",
       "commsIn: ~S_Downlink_Port\r\n",
       "|_ \r\n",
       "commsOut: S_Uplink_Port\r\n",
       "|_ \r\n",
       "}\r\n",
       "comp usage \"ku_antenna  \" as E9  <<(T,blue) part>> [[psysml:4d0adb2a-0d16-4b63-951f-179ac3d5b0e0 ]] {\r\n",
       "##//ports//##\r\n",
       "commsIn: ~Ku_Downlink_Port\r\n",
       "|_ \r\n",
       "}\r\n",
       "comp def \"<i>'Spacecraft Bus Logical Architecture'::'Spacecraft Bus'::'TT&C'</i>\" as E10  <<(T,blue) part  def>> [[psysml:1979bb9a-a624-47e2-8de9-f65ff2a651cf ]] {\r\n",
       "}\r\n",
       "comp usage \"s_antenna  \" as E11  <<(T,blue) part>> [[psysml:92bd00b8-1eb1-4c59-8cf9-792f5acae044 ]] {\r\n",
       "##//attributes//##\r\n",
       "gain <U+003D> 3\r\n",
       "- -\r\n",
       "##//ports//##\r\n",
       "commsIn: S_Uplink_Port\r\n",
       "|_ \r\n",
       "commsOut: S_Downlink_Port\r\n",
       "|_ \r\n",
       "}\r\n",
       "comp usage \"ku_antenna  \" as E12  <<(T,blue) part>> [[psysml:d162b147-0a14-4e34-9736-3de9f33d0ae6 ]] {\r\n",
       "##//ports//##\r\n",
       "commsOut: Ku_Downlink_Port\r\n",
       "|_ \r\n",
       "}\r\n",
       "E1 *- - \"1\"E2 [[psysml:2e185c0d-5efe-4260-8bac-7f71d43b09fe ]] \r\n",
       "E1 *- - \"1\"E3 [[psysml:afd6c997-2c1a-48bd-bc5b-2de87c6a23da ]] \r\n",
       "E4 *- - \"1\"E5 [[psysml:030effbb-55fc-4713-9da1-78dabc571e8c ]] \r\n",
       "E4 *- - \"1\"E6 [[psysml:c6f0f57d-57c1-46cd-9b79-78e9324236f1 ]] \r\n",
       "E4 - -:|> E7 [[psysml:549ff081-1b79-46b6-8ee4-ea170a8d89f6 ]] \r\n",
       "E7 *- - \"1\"E8 [[psysml:030effbb-55fc-4713-9da1-78dabc571e8c ]] \r\n",
       "E7 *- - \"1\"E9 [[psysml:c6f0f57d-57c1-46cd-9b79-78e9324236f1 ]] \r\n",
       "E1 - -:|> E10 [[psysml:009fd9bb-75a3-4d09-8088-3e6cf0106e8f ]] \r\n",
       "E10 *- - \"1\"E11 [[psysml:2e185c0d-5efe-4260-8bac-7f71d43b09fe ]] \r\n",
       "E10 *- - \"1\"E12 [[psysml:afd6c997-2c1a-48bd-bc5b-2de87c6a23da ]] \r\n",
       "@enduml\r\n",
       "\n",
       "PlantUML version 1.2022.7(Mon Aug 22 17:01:30 UTC 2022)\n",
       "(EPL source distribution)\n",
       "Java Runtime: OpenJDK Runtime Environment\n",
       "JVM: OpenJDK 64-Bit Server VM\n",
       "Default Encoding: UTF-8\n",
       "Language: en\n",
       "Country: null\n",
       "--></g></svg>"
      ]
     },
     "execution_count": 18,
     "metadata": {},
     "output_type": "execute_result"
    }
   ],
   "source": [
    "%viz --style=STDCOLOR --style=COMPTREE --style=SHOWINHERITED --style=SHOWIMPORTED \"Logical Architecture::space::spacecraft::bus::comms\" \"Logical Architecture::ground::comms\""
   ]
  },
  {
   "cell_type": "code",
   "execution_count": null,
   "id": "9351aba4-b143-49a2-add8-66e13c86d3b7",
   "metadata": {
    "kernel": "SysML"
   },
   "outputs": [],
   "source": []
  },
  {
   "cell_type": "code",
   "execution_count": 18,
   "id": "96f19138-0d15-491f-98c0-708846bc284f",
   "metadata": {
    "kernel": "SysML"
   },
   "outputs": [
    {
     "data": {
      "image/svg+xml": [
       "<?xml version=\"1.0\" encoding=\"UTF-8\" standalone=\"no\"?><svg xmlns=\"http://www.w3.org/2000/svg\" xmlns:xlink=\"http://www.w3.org/1999/xlink\" contentStyleType=\"text/css\" height=\"943px\" preserveAspectRatio=\"none\" style=\"width:1057px;height:943px;background:#FFFFFF;\" version=\"1.1\" viewBox=\"0 0 1057 943\" width=\"1057px\" zoomAndPan=\"magnify\"><defs/><g><!--MD5=[fbc87193dbaf4d95561dea2c320d4a47]\n",
       "cluster E1--><g id=\"cluster_E1\"><a href=\"psysml:2b7e76cf-7d38-48bf-9603-4a938596b0f3\" target=\"_top\" title=\"psysml:2b7e76cf-7d38-48bf-9603-4a938596b0f3\" xlink:actuate=\"onRequest\" xlink:href=\"psysml:2b7e76cf-7d38-48bf-9603-4a938596b0f3\" xlink:show=\"new\" xlink:title=\"psysml:2b7e76cf-7d38-48bf-9603-4a938596b0f3\" xlink:type=\"simple\"><polygon fill=\"none\" points=\"16,6,181,6,188,28.2969,1035.22,28.2969,1035.22,936,16,936,16,6\" style=\"stroke:#000000;stroke-width:1.5;\"/><line style=\"stroke:#000000;stroke-width:1.5;\" x1=\"16\" x2=\"188\" y1=\"28.2969\" y2=\"28.2969\"/><text fill=\"#000000\" font-family=\"sans-serif\" font-size=\"14\" font-weight=\"bold\" lengthAdjust=\"spacing\" textLength=\"159\" x=\"20\" y=\"20.9951\">Logical Architecture</text></a></g><!--MD5=[e4f7fae6ed58524ba242bb0b0d3be6b7]\n",
       "cluster E2--><g id=\"cluster_E2\"><a href=\"psysml:41e031f8-fdd9-4b4b-a3b6-789a899e8e65\" target=\"_top\" title=\"psysml:41e031f8-fdd9-4b4b-a3b6-789a899e8e65\" xlink:actuate=\"onRequest\" xlink:href=\"psysml:41e031f8-fdd9-4b4b-a3b6-789a899e8e65\" xlink:show=\"new\" xlink:title=\"psysml:41e031f8-fdd9-4b4b-a3b6-789a899e8e65\" xlink:type=\"simple\"><rect fill=\"#FFFFFF\" height=\"500\" id=\"E2\" rx=\"10\" ry=\"10\" style=\"stroke:#383838;stroke-width:1.5;\" width=\"689.36\" x=\"40\" y=\"412\"/><text fill=\"#000000\" font-family=\"sans-serif\" font-size=\"14\" lengthAdjust=\"spacing\" textLength=\"191\" x=\"289.18\" y=\"429.9951\">space: Spacecraft Segment</text><line style=\"stroke:#383838;stroke-width:1.0;\" x1=\"40\" x2=\"729.36\" y1=\"438.2969\" y2=\"438.2969\"/></a></g><!--MD5=[d5e69f78d87373223dbae638b30a9c99]\n",
       "cluster E3--><g id=\"cluster_E3\"><a href=\"psysml:5e3913b0-b6b9-4fce-b16d-2c49f6cf513f\" target=\"_top\" title=\"psysml:5e3913b0-b6b9-4fce-b16d-2c49f6cf513f\" xlink:actuate=\"onRequest\" xlink:href=\"psysml:5e3913b0-b6b9-4fce-b16d-2c49f6cf513f\" xlink:show=\"new\" xlink:title=\"psysml:5e3913b0-b6b9-4fce-b16d-2c49f6cf513f\" xlink:type=\"simple\"><rect fill=\"#FFFFFF\" height=\"433\" id=\"E3\" rx=\"10\" ry=\"10\" style=\"stroke:#383838;stroke-width:1.5;\" width=\"641.36\" x=\"64\" y=\"455\"/><text fill=\"#000000\" font-family=\"sans-serif\" font-size=\"14\" lengthAdjust=\"spacing\" textLength=\"171\" x=\"299.18\" y=\"472.9951\">^spacecraft: 3UCubeSat</text><line style=\"stroke:#383838;stroke-width:1.0;\" x1=\"64\" x2=\"705.36\" y1=\"481.2969\" y2=\"481.2969\"/></a></g><!--MD5=[de5ec2e2e8f62f467e546659f5068c88]\n",
       "cluster E5--><g id=\"cluster_E5\"><a href=\"psysml:2de59852-6878-4add-8893-372670875f64\" target=\"_top\" title=\"psysml:2de59852-6878-4add-8893-372670875f64\" xlink:actuate=\"onRequest\" xlink:href=\"psysml:2de59852-6878-4add-8893-372670875f64\" xlink:show=\"new\" xlink:title=\"psysml:2de59852-6878-4add-8893-372670875f64\" xlink:type=\"simple\"><rect fill=\"#FFFFFF\" height=\"284\" id=\"E5\" rx=\"10\" ry=\"10\" style=\"stroke:#383838;stroke-width:1.5;\" width=\"593.36\" x=\"88\" y=\"498\"/><text fill=\"#000000\" font-family=\"sans-serif\" font-size=\"14\" lengthAdjust=\"spacing\" textLength=\"151\" x=\"309.18\" y=\"515.9951\">^bus: Spacecraft Bus</text><line style=\"stroke:#383838;stroke-width:1.0;\" x1=\"88\" x2=\"681.36\" y1=\"524.2969\" y2=\"524.2969\"/></a></g><!--MD5=[14e3b0961a2654348d326746436168a1]\n",
       "cluster E6--><g id=\"cluster_E6\"><a href=\"psysml:a6d0ec3f-180c-4fb0-a22e-ff1f7034ebbd\" target=\"_top\" title=\"psysml:a6d0ec3f-180c-4fb0-a22e-ff1f7034ebbd\" xlink:actuate=\"onRequest\" xlink:href=\"psysml:a6d0ec3f-180c-4fb0-a22e-ff1f7034ebbd\" xlink:show=\"new\" xlink:title=\"psysml:a6d0ec3f-180c-4fb0-a22e-ff1f7034ebbd\" xlink:type=\"simple\"><rect fill=\"#FFFFFF\" height=\"217\" id=\"E6\" rx=\"10\" ry=\"10\" style=\"stroke:#383838;stroke-width:1.5;\" width=\"545.36\" x=\"112\" y=\"541\"/><text fill=\"#000000\" font-family=\"sans-serif\" font-size=\"14\" lengthAdjust=\"spacing\" textLength=\"112\" x=\"328.68\" y=\"558.9951\">^comms: TT&amp;C</text><line style=\"stroke:#383838;stroke-width:1.0;\" x1=\"112\" x2=\"657.36\" y1=\"567.2969\" y2=\"567.2969\"/></a></g><!--MD5=[168fadf3d0c3fd93dd5d6da1b1d7ab76]\n",
       "cluster E7--><g id=\"cluster_E7\"><a href=\"psysml:d162b147-0a14-4e34-9736-3de9f33d0ae6\" target=\"_top\" title=\"psysml:d162b147-0a14-4e34-9736-3de9f33d0ae6\" xlink:actuate=\"onRequest\" xlink:href=\"psysml:d162b147-0a14-4e34-9736-3de9f33d0ae6\" xlink:show=\"new\" xlink:title=\"psysml:d162b147-0a14-4e34-9736-3de9f33d0ae6\" xlink:type=\"simple\"><rect fill=\"#FFFFFF\" height=\"37\" id=\"E7\" rx=\"10\" ry=\"10\" style=\"stroke:#383838;stroke-width:1.5;\" width=\"328.5\" x=\"128\" y=\"591\"/><text fill=\"#000000\" font-family=\"sans-serif\" font-size=\"14\" lengthAdjust=\"spacing\" textLength=\"93\" x=\"245.75\" y=\"608.9951\">^ku_antenna</text><line style=\"stroke:#383838;stroke-width:1.0;\" x1=\"128\" x2=\"456.5\" y1=\"617.2969\" y2=\"617.2969\"/></a></g><!--MD5=[7f149f147074ac12df2cb0a7728a5fb0]\n",
       "cluster E9--><g id=\"cluster_E9\"><a href=\"psysml:92bd00b8-1eb1-4c59-8cf9-792f5acae044\" target=\"_top\" title=\"psysml:92bd00b8-1eb1-4c59-8cf9-792f5acae044\" xlink:actuate=\"onRequest\" xlink:href=\"psysml:92bd00b8-1eb1-4c59-8cf9-792f5acae044\" xlink:show=\"new\" xlink:title=\"psysml:92bd00b8-1eb1-4c59-8cf9-792f5acae044\" xlink:type=\"simple\"><rect fill=\"#FFFFFF\" height=\"91\" id=\"E9\" rx=\"10\" ry=\"10\" style=\"stroke:#383838;stroke-width:1.5;\" width=\"442.36\" x=\"203\" y=\"651\"/><text fill=\"#000000\" font-family=\"sans-serif\" font-size=\"14\" lengthAdjust=\"spacing\" textLength=\"84\" x=\"382.18\" y=\"668.9951\">^s_antenna</text><line style=\"stroke:#383838;stroke-width:1.0;\" x1=\"203\" x2=\"645.36\" y1=\"677.2969\" y2=\"677.2969\"/></a></g><!--MD5=[03104f77b71e2d8d3500c651e6e31181]\n",
       "cluster E13--><g id=\"cluster_E13\"><a href=\"psysml:02cd8008-07dd-43b1-9ad6-7709bc6a8959\" target=\"_top\" title=\"psysml:02cd8008-07dd-43b1-9ad6-7709bc6a8959\" xlink:actuate=\"onRequest\" xlink:href=\"psysml:02cd8008-07dd-43b1-9ad6-7709bc6a8959\" xlink:show=\"new\" xlink:title=\"psysml:02cd8008-07dd-43b1-9ad6-7709bc6a8959\" xlink:type=\"simple\"><rect fill=\"#FFFFFF\" height=\"339\" id=\"E13\" rx=\"10\" ry=\"10\" style=\"stroke:#383838;stroke-width:1.5;\" width=\"521.22\" x=\"490\" y=\"49\"/><text fill=\"#000000\" font-family=\"sans-serif\" font-size=\"14\" lengthAdjust=\"spacing\" textLength=\"178\" x=\"661.61\" y=\"66.9951\">ground: Ground Segment</text><line style=\"stroke:#383838;stroke-width:1.0;\" x1=\"490\" x2=\"1011.22\" y1=\"75.2969\" y2=\"75.2969\"/></a></g><!--MD5=[bcf29f0808fc96f19b1afbee8cfc1f11]\n",
       "cluster E14--><g id=\"cluster_E14\"><a href=\"psysml:6b023a5f-7418-47c3-b797-1e1313e98c0d\" target=\"_top\" title=\"psysml:6b023a5f-7418-47c3-b797-1e1313e98c0d\" xlink:actuate=\"onRequest\" xlink:href=\"psysml:6b023a5f-7418-47c3-b797-1e1313e98c0d\" xlink:show=\"new\" xlink:title=\"psysml:6b023a5f-7418-47c3-b797-1e1313e98c0d\" xlink:type=\"simple\"><rect fill=\"#FFFFFF\" height=\"272\" id=\"E14\" rx=\"10\" ry=\"10\" style=\"stroke:#383838;stroke-width:1.5;\" width=\"473.22\" x=\"514\" y=\"92\"/><text fill=\"#000000\" font-family=\"sans-serif\" font-size=\"14\" lengthAdjust=\"spacing\" textLength=\"188\" x=\"656.61\" y=\"109.9951\">^comms: Communications</text><line style=\"stroke:#383838;stroke-width:1.0;\" x1=\"514\" x2=\"987.22\" y1=\"118.2969\" y2=\"118.2969\"/></a></g><!--MD5=[ab3548ab6224ff035c4047a4d30b7567]\n",
       "cluster E15--><g id=\"cluster_E15\"><a href=\"psysml:4d0adb2a-0d16-4b63-951f-179ac3d5b0e0\" target=\"_top\" title=\"psysml:4d0adb2a-0d16-4b63-951f-179ac3d5b0e0\" xlink:actuate=\"onRequest\" xlink:href=\"psysml:4d0adb2a-0d16-4b63-951f-179ac3d5b0e0\" xlink:show=\"new\" xlink:title=\"psysml:4d0adb2a-0d16-4b63-951f-179ac3d5b0e0\" xlink:type=\"simple\"><rect fill=\"#FFFFFF\" height=\"32\" id=\"E15\" rx=\"10\" ry=\"10\" style=\"stroke:#383838;stroke-width:1.5;\" width=\"176.36\" x=\"526\" y=\"127\"/><text fill=\"#000000\" font-family=\"sans-serif\" font-size=\"14\" lengthAdjust=\"spacing\" textLength=\"93\" x=\"567.68\" y=\"144.9951\">^ku_antenna</text><line style=\"stroke:#383838;stroke-width:1.0;\" x1=\"526\" x2=\"702.36\" y1=\"153.2969\" y2=\"153.2969\"/></a></g><!--MD5=[3e4be939245ddbd2da6080b60acb37a8]\n",
       "cluster E17--><g id=\"cluster_E17\"><a href=\"psysml:018bbde3-2421-4694-8a22-953981e144a1\" target=\"_top\" title=\"psysml:018bbde3-2421-4694-8a22-953981e144a1\" xlink:actuate=\"onRequest\" xlink:href=\"psysml:018bbde3-2421-4694-8a22-953981e144a1\" xlink:show=\"new\" xlink:title=\"psysml:018bbde3-2421-4694-8a22-953981e144a1\" xlink:type=\"simple\"><rect fill=\"#FFFFFF\" height=\"146\" id=\"E17\" rx=\"10\" ry=\"10\" style=\"stroke:#383838;stroke-width:1.5;\" width=\"431.22\" x=\"544\" y=\"202\"/><text fill=\"#000000\" font-family=\"sans-serif\" font-size=\"14\" lengthAdjust=\"spacing\" textLength=\"84\" x=\"717.61\" y=\"219.9951\">^s_antenna</text><line style=\"stroke:#383838;stroke-width:1.0;\" x1=\"544\" x2=\"975.22\" y1=\"228.2969\" y2=\"228.2969\"/></a></g><!--MD5=[ebbe1d658d1005bcc118a6aa81145e00]\n",
       "class E4--><a href=\"psysml:6984b8d1-20ce-427b-87f9-12b74ab07232\" target=\"_top\" title=\"psysml:6984b8d1-20ce-427b-87f9-12b74ab07232\" xlink:actuate=\"onRequest\" xlink:href=\"psysml:6984b8d1-20ce-427b-87f9-12b74ab07232\" xlink:show=\"new\" xlink:title=\"psysml:6984b8d1-20ce-427b-87f9-12b74ab07232\" xlink:type=\"simple\"><g id=\"elem_E4\"><rect fill=\"#FFFFFF\" height=\"75.0813\" id=\"E4\" rx=\"10\" ry=\"10\" style=\"stroke:#181818;stroke-width:0.5;\" width=\"132\" x=\"137\" y=\"797.5\"/><text fill=\"#000000\" font-family=\"sans-serif\" font-size=\"12\" font-style=\"italic\" lengthAdjust=\"spacing\" textLength=\"69\" x=\"168.5\" y=\"813.6387\">«attribute»</text><text fill=\"#000000\" font-family=\"sans-serif\" font-size=\"14\" lengthAdjust=\"spacing\" textLength=\"31\" x=\"183.5\" y=\"829.4639\">orbit</text><line style=\"stroke:#181818;stroke-width:0.5;\" x1=\"138\" x2=\"268\" y1=\"837.7656\" y2=\"837.7656\"/><text fill=\"#000000\" font-family=\"sans-serif\" font-size=\"14\" lengthAdjust=\"spacing\" textLength=\"120\" x=\"143\" y=\"865.2795\">sma = 8000 [km]</text><text fill=\"#000000\" font-family=\"sans-serif\" font-size=\"14\" font-style=\"italic\" lengthAdjust=\"spacing\" textLength=\"65\" x=\"170.5\" y=\"850.1123\">attributes</text></g></a><text fill=\"#000000\" font-family=\"sans-serif\" font-size=\"14\" lengthAdjust=\"spacing\" textLength=\"208\" x=\"330.5\" y=\"569.6982\">commsOut: Ku_Downlink_Port</text><rect fill=\"#FFFFFF\" height=\"12\" style=\"stroke:#181818;stroke-width:1.5;\" width=\"12\" x=\"432.5\" y=\"585\"/><text fill=\"#000000\" font-family=\"sans-serif\" font-size=\"14\" lengthAdjust=\"spacing\" textLength=\"165\" x=\"116.5\" y=\"640.6982\">commsIn: S_Uplink_Port</text><rect fill=\"#FFFFFF\" height=\"12\" style=\"stroke:#181818;stroke-width:1.5;\" width=\"12\" x=\"197\" y=\"656\"/><text fill=\"#000000\" font-family=\"sans-serif\" font-size=\"14\" lengthAdjust=\"spacing\" textLength=\"199\" x=\"523.86\" y=\"629.6982\">commsOut: S_Downlink_Port</text><rect fill=\"#FFFFFF\" height=\"12\" style=\"stroke:#181818;stroke-width:1.5;\" width=\"12\" x=\"621.36\" y=\"645\"/><!--MD5=[49a0ec8f00dab7302a31f22d0f0fe584]\n",
       "class E12--><a href=\"psysml:5a267b48-40dc-4b40-b17d-18230d2ad9e2\" target=\"_top\" title=\"psysml:5a267b48-40dc-4b40-b17d-18230d2ad9e2\" xlink:actuate=\"onRequest\" xlink:href=\"psysml:5a267b48-40dc-4b40-b17d-18230d2ad9e2\" xlink:show=\"new\" xlink:title=\"psysml:5a267b48-40dc-4b40-b17d-18230d2ad9e2\" xlink:type=\"simple\"><g id=\"elem_E12\"><rect fill=\"#FFFFFF\" height=\"75.0813\" id=\"E12\" rx=\"10\" ry=\"10\" style=\"stroke:#181818;stroke-width:0.5;\" width=\"71\" x=\"403\" y=\"651.5\"/><text fill=\"#000000\" font-family=\"sans-serif\" font-size=\"12\" font-style=\"italic\" lengthAdjust=\"spacing\" textLength=\"69\" x=\"404\" y=\"667.6387\">«attribute»</text><text fill=\"#000000\" font-family=\"sans-serif\" font-size=\"14\" lengthAdjust=\"spacing\" textLength=\"29\" x=\"420\" y=\"683.4639\">gain</text><line style=\"stroke:#181818;stroke-width:0.5;\" x1=\"404\" x2=\"473\" y1=\"691.7656\" y2=\"691.7656\"/><text fill=\"#000000\" font-family=\"sans-serif\" font-size=\"14\" lengthAdjust=\"spacing\" textLength=\"25\" x=\"409\" y=\"719.2795\">= 3</text><text fill=\"#000000\" font-family=\"sans-serif\" font-size=\"14\" font-style=\"italic\" lengthAdjust=\"spacing\" textLength=\"44\" x=\"416.5\" y=\"704.1123\">values</text></g></a><text fill=\"#000000\" font-family=\"sans-serif\" font-size=\"14\" lengthAdjust=\"spacing\" textLength=\"207\" x=\"436.5\" y=\"177.9951\">commsIn: ~Ku_Downlink_Port</text><rect fill=\"#FFFFFF\" height=\"12\" style=\"stroke:#181818;stroke-width:1.5;\" width=\"12\" x=\"538\" y=\"153\"/><text fill=\"#000000\" font-family=\"sans-serif\" font-size=\"14\" lengthAdjust=\"spacing\" textLength=\"178\" x=\"864.22\" y=\"180.6982\">commsOut: S_Uplink_Port</text><rect fill=\"#FFFFFF\" height=\"12\" style=\"stroke:#181818;stroke-width:1.5;\" width=\"12\" x=\"951.22\" y=\"196\"/><text fill=\"#000000\" font-family=\"sans-serif\" font-size=\"14\" lengthAdjust=\"spacing\" textLength=\"198\" x=\"441\" y=\"252.6982\">commsIn: ~S_Downlink_Port</text><rect fill=\"#FFFFFF\" height=\"12\" style=\"stroke:#181818;stroke-width:1.5;\" width=\"12\" x=\"538\" y=\"268\"/><!--MD5=[98c62f1084e4f84a692d89b659ad1ae4]\n",
       "class E20--><a href=\"psysml:3eb91f55-d484-4708-b7ff-140f3e8b3c0f\" target=\"_top\" title=\"psysml:3eb91f55-d484-4708-b7ff-140f3e8b3c0f\" xlink:actuate=\"onRequest\" xlink:href=\"psysml:3eb91f55-d484-4708-b7ff-140f3e8b3c0f\" xlink:show=\"new\" xlink:title=\"psysml:3eb91f55-d484-4708-b7ff-140f3e8b3c0f\" xlink:type=\"simple\"><g id=\"elem_E20\"><rect fill=\"#FFFFFF\" height=\"75.0813\" id=\"E20\" rx=\"10\" ry=\"10\" style=\"stroke:#181818;stroke-width:0.5;\" width=\"71\" x=\"591.86\" y=\"257.5\"/><text fill=\"#000000\" font-family=\"sans-serif\" font-size=\"12\" font-style=\"italic\" lengthAdjust=\"spacing\" textLength=\"69\" x=\"592.86\" y=\"273.6387\">«attribute»</text><text fill=\"#000000\" font-family=\"sans-serif\" font-size=\"14\" lengthAdjust=\"spacing\" textLength=\"29\" x=\"608.86\" y=\"289.4639\">gain</text><line style=\"stroke:#181818;stroke-width:0.5;\" x1=\"592.86\" x2=\"661.86\" y1=\"297.7656\" y2=\"297.7656\"/><text fill=\"#000000\" font-family=\"sans-serif\" font-size=\"14\" lengthAdjust=\"spacing\" textLength=\"34\" x=\"597.86\" y=\"325.2795\">= 10</text><text fill=\"#000000\" font-family=\"sans-serif\" font-size=\"14\" font-style=\"italic\" lengthAdjust=\"spacing\" textLength=\"44\" x=\"605.36\" y=\"310.1123\">values</text></g></a><!--MD5=[0a5eafc7463fe4c3b6356fe5913c4902]\n",
       "class E21--><a href=\"psysml:12784174-498f-47f7-ac31-5d24e756762b\" target=\"_top\" title=\"psysml:12784174-498f-47f7-ac31-5d24e756762b\" xlink:actuate=\"onRequest\" xlink:href=\"psysml:12784174-498f-47f7-ac31-5d24e756762b\" xlink:show=\"new\" xlink:title=\"psysml:12784174-498f-47f7-ac31-5d24e756762b\" xlink:type=\"simple\"><g id=\"elem_E21\"><rect fill=\"#FFFFFF\" height=\"107.675\" id=\"E21\" rx=\"10\" ry=\"10\" style=\"stroke:#181818;stroke-width:0.5;\" width=\"179\" x=\"745.36\" y=\"203\"/><text fill=\"#000000\" font-family=\"sans-serif\" font-size=\"12\" font-style=\"italic\" lengthAdjust=\"spacing\" textLength=\"69\" x=\"800.36\" y=\"219.1387\">«attribute»</text><text fill=\"#000000\" font-family=\"sans-serif\" font-size=\"14\" lengthAdjust=\"spacing\" textLength=\"54\" x=\"803.86\" y=\"234.9639\">location</text><line style=\"stroke:#181818;stroke-width:0.5;\" x1=\"746.36\" x2=\"923.36\" y1=\"243.2656\" y2=\"243.2656\"/><text fill=\"#000000\" font-family=\"sans-serif\" font-size=\"14\" lengthAdjust=\"spacing\" textLength=\"107\" x=\"751.36\" y=\"270.7795\">altitude = 0 [m]</text><text fill=\"#000000\" font-family=\"sans-serif\" font-size=\"14\" lengthAdjust=\"spacing\" textLength=\"153\" x=\"751.36\" y=\"287.0764\">latitude = 10 [degree]</text><text fill=\"#000000\" font-family=\"sans-serif\" font-size=\"14\" lengthAdjust=\"spacing\" textLength=\"167\" x=\"751.36\" y=\"303.3732\">longitude = 10 [degree]</text><text fill=\"#000000\" font-family=\"sans-serif\" font-size=\"14\" font-style=\"italic\" lengthAdjust=\"spacing\" textLength=\"65\" x=\"802.36\" y=\"255.6123\">attributes</text></g></a><!--MD5=[ece7648658d2d6a15088b1a55e65e54d]\n",
       "link E18 to E10--><g id=\"link_E18_E10\"><a href=\"psysml:435e0a91-d7df-4ba4-aa8b-cfd80328fd5a\" target=\"_top\" title=\"psysml:435e0a91-d7df-4ba4-aa8b-cfd80328fd5a\" xlink:actuate=\"onRequest\" xlink:href=\"psysml:435e0a91-d7df-4ba4-aa8b-cfd80328fd5a\" xlink:show=\"new\" xlink:title=\"psysml:435e0a91-d7df-4ba4-aa8b-cfd80328fd5a\" xlink:type=\"simple\"><path d=\"M950.93,195.9 C947.33,191.75 943.22,187 943.22,187 C943.22,187 835.86,107 835.86,107 C437.5,107 437.5,107 437.5,107 C437.5,107 277,576 277,576 C277,576 269,628 269,628 C269,628 224.42,651.32 209.1,659.33 \" fill=\"none\" id=\"E18-E10\" style=\"stroke:#181818;stroke-width:3.0;\"/><text fill=\"#000000\" font-family=\"sans-serif\" font-size=\"13\" lengthAdjust=\"spacing\" textLength=\"7\" x=\"217.02\" y=\"675.4364\">*</text></a></g><!--MD5=[50cfdc54a5039eaafaa0b01590e7ae3c]\n",
       "link E11 to E19--><g id=\"link_E11_E19\"><a href=\"psysml:1816beb6-10ce-4b71-8f7e-3ebeb6ad840b\" target=\"_top\" title=\"psysml:1816beb6-10ce-4b71-8f7e-3ebeb6ad840b\" xlink:actuate=\"onRequest\" xlink:href=\"psysml:1816beb6-10ce-4b71-8f7e-3ebeb6ad840b\" xlink:show=\"new\" xlink:title=\"psysml:1816beb6-10ce-4b71-8f7e-3ebeb6ad840b\" xlink:type=\"simple\"><path d=\"M625.04,644.95 C615.74,602.24 560.36,348 560.36,348 C560.36,348 549.93,297.73 546.26,280.06 \" fill=\"none\" id=\"E11-E19\" style=\"stroke:#181818;stroke-width:3.0;\"/><text fill=\"#000000\" font-family=\"sans-serif\" font-size=\"13\" lengthAdjust=\"spacing\" textLength=\"7\" x=\"538.5315\" y=\"300.1324\">*</text></a></g><!--MD5=[d8c3630c50603a11428313671fbac570]\n",
       "link E8 to E16--><g id=\"link_E8_E16\"><a href=\"psysml:ccc8d3f9-f574-4a48-ae4d-ae194f352d57\" target=\"_top\" title=\"psysml:ccc8d3f9-f574-4a48-ae4d-ae194f352d57\" xlink:actuate=\"onRequest\" xlink:href=\"psysml:ccc8d3f9-f574-4a48-ae4d-ae194f352d57\" xlink:show=\"new\" xlink:title=\"psysml:ccc8d3f9-f574-4a48-ae4d-ae194f352d57\" xlink:type=\"simple\"><path d=\"M440.13,584.86 C445.42,533.6 482,179 482,179 C482,179 523.05,165.54 537.8,160.71 \" fill=\"none\" id=\"E8-E16\" style=\"stroke:#181818;stroke-width:3.0;\"/><text fill=\"#000000\" font-family=\"sans-serif\" font-size=\"13\" lengthAdjust=\"spacing\" textLength=\"7\" x=\"522.7975\" y=\"180.4299\">*</text></a></g><!--MD5=[3a4b4d7a2b0a06213f9c45f31e261178]\n",
       "@startuml\r\n",
       "skin sysmlbw\r\n",
       "skinparam monochrome true\r\n",
       "skinparam wrapWidth 300\r\n",
       "hide circle\r\n",
       "left to right direction\r\n",
       "skinparam linetype polyline\r\n",
       "skinparam ranksep 10\r\n",
       "skinparam rectangle {\r\n",
       " backgroundColor<<block>> LightGreen\r\n",
       "}\r\n",
       "\r\n",
       "package \"Logical Architecture\" as E1  [[psysml:2b7e76cf-7d38-48bf-9603-4a938596b0f3 ]]  {\r\n",
       "rec usage \"space: Spacecraft Segment\" as E2 [[psysml:41e031f8-fdd9-4b4b-a3b6-789a899e8e65 ]] {\r\n",
       "rec usage \"^spacecraft: 3UCubeSat\" as E3 [[psysml:5e3913b0-b6b9-4fce-b16d-2c49f6cf513f ]] {\r\n",
       "comp usage \"orbit  \" as E4  <<(T,blue) attribute>> [[psysml:6984b8d1-20ce-427b-87f9-12b74ab07232 ]] {\r\n",
       "##//attributes//##\r\n",
       "sma <U+003D> 8000 [km]\r\n",
       "}\r\n",
       "rec usage \"^bus: Spacecraft Bus\" as E5 [[psysml:2de59852-6878-4add-8893-372670875f64 ]] {\r\n",
       "rec usage \"^comms: TT&C\" as E6 [[psysml:a6d0ec3f-180c-4fb0-a22e-ff1f7034ebbd ]] {\r\n",
       "rec usage \"^ku_antenna\" as E7 [[psysml:d162b147-0a14-4e34-9736-3de9f33d0ae6 ]] {\r\n",
       "portout \"commsOut: Ku_Downlink_Port  \" as E8  <<(T,blue) port>> [[psysml:324669b2-459e-4705-89fb-e571b82514a0 ]] \r\n",
       "}\r\n",
       "rec usage \"^s_antenna\" as E9 [[psysml:92bd00b8-1eb1-4c59-8cf9-792f5acae044 ]] {\r\n",
       "portin \"commsIn: S_Uplink_Port  \" as E10  <<(T,blue) port>> [[psysml:ff8fd92b-47ae-4a59-b97b-208a7237b0ce ]] \r\n",
       "portout \"commsOut: S_Downlink_Port  \" as E11  <<(T,blue) port>> [[psysml:57ae1b22-4613-4b54-b5b4-7f24ba8845a0 ]] \r\n",
       "comp usage \"gain  \" as E12  <<(T,blue) attribute>> [[psysml:5a267b48-40dc-4b40-b17d-18230d2ad9e2 ]] {\r\n",
       "##//values//##\r\n",
       " <U+003D> 3\r\n",
       "}\r\n",
       "}\r\n",
       "}\r\n",
       "}\r\n",
       "}\r\n",
       "}\r\n",
       "rec usage \"ground: Ground Segment\" as E13 [[psysml:02cd8008-07dd-43b1-9ad6-7709bc6a8959 ]] {\r\n",
       "rec usage \"^comms: Communications\" as E14 [[psysml:6b023a5f-7418-47c3-b797-1e1313e98c0d ]] {\r\n",
       "rec usage \"^ku_antenna\" as E15 [[psysml:4d0adb2a-0d16-4b63-951f-179ac3d5b0e0 ]] {\r\n",
       "portin \"commsIn: ~Ku_Downlink_Port  \" as E16  <<(T,blue) port>> [[psysml:3eb5f796-3e7c-436c-acb3-ebe66f685979 ]] \r\n",
       "}\r\n",
       "rec usage \"^s_antenna\" as E17 [[psysml:018bbde3-2421-4694-8a22-953981e144a1 ]] {\r\n",
       "portout \"commsOut: S_Uplink_Port  \" as E18  <<(T,blue) port>> [[psysml:5804af36-06a2-4982-aa99-a2451c083c26 ]] \r\n",
       "portin \"commsIn: ~S_Downlink_Port  \" as E19  <<(T,blue) port>> [[psysml:41b2546b-9d0c-404d-9038-9833bdbfc2ee ]] \r\n",
       "comp usage \"gain  \" as E20  <<(T,blue) attribute>> [[psysml:3eb91f55-d484-4708-b7ff-140f3e8b3c0f ]] {\r\n",
       "##//values//##\r\n",
       " <U+003D> 10\r\n",
       "}\r\n",
       "comp usage \"location  \" as E21  <<(T,blue) attribute>> [[psysml:12784174-498f-47f7-ac31-5d24e756762b ]] {\r\n",
       "##//attributes//##\r\n",
       "altitude <U+003D> 0 [m]\r\n",
       "latitude <U+003D> 10 [degree]\r\n",
       "longitude <U+003D> 10 [degree]\r\n",
       "}\r\n",
       "}\r\n",
       "}\r\n",
       "}\r\n",
       "}\r\n",
       "E18 -[thickness=3]- \"*\"E10 [[psysml:435e0a91-d7df-4ba4-aa8b-cfd80328fd5a ]] \r\n",
       "E11 -[thickness=3]- \"*\"E19 [[psysml:1816beb6-10ce-4b71-8f7e-3ebeb6ad840b ]] \r\n",
       "E8 -[thickness=3]- \"*\"E16 [[psysml:ccc8d3f9-f574-4a48-ae4d-ae194f352d57 ]] \r\n",
       "@enduml\r\n",
       "\n",
       "PlantUML version 1.2022.7(Mon Aug 22 17:01:30 UTC 2022)\n",
       "(EPL source distribution)\n",
       "Java Runtime: OpenJDK Runtime Environment\n",
       "JVM: OpenJDK 64-Bit Server VM\n",
       "Default Encoding: UTF-8\n",
       "Language: en\n",
       "Country: null\n",
       "--></g></svg>"
      ]
     },
     "execution_count": 19,
     "metadata": {},
     "output_type": "execute_result"
    }
   ],
   "source": [
    "%viz --view=interconnection --style=LR --style=POLYLINE \"Logical Architecture\""
   ]
  },
  {
   "cell_type": "code",
   "execution_count": 19,
   "id": "448ae654-9f4a-4c50-9205-1bea22c9f4d0",
   "metadata": {
    "kernel": "SysML"
   },
   "outputs": [
    {
     "data": {
      "image/svg+xml": [
       "<?xml version=\"1.0\" encoding=\"UTF-8\" standalone=\"no\"?><svg xmlns=\"http://www.w3.org/2000/svg\" xmlns:xlink=\"http://www.w3.org/1999/xlink\" contentStyleType=\"text/css\" height=\"806px\" preserveAspectRatio=\"none\" style=\"width:1143px;height:806px;background:#FFFFFF;\" version=\"1.1\" viewBox=\"0 0 1143 806\" width=\"1143px\" zoomAndPan=\"magnify\"><defs><filter height=\"300%\" id=\"fndkpyj6eh32w\" width=\"300%\" x=\"-1\" y=\"-1\"><feGaussianBlur result=\"blurOut\" stdDeviation=\"2.0\"/><feColorMatrix in=\"blurOut\" result=\"blurOut2\" type=\"matrix\" values=\"0 0 0 0 0 0 0 0 0 0 0 0 0 0 0 0 0 0 .4 0\"/><feOffset dx=\"4.0\" dy=\"4.0\" in=\"blurOut2\" result=\"blurOut3\"/><feBlend in=\"SourceGraphic\" in2=\"blurOut3\" mode=\"normal\"/></filter></defs><g><!--MD5=[fbc87193dbaf4d95561dea2c320d4a47]\n",
       "cluster E1--><g id=\"cluster_E1\"><a href=\"psysml:2f3e9206-0a49-452b-8204-88bfe9d1344b\" target=\"_top\" title=\"psysml:2f3e9206-0a49-452b-8204-88bfe9d1344b\" xlink:actuate=\"onRequest\" xlink:href=\"psysml:2f3e9206-0a49-452b-8204-88bfe9d1344b\" xlink:show=\"new\" xlink:title=\"psysml:2f3e9206-0a49-452b-8204-88bfe9d1344b\" xlink:type=\"simple\"><polygon fill=\"none\" filter=\"url(#fndkpyj6eh32w)\" points=\"16,6,140,6,147,28.2969,1126,28.2969,1126,799,16,799,16,6\" style=\"stroke:#000000;stroke-width:1.5;\"/><line style=\"stroke:#000000;stroke-width:1.5;\" x1=\"16\" x2=\"147\" y1=\"28.2969\" y2=\"28.2969\"/><text fill=\"#000000\" font-family=\"sans-serif\" font-size=\"14\" font-weight=\"bold\" lengthAdjust=\"spacing\" textLength=\"118\" x=\"20\" y=\"20.9951\">Firesat Mission</text></a></g><!--MD5=[e4f7fae6ed58524ba242bb0b0d3be6b7]\n",
       "cluster E2--><g id=\"cluster_E2\"><a href=\"psysml:f93141a7-3ea9-402f-93c9-b840368dc5b3\" target=\"_top\" title=\"psysml:f93141a7-3ea9-402f-93c9-b840368dc5b3\" xlink:actuate=\"onRequest\" xlink:href=\"psysml:f93141a7-3ea9-402f-93c9-b840368dc5b3\" xlink:show=\"new\" xlink:title=\"psysml:f93141a7-3ea9-402f-93c9-b840368dc5b3\" xlink:type=\"simple\"><rect fill=\"#FFFFFF\" filter=\"url(#fndkpyj6eh32w)\" height=\"131\" id=\"E2\" style=\"stroke:#A80036;stroke-width:1.5;\" width=\"164\" x=\"476\" y=\"628\"/><rect fill=\"#FFFACD\" height=\"40.2656\" style=\"stroke:#A80036;stroke-width:1.5;\" width=\"164\" x=\"476\" y=\"628\"/><text fill=\"#000000\" font-family=\"sans-serif\" font-size=\"12\" font-style=\"italic\" lengthAdjust=\"spacing\" textLength=\"68\" x=\"524\" y=\"644.1387\">«part  def»</text><text fill=\"#000000\" font-family=\"sans-serif\" font-size=\"14\" font-style=\"italic\" lengthAdjust=\"spacing\" textLength=\"98\" x=\"509\" y=\"659.9639\">Electro-optical</text></a></g><!--MD5=[bcf29f0808fc96f19b1afbee8cfc1f11]\n",
       "cluster E14--><g id=\"cluster_E14\"><a href=\"psysml:c5618473-b1b3-4587-8ccb-f6ff4e0606db\" target=\"_top\" title=\"psysml:c5618473-b1b3-4587-8ccb-f6ff4e0606db\" xlink:actuate=\"onRequest\" xlink:href=\"psysml:c5618473-b1b3-4587-8ccb-f6ff4e0606db\" xlink:show=\"new\" xlink:title=\"psysml:c5618473-b1b3-4587-8ccb-f6ff4e0606db\" xlink:type=\"simple\"><rect fill=\"#FFFFFF\" filter=\"url(#fndkpyj6eh32w)\" height=\"333\" id=\"E14\" rx=\"10\" ry=\"10\" style=\"stroke:#A80036;stroke-width:1.5;\" width=\"232\" x=\"411\" y=\"122\"/><rect fill=\"#FFFACD\" height=\"40.2656\" rx=\"10\" ry=\"10\" style=\"stroke:#FFFACD;stroke-width:1.5;\" width=\"232\" x=\"411\" y=\"122\"/><rect fill=\"#FFFACD\" height=\"10\" style=\"stroke:#FFFACD;stroke-width:1.5;\" width=\"232\" x=\"411\" y=\"152.2656\"/><rect fill=\"none\" height=\"333\" id=\"E14\" rx=\"10\" ry=\"10\" style=\"stroke:#A80036;stroke-width:1.5;\" width=\"232\" x=\"411\" y=\"122\"/><text fill=\"#000000\" font-family=\"sans-serif\" font-size=\"12\" font-style=\"italic\" lengthAdjust=\"spacing\" textLength=\"69\" x=\"492.5\" y=\"138.1387\">«use case»</text><text fill=\"#000000\" font-family=\"sans-serif\" font-size=\"14\" lengthAdjust=\"spacing\" textLength=\"140\" x=\"453\" y=\"153.9639\">Detect Fires: Collect</text><line style=\"stroke:#A80036;stroke-width:1.0;\" x1=\"411\" x2=\"643\" y1=\"162.2656\" y2=\"162.2656\"/></a></g><!--MD5=[60a26617385b1d2d0262a64233df1f8d]\n",
       "class E6--><a href=\"psysml:213ab919-4e7a-4ae4-a18e-afeb02696f6f\" target=\"_top\" title=\"psysml:213ab919-4e7a-4ae4-a18e-afeb02696f6f\" xlink:actuate=\"onRequest\" xlink:href=\"psysml:213ab919-4e7a-4ae4-a18e-afeb02696f6f\" xlink:show=\"new\" xlink:title=\"psysml:213ab919-4e7a-4ae4-a18e-afeb02696f6f\" xlink:type=\"simple\"><g id=\"elem_E6\"><rect fill=\"#FFFACD\" filter=\"url(#fndkpyj6eh32w)\" height=\"48.2656\" id=\"E6\" style=\"stroke:#181818;stroke-width:0.5;\" width=\"99\" x=\"667.5\" y=\"243\"/><text fill=\"#000000\" font-family=\"sans-serif\" font-size=\"12\" font-style=\"italic\" lengthAdjust=\"spacing\" textLength=\"97\" x=\"668.5\" y=\"259.1387\">«use case  def»</text><text fill=\"#000000\" font-family=\"sans-serif\" font-size=\"14\" lengthAdjust=\"spacing\" textLength=\"47\" x=\"693.5\" y=\"274.9639\">Collect</text><line style=\"stroke:#181818;stroke-width:0.5;\" x1=\"668.5\" x2=\"765.5\" y1=\"283.2656\" y2=\"283.2656\"/></g></a><!--MD5=[2156ba9850f5573cc1fc38a6a4b2f02b]\n",
       "class E7--><a href=\"psysml:48382888-278b-4d56-815a-030fe8c1d98a\" target=\"_top\" title=\"psysml:48382888-278b-4d56-815a-030fe8c1d98a\" xlink:actuate=\"onRequest\" xlink:href=\"psysml:48382888-278b-4d56-815a-030fe8c1d98a\" xlink:show=\"new\" xlink:title=\"psysml:48382888-278b-4d56-815a-030fe8c1d98a\" xlink:type=\"simple\"><g id=\"elem_E7\"><rect fill=\"#FFFACD\" filter=\"url(#fndkpyj6eh32w)\" height=\"75.0813\" id=\"E7\" rx=\"10\" ry=\"10\" style=\"stroke:#181818;stroke-width:0.5;\" width=\"107\" x=\"616.5\" y=\"504\"/><text fill=\"#000000\" font-family=\"sans-serif\" font-size=\"12\" font-style=\"italic\" lengthAdjust=\"spacing\" textLength=\"59\" x=\"640.5\" y=\"520.1387\">«subject»</text><text fill=\"#000000\" font-family=\"sans-serif\" font-size=\"14\" lengthAdjust=\"spacing\" textLength=\"48\" x=\"646\" y=\"535.9639\">sensor</text><line style=\"stroke:#181818;stroke-width:0.5;\" x1=\"617.5\" x2=\"722.5\" y1=\"544.2656\" y2=\"544.2656\"/><text fill=\"#000000\" font-family=\"sans-serif\" font-size=\"14\" lengthAdjust=\"spacing\" textLength=\"95\" x=\"622.5\" y=\"571.7795\">^length: Real</text><text fill=\"#000000\" font-family=\"sans-serif\" font-size=\"14\" font-style=\"italic\" lengthAdjust=\"spacing\" textLength=\"65\" x=\"637.5\" y=\"556.6123\">attributes</text></g></a><!--MD5=[b9389687b975829384b498ac4b7476b2]\n",
       "class E8--><a href=\"psysml:29808fd1-abbb-4869-942b-2bc575aec69a\" target=\"_top\" title=\"psysml:29808fd1-abbb-4869-942b-2bc575aec69a\" xlink:actuate=\"onRequest\" xlink:href=\"psysml:29808fd1-abbb-4869-942b-2bc575aec69a\" xlink:show=\"new\" xlink:title=\"psysml:29808fd1-abbb-4869-942b-2bc575aec69a\" xlink:type=\"simple\"><g id=\"elem_E8\"><rect fill=\"#FFFACD\" filter=\"url(#fndkpyj6eh32w)\" height=\"45.5\" id=\"E8\" rx=\"10\" ry=\"10\" style=\"stroke:#181818;stroke-width:0.5;\" width=\"95\" x=\"705.5\" y=\"355\"/><path d=\"M719.5,360 C716.75,360 714.5,362.8 714.5,366.25 C714.5,369.7 716.75,372.5 719.5,372.5 C722.25,372.5 724.5,369.7 724.5,366.25 C724.5,362.8 722.25,360 719.5,360 M714.275,372.5 C711.625,372.625 709.5,374.8 709.5,377.5 L709.5,380 L729.5,380 L729.5,377.5 C729.5,374.8 727.4,372.625 724.725,372.5 C723.375,374.025 721.525,375 719.5,375 C717.475,375 715.625,374.025 714.275,372.5 \" fill=\"#000000\" style=\"stroke:;stroke-width:0.0;stroke-dasharray:;\"/><text fill=\"#000000\" font-family=\"sans-serif\" font-size=\"14\" lengthAdjust=\"spacing\" textLength=\"55\" x=\"734.5\" y=\"384.1982\">fire: Fire</text><line style=\"stroke:#181818;stroke-width:0.5;\" x1=\"706.5\" x2=\"799.5\" y1=\"392.5\" y2=\"392.5\"/></g></a><!--MD5=[fd4143e9d270a159db93a4ea2a975926]\n",
       "class E9--><a href=\"psysml:2e37a633-ab2f-41c3-9284-5781b5aa666d\" target=\"_top\" title=\"psysml:2e37a633-ab2f-41c3-9284-5781b5aa666d\" xlink:actuate=\"onRequest\" xlink:href=\"psysml:2e37a633-ab2f-41c3-9284-5781b5aa666d\" xlink:show=\"new\" xlink:title=\"psysml:2e37a633-ab2f-41c3-9284-5781b5aa666d\" xlink:type=\"simple\"><g id=\"elem_E9\"><rect fill=\"#FFFACD\" filter=\"url(#fndkpyj6eh32w)\" height=\"75.0813\" id=\"E9\" rx=\"10\" ry=\"10\" style=\"stroke:#181818;stroke-width:0.5;\" width=\"148\" x=\"836\" y=\"340\"/><text fill=\"#000000\" font-family=\"sans-serif\" font-size=\"12\" font-style=\"italic\" lengthAdjust=\"spacing\" textLength=\"91\" x=\"864.5\" y=\"356.1387\">«requirement»</text><text fill=\"#000000\" font-family=\"sans-serif\" font-size=\"14\" lengthAdjust=\"spacing\" textLength=\"21\" x=\"895.5\" y=\"371.9639\">obj</text><line style=\"stroke:#181818;stroke-width:0.5;\" x1=\"837\" x2=\"983\" y1=\"380.2656\" y2=\"380.2656\"/><text fill=\"#000000\" font-family=\"sans-serif\" font-size=\"14\" lengthAdjust=\"spacing\" textLength=\"136\" x=\"842\" y=\"407.7795\">Detect fires with EO</text><text fill=\"#000000\" font-family=\"sans-serif\" font-size=\"14\" font-style=\"italic\" lengthAdjust=\"spacing\" textLength=\"26\" x=\"897\" y=\"392.6123\">doc</text></g></a><!--MD5=[96f4274e9e20536e775497830990834d]\n",
       "class E10--><a href=\"psysml:ab30c223-c2b2-4be4-9b89-aa8c7e4fa873\" target=\"_top\" title=\"psysml:ab30c223-c2b2-4be4-9b89-aa8c7e4fa873\" xlink:actuate=\"onRequest\" xlink:href=\"psysml:ab30c223-c2b2-4be4-9b89-aa8c7e4fa873\" xlink:show=\"new\" xlink:title=\"psysml:ab30c223-c2b2-4be4-9b89-aa8c7e4fa873\" xlink:type=\"simple\"><g id=\"elem_E10\"><rect fill=\"#FFFACD\" filter=\"url(#fndkpyj6eh32w)\" height=\"48.2656\" id=\"E10\" style=\"stroke:#181818;stroke-width:0.5;\" width=\"99\" x=\"287.5\" y=\"353.5\"/><text fill=\"#000000\" font-family=\"sans-serif\" font-size=\"12\" font-style=\"italic\" lengthAdjust=\"spacing\" textLength=\"97\" x=\"288.5\" y=\"369.6387\">«use case  def»</text><text fill=\"#000000\" font-family=\"sans-serif\" font-size=\"14\" lengthAdjust=\"spacing\" textLength=\"56\" x=\"309\" y=\"385.4639\">Process</text><line style=\"stroke:#181818;stroke-width:0.5;\" x1=\"288.5\" x2=\"385.5\" y1=\"393.7656\" y2=\"393.7656\"/></g></a><!--MD5=[1dd1bfd58a279cf63c5f349dbc8fc6a1]\n",
       "class E11--><a href=\"psysml:39d5d16c-45fc-4091-ab29-11785bffdabd\" target=\"_top\" title=\"psysml:39d5d16c-45fc-4091-ab29-11785bffdabd\" xlink:actuate=\"onRequest\" xlink:href=\"psysml:39d5d16c-45fc-4091-ab29-11785bffdabd\" xlink:show=\"new\" xlink:title=\"psysml:39d5d16c-45fc-4091-ab29-11785bffdabd\" xlink:type=\"simple\"><g id=\"elem_E11\"><rect fill=\"#FFFACD\" filter=\"url(#fndkpyj6eh32w)\" height=\"48.2656\" id=\"E11\" rx=\"10\" ry=\"10\" style=\"stroke:#181818;stroke-width:0.5;\" width=\"61\" x=\"290.5\" y=\"517.5\"/><text fill=\"#000000\" font-family=\"sans-serif\" font-size=\"12\" font-style=\"italic\" lengthAdjust=\"spacing\" textLength=\"59\" x=\"291.5\" y=\"533.6387\">«subject»</text><text fill=\"#000000\" font-family=\"sans-serif\" font-size=\"14\" lengthAdjust=\"spacing\" textLength=\"27\" x=\"307.5\" y=\"549.4639\">dpe</text><line style=\"stroke:#181818;stroke-width:0.5;\" x1=\"291.5\" x2=\"350.5\" y1=\"557.7656\" y2=\"557.7656\"/></g></a><!--MD5=[49a0ec8f00dab7302a31f22d0f0fe584]\n",
       "class E12--><a href=\"psysml:8693d2f5-4bb2-47ff-87fd-1c4d95888db9\" target=\"_top\" title=\"psysml:8693d2f5-4bb2-47ff-87fd-1c4d95888db9\" xlink:actuate=\"onRequest\" xlink:href=\"psysml:8693d2f5-4bb2-47ff-87fd-1c4d95888db9\" xlink:show=\"new\" xlink:title=\"psysml:8693d2f5-4bb2-47ff-87fd-1c4d95888db9\" xlink:type=\"simple\"><g id=\"elem_E12\"><rect fill=\"#FFFACD\" filter=\"url(#fndkpyj6eh32w)\" height=\"72.3156\" id=\"E12\" rx=\"10\" ry=\"10\" style=\"stroke:#181818;stroke-width:0.5;\" width=\"195\" x=\"386.5\" y=\"505.5\"/><path d=\"M400.5,510.5 C397.75,510.5 395.5,513.3 395.5,516.75 C395.5,520.2 397.75,523 400.5,523 C403.25,523 405.5,520.2 405.5,516.75 C405.5,513.3 403.25,510.5 400.5,510.5 M395.275,523 C392.625,523.125 390.5,525.3 390.5,528 L390.5,530.5 L410.5,530.5 L410.5,528 C410.5,525.3 408.4,523.125 405.725,523 C404.375,524.525 402.525,525.5 400.5,525.5 C398.475,525.5 396.625,524.525 395.275,523 \" fill=\"#000000\" style=\"stroke:;stroke-width:0.0;stroke-dasharray:;\"/><text fill=\"#000000\" font-family=\"sans-serif\" font-size=\"14\" lengthAdjust=\"spacing\" textLength=\"155\" x=\"415.5\" y=\"534.6982\">sensor: Electro-optical</text><line style=\"stroke:#181818;stroke-width:0.5;\" x1=\"387.5\" x2=\"580.5\" y1=\"543\" y2=\"543\"/><text fill=\"#000000\" font-family=\"sans-serif\" font-size=\"14\" lengthAdjust=\"spacing\" textLength=\"95\" x=\"392.5\" y=\"570.5139\">^length: Real</text><text fill=\"#000000\" font-family=\"sans-serif\" font-size=\"14\" font-style=\"italic\" lengthAdjust=\"spacing\" textLength=\"65\" x=\"451.5\" y=\"555.3467\">attributes</text></g></a><!--MD5=[ee3c913d1a06f366521f9ef512b67efe]\n",
       "class E13--><a href=\"psysml:1531f9e2-6ef3-419d-8b74-d3dad6f2c774\" target=\"_top\" title=\"psysml:1531f9e2-6ef3-419d-8b74-d3dad6f2c774\" xlink:actuate=\"onRequest\" xlink:href=\"psysml:1531f9e2-6ef3-419d-8b74-d3dad6f2c774\" xlink:show=\"new\" xlink:title=\"psysml:1531f9e2-6ef3-419d-8b74-d3dad6f2c774\" xlink:type=\"simple\"><g id=\"elem_E13\"><rect fill=\"#FFFACD\" filter=\"url(#fndkpyj6eh32w)\" height=\"75.0813\" id=\"E13\" rx=\"10\" ry=\"10\" style=\"stroke:#181818;stroke-width:0.5;\" width=\"196\" x=\"59\" y=\"504\"/><text fill=\"#000000\" font-family=\"sans-serif\" font-size=\"12\" font-style=\"italic\" lengthAdjust=\"spacing\" textLength=\"91\" x=\"111.5\" y=\"520.1387\">«requirement»</text><text fill=\"#000000\" font-family=\"sans-serif\" font-size=\"14\" lengthAdjust=\"spacing\" textLength=\"21\" x=\"142.5\" y=\"535.9639\">obj</text><line style=\"stroke:#181818;stroke-width:0.5;\" x1=\"60\" x2=\"254\" y1=\"544.2656\" y2=\"544.2656\"/><text fill=\"#000000\" font-family=\"sans-serif\" font-size=\"14\" lengthAdjust=\"spacing\" textLength=\"184\" x=\"65\" y=\"571.7795\">Collect data for processing</text><text fill=\"#000000\" font-family=\"sans-serif\" font-size=\"14\" font-style=\"italic\" lengthAdjust=\"spacing\" textLength=\"26\" x=\"144\" y=\"556.6123\">doc</text></g></a><!--MD5=[0a5eafc7463fe4c3b6356fe5913c4902]\n",
       "class E21--><a href=\"psysml:29808fd1-abbb-4869-942b-2bc575aec69a\" target=\"_top\" title=\"psysml:29808fd1-abbb-4869-942b-2bc575aec69a\" xlink:actuate=\"onRequest\" xlink:href=\"psysml:29808fd1-abbb-4869-942b-2bc575aec69a\" xlink:show=\"new\" xlink:title=\"psysml:29808fd1-abbb-4869-942b-2bc575aec69a\" xlink:type=\"simple\"><g id=\"elem_E21\"><rect fill=\"#FFFACD\" filter=\"url(#fndkpyj6eh32w)\" height=\"45.5\" id=\"E21\" rx=\"10\" ry=\"10\" style=\"stroke:#181818;stroke-width:0.5;\" width=\"107\" x=\"995.5\" y=\"244.5\"/><path d=\"M1009.5,249.5 C1006.75,249.5 1004.5,252.3 1004.5,255.75 C1004.5,259.2 1006.75,262 1009.5,262 C1012.25,262 1014.5,259.2 1014.5,255.75 C1014.5,252.3 1012.25,249.5 1009.5,249.5 M1004.275,262 C1001.625,262.125 999.5,264.3 999.5,267 L999.5,269.5 L1019.5,269.5 L1019.5,267 C1019.5,264.3 1017.4,262.125 1014.725,262 C1013.375,263.525 1011.525,264.5 1009.5,264.5 C1007.475,264.5 1005.625,263.525 1004.275,262 \" fill=\"#000000\" style=\"stroke:;stroke-width:0.0;stroke-dasharray:;\"/><text fill=\"#000000\" font-family=\"sans-serif\" font-size=\"14\" lengthAdjust=\"spacing\" textLength=\"67\" x=\"1024.5\" y=\"273.6982\">^fire: Fire</text><line style=\"stroke:#181818;stroke-width:0.5;\" x1=\"996.5\" x2=\"1101.5\" y1=\"282\" y2=\"282\"/></g></a><g id=\"elem_E16\"><path d=\"M388,49 L388,89.2656 L658,89.2656 L658,59 L648,49 L388,49 \" fill=\"#FEFFDD\" filter=\"url(#fndkpyj6eh32w)\" style=\"stroke:#181818;stroke-width:0.5;\"/><path d=\"M648,49 L648,59 L658,59 L648,49 \" fill=\"#FEFFDD\" style=\"stroke:#181818;stroke-width:1.0;\"/><a href=\"psysml:5a4bebeb-8c72-440d-bd5e-db5352d6c856\" target=\"_top\" title=\"psysml:5a4bebeb-8c72-440d-bd5e-db5352d6c856\" xlink:actuate=\"onRequest\" xlink:href=\"psysml:5a4bebeb-8c72-440d-bd5e-db5352d6c856\" xlink:show=\"new\" xlink:title=\"psysml:5a4bebeb-8c72-440d-bd5e-db5352d6c856\" xlink:type=\"simple\"><text fill=\"#0000FF\" font-family=\"sans-serif\" font-size=\"13\" lengthAdjust=\"spacing\" text-decoration=\"underline\" textLength=\"13\" x=\"394\" y=\"66.0669\">@</text></a><text fill=\"#000000\" font-family=\"sans-serif\" font-size=\"13\" lengthAdjust=\"spacing\" textLength=\"236\" x=\"407\" y=\"66.0669\">The starting snapshot of a Use Case.</text><text fill=\"#000000\" font-family=\"sans-serif\" font-size=\"13\" lengthAdjust=\"spacing\" textLength=\"4\" x=\"394\" y=\"81.1997\"> </text></g><g id=\"elem_E19\"><path d=\"M48,365 L48,390.1328 A0,0 0 0 0 48,390.1328 L146.5,390.1328 L155.41,503.74 L154.5,390.1328 L252,390.1328 A0,0 0 0 0 252,390.1328 L252,375 L242,365 L48,365 A0,0 0 0 0 48,365 \" fill=\"#FEFFDD\" filter=\"url(#fndkpyj6eh32w)\" style=\"stroke:#181818;stroke-width:0.5;\"/><path d=\"M242,365 L242,375 L252,375 L242,365 \" fill=\"#FEFFDD\" style=\"stroke:#181818;stroke-width:0.5;\"/><a href=\"psysml:3797a0c0-84b5-4cf2-9d23-8a04d7812855\" target=\"_top\" title=\"psysml:3797a0c0-84b5-4cf2-9d23-8a04d7812855\" xlink:actuate=\"onRequest\" xlink:href=\"psysml:3797a0c0-84b5-4cf2-9d23-8a04d7812855\" xlink:show=\"new\" xlink:title=\"psysml:3797a0c0-84b5-4cf2-9d23-8a04d7812855\" xlink:type=\"simple\"><text fill=\"#0000FF\" font-family=\"sans-serif\" font-size=\"13\" lengthAdjust=\"spacing\" text-decoration=\"underline\" textLength=\"13\" x=\"54\" y=\"382.0669\">@</text></a><text fill=\"#000000\" font-family=\"sans-serif\" font-size=\"13\" lengthAdjust=\"spacing\" textLength=\"170\" x=\"67\" y=\"382.0669\">Collect data for processing</text></g><g id=\"elem_E20\"><path d=\"M801.5,254.5 L801.5,279.6328 A0,0 0 0 0 801.5,279.6328 L880.1,279.6328 L900.12,339.52 L888.1,279.6328 L960.5,279.6328 A0,0 0 0 0 960.5,279.6328 L960.5,264.5 L950.5,254.5 L801.5,254.5 A0,0 0 0 0 801.5,254.5 \" fill=\"#FEFFDD\" filter=\"url(#fndkpyj6eh32w)\" style=\"stroke:#181818;stroke-width:0.5;\"/><path d=\"M950.5,254.5 L950.5,264.5 L960.5,264.5 L950.5,254.5 \" fill=\"#FEFFDD\" style=\"stroke:#181818;stroke-width:0.5;\"/><a href=\"psysml:eea7fdbe-9f36-46d4-9a09-f63ab927f429\" target=\"_top\" title=\"psysml:eea7fdbe-9f36-46d4-9a09-f63ab927f429\" xlink:actuate=\"onRequest\" xlink:href=\"psysml:eea7fdbe-9f36-46d4-9a09-f63ab927f429\" xlink:show=\"new\" xlink:title=\"psysml:eea7fdbe-9f36-46d4-9a09-f63ab927f429\" xlink:type=\"simple\"><text fill=\"#0000FF\" font-family=\"sans-serif\" font-size=\"13\" lengthAdjust=\"spacing\" text-decoration=\"underline\" textLength=\"13\" x=\"807.5\" y=\"271.5669\">@</text></a><text fill=\"#000000\" font-family=\"sans-serif\" font-size=\"13\" lengthAdjust=\"spacing\" textLength=\"125\" x=\"820.5\" y=\"271.5669\">Detect fires with EO</text></g><!--MD5=[09b614a08d8cba4a07c9adeb5e0fee81]\n",
       "class E3--><a href=\"psysml:2052369e-3f08-4574-bada-33f4f6e539e5\" target=\"_top\" title=\"psysml:2052369e-3f08-4574-bada-33f4f6e539e5\" xlink:actuate=\"onRequest\" xlink:href=\"psysml:2052369e-3f08-4574-bada-33f4f6e539e5\" xlink:show=\"new\" xlink:title=\"psysml:2052369e-3f08-4574-bada-33f4f6e539e5\" xlink:type=\"simple\"><g id=\"elem_E3\"><rect fill=\"#FFFACD\" filter=\"url(#fndkpyj6eh32w)\" height=\"48.2656\" id=\"E3\" rx=\"10\" ry=\"10\" style=\"stroke:#181818;stroke-width:0.5;\" width=\"97\" x=\"519.5\" y=\"687\"/><text fill=\"#000000\" font-family=\"sans-serif\" font-size=\"12\" font-style=\"italic\" lengthAdjust=\"spacing\" textLength=\"69\" x=\"533.5\" y=\"703.1387\">«attribute»</text><text fill=\"#000000\" font-family=\"sans-serif\" font-size=\"14\" lengthAdjust=\"spacing\" textLength=\"83\" x=\"522.5\" y=\"718.9639\">length: Real</text><line style=\"stroke:#181818;stroke-width:0.5;\" x1=\"520.5\" x2=\"615.5\" y1=\"727.2656\" y2=\"727.2656\"/></g></a><g><a href=\"psysml:0e45ecf6-5793-4c1a-8abf-a6291643a769\" target=\"_top\" title=\"psysml:0e45ecf6-5793-4c1a-8abf-a6291643a769\" xlink:actuate=\"onRequest\" xlink:href=\"psysml:0e45ecf6-5793-4c1a-8abf-a6291643a769\" xlink:show=\"new\" xlink:title=\"psysml:0e45ecf6-5793-4c1a-8abf-a6291643a769\" xlink:type=\"simple\"><rect fill=\"#FFFACD\" filter=\"url(#fndkpyj6eh32w)\" height=\"45.2656\" id=\"E4\" style=\"stroke:#A80036;stroke-width:1.5;\" width=\"75\" x=\"141.5\" y=\"688.5\"/><text fill=\"#000000\" font-family=\"sans-serif\" font-size=\"12\" font-style=\"italic\" lengthAdjust=\"spacing\" textLength=\"68\" x=\"145\" y=\"704.6387\">«part  def»</text><text fill=\"#000000\" font-family=\"sans-serif\" font-size=\"14\" font-style=\"italic\" lengthAdjust=\"spacing\" textLength=\"43\" x=\"157.5\" y=\"720.4639\">C&amp;DH</text></a></g><g><a href=\"psysml:3bb38663-247c-4aa1-9f1d-ccda7c176b72\" target=\"_top\" title=\"psysml:3bb38663-247c-4aa1-9f1d-ccda7c176b72\" xlink:actuate=\"onRequest\" xlink:href=\"psysml:3bb38663-247c-4aa1-9f1d-ccda7c176b72\" xlink:show=\"new\" xlink:title=\"psysml:3bb38663-247c-4aa1-9f1d-ccda7c176b72\" xlink:type=\"simple\"><rect fill=\"#FFFACD\" filter=\"url(#fndkpyj6eh32w)\" height=\"45.2656\" id=\"E5\" style=\"stroke:#A80036;stroke-width:1.5;\" width=\"75\" x=\"877.5\" y=\"519\"/><text fill=\"#000000\" font-family=\"sans-serif\" font-size=\"12\" font-style=\"italic\" lengthAdjust=\"spacing\" textLength=\"68\" x=\"881\" y=\"535.1387\">«part  def»</text><text fill=\"#000000\" font-family=\"sans-serif\" font-size=\"14\" lengthAdjust=\"spacing\" textLength=\"25\" x=\"902.5\" y=\"550.9639\">Fire</text></a></g><!--MD5=[e3af68e2095dcd46cf4beab32f25c64b]\n",
       "class E18--><a href=\"psysml:97baacfd-e991-4434-89da-5568b869a3de\" target=\"_top\" title=\"psysml:97baacfd-e991-4434-89da-5568b869a3de\" xlink:actuate=\"onRequest\" xlink:href=\"psysml:97baacfd-e991-4434-89da-5568b869a3de\" xlink:show=\"new\" xlink:title=\"psysml:97baacfd-e991-4434-89da-5568b869a3de\" xlink:type=\"simple\"><g id=\"elem_E18\"><rect fill=\"#FFFACD\" filter=\"url(#fndkpyj6eh32w)\" height=\"107.1313\" id=\"E18\" rx=\"10\" ry=\"10\" style=\"stroke:#181818;stroke-width:0.5;\" width=\"139\" x=\"453.5\" y=\"324\"/><path d=\"M493,329 C490.25,329 488,331.8 488,335.25 C488,338.7 490.25,341.5 493,341.5 C495.75,341.5 498,338.7 498,335.25 C498,331.8 495.75,329 493,329 M487.775,341.5 C485.125,341.625 483,343.8 483,346.5 L483,349 L503,349 L503,346.5 C503,343.8 500.9,341.625 498.225,341.5 C496.875,343.025 495.025,344 493,344 C490.975,344 489.125,343.025 487.775,341.5 \" fill=\"#000000\" style=\"stroke:;stroke-width:0.0;stroke-dasharray:;\"/><text fill=\"#000000\" font-family=\"sans-serif\" font-size=\"14\" lengthAdjust=\"spacing\" textLength=\"48\" x=\"508\" y=\"353.1982\">sensor</text><line style=\"stroke:#181818;stroke-width:0.5;\" x1=\"454.5\" x2=\"591.5\" y1=\"361.5\" y2=\"361.5\"/><text fill=\"#000000\" font-family=\"sans-serif\" font-size=\"14\" lengthAdjust=\"spacing\" textLength=\"95\" x=\"459.5\" y=\"389.0139\">^length: Real</text><text fill=\"#000000\" font-family=\"sans-serif\" font-size=\"14\" font-style=\"italic\" lengthAdjust=\"spacing\" textLength=\"65\" x=\"490.5\" y=\"373.8467\">attributes</text><line style=\"stroke:#181818;stroke-width:1.0;\" x1=\"454.5\" x2=\"591.5\" y1=\"396.3156\" y2=\"396.3156\"/><text fill=\"#000000\" font-family=\"sans-serif\" font-size=\"14\" lengthAdjust=\"spacing\" textLength=\"127\" x=\"459.5\" y=\"423.8295\">= 'Collect'::sensor</text><text fill=\"#000000\" font-family=\"sans-serif\" font-size=\"14\" font-style=\"italic\" lengthAdjust=\"spacing\" textLength=\"44\" x=\"501\" y=\"408.6623\">values</text></g></a><g><a href=\"psysml:8507a333-e9b7-5591-9b15-57b03c67f53e\" target=\"_top\" title=\"psysml:8507a333-e9b7-5591-9b15-57b03c67f53e\" xlink:actuate=\"onRequest\" xlink:href=\"psysml:8507a333-e9b7-5591-9b15-57b03c67f53e\" xlink:show=\"new\" xlink:title=\"psysml:8507a333-e9b7-5591-9b15-57b03c67f53e\" xlink:type=\"simple\"><rect fill=\"#FFFACD\" filter=\"url(#fndkpyj6eh32w)\" height=\"45.2656\" id=\"E15\" rx=\"10\" ry=\"10\" style=\"stroke:#A80036;stroke-width:1.5;\" width=\"121\" x=\"462.5\" y=\"181\"/><text fill=\"#000000\" font-family=\"sans-serif\" font-size=\"12\" font-style=\"italic\" lengthAdjust=\"spacing\" textLength=\"69\" x=\"488.5\" y=\"197.1387\">«use case»</text><text fill=\"#000000\" font-family=\"sans-serif\" font-size=\"14\" lengthAdjust=\"spacing\" textLength=\"102\" x=\"468\" y=\"212.9639\">start: UseCase</text></a></g><g><a href=\"psysml:16493df1-2c7e-46ec-8ebd-07a03d59d604\" target=\"_top\" title=\"psysml:16493df1-2c7e-46ec-8ebd-07a03d59d604\" xlink:actuate=\"onRequest\" xlink:href=\"psysml:16493df1-2c7e-46ec-8ebd-07a03d59d604\" xlink:show=\"new\" xlink:title=\"psysml:16493df1-2c7e-46ec-8ebd-07a03d59d604\" xlink:type=\"simple\"><rect fill=\"#FFFACD\" filter=\"url(#fndkpyj6eh32w)\" height=\"45.2656\" id=\"E17\" rx=\"10\" ry=\"10\" style=\"stroke:#A80036;stroke-width:1.5;\" width=\"176\" x=\"435\" y=\"244.5\"/><text fill=\"#000000\" font-family=\"sans-serif\" font-size=\"12\" font-style=\"italic\" lengthAdjust=\"spacing\" textLength=\"69\" x=\"488.5\" y=\"260.6387\">«use case»</text><text fill=\"#000000\" font-family=\"sans-serif\" font-size=\"14\" lengthAdjust=\"spacing\" textLength=\"157\" x=\"440.5\" y=\"276.4639\">Process Data: Process</text></a></g><!--MD5=[1f1cd8e6dd4c1b2ca2aaccc9b9bcea6e]\n",
       "link E1 to E2--><g id=\"link_E1_E2\"><a href=\"psysml:825f4890-8f81-4c87-83a5-68b519ba344b\" target=\"_top\" title=\"psysml:825f4890-8f81-4c87-83a5-68b519ba344b\" xlink:actuate=\"onRequest\" xlink:href=\"psysml:825f4890-8f81-4c87-83a5-68b519ba344b\" xlink:show=\"new\" xlink:title=\"psysml:825f4890-8f81-4c87-83a5-68b519ba344b\" xlink:type=\"simple\"><path d=\"M23.99,542.57 C23.73,544.09 19.8,568.52 32,579 C42.47,588 142.58,583.75 156,587 C174.38,591.45 176.55,599.88 195,604 C210.46,607.45 468.73,600.87 480,612 C483.8162,615.7688 486.7539,620.0938 488.9714,624.7811 C489.2486,625.367 489.5145,625.9585 489.7695,626.5554 C489.897,626.8538 490.0218,627.1536 490.1438,627.4546 C490.2049,627.6051 490.2652,627.7559 490.3249,627.9071 \" fill=\"none\" id=\"E1-to-E2\" style=\"stroke:#181818;stroke-width:1.0;stroke-dasharray:7.0,7.0;\"/><polygon fill=\"#181818\" points=\"490.3249,627.9071,490.7395,618.067,488.4884,623.2566,483.2987,621.0054,490.3249,627.9071\" style=\"stroke:#181818;stroke-width:1.0;\"/><text fill=\"#000000\" font-family=\"sans-serif\" font-size=\"13\" lengthAdjust=\"spacing\" textLength=\"58\" x=\"196\" y=\"600.0669\">«import»</text></a></g><!--MD5=[ee384bb554873b72f85793eae40e290c]\n",
       "link E1 to E4--><g id=\"link_E1_E4\"><a href=\"psysml:93762670-058b-466e-9975-1528a06532f7\" target=\"_top\" title=\"psysml:93762670-058b-466e-9975-1528a06532f7\" xlink:actuate=\"onRequest\" xlink:href=\"psysml:93762670-058b-466e-9975-1528a06532f7\" xlink:show=\"new\" xlink:title=\"psysml:93762670-058b-466e-9975-1528a06532f7\" xlink:type=\"simple\"><path d=\"M24,542.56 C23.98,543.88 23.88,565.11 32,579 C58.43,624.18 105.84,662.18 139.67,685.43 \" fill=\"none\" id=\"E1-to-E4\" style=\"stroke:#181818;stroke-width:1.0;stroke-dasharray:7.0,7.0;\"/><polygon fill=\"#181818\" points=\"144.14,688.47,138.9564,680.0956,140.0086,685.6538,134.4504,686.7059,144.14,688.47\" style=\"stroke:#181818;stroke-width:1.0;\"/><text fill=\"#000000\" font-family=\"sans-serif\" font-size=\"13\" lengthAdjust=\"spacing\" textLength=\"58\" x=\"47\" y=\"600.0669\">«import»</text></a></g><!--MD5=[3f50a3473f1dfb74d3f76443e03635af]\n",
       "reverse link E6 to E7--><g id=\"link_E6_E7\"><a href=\"psysml:a5ede298-00c8-449a-9f9e-dc94967bc3e9\" target=\"_top\" title=\"psysml:a5ede298-00c8-449a-9f9e-dc94967bc3e9\" xlink:actuate=\"onRequest\" xlink:href=\"psysml:a5ede298-00c8-449a-9f9e-dc94967bc3e9\" xlink:show=\"new\" xlink:title=\"psysml:a5ede298-00c8-449a-9f9e-dc94967bc3e9\" xlink:type=\"simple\"><path d=\"M696.31,302.82 C693.03,309.65 690.05,316.9 688,324 C670.36,385.25 668.17,459.98 668.71,503.7 \" fill=\"none\" id=\"E6-backto-E7\" style=\"stroke:#181818;stroke-width:1.0;\"/><polygon fill=\"none\" points=\"702.41,291.12,696.0884,294.5895,696.8597,301.7593,703.1812,298.2897,702.41,291.12\" style=\"stroke:#181818;stroke-width:1.0;\"/><text fill=\"#000000\" font-family=\"sans-serif\" font-size=\"13\" lengthAdjust=\"spacing\" textLength=\"7\" x=\"660.8867\" y=\"492.9854\">*</text></a></g><!--MD5=[583832df87f4419a098336a29a52fa00]\n",
       "link E7 to E2--><g id=\"link_E7_E2\"><a href=\"psysml:64863d11-d1bc-4791-8395-4d86bf0bc4fe\" target=\"_top\" title=\"psysml:64863d11-d1bc-4791-8395-4d86bf0bc4fe\" xlink:actuate=\"onRequest\" xlink:href=\"psysml:64863d11-d1bc-4791-8395-4d86bf0bc4fe\" xlink:show=\"new\" xlink:title=\"psysml:64863d11-d1bc-4791-8395-4d86bf0bc4fe\" xlink:type=\"simple\"><path d=\"M616.49,571.01 C610.64,573.83 604.73,576.54 599,579 C557.91,596.59 533.44,578.36 504,612 C500.3975,616.1163 497.3788,620.7033 494.8546,625.5829 C494.5391,626.1929 494.2313,626.8074 493.9311,627.4261 C493.856,627.5808 493.7815,627.7358 493.7073,627.891 \" fill=\"none\" id=\"E7-to-E2\" style=\"stroke:#181818;stroke-width:1.0;\"/><polygon fill=\"#FFFFFF\" points=\"493.7073,627.891,495.578,607.7291,508.2115,613.7619,493.7073,627.891\" style=\"stroke:#181818;stroke-width:1.0;\"/><ellipse cx=\"499.839\" cy=\"603.4473\" fill=\"#181818\" rx=\"2\" ry=\"2\" style=\"stroke:#181818;stroke-width:1.0;\"/><ellipse cx=\"508.8629\" cy=\"607.7565\" fill=\"#181818\" rx=\"2\" ry=\"2\" style=\"stroke:#181818;stroke-width:1.0;\"/></a></g><!--MD5=[0a839d0f80c2d72d4b9b307f046d0de8]\n",
       "link E6 to E8--><g id=\"link_E6_E8\"><a href=\"psysml:4499da1c-187f-44fd-a842-48e866d53bec\" target=\"_top\" title=\"psysml:4499da1c-187f-44fd-a842-48e866d53bec\" xlink:actuate=\"onRequest\" xlink:href=\"psysml:4499da1c-187f-44fd-a842-48e866d53bec\" xlink:show=\"new\" xlink:title=\"psysml:4499da1c-187f-44fd-a842-48e866d53bec\" xlink:type=\"simple\"><path d=\"M724.63,291.01 C730.91,309.92 739.73,336.51 745.87,355 \" fill=\"none\" id=\"E6-E8\" style=\"stroke:#181818;stroke-width:1.0;\"/><text fill=\"#000000\" font-family=\"sans-serif\" font-size=\"13\" lengthAdjust=\"spacing\" textLength=\"8\" x=\"734.8788\" y=\"343.9551\">1</text></a></g><!--MD5=[1ccb2481ffa92f8d51a74ee30c51832a]\n",
       "link E8 to E5--><g id=\"link_E8_E5\"><a href=\"psysml:a1381aed-20ec-472b-b235-ddbd8dc78bc3\" target=\"_top\" title=\"psysml:a1381aed-20ec-472b-b235-ddbd8dc78bc3\" xlink:actuate=\"onRequest\" xlink:href=\"psysml:a1381aed-20ec-472b-b235-ddbd8dc78bc3\" xlink:show=\"new\" xlink:title=\"psysml:a1381aed-20ec-472b-b235-ddbd8dc78bc3\" xlink:type=\"simple\"><path d=\"M765.65,400.2 C777.8,419.97 797.45,449.3 819,471 C832.03,484.12 847.73,496.59 862.64,507.25 \" fill=\"none\" id=\"E8-to-E5\" style=\"stroke:#181818;stroke-width:1.0;\"/><polygon fill=\"#FFFFFF\" points=\"879.55,518.86,859.9264,513.8686,867.8553,502.3302,879.55,518.86\" style=\"stroke:#181818;stroke-width:1.0;\"/><ellipse cx=\"856.3613\" cy=\"508.9921\" fill=\"#181818\" rx=\"2\" ry=\"2\" style=\"stroke:#181818;stroke-width:1.0;\"/><ellipse cx=\"862.0248\" cy=\"500.7504\" fill=\"#181818\" rx=\"2\" ry=\"2\" style=\"stroke:#181818;stroke-width:1.0;\"/></a></g><!--MD5=[8ae21a5272e5f5a2f0d855d545cbd16c]\n",
       "link E6 to E9--><g id=\"link_E6_E9\"><a href=\"psysml:f9c97cc4-687a-41e9-96fa-57592f7cbcfa\" target=\"_top\" title=\"psysml:f9c97cc4-687a-41e9-96fa-57592f7cbcfa\" xlink:actuate=\"onRequest\" xlink:href=\"psysml:f9c97cc4-687a-41e9-96fa-57592f7cbcfa\" xlink:show=\"new\" xlink:title=\"psysml:f9c97cc4-687a-41e9-96fa-57592f7cbcfa\" xlink:type=\"simple\"><path d=\"M758.83,291.04 C777.04,301.11 798.6,313.09 818,324 C824.85,327.85 831.98,331.89 839.1,335.93 \" fill=\"none\" id=\"E6-to-E9\" style=\"stroke:#181818;stroke-width:1.0;\"/><polygon fill=\"#181818\" points=\"846.21,339.97,840.7394,333.407,837.7729,338.6224,846.21,339.97\" style=\"stroke:#181818;stroke-width:1.0;\"/><text fill=\"#000000\" font-family=\"sans-serif\" font-size=\"13\" lengthAdjust=\"spacing\" textLength=\"73\" x=\"802\" y=\"312.0669\">«objective»</text><text fill=\"#000000\" font-family=\"sans-serif\" font-size=\"13\" lengthAdjust=\"spacing\" textLength=\"7\" x=\"827.224\" y=\"329.0205\">*</text></a></g><!--MD5=[de308be4a2431766a05a907a031c07fc]\n",
       "reverse link E10 to E11--><g id=\"link_E10_E11\"><a href=\"psysml:f3551d06-7d98-4fd3-a592-c0a35b5281d9\" target=\"_top\" title=\"psysml:f3551d06-7d98-4fd3-a592-c0a35b5281d9\" xlink:actuate=\"onRequest\" xlink:href=\"psysml:f3551d06-7d98-4fd3-a592-c0a35b5281d9\" xlink:show=\"new\" xlink:title=\"psysml:f3551d06-7d98-4fd3-a592-c0a35b5281d9\" xlink:type=\"simple\"><path d=\"M333.43,414.68 C330.33,446.06 325.94,490.52 323.29,517.33 \" fill=\"none\" id=\"E10-backto-E11\" style=\"stroke:#181818;stroke-width:1.0;\"/><polygon fill=\"none\" points=\"334.71,401.71,330.1426,407.2902,333.5368,413.6525,338.1043,408.0723,334.71,401.71\" style=\"stroke:#181818;stroke-width:1.0;\"/><text fill=\"#000000\" font-family=\"sans-serif\" font-size=\"13\" lengthAdjust=\"spacing\" textLength=\"7\" x=\"315.9799\" y=\"506.2644\">*</text></a></g><!--MD5=[ec94bbf1cc51e764a85f513ca72c9175]\n",
       "link E11 to E4--><g id=\"link_E11_E4\"><a href=\"psysml:75324f2b-674c-4dd3-b602-e595fa58eb7f\" target=\"_top\" title=\"psysml:75324f2b-674c-4dd3-b602-e595fa58eb7f\" xlink:actuate=\"onRequest\" xlink:href=\"psysml:75324f2b-674c-4dd3-b602-e595fa58eb7f\" xlink:show=\"new\" xlink:title=\"psysml:75324f2b-674c-4dd3-b602-e595fa58eb7f\" xlink:type=\"simple\"><path d=\"M301.26,565.79 C277.76,593.5 238.24,640.12 210.51,672.83 \" fill=\"none\" id=\"E11-to-E4\" style=\"stroke:#181818;stroke-width:1.0;\"/><polygon fill=\"#FFFFFF\" points=\"197.23,688.5,204.1728,669.479,214.8537,678.5298,197.23,688.5\" style=\"stroke:#181818;stroke-width:1.0;\"/><ellipse cx=\"209.3836\" cy=\"666.4233\" fill=\"#181818\" rx=\"2\" ry=\"2\" style=\"stroke:#181818;stroke-width:1.0;\"/><ellipse cx=\"217.0128\" cy=\"672.8882\" fill=\"#181818\" rx=\"2\" ry=\"2\" style=\"stroke:#181818;stroke-width:1.0;\"/></a></g><!--MD5=[85af87334fb406f01a086f77fc918faa]\n",
       "link E10 to E12--><g id=\"link_E10_E12\"><a href=\"psysml:259ffe08-869e-44ca-ae4f-4480ce0fa730\" target=\"_top\" title=\"psysml:259ffe08-869e-44ca-ae4f-4480ce0fa730\" xlink:actuate=\"onRequest\" xlink:href=\"psysml:259ffe08-869e-44ca-ae4f-4480ce0fa730\" xlink:show=\"new\" xlink:title=\"psysml:259ffe08-869e-44ca-ae4f-4480ce0fa730\" xlink:type=\"simple\"><path d=\"M357.39,401.84 C373.88,420.64 397.76,447.67 419,471 C429.23,482.24 440.51,494.37 450.75,505.31 \" fill=\"none\" id=\"E10-E12\" style=\"stroke:#181818;stroke-width:1.0;\"/><text fill=\"#000000\" font-family=\"sans-serif\" font-size=\"13\" lengthAdjust=\"spacing\" textLength=\"8\" x=\"435.882\" y=\"494.3047\">1</text></a></g><!--MD5=[63c6921440a4d507355e031c43f22191]\n",
       "link E12 to E2--><g id=\"link_E12_E2\"><a href=\"psysml:a1b880b9-bb65-4f2b-b60d-5e774ed3f214\" target=\"_top\" title=\"psysml:a1b880b9-bb65-4f2b-b60d-5e774ed3f214\" xlink:actuate=\"onRequest\" xlink:href=\"psysml:a1b880b9-bb65-4f2b-b60d-5e774ed3f214\" xlink:show=\"new\" xlink:title=\"psysml:a1b880b9-bb65-4f2b-b60d-5e774ed3f214\" xlink:type=\"simple\"><path d=\"M484,577.61 C484,589.6975 484,603.8538 484,618.3284 C484,620.1378 484,621.9521 484,623.768 C484,624.6759 484,625.5842 484,626.4925 C484,626.9466 484,627.4008 484,627.8548 \" fill=\"none\" id=\"E12-to-E2\" style=\"stroke:#181818;stroke-width:1.0;\"/><polygon fill=\"#FFFFFF\" points=\"484,627.8548,477,608.8548,491,608.8548,484,627.8548\" style=\"stroke:#181818;stroke-width:1.0;\"/><ellipse cx=\"479\" cy=\"603.1548\" fill=\"#181818\" rx=\"2\" ry=\"2\" style=\"stroke:#181818;stroke-width:1.0;\"/><ellipse cx=\"489\" cy=\"603.1548\" fill=\"#181818\" rx=\"2\" ry=\"2\" style=\"stroke:#181818;stroke-width:1.0;\"/></a></g><!--MD5=[74b78f105e346754c1f4f010190a9055]\n",
       "link E10 to E13--><g id=\"link_E10_E13\"><a href=\"psysml:6f620924-b4a4-4e74-a1ec-7aef7f47f043\" target=\"_top\" title=\"psysml:6f620924-b4a4-4e74-a1ec-7aef7f47f043\" xlink:actuate=\"onRequest\" xlink:href=\"psysml:6f620924-b4a4-4e74-a1ec-7aef7f47f043\" xlink:show=\"new\" xlink:title=\"psysml:6f620924-b4a4-4e74-a1ec-7aef7f47f043\" xlink:type=\"simple\"><path d=\"M325.91,401.69 C314.67,422.78 295.33,453.25 270,471 C259.4,478.43 253.64,473.34 242,479 C230.47,484.6 218.85,491.78 208.07,499.23 \" fill=\"none\" id=\"E10-to-E13\" style=\"stroke:#181818;stroke-width:1.0;\"/><polygon fill=\"#181818\" points=\"201.47,503.9,209.7345,501.7325,206.2714,496.8327,201.47,503.9\" style=\"stroke:#181818;stroke-width:1.0;\"/><text fill=\"#000000\" font-family=\"sans-serif\" font-size=\"13\" lengthAdjust=\"spacing\" textLength=\"73\" x=\"243\" y=\"492.0669\">«objective»</text><text fill=\"#000000\" font-family=\"sans-serif\" font-size=\"13\" lengthAdjust=\"spacing\" textLength=\"7\" x=\"201.7678\" y=\"492.938\">*</text></a></g><!--MD5=[2598fb0b9191ca13b1666c305f5c9efb]\n",
       "link E14 to E6--><g id=\"link_E14_E6\"><a href=\"psysml:2727bc1b-0be8-40c6-adfe-c473b86241ce\" target=\"_top\" title=\"psysml:2727bc1b-0be8-40c6-adfe-c473b86241ce\" xlink:actuate=\"onRequest\" xlink:href=\"psysml:2727bc1b-0be8-40c6-adfe-c473b86241ce\" xlink:show=\"new\" xlink:title=\"psysml:2727bc1b-0be8-40c6-adfe-c473b86241ce\" xlink:type=\"simple\"><path d=\"M643.0223,210.5175 C643.3726,210.7803 643.7322,211.0502 644.1009,211.3268 C644.8382,211.8801 645.6116,212.4603 646.4175,213.065 C652.865,217.9025 661.4,224.305 670.3,230.98 \" fill=\"none\" id=\"E14-to-E6\" style=\"stroke:#181818;stroke-width:1.0;\"/><polygon fill=\"#FFFFFF\" points=\"686.32,242.99,666.92,237.19,675.32,225.99,686.32,242.99\" style=\"stroke:#181818;stroke-width:1.0;\"/><ellipse cx=\"663.56\" cy=\"232.17\" fill=\"#181818\" rx=\"2\" ry=\"2\" style=\"stroke:#181818;stroke-width:1.0;\"/><ellipse cx=\"669.56\" cy=\"224.17\" fill=\"#181818\" rx=\"2\" ry=\"2\" style=\"stroke:#181818;stroke-width:1.0;\"/></a></g><!--MD5=[144d67fd406938092dd8d8678ea30d38]\n",
       "link E16 to E15--><g id=\"link_E16_E15\"><a href=\"psysml:5a4bebeb-8c72-440d-bd5e-db5352d6c856\" target=\"_top\" title=\"psysml:5a4bebeb-8c72-440d-bd5e-db5352d6c856\" xlink:actuate=\"onRequest\" xlink:href=\"psysml:5a4bebeb-8c72-440d-bd5e-db5352d6c856\" xlink:show=\"new\" xlink:title=\"psysml:5a4bebeb-8c72-440d-bd5e-db5352d6c856\" xlink:type=\"simple\"><path d=\"M523,89.27 C523,113.53 523,155.1 523,180.56 \" fill=\"none\" id=\"E16-E15\" style=\"stroke:#181818;stroke-width:1.0;stroke-dasharray:7.0,7.0;\"/></a></g><!--MD5=[8645c7382a240ed0fd5d9e552b2bdf5c]\n",
       "link E15 to E17--><g id=\"link_E15_E17\"><a href=\"psysml:8dadd745-c597-415b-b07f-a4a99a073508\" target=\"_top\" title=\"psysml:8dadd745-c597-415b-b07f-a4a99a073508\" xlink:actuate=\"onRequest\" xlink:href=\"psysml:8dadd745-c597-415b-b07f-a4a99a073508\" xlink:show=\"new\" xlink:title=\"psysml:8dadd745-c597-415b-b07f-a4a99a073508\" xlink:type=\"simple\"><path d=\"M523,226.01 C523,230.29 523,234.84 523,239.27 \" fill=\"none\" id=\"E15-to-E17\" style=\"stroke:#181818;stroke-width:1.0;\"/><polygon fill=\"#181818\" points=\"523,244.4,527,235.4,523,239.4,519,235.4,523,244.4\" style=\"stroke:#181818;stroke-width:1.0;\"/><text fill=\"#000000\" font-family=\"sans-serif\" font-size=\"13\" lengthAdjust=\"spacing\" textLength=\"7\" x=\"513.4287\" y=\"233.4116\">*</text></a></g><!--MD5=[3a1f732d5793f570be99169797563679]\n",
       "link E17 to E10--><g id=\"link_E17_E10\"><a href=\"psysml:8d45f659-77d6-4c3b-9f42-26cd36cddf16\" target=\"_top\" title=\"psysml:8d45f659-77d6-4c3b-9f42-26cd36cddf16\" xlink:actuate=\"onRequest\" xlink:href=\"psysml:8d45f659-77d6-4c3b-9f42-26cd36cddf16\" xlink:show=\"new\" xlink:title=\"psysml:8d45f659-77d6-4c3b-9f42-26cd36cddf16\" xlink:type=\"simple\"><path d=\"M481.35,289.5 C462.18,299.64 439.24,312.1 419,324 C409.17,329.79 398.82,336.17 388.91,342.43 \" fill=\"none\" id=\"E17-to-E10\" style=\"stroke:#181818;stroke-width:1.0;\"/><polygon fill=\"#FFFFFF\" points=\"371.75,353.43,383.9658,337.2815,391.5228,349.0668,371.75,353.43\" style=\"stroke:#181818;stroke-width:1.0;\"/><ellipse cx=\"389.8437\" cy=\"335.8883\" fill=\"#181818\" rx=\"2\" ry=\"2\" style=\"stroke:#181818;stroke-width:1.0;\"/><ellipse cx=\"395.2415\" cy=\"344.3064\" fill=\"#181818\" rx=\"2\" ry=\"2\" style=\"stroke:#181818;stroke-width:1.0;\"/></a></g><!--MD5=[76e3f79ad14d2ca899e701cdb7f2bb08]\n",
       "link E17 to E18--><g id=\"link_E17_E18\"><a href=\"psysml:a422db99-07f9-46f7-91ac-bd1561dfff0e\" target=\"_top\" title=\"psysml:a422db99-07f9-46f7-91ac-bd1561dfff0e\" xlink:actuate=\"onRequest\" xlink:href=\"psysml:a422db99-07f9-46f7-91ac-bd1561dfff0e\" xlink:show=\"new\" xlink:title=\"psysml:a422db99-07f9-46f7-91ac-bd1561dfff0e\" xlink:type=\"simple\"><path d=\"M523,289.7 C523,299.59 523,311.78 523,323.86 \" fill=\"none\" id=\"E17-E18\" style=\"stroke:#181818;stroke-width:1.0;\"/><text fill=\"#000000\" font-family=\"sans-serif\" font-size=\"13\" lengthAdjust=\"spacing\" textLength=\"8\" x=\"514.4875\" y=\"313.0934\">1</text></a></g><!--MD5=[486a74b14f59644f37baa15070c083c4]\n",
       "link E18 to E12--><g id=\"link_E18_E12\"><a href=\"psysml:ace4cb77-08a3-413f-a89e-1c20e1d47296\" target=\"_top\" title=\"psysml:ace4cb77-08a3-413f-a89e-1c20e1d47296\" xlink:actuate=\"onRequest\" xlink:href=\"psysml:ace4cb77-08a3-413f-a89e-1c20e1d47296\" xlink:show=\"new\" xlink:title=\"psysml:ace4cb77-08a3-413f-a89e-1c20e1d47296\" xlink:type=\"simple\"><path d=\"M510.34,431.1 C506.15,448.49 501.48,467.89 497.25,485.47 \" fill=\"none\" id=\"E18-to-E12\" style=\"stroke:#181818;stroke-width:1.0;\"/><polygon fill=\"#FFFFFF\" points=\"492.54,505.03,490.1864,484.9188,503.7967,488.1989,492.54,505.03\" style=\"stroke:#181818;stroke-width:1.0;\"/><line style=\"stroke:#181818;stroke-width:2.0;\" x1=\"491.0767\" x2=\"504.687\" y1=\"481.2246\" y2=\"484.5046\"/></a></g><!--MD5=[95450921a822b8aa9ac907a04c1be9dd]\n",
       "link E18 to E7--><g id=\"link_E18_E7\"><a href=\"psysml:6eca36c0-36b5-4d87-85dd-2b8cdeb0fbb1\" target=\"_top\" title=\"psysml:6eca36c0-36b5-4d87-85dd-2b8cdeb0fbb1\" xlink:actuate=\"onRequest\" xlink:href=\"psysml:6eca36c0-36b5-4d87-85dd-2b8cdeb0fbb1\" xlink:show=\"new\" xlink:title=\"psysml:6eca36c0-36b5-4d87-85dd-2b8cdeb0fbb1\" xlink:type=\"simple\"><path d=\"M563.29,431.39 C573.91,444.62 585.6,458.57 597,471 C607.17,482.09 618.75,493.57 629.64,503.93 \" fill=\"none\" id=\"E18-E7\" style=\"stroke:#FF0000;stroke-width:5.0;\"/><text fill=\"#000000\" font-family=\"sans-serif\" font-size=\"13\" lengthAdjust=\"spacing\" textLength=\"11\" x=\"621\" y=\"492.0669\">=</text><text fill=\"#000000\" font-family=\"sans-serif\" font-size=\"13\" lengthAdjust=\"spacing\" textLength=\"7\" x=\"623.0743\" y=\"492.9734\">*</text></a></g><!--MD5=[9bba7b7dd393d320aafa0a67d935b54a]\n",
       "link E14 to E21--><g id=\"link_E14_E21\"><a href=\"psysml:4499da1c-187f-44fd-a842-48e866d53bec\" target=\"_top\" title=\"psysml:4499da1c-187f-44fd-a842-48e866d53bec\" xlink:actuate=\"onRequest\" xlink:href=\"psysml:4499da1c-187f-44fd-a842-48e866d53bec\" xlink:show=\"new\" xlink:title=\"psysml:4499da1c-187f-44fd-a842-48e866d53bec\" xlink:type=\"simple\"><path d=\"M643.3599,204.815 C644.0368,204.8431 644.7525,204.8732 645.5062,204.9054 C651.5353,205.1631 659.9915,205.5559 670.4348,206.1211 C691.3216,207.2516 720.1569,209.0719 753.4212,211.8813 C819.95,217.5 904.195,227.075 978,243 C983.7,244.23 989.59,245.74 995.43,247.39 \" fill=\"none\" id=\"E14-E21\" style=\"stroke:#181818;stroke-width:1.0;\"/><text fill=\"#000000\" font-family=\"sans-serif\" font-size=\"13\" lengthAdjust=\"spacing\" textLength=\"8\" x=\"979.3342\" y=\"240.6187\">1</text></a></g><!--MD5=[b55d502ce895f53f6106ec66ad099ca1]\n",
       "link E21 to E5--><g id=\"link_E21_E5\"><a href=\"psysml:a1381aed-20ec-472b-b235-ddbd8dc78bc3\" target=\"_top\" title=\"psysml:a1381aed-20ec-472b-b235-ddbd8dc78bc3\" xlink:actuate=\"onRequest\" xlink:href=\"psysml:a1381aed-20ec-472b-b235-ddbd8dc78bc3\" xlink:show=\"new\" xlink:title=\"psysml:a1381aed-20ec-472b-b235-ddbd8dc78bc3\" xlink:type=\"simple\"><path d=\"M1048.56,289.62 C1046.82,328.75 1038.73,412.69 1002,471 C993.47,484.53 981.37,496.58 968.89,506.69 \" fill=\"none\" id=\"E21-to-E5\" style=\"stroke:#181818;stroke-width:1.0;\"/><polygon fill=\"#FFFFFF\" points=\"952.55,518.81,963.6373,501.8668,971.9796,513.1099,952.55,518.81\" style=\"stroke:#181818;stroke-width:1.0;\"/><ellipse cx=\"969.4066\" cy=\"500.0765\" fill=\"#181818\" rx=\"2\" ry=\"2\" style=\"stroke:#181818;stroke-width:1.0;\"/><ellipse cx=\"975.3654\" cy=\"508.1072\" fill=\"#181818\" rx=\"2\" ry=\"2\" style=\"stroke:#181818;stroke-width:1.0;\"/></a></g><!--MD5=[2649bbc7e56c4418608d2a7877c2404d]\n",
       "@startuml\r\n",
       "skin sysmlc\r\n",
       "skinparam wrapWidth 300\r\n",
       "hide circle\r\n",
       " skinparam ranksep 10\r\n",
       "skinparam rectangle {\r\n",
       " backgroundColor<<block>> LightGreen\r\n",
       "}\r\n",
       "\r\n",
       "package \"Firesat Mission\" as E1  [[psysml:2f3e9206-0a49-452b-8204-88bfe9d1344b ]]  {\r\n",
       "rec def \"<i>Electro-optical</i>\" as E2  <<(T,blue) part  def>> [[psysml:f93141a7-3ea9-402f-93c9-b840368dc5b3 ]] {\r\n",
       "comp usage \"length: Real  \" as E3  <<(T,blue) attribute>> [[psysml:2052369e-3f08-4574-bada-33f4f6e539e5 ]] {\r\n",
       "}\r\n",
       "}\r\n",
       "rec def \"<i>C&DH</i>\" as E4  <<(T,blue) part  def>> [[psysml:0e45ecf6-5793-4c1a-8abf-a6291643a769 ]] {\r\n",
       "}\r\n",
       "rec def \"Fire\" as E5  <<(T,blue) part  def>> [[psysml:3bb38663-247c-4aa1-9f1d-ccda7c176b72 ]] {\r\n",
       "}\r\n",
       "comp def \"Collect\" as E6  <<(T,blue) use case  def>> [[psysml:213ab919-4e7a-4ae4-a18e-afeb02696f6f ]] {\r\n",
       "}\r\n",
       "comp usage \"sensor\" as E7 <<subject>>[[psysml:48382888-278b-4d56-815a-030fe8c1d98a ]] {\r\n",
       "##//attributes//##\r\n",
       "^length: Real\r\n",
       "}\r\n",
       "comp usage \"<size:30><&person></size> fire: Fire  \" as E8 [[psysml:29808fd1-abbb-4869-942b-2bc575aec69a ]] {\r\n",
       "}\r\n",
       "comp usage \"obj  \" as E9  <<(T,blue) requirement>> [[psysml:2e37a633-ab2f-41c3-9284-5781b5aa666d ]] {\r\n",
       "##//doc//##\r\n",
       "Detect fires with EO\r\n",
       "}\r\n",
       "comp def \"Process\" as E10  <<(T,blue) use case  def>> [[psysml:ab30c223-c2b2-4be4-9b89-aa8c7e4fa873 ]] {\r\n",
       "}\r\n",
       "comp usage \"dpe\" as E11 <<subject>>[[psysml:39d5d16c-45fc-4091-ab29-11785bffdabd ]] {\r\n",
       "}\r\n",
       "comp usage \"<size:30><&person></size> sensor: Electro-optical  \" as E12 [[psysml:8693d2f5-4bb2-47ff-87fd-1c4d95888db9 ]] {\r\n",
       "##//attributes//##\r\n",
       "^length: Real\r\n",
       "}\r\n",
       "comp usage \"obj  \" as E13  <<(T,blue) requirement>> [[psysml:1531f9e2-6ef3-419d-8b74-d3dad6f2c774 ]] {\r\n",
       "##//doc//##\r\n",
       "Collect data for processing\r\n",
       "}\r\n",
       "rec usage \"Detect Fires: Collect  \" as E14  <<(T,blue) use case>> [[psysml:c5618473-b1b3-4587-8ccb-f6ff4e0606db ]] {\r\n",
       "rec usage \"start: UseCase  \" as E15  <<(T,blue) use case>> [[psysml:8507a333-e9b7-5591-9b15-57b03c67f53e ]] {\r\n",
       "}\r\n",
       "rec usage \"Process Data: Process  \" as E17  <<(T,blue) use case>> [[psysml:16493df1-2c7e-46ec-8ebd-07a03d59d604 ]] {\r\n",
       "}\r\n",
       "comp usage \"<size:30><&person></size> sensor  \" as E18 [[psysml:97baacfd-e991-4434-89da-5568b869a3de ]] {\r\n",
       "##//attributes//##\r\n",
       "^length: Real\r\n",
       "- -\r\n",
       "##//values//##\r\n",
       " <U+003D> <U+0027>Collect<U+0027>::sensor\r\n",
       "}\r\n",
       "}\r\n",
       "comp usage \"<size:30><&person></size> ^fire: Fire  \" as E21 [[psysml:29808fd1-abbb-4869-942b-2bc575aec69a ]] {\r\n",
       "}\r\n",
       "note as E16\r\n",
       "[[psysml:5a4bebeb-8c72-440d-bd5e-db5352d6c856 @]]The starting snapshot of a Use Case.\r\n",
       "\r\n",
       "end note \r\n",
       "note as E19\r\n",
       "[[psysml:3797a0c0-84b5-4cf2-9d23-8a04d7812855 @]]Collect data for processing\r\n",
       "end note \r\n",
       "note as E20\r\n",
       "[[psysml:eea7fdbe-9f36-46d4-9a09-f63ab927f429 @]]Detect fires with EO\r\n",
       "end note \r\n",
       "}\r\n",
       "E1 ..> E2 [[psysml:825f4890-8f81-4c87-83a5-68b519ba344b ]] : <<import>>\r\n",
       "E1 ..> E4 [[psysml:93762670-058b-466e-9975-1528a06532f7 ]] : <<import>>\r\n",
       "E6 o- - \"*\"E7 [[psysml:a5ede298-00c8-449a-9f9e-dc94967bc3e9 ]] \r\n",
       "E7 - -:|> E2 [[psysml:64863d11-d1bc-4791-8395-4d86bf0bc4fe ]] \r\n",
       "E6 - - \"1\"E8 [[psysml:4499da1c-187f-44fd-a842-48e866d53bec ]] \r\n",
       "E8 - -:|> E5 [[psysml:a1381aed-20ec-472b-b235-ddbd8dc78bc3 ]] \r\n",
       "E6 - ->> \"*\"E9 [[psysml:f9c97cc4-687a-41e9-96fa-57592f7cbcfa ]] : <<objective>>\r\n",
       "E10 o- - \"*\"E11 [[psysml:f3551d06-7d98-4fd3-a592-c0a35b5281d9 ]] \r\n",
       "E11 - -:|> E4 [[psysml:75324f2b-674c-4dd3-b602-e595fa58eb7f ]] \r\n",
       "E10 - - \"1\"E12 [[psysml:259ffe08-869e-44ca-ae4f-4480ce0fa730 ]] \r\n",
       "E12 - -:|> E2 [[psysml:a1b880b9-bb65-4f2b-b60d-5e774ed3f214 ]] \r\n",
       "E10 - ->> \"*\"E13 [[psysml:6f620924-b4a4-4e74-a1ec-7aef7f47f043 ]] : <<objective>>\r\n",
       "E14 - -:|> E6 [[psysml:2727bc1b-0be8-40c6-adfe-c473b86241ce ]] \r\n",
       "E16 .. E15 [[psysml:5a4bebeb-8c72-440d-bd5e-db5352d6c856 ]] \r\n",
       "E15 - -> \"*\"E17 [[psysml:8dadd745-c597-415b-b07f-a4a99a073508 ]] \r\n",
       "E17 - -:|> E10 [[psysml:8d45f659-77d6-4c3b-9f42-26cd36cddf16 ]] \r\n",
       "E17 - - \"1\"E18 [[psysml:a422db99-07f9-46f7-91ac-bd1561dfff0e ]] \r\n",
       "E18 - -||> E12 [[psysml:ace4cb77-08a3-413f-a89e-1c20e1d47296 ]] \r\n",
       "E18 -[thickness=5,#red]- \"*\"E7 [[psysml:6eca36c0-36b5-4d87-85dd-2b8cdeb0fbb1 ]] : =\r\n",
       "E19 .. E13 [[psysml:3797a0c0-84b5-4cf2-9d23-8a04d7812855 ]] \r\n",
       "E20 .. E9 [[psysml:eea7fdbe-9f36-46d4-9a09-f63ab927f429 ]] \r\n",
       "E14 - - \"1\"E21 [[psysml:4499da1c-187f-44fd-a842-48e866d53bec ]] \r\n",
       "E21 - -:|> E5 [[psysml:a1381aed-20ec-472b-b235-ddbd8dc78bc3 ]] \r\n",
       "@enduml\r\n",
       "\n",
       "PlantUML version 1.2022.7(Mon Aug 22 17:01:30 UTC 2022)\n",
       "(EPL source distribution)\n",
       "Java Runtime: OpenJDK Runtime Environment\n",
       "JVM: OpenJDK 64-Bit Server VM\n",
       "Default Encoding: UTF-8\n",
       "Language: en\n",
       "Country: null\n",
       "--></g></svg>"
      ]
     },
     "execution_count": 20,
     "metadata": {},
     "output_type": "execute_result"
    }
   ],
   "source": [
    "%capture -t __3_0_Model raw\n",
    "%viz --style=STDCOLOR --style=SHOWINHERITED \"Firesat Mission\""
   ]
  },
  {
   "cell_type": "code",
   "execution_count": 20,
   "id": "969c3d3b-f2e4-4ba2-80cc-700b2efbef8e",
   "metadata": {
    "kernel": "SysML"
   },
   "outputs": [
    {
     "data": {
      "image/svg+xml": [
       "<?xml version=\"1.0\" encoding=\"UTF-8\" standalone=\"no\"?><svg xmlns=\"http://www.w3.org/2000/svg\" xmlns:xlink=\"http://www.w3.org/1999/xlink\" contentStyleType=\"text/css\" height=\"637px\" preserveAspectRatio=\"none\" style=\"width:384px;height:637px;background:#FFFFFF;\" version=\"1.1\" viewBox=\"0 0 384 637\" width=\"384px\" zoomAndPan=\"magnify\"><defs><filter height=\"300%\" id=\"fuatl4dnc27eo\" width=\"300%\" x=\"-1\" y=\"-1\"><feGaussianBlur result=\"blurOut\" stdDeviation=\"2.0\"/><feColorMatrix in=\"blurOut\" result=\"blurOut2\" type=\"matrix\" values=\"0 0 0 0 0 0 0 0 0 0 0 0 0 0 0 0 0 0 .4 0\"/><feOffset dx=\"4.0\" dy=\"4.0\" in=\"blurOut2\" result=\"blurOut3\"/><feBlend in=\"SourceGraphic\" in2=\"blurOut3\" mode=\"normal\"/></filter></defs><g><!--MD5=[fbc87193dbaf4d95561dea2c320d4a47]\n",
       "cluster E1--><g id=\"cluster_E1\"><a href=\"psysml:e245e722-4ced-4f79-8e2a-573dfd5de7a3\" target=\"_top\" title=\"psysml:e245e722-4ced-4f79-8e2a-573dfd5de7a3\" xlink:actuate=\"onRequest\" xlink:href=\"psysml:e245e722-4ced-4f79-8e2a-573dfd5de7a3\" xlink:show=\"new\" xlink:title=\"psysml:e245e722-4ced-4f79-8e2a-573dfd5de7a3\" xlink:type=\"simple\"><polygon fill=\"none\" filter=\"url(#fuatl4dnc27eo)\" points=\"16,6,346,6,353,28.2969,367,28.2969,367,346,16,346,16,6\" style=\"stroke:#000000;stroke-width:1.5;\"/><line style=\"stroke:#000000;stroke-width:1.5;\" x1=\"16\" x2=\"353\" y1=\"28.2969\" y2=\"28.2969\"/><text fill=\"#000000\" font-family=\"sans-serif\" font-size=\"14\" font-weight=\"bold\" lengthAdjust=\"spacing\" textLength=\"324\" x=\"20\" y=\"20.9951\">Spacecraft Segment Logical Architecture</text></a></g><!--MD5=[e4f7fae6ed58524ba242bb0b0d3be6b7]\n",
       "cluster E2--><g id=\"cluster_E2\"><a href=\"psysml:d185501b-ffc0-4354-a2fa-5cc3242f4993\" target=\"_top\" title=\"psysml:d185501b-ffc0-4354-a2fa-5cc3242f4993\" xlink:actuate=\"onRequest\" xlink:href=\"psysml:d185501b-ffc0-4354-a2fa-5cc3242f4993\" xlink:show=\"new\" xlink:title=\"psysml:d185501b-ffc0-4354-a2fa-5cc3242f4993\" xlink:type=\"simple\"><rect fill=\"#FFFFFF\" filter=\"url(#fuatl4dnc27eo)\" height=\"257\" id=\"E2\" style=\"stroke:#A80036;stroke-width:1.5;\" width=\"287\" x=\"48\" y=\"57\"/><rect fill=\"#FFFACD\" height=\"40.2656\" style=\"stroke:#A80036;stroke-width:1.5;\" width=\"287\" x=\"48\" y=\"57\"/><text fill=\"#000000\" font-family=\"sans-serif\" font-size=\"12\" font-style=\"italic\" lengthAdjust=\"spacing\" textLength=\"68\" x=\"157.5\" y=\"73.1387\">«part  def»</text><text fill=\"#000000\" font-family=\"sans-serif\" font-size=\"14\" font-style=\"italic\" lengthAdjust=\"spacing\" textLength=\"140\" x=\"121.5\" y=\"88.9639\">Spacecraft Segment</text></a></g><!--MD5=[d5e69f78d87373223dbae638b30a9c99]\n",
       "cluster E3--><g id=\"cluster_E3\"><a href=\"psysml:5e3913b0-b6b9-4fce-b16d-2c49f6cf513f\" target=\"_top\" title=\"psysml:5e3913b0-b6b9-4fce-b16d-2c49f6cf513f\" xlink:actuate=\"onRequest\" xlink:href=\"psysml:5e3913b0-b6b9-4fce-b16d-2c49f6cf513f\" xlink:show=\"new\" xlink:title=\"psysml:5e3913b0-b6b9-4fce-b16d-2c49f6cf513f\" xlink:type=\"simple\"><rect fill=\"#FFFFFF\" filter=\"url(#fuatl4dnc27eo)\" height=\"142\" id=\"E3\" rx=\"10\" ry=\"10\" style=\"stroke:#A80036;stroke-width:1.5;\" width=\"199\" x=\"96\" y=\"132\"/><rect fill=\"#FFFACD\" height=\"26.2969\" rx=\"10\" ry=\"10\" style=\"stroke:#FFFACD;stroke-width:1.5;\" width=\"199\" x=\"96\" y=\"132\"/><rect fill=\"#FFFACD\" height=\"10\" style=\"stroke:#FFFACD;stroke-width:1.5;\" width=\"199\" x=\"96\" y=\"148.2969\"/><rect fill=\"none\" height=\"142\" id=\"E3\" rx=\"10\" ry=\"10\" style=\"stroke:#A80036;stroke-width:1.5;\" width=\"199\" x=\"96\" y=\"132\"/><text fill=\"#000000\" font-family=\"sans-serif\" font-size=\"14\" lengthAdjust=\"spacing\" textLength=\"159\" x=\"116\" y=\"149.9951\">spacecraft: 3UCubeSat</text><line style=\"stroke:#A80036;stroke-width:1.0;\" x1=\"96\" x2=\"295\" y1=\"158.2969\" y2=\"158.2969\"/></a></g><!--MD5=[de5ec2e2e8f62f467e546659f5068c88]\n",
       "cluster E5--><g id=\"cluster_E5\"><a href=\"psysml:1c5014e3-a75f-493e-8847-117db491d736\" target=\"_top\" title=\"psysml:1c5014e3-a75f-493e-8847-117db491d736\" xlink:actuate=\"onRequest\" xlink:href=\"psysml:1c5014e3-a75f-493e-8847-117db491d736\" xlink:show=\"new\" xlink:title=\"psysml:1c5014e3-a75f-493e-8847-117db491d736\" xlink:type=\"simple\"><polygon fill=\"none\" filter=\"url(#fuatl4dnc27eo)\" points=\"31,403,294,403,301,425.2969,304,425.2969,304,630,31,630,31,403\" style=\"stroke:#000000;stroke-width:1.5;\"/><line style=\"stroke:#000000;stroke-width:1.5;\" x1=\"31\" x2=\"301\" y1=\"425.2969\" y2=\"425.2969\"/><text fill=\"#000000\" font-family=\"sans-serif\" font-size=\"14\" font-weight=\"bold\" lengthAdjust=\"spacing\" textLength=\"257\" x=\"35\" y=\"417.9951\">'Spacecraft Logical Architecture'</text></a></g><!--MD5=[14e3b0961a2654348d326746436168a1]\n",
       "cluster E6--><g id=\"cluster_E6\"><a href=\"psysml:1e01db2f-893d-4d52-bec1-ec0b6caf39bc\" target=\"_top\" title=\"psysml:1e01db2f-893d-4d52-bec1-ec0b6caf39bc\" xlink:actuate=\"onRequest\" xlink:href=\"psysml:1e01db2f-893d-4d52-bec1-ec0b6caf39bc\" xlink:show=\"new\" xlink:title=\"psysml:1e01db2f-893d-4d52-bec1-ec0b6caf39bc\" xlink:type=\"simple\"><rect fill=\"#FFFFFF\" filter=\"url(#fuatl4dnc27eo)\" height=\"128\" id=\"E6\" style=\"stroke:#A80036;stroke-width:1.5;\" width=\"179\" x=\"85\" y=\"462\"/><rect fill=\"#FFFACD\" height=\"40.2656\" style=\"stroke:#A80036;stroke-width:1.5;\" width=\"179\" x=\"85\" y=\"462\"/><text fill=\"#000000\" font-family=\"sans-serif\" font-size=\"12\" font-style=\"italic\" lengthAdjust=\"spacing\" textLength=\"68\" x=\"140.5\" y=\"478.1387\">«part  def»</text><text fill=\"#000000\" font-family=\"sans-serif\" font-size=\"14\" lengthAdjust=\"spacing\" textLength=\"78\" x=\"135.5\" y=\"493.9639\">3UCubeSat</text></a></g><!--MD5=[ebbe1d658d1005bcc118a6aa81145e00]\n",
       "class E4--><a href=\"psysml:6984b8d1-20ce-427b-87f9-12b74ab07232\" target=\"_top\" title=\"psysml:6984b8d1-20ce-427b-87f9-12b74ab07232\" xlink:actuate=\"onRequest\" xlink:href=\"psysml:6984b8d1-20ce-427b-87f9-12b74ab07232\" xlink:show=\"new\" xlink:title=\"psysml:6984b8d1-20ce-427b-87f9-12b74ab07232\" xlink:type=\"simple\"><g id=\"elem_E4\"><rect fill=\"#FFFACD\" filter=\"url(#fuatl4dnc27eo)\" height=\"75.0813\" id=\"E4\" rx=\"10\" ry=\"10\" style=\"stroke:#181818;stroke-width:0.5;\" width=\"132\" x=\"139\" y=\"175\"/><text fill=\"#000000\" font-family=\"sans-serif\" font-size=\"12\" font-style=\"italic\" lengthAdjust=\"spacing\" textLength=\"69\" x=\"170.5\" y=\"191.1387\">«attribute»</text><text fill=\"#000000\" font-family=\"sans-serif\" font-size=\"14\" lengthAdjust=\"spacing\" textLength=\"31\" x=\"185.5\" y=\"206.9639\">orbit</text><line style=\"stroke:#181818;stroke-width:0.5;\" x1=\"140\" x2=\"270\" y1=\"215.2656\" y2=\"215.2656\"/><text fill=\"#000000\" font-family=\"sans-serif\" font-size=\"14\" lengthAdjust=\"spacing\" textLength=\"120\" x=\"145\" y=\"242.7795\">sma = 8000 [km]</text><text fill=\"#000000\" font-family=\"sans-serif\" font-size=\"14\" font-style=\"italic\" lengthAdjust=\"spacing\" textLength=\"65\" x=\"172.5\" y=\"227.6123\">attributes</text></g></a><g><a href=\"psysml:134514c5-0a3d-4f10-9291-0819079b35ab\" target=\"_top\" title=\"psysml:134514c5-0a3d-4f10-9291-0819079b35ab\" xlink:actuate=\"onRequest\" xlink:href=\"psysml:134514c5-0a3d-4f10-9291-0819079b35ab\" xlink:show=\"new\" xlink:title=\"psysml:134514c5-0a3d-4f10-9291-0819079b35ab\" xlink:type=\"simple\"><rect fill=\"#FFFACD\" filter=\"url(#fuatl4dnc27eo)\" height=\"45.2656\" id=\"E7\" style=\"stroke:#A80036;stroke-width:1.5;\" width=\"112\" x=\"128\" y=\"521\"/><text fill=\"#000000\" font-family=\"sans-serif\" font-size=\"12\" font-style=\"italic\" lengthAdjust=\"spacing\" textLength=\"105\" x=\"131.5\" y=\"537.1387\">«constraint  def»</text><text fill=\"#000000\" font-family=\"sans-serif\" font-size=\"14\" lengthAdjust=\"spacing\" textLength=\"50\" x=\"159\" y=\"552.9639\">volume</text></a></g><!--MD5=[dcad52bbbca2fe8adc741ce38b45dc12]\n",
       "link E2 to E5--><g id=\"link_E2_E5\"><a href=\"psysml:e4c771c2-aa20-4e9a-99d4-059e37a2b4bb\" target=\"_top\" title=\"psysml:e4c771c2-aa20-4e9a-99d4-059e37a2b4bb\" xlink:actuate=\"onRequest\" xlink:href=\"psysml:e4c771c2-aa20-4e9a-99d4-059e37a2b4bb\" xlink:show=\"new\" xlink:title=\"psysml:e4c771c2-aa20-4e9a-99d4-059e37a2b4bb\" xlink:type=\"simple\"><path d=\"M47.9735,241.9871 C47.7804,242.711 47.5852,243.4458 47.388,244.1911 C45.8102,250.1538 44.1041,256.7916 42.3487,263.9263 C35.3275,292.465 27.52,328.955 24,362 C19.805,401.4 23.3725,445.7425 28.0775,480.6175 C28.6656,484.9769 29.2715,489.1883 29.8823,493.2237 C30.1876,495.2414 30.4942,497.215 30.8004,499.1412 C30.8386,499.3819 30.8769,499.622 30.9152,499.8612 \" fill=\"none\" id=\"E2-to-E5\" style=\"stroke:#181818;stroke-width:1.0;stroke-dasharray:7.0,7.0;\"/><polygon fill=\"#181818\" points=\"30.9152,499.8612,33.4441,490.3426,30.1258,494.9239,25.5445,491.6056,30.9152,499.8612\" style=\"stroke:#181818;stroke-width:1.0;\"/><text fill=\"#000000\" font-family=\"sans-serif\" font-size=\"13\" lengthAdjust=\"spacing\" textLength=\"65\" x=\"25\" y=\"375.0669\">«import»*</text></a></g><!--MD5=[ec9844e0c75763426927cad3229d1081]\n",
       "link E3 to E6--><g id=\"link_E3_E6\"><a href=\"psysml:ac16bea3-d967-4c06-b0c3-864929dab5f0\" target=\"_top\" title=\"psysml:ac16bea3-d967-4c06-b0c3-864929dab5f0\" xlink:actuate=\"onRequest\" xlink:href=\"psysml:ac16bea3-d967-4c06-b0c3-864929dab5f0\" xlink:show=\"new\" xlink:title=\"psysml:ac16bea3-d967-4c06-b0c3-864929dab5f0\" xlink:type=\"simple\"><path d=\"M102.39,274.158 C102.3837,274.3851 102.3774,274.6126 102.371,274.8405 C102.3457,275.7519 102.3201,276.6688 102.2944,277.5909 C102.2429,279.435 102.1905,281.2999 102.1375,283.1827 C101.9253,290.7138 101.7012,298.5319 101.4688,306.4625 C101.0038,322.3238 100.505,338.635 100,354 C99.3225,374.62 98.5544,396.5069 97.7813,417.7883 C97.3947,428.429 97.0069,438.9183 96.6285,449.0222 C96.5339,451.5482 96.4399,454.0501 96.3467,456.5243 C96.3001,457.7613 96.2536,458.9915 96.2074,460.2142 C96.1959,460.5199 96.1843,460.8251 96.1728,461.1299 \" fill=\"none\" id=\"E3-to-E6\" style=\"stroke:#181818;stroke-width:1.0;\"/><polygon fill=\"#FFFFFF\" points=\"96.1728,461.1299,89.896,441.8789,103.886,442.4081,96.1728,461.1299\" style=\"stroke:#181818;stroke-width:1.0;\"/><ellipse cx=\"92.1101\" cy=\"436.2585\" fill=\"#181818\" rx=\"2\" ry=\"2\" style=\"stroke:#181818;stroke-width:1.0;\"/><ellipse cx=\"102.1029\" cy=\"436.6366\" fill=\"#181818\" rx=\"2\" ry=\"2\" style=\"stroke:#181818;stroke-width:1.0;\"/></a></g><!--MD5=[bad2fc017de2f04065603f1f6adc0495]\n",
       "@startuml\r\n",
       "skin sysmlc\r\n",
       "skinparam wrapWidth 300\r\n",
       "hide circle\r\n",
       " skinparam ranksep 10\r\n",
       "skinparam rectangle {\r\n",
       " backgroundColor<<block>> LightGreen\r\n",
       "}\r\n",
       "\r\n",
       "package \"Spacecraft Segment Logical Architecture\" as E1  [[psysml:e245e722-4ced-4f79-8e2a-573dfd5de7a3 ]]  {\r\n",
       "rec def \"<i>Spacecraft Segment</i>\" as E2  <<(T,blue) part  def>> [[psysml:d185501b-ffc0-4354-a2fa-5cc3242f4993 ]] {\r\n",
       "rec usage \"spacecraft: 3UCubeSat\" as E3 [[psysml:5e3913b0-b6b9-4fce-b16d-2c49f6cf513f ]] {\r\n",
       "comp usage \"orbit  \" as E4  <<(T,blue) attribute>> [[psysml:6984b8d1-20ce-427b-87f9-12b74ab07232 ]] {\r\n",
       "##//attributes//##\r\n",
       "sma <U+003D> 8000 [km]\r\n",
       "}\r\n",
       "}\r\n",
       "}\r\n",
       "}\r\n",
       "package \"'Spacecraft Logical Architecture'\" as E5  [[psysml:1c5014e3-a75f-493e-8847-117db491d736 ]]  {\r\n",
       "rec def \"3UCubeSat\" as E6  <<(T,blue) part  def>> [[psysml:1e01db2f-893d-4d52-bec1-ec0b6caf39bc ]] {\r\n",
       "def \"volume\" as E7  <<(T,blue) constraint  def>> [[psysml:134514c5-0a3d-4f10-9291-0819079b35ab ]] \r\n",
       "}\r\n",
       "}\r\n",
       "E2 ..> E5 [[psysml:e4c771c2-aa20-4e9a-99d4-059e37a2b4bb ]] : <<import>>*\r\n",
       "E3 - -:|> E6 [[psysml:ac16bea3-d967-4c06-b0c3-864929dab5f0 ]] \r\n",
       "@enduml\r\n",
       "\n",
       "PlantUML version 1.2022.7(Mon Aug 22 17:01:30 UTC 2022)\n",
       "(EPL source distribution)\n",
       "Java Runtime: OpenJDK Runtime Environment\n",
       "JVM: OpenJDK 64-Bit Server VM\n",
       "Default Encoding: UTF-8\n",
       "Language: en\n",
       "Country: null\n",
       "--></g></svg>"
      ]
     },
     "execution_count": 21,
     "metadata": {},
     "output_type": "execute_result"
    }
   ],
   "source": [
    "%viz --style=STDCOLOR --style=SHOWIMPORTED \"Spacecraft Segment Logical Architecture\""
   ]
  },
  {
   "cell_type": "code",
   "execution_count": 21,
   "id": "9e5ede75-17ce-4433-9990-0913ee458b71",
   "metadata": {
    "kernel": "SysML"
   },
   "outputs": [
    {
     "data": {
      "image/svg+xml": [
       "<?xml version=\"1.0\" encoding=\"UTF-8\" standalone=\"no\"?><svg xmlns=\"http://www.w3.org/2000/svg\" xmlns:xlink=\"http://www.w3.org/1999/xlink\" contentStyleType=\"text/css\" height=\"387px\" preserveAspectRatio=\"none\" style=\"width:523px;height:387px;background:#FFFFFF;\" version=\"1.1\" viewBox=\"0 0 523 387\" width=\"523px\" zoomAndPan=\"magnify\"><defs><filter height=\"300%\" id=\"fdtetozaatgbh\" width=\"300%\" x=\"-1\" y=\"-1\"><feGaussianBlur result=\"blurOut\" stdDeviation=\"2.0\"/><feColorMatrix in=\"blurOut\" result=\"blurOut2\" type=\"matrix\" values=\"0 0 0 0 0 0 0 0 0 0 0 0 0 0 0 0 0 0 .4 0\"/><feOffset dx=\"4.0\" dy=\"4.0\" in=\"blurOut2\" result=\"blurOut3\"/><feBlend in=\"SourceGraphic\" in2=\"blurOut3\" mode=\"normal\"/></filter></defs><g><!--MD5=[fbc87193dbaf4d95561dea2c320d4a47]\n",
       "cluster E1--><g id=\"cluster_E1\"><a href=\"psysml:1c5014e3-a75f-493e-8847-117db491d736\" target=\"_top\" title=\"psysml:1c5014e3-a75f-493e-8847-117db491d736\" xlink:actuate=\"onRequest\" xlink:href=\"psysml:1c5014e3-a75f-493e-8847-117db491d736\" xlink:show=\"new\" xlink:title=\"psysml:1c5014e3-a75f-493e-8847-117db491d736\" xlink:type=\"simple\"><polygon fill=\"none\" filter=\"url(#fdtetozaatgbh)\" points=\"16,6,271,6,278,28.2969,506,28.2969,506,380,16,380,16,6\" style=\"stroke:#000000;stroke-width:1.5;\"/><line style=\"stroke:#000000;stroke-width:1.5;\" x1=\"16\" x2=\"278\" y1=\"28.2969\" y2=\"28.2969\"/><text fill=\"#000000\" font-family=\"sans-serif\" font-size=\"14\" font-weight=\"bold\" lengthAdjust=\"spacing\" textLength=\"249\" x=\"20\" y=\"20.9951\">Spacecraft Logical Architecture</text></a></g><!--MD5=[e4f7fae6ed58524ba242bb0b0d3be6b7]\n",
       "cluster E2--><g id=\"cluster_E2\"><a href=\"psysml:65e28d39-0339-456c-8cf0-f176cf4502ec\" target=\"_top\" title=\"psysml:65e28d39-0339-456c-8cf0-f176cf4502ec\" xlink:actuate=\"onRequest\" xlink:href=\"psysml:65e28d39-0339-456c-8cf0-f176cf4502ec\" xlink:show=\"new\" xlink:title=\"psysml:65e28d39-0339-456c-8cf0-f176cf4502ec\" xlink:type=\"simple\"><rect fill=\"#FFFFFF\" filter=\"url(#fdtetozaatgbh)\" height=\"123\" id=\"E2\" style=\"stroke:#A80036;stroke-width:1.5;\" width=\"426\" x=\"48\" y=\"225\"/><rect fill=\"#FFFACD\" height=\"40.2656\" style=\"stroke:#A80036;stroke-width:1.5;\" width=\"426\" x=\"48\" y=\"225\"/><text fill=\"#000000\" font-family=\"sans-serif\" font-size=\"12\" font-style=\"italic\" lengthAdjust=\"spacing\" textLength=\"68\" x=\"227\" y=\"241.1387\">«part  def»</text><text fill=\"#000000\" font-family=\"sans-serif\" font-size=\"14\" font-style=\"italic\" lengthAdjust=\"spacing\" textLength=\"73\" x=\"224.5\" y=\"256.9639\">Spacecraft</text></a></g><!--MD5=[de5ec2e2e8f62f467e546659f5068c88]\n",
       "cluster E5--><g id=\"cluster_E5\"><a href=\"psysml:1e01db2f-893d-4d52-bec1-ec0b6caf39bc\" target=\"_top\" title=\"psysml:1e01db2f-893d-4d52-bec1-ec0b6caf39bc\" xlink:actuate=\"onRequest\" xlink:href=\"psysml:1e01db2f-893d-4d52-bec1-ec0b6caf39bc\" xlink:show=\"new\" xlink:title=\"psysml:1e01db2f-893d-4d52-bec1-ec0b6caf39bc\" xlink:type=\"simple\"><rect fill=\"#FFFFFF\" filter=\"url(#fdtetozaatgbh)\" height=\"128\" id=\"E5\" style=\"stroke:#A80036;stroke-width:1.5;\" width=\"179\" x=\"48\" y=\"57\"/><rect fill=\"#FFFACD\" height=\"40.2656\" style=\"stroke:#A80036;stroke-width:1.5;\" width=\"179\" x=\"48\" y=\"57\"/><text fill=\"#000000\" font-family=\"sans-serif\" font-size=\"12\" font-style=\"italic\" lengthAdjust=\"spacing\" textLength=\"68\" x=\"103.5\" y=\"73.1387\">«part  def»</text><text fill=\"#000000\" font-family=\"sans-serif\" font-size=\"14\" lengthAdjust=\"spacing\" textLength=\"78\" x=\"98.5\" y=\"88.9639\">3UCubeSat</text></a></g><g><a href=\"psysml:2de59852-6878-4add-8893-372670875f64\" target=\"_top\" title=\"psysml:2de59852-6878-4add-8893-372670875f64\" xlink:actuate=\"onRequest\" xlink:href=\"psysml:2de59852-6878-4add-8893-372670875f64\" xlink:show=\"new\" xlink:title=\"psysml:2de59852-6878-4add-8893-372670875f64\" xlink:type=\"simple\"><rect fill=\"#FFFACD\" filter=\"url(#fdtetozaatgbh)\" height=\"40\" id=\"E3\" rx=\"10\" ry=\"10\" style=\"stroke:#A80036;stroke-width:1.5;\" width=\"150\" x=\"300\" y=\"284\"/><text fill=\"#000000\" font-family=\"sans-serif\" font-size=\"14\" lengthAdjust=\"spacing\" textLength=\"139\" x=\"305.5\" y=\"301.9951\">bus: Spacecraft Bus</text></a></g><g><a href=\"psysml:beefa58e-1db0-41d4-8fd2-38388374dc40\" target=\"_top\" title=\"psysml:beefa58e-1db0-41d4-8fd2-38388374dc40\" xlink:actuate=\"onRequest\" xlink:href=\"psysml:beefa58e-1db0-41d4-8fd2-38388374dc40\" xlink:show=\"new\" xlink:title=\"psysml:beefa58e-1db0-41d4-8fd2-38388374dc40\" xlink:type=\"simple\"><rect fill=\"#FFFACD\" filter=\"url(#fdtetozaatgbh)\" height=\"40\" id=\"E4\" rx=\"10\" ry=\"10\" style=\"stroke:#A80036;stroke-width:1.5;\" width=\"174\" x=\"91\" y=\"284\"/><text fill=\"#000000\" font-family=\"sans-serif\" font-size=\"14\" lengthAdjust=\"spacing\" textLength=\"163\" x=\"96.5\" y=\"301.9951\">sensor: Payload Sensor</text></a></g><g><a href=\"psysml:134514c5-0a3d-4f10-9291-0819079b35ab\" target=\"_top\" title=\"psysml:134514c5-0a3d-4f10-9291-0819079b35ab\" xlink:actuate=\"onRequest\" xlink:href=\"psysml:134514c5-0a3d-4f10-9291-0819079b35ab\" xlink:show=\"new\" xlink:title=\"psysml:134514c5-0a3d-4f10-9291-0819079b35ab\" xlink:type=\"simple\"><rect fill=\"#FFFACD\" filter=\"url(#fdtetozaatgbh)\" height=\"45.2656\" id=\"E6\" style=\"stroke:#A80036;stroke-width:1.5;\" width=\"112\" x=\"91\" y=\"116\"/><text fill=\"#000000\" font-family=\"sans-serif\" font-size=\"12\" font-style=\"italic\" lengthAdjust=\"spacing\" textLength=\"105\" x=\"94.5\" y=\"132.1387\">«constraint  def»</text><text fill=\"#000000\" font-family=\"sans-serif\" font-size=\"14\" lengthAdjust=\"spacing\" textLength=\"50\" x=\"122\" y=\"147.9639\">volume</text></a></g><!--MD5=[15ebcb19ae302d9b601edb458606d402]\n",
       "link E5 to E2--><g id=\"link_E5_E2\"><a href=\"psysml:e3adae11-a7c9-4abf-af01-99dce12e8201\" target=\"_top\" title=\"psysml:e3adae11-a7c9-4abf-af01-99dce12e8201\" xlink:actuate=\"onRequest\" xlink:href=\"psysml:e3adae11-a7c9-4abf-af01-99dce12e8201\" xlink:show=\"new\" xlink:title=\"psysml:e3adae11-a7c9-4abf-af01-99dce12e8201\" xlink:type=\"simple\"><path d=\"M56,185.2805 C56,187.5294 56,189.8236 56,192.1542 C56,201.4763 56,211.3791 56,221.2813 C56,222.519 56,223.7568 56,224.9934 \" fill=\"none\" id=\"E5-to-E2\" style=\"stroke:#181818;stroke-width:1.0;\"/><polygon fill=\"#FFFFFF\" points=\"56,224.9934,63,205.9934,49,205.9934,56,224.9934\" style=\"stroke:#181818;stroke-width:1.0;\"/></a></g><!--MD5=[6f13267a5819193390e7f0856d2eb37f]\n",
       "@startuml\r\n",
       "skin sysmlc\r\n",
       "skinparam wrapWidth 300\r\n",
       "hide circle\r\n",
       "skinparam ranksep 10\r\n",
       "skinparam rectangle {\r\n",
       " backgroundColor<<block>> LightGreen\r\n",
       "}\r\n",
       "\r\n",
       "package \"Spacecraft Logical Architecture\" as E1  [[psysml:1c5014e3-a75f-493e-8847-117db491d736 ]]  {\r\n",
       "rec def \"<i>Spacecraft</i>\" as E2  <<(T,blue) part  def>> [[psysml:65e28d39-0339-456c-8cf0-f176cf4502ec ]] {\r\n",
       "rec usage \"bus: Spacecraft Bus\" as E3 [[psysml:2de59852-6878-4add-8893-372670875f64 ]] {\r\n",
       "}\r\n",
       "rec usage \"sensor: Payload Sensor\" as E4 [[psysml:beefa58e-1db0-41d4-8fd2-38388374dc40 ]] {\r\n",
       "}\r\n",
       "}\r\n",
       "rec def \"3UCubeSat\" as E5  <<(T,blue) part  def>> [[psysml:1e01db2f-893d-4d52-bec1-ec0b6caf39bc ]] {\r\n",
       "def \"volume\" as E6  <<(T,blue) constraint  def>> [[psysml:134514c5-0a3d-4f10-9291-0819079b35ab ]] \r\n",
       "}\r\n",
       "}\r\n",
       "E5 - -|> E2 [[psysml:e3adae11-a7c9-4abf-af01-99dce12e8201 ]] \r\n",
       "@enduml\r\n",
       "\n",
       "PlantUML version 1.2022.7(Mon Aug 22 17:01:30 UTC 2022)\n",
       "(EPL source distribution)\n",
       "Java Runtime: OpenJDK Runtime Environment\n",
       "JVM: OpenJDK 64-Bit Server VM\n",
       "Default Encoding: UTF-8\n",
       "Language: en\n",
       "Country: null\n",
       "--></g></svg>"
      ]
     },
     "execution_count": 22,
     "metadata": {},
     "output_type": "execute_result"
    }
   ],
   "source": [
    "%viz --style=STDCOLOR \"Spacecraft Logical Architecture\""
   ]
  },
  {
   "cell_type": "code",
   "execution_count": 22,
   "id": "7a5f9703-067e-4e1a-b6ba-b2395111c5fb",
   "metadata": {
    "kernel": "SysML"
   },
   "outputs": [
    {
     "data": {
      "image/svg+xml": [
       "<?xml version=\"1.0\" encoding=\"UTF-8\" standalone=\"no\"?><svg xmlns=\"http://www.w3.org/2000/svg\" xmlns:xlink=\"http://www.w3.org/1999/xlink\" contentStyleType=\"text/css\" height=\"1058px\" preserveAspectRatio=\"none\" style=\"width:2330px;height:1058px;background:#FFFFFF;\" version=\"1.1\" viewBox=\"0 0 2330 1058\" width=\"2330px\" zoomAndPan=\"magnify\"><defs><filter height=\"300%\" id=\"f1ku1lqalg4xpe\" width=\"300%\" x=\"-1\" y=\"-1\"><feGaussianBlur result=\"blurOut\" stdDeviation=\"2.0\"/><feColorMatrix in=\"blurOut\" result=\"blurOut2\" type=\"matrix\" values=\"0 0 0 0 0 0 0 0 0 0 0 0 0 0 0 0 0 0 .4 0\"/><feOffset dx=\"4.0\" dy=\"4.0\" in=\"blurOut2\" result=\"blurOut3\"/><feBlend in=\"SourceGraphic\" in2=\"blurOut3\" mode=\"normal\"/></filter></defs><g><!--MD5=[fbc87193dbaf4d95561dea2c320d4a47]\n",
       "cluster E1--><g id=\"cluster_E1\"><a href=\"psysml:ebdb38e7-fd32-4e1f-b2f6-0447ec0a0c5f\" target=\"_top\" title=\"psysml:ebdb38e7-fd32-4e1f-b2f6-0447ec0a0c5f\" xlink:actuate=\"onRequest\" xlink:href=\"psysml:ebdb38e7-fd32-4e1f-b2f6-0447ec0a0c5f\" xlink:show=\"new\" xlink:title=\"psysml:ebdb38e7-fd32-4e1f-b2f6-0447ec0a0c5f\" xlink:type=\"simple\"><polygon fill=\"none\" filter=\"url(#f1ku1lqalg4xpe)\" points=\"16,6,305,6,312,28.2969,1954,28.2969,1954,1051,16,1051,16,6\" style=\"stroke:#000000;stroke-width:1.5;\"/><line style=\"stroke:#000000;stroke-width:1.5;\" x1=\"16\" x2=\"312\" y1=\"28.2969\" y2=\"28.2969\"/><text fill=\"#000000\" font-family=\"sans-serif\" font-size=\"14\" font-weight=\"bold\" lengthAdjust=\"spacing\" textLength=\"283\" x=\"20\" y=\"20.9951\">Spacecraft Bus Logical Architecture</text></a></g><!--MD5=[e4f7fae6ed58524ba242bb0b0d3be6b7]\n",
       "cluster E2--><g id=\"cluster_E2\"><a href=\"psysml:b8f50e5a-3122-4953-a92b-99e102f43ac6\" target=\"_top\" title=\"psysml:b8f50e5a-3122-4953-a92b-99e102f43ac6\" xlink:actuate=\"onRequest\" xlink:href=\"psysml:b8f50e5a-3122-4953-a92b-99e102f43ac6\" xlink:show=\"new\" xlink:title=\"psysml:b8f50e5a-3122-4953-a92b-99e102f43ac6\" xlink:type=\"simple\"><rect fill=\"#FFFFFF\" filter=\"url(#f1ku1lqalg4xpe)\" height=\"946\" id=\"E2\" style=\"stroke:#A80036;stroke-width:1.5;\" width=\"1850\" x=\"56\" y=\"65\"/><rect fill=\"#FFFACD\" height=\"40.2656\" style=\"stroke:#A80036;stroke-width:1.5;\" width=\"1850\" x=\"56\" y=\"65\"/><text fill=\"#000000\" font-family=\"sans-serif\" font-size=\"12\" font-style=\"italic\" lengthAdjust=\"spacing\" textLength=\"68\" x=\"947\" y=\"81.1387\">«part  def»</text><text fill=\"#000000\" font-family=\"sans-serif\" font-size=\"14\" font-style=\"italic\" lengthAdjust=\"spacing\" textLength=\"103\" x=\"929.5\" y=\"96.9639\">Spacecraft Bus</text></a></g><!--MD5=[14e3b0961a2654348d326746436168a1]\n",
       "cluster E6--><g id=\"cluster_E6\"><a href=\"psysml:1979bb9a-a624-47e2-8de9-f65ff2a651cf\" target=\"_top\" title=\"psysml:1979bb9a-a624-47e2-8de9-f65ff2a651cf\" xlink:actuate=\"onRequest\" xlink:href=\"psysml:1979bb9a-a624-47e2-8de9-f65ff2a651cf\" xlink:show=\"new\" xlink:title=\"psysml:1979bb9a-a624-47e2-8de9-f65ff2a651cf\" xlink:type=\"simple\"><rect fill=\"#FFFFFF\" filter=\"url(#f1ku1lqalg4xpe)\" height=\"391\" id=\"E6\" style=\"stroke:#A80036;stroke-width:1.5;\" width=\"1108\" x=\"750\" y=\"580\"/><rect fill=\"#FFFACD\" height=\"40.2656\" style=\"stroke:#A80036;stroke-width:1.5;\" width=\"1108\" x=\"750\" y=\"580\"/><text fill=\"#000000\" font-family=\"sans-serif\" font-size=\"12\" font-style=\"italic\" lengthAdjust=\"spacing\" textLength=\"68\" x=\"1270\" y=\"596.1387\">«part  def»</text><text fill=\"#000000\" font-family=\"sans-serif\" font-size=\"14\" font-style=\"italic\" lengthAdjust=\"spacing\" textLength=\"39\" x=\"1284.5\" y=\"611.9639\">TT&amp;C</text></a></g><!--MD5=[168fadf3d0c3fd93dd5d6da1b1d7ab76]\n",
       "cluster E7--><g id=\"cluster_E7\"><a href=\"psysml:92bd00b8-1eb1-4c59-8cf9-792f5acae044\" target=\"_top\" title=\"psysml:92bd00b8-1eb1-4c59-8cf9-792f5acae044\" xlink:actuate=\"onRequest\" xlink:href=\"psysml:92bd00b8-1eb1-4c59-8cf9-792f5acae044\" xlink:show=\"new\" xlink:title=\"psysml:92bd00b8-1eb1-4c59-8cf9-792f5acae044\" xlink:type=\"simple\"><rect fill=\"#FFFFFF\" filter=\"url(#f1ku1lqalg4xpe)\" height=\"292\" id=\"E7\" rx=\"10\" ry=\"10\" style=\"stroke:#A80036;stroke-width:1.5;\" width=\"678\" x=\"1148\" y=\"647\"/><rect fill=\"#FFFACD\" height=\"26.2969\" rx=\"10\" ry=\"10\" style=\"stroke:#FFFACD;stroke-width:1.5;\" width=\"678\" x=\"1148\" y=\"647\"/><rect fill=\"#FFFACD\" height=\"10\" style=\"stroke:#FFFACD;stroke-width:1.5;\" width=\"678\" x=\"1148\" y=\"663.2969\"/><rect fill=\"none\" height=\"292\" id=\"E7\" rx=\"10\" ry=\"10\" style=\"stroke:#A80036;stroke-width:1.5;\" width=\"678\" x=\"1148\" y=\"647\"/><text fill=\"#000000\" font-family=\"sans-serif\" font-size=\"14\" lengthAdjust=\"spacing\" textLength=\"72\" x=\"1451\" y=\"664.9951\">s_antenna</text><line style=\"stroke:#A80036;stroke-width:1.0;\" x1=\"1148\" x2=\"1826\" y1=\"673.2969\" y2=\"673.2969\"/></a></g><!--MD5=[a84b4591f868c1fa4a211716a82f2f0d]\n",
       "cluster E10--><g id=\"cluster_E10\"><a href=\"psysml:ff8fd92b-47ae-4a59-b97b-208a7237b0ce\" target=\"_top\" title=\"psysml:ff8fd92b-47ae-4a59-b97b-208a7237b0ce\" xlink:actuate=\"onRequest\" xlink:href=\"psysml:ff8fd92b-47ae-4a59-b97b-208a7237b0ce\" xlink:show=\"new\" xlink:title=\"psysml:ff8fd92b-47ae-4a59-b97b-208a7237b0ce\" xlink:type=\"simple\"><rect fill=\"#FFFFFF\" filter=\"url(#f1ku1lqalg4xpe)\" height=\"225\" id=\"E10\" rx=\"10\" ry=\"10\" style=\"stroke:#A80036;stroke-width:1.5;\" width=\"251\" x=\"1551\" y=\"690\"/><rect fill=\"#FFFACD\" height=\"40.2656\" rx=\"10\" ry=\"10\" style=\"stroke:#FFFACD;stroke-width:1.5;\" width=\"251\" x=\"1551\" y=\"690\"/><rect fill=\"#FFFACD\" height=\"10\" style=\"stroke:#FFFACD;stroke-width:1.5;\" width=\"251\" x=\"1551\" y=\"720.2656\"/><rect fill=\"none\" height=\"225\" id=\"E10\" rx=\"10\" ry=\"10\" style=\"stroke:#A80036;stroke-width:1.5;\" width=\"251\" x=\"1551\" y=\"690\"/><text fill=\"#000000\" font-family=\"sans-serif\" font-size=\"12\" font-style=\"italic\" lengthAdjust=\"spacing\" textLength=\"40\" x=\"1656.5\" y=\"706.1387\">«port»</text><text fill=\"#000000\" font-family=\"sans-serif\" font-size=\"14\" lengthAdjust=\"spacing\" textLength=\"177\" x=\"1584\" y=\"721.9639\">^commsIn: S_Uplink_Port</text><line style=\"stroke:#A80036;stroke-width:1.0;\" x1=\"1551\" x2=\"1802\" y1=\"730.2656\" y2=\"730.2656\"/></a></g><!--MD5=[7f149f147074ac12df2cb0a7728a5fb0]\n",
       "cluster E9--><g id=\"cluster_E9\"><a href=\"psysml:b99f6085-cc9b-478c-beb5-bcbaa1839e00\" target=\"_top\" title=\"psysml:b99f6085-cc9b-478c-beb5-bcbaa1839e00\" xlink:actuate=\"onRequest\" xlink:href=\"psysml:b99f6085-cc9b-478c-beb5-bcbaa1839e00\" xlink:show=\"new\" xlink:title=\"psysml:b99f6085-cc9b-478c-beb5-bcbaa1839e00\" xlink:type=\"simple\"><rect fill=\"#FFFFFF\" filter=\"url(#f1ku1lqalg4xpe)\" height=\"142\" id=\"E9\" rx=\"10\" ry=\"10\" style=\"stroke:#A80036;stroke-width:1.5;\" width=\"203\" x=\"1575\" y=\"749\"/><rect fill=\"#FFFACD\" height=\"40.2656\" rx=\"10\" ry=\"10\" style=\"stroke:#FFFACD;stroke-width:1.5;\" width=\"203\" x=\"1575\" y=\"749\"/><rect fill=\"#FFFACD\" height=\"10\" style=\"stroke:#FFFACD;stroke-width:1.5;\" width=\"203\" x=\"1575\" y=\"779.2656\"/><rect fill=\"none\" height=\"142\" id=\"E9\" rx=\"10\" ry=\"10\" style=\"stroke:#A80036;stroke-width:1.5;\" width=\"203\" x=\"1575\" y=\"749\"/><text fill=\"#000000\" font-family=\"sans-serif\" font-size=\"12\" font-style=\"italic\" lengthAdjust=\"spacing\" textLength=\"75\" x=\"1639\" y=\"765.1387\">«reference»</text><text fill=\"#000000\" font-family=\"sans-serif\" font-size=\"14\" lengthAdjust=\"spacing\" textLength=\"156\" x=\"1594.5\" y=\"780.9639\">^signal: S-band Uplink</text><line style=\"stroke:#A80036;stroke-width:1.0;\" x1=\"1575\" x2=\"1778\" y1=\"789.2656\" y2=\"789.2656\"/></a></g><!--MD5=[03104f77b71e2d8d3500c651e6e31181]\n",
       "cluster E13--><g id=\"cluster_E13\"><a href=\"psysml:57ae1b22-4613-4b54-b5b4-7f24ba8845a0\" target=\"_top\" title=\"psysml:57ae1b22-4613-4b54-b5b4-7f24ba8845a0\" xlink:actuate=\"onRequest\" xlink:href=\"psysml:57ae1b22-4613-4b54-b5b4-7f24ba8845a0\" xlink:show=\"new\" xlink:title=\"psysml:57ae1b22-4613-4b54-b5b4-7f24ba8845a0\" xlink:type=\"simple\"><rect fill=\"#FFFFFF\" filter=\"url(#f1ku1lqalg4xpe)\" height=\"225\" id=\"E13\" rx=\"10\" ry=\"10\" style=\"stroke:#A80036;stroke-width:1.5;\" width=\"275\" x=\"1252\" y=\"690\"/><rect fill=\"#FFFACD\" height=\"40.2656\" rx=\"10\" ry=\"10\" style=\"stroke:#FFFACD;stroke-width:1.5;\" width=\"275\" x=\"1252\" y=\"690\"/><rect fill=\"#FFFACD\" height=\"10\" style=\"stroke:#FFFACD;stroke-width:1.5;\" width=\"275\" x=\"1252\" y=\"720.2656\"/><rect fill=\"none\" height=\"225\" id=\"E13\" rx=\"10\" ry=\"10\" style=\"stroke:#A80036;stroke-width:1.5;\" width=\"275\" x=\"1252\" y=\"690\"/><text fill=\"#000000\" font-family=\"sans-serif\" font-size=\"12\" font-style=\"italic\" lengthAdjust=\"spacing\" textLength=\"40\" x=\"1369.5\" y=\"706.1387\">«port»</text><text fill=\"#000000\" font-family=\"sans-serif\" font-size=\"14\" lengthAdjust=\"spacing\" textLength=\"211\" x=\"1280\" y=\"721.9639\">^commsOut: S_Downlink_Port</text><line style=\"stroke:#A80036;stroke-width:1.0;\" x1=\"1252\" x2=\"1527\" y1=\"730.2656\" y2=\"730.2656\"/></a></g><!--MD5=[47bea60c1a0ac6c1143df232041969c0]\n",
       "cluster E12--><g id=\"cluster_E12\"><a href=\"psysml:c16c361f-de51-42b7-9754-2fbf8c82645d\" target=\"_top\" title=\"psysml:c16c361f-de51-42b7-9754-2fbf8c82645d\" xlink:actuate=\"onRequest\" xlink:href=\"psysml:c16c361f-de51-42b7-9754-2fbf8c82645d\" xlink:show=\"new\" xlink:title=\"psysml:c16c361f-de51-42b7-9754-2fbf8c82645d\" xlink:type=\"simple\"><rect fill=\"#FFFFFF\" filter=\"url(#f1ku1lqalg4xpe)\" height=\"142\" id=\"E12\" rx=\"10\" ry=\"10\" style=\"stroke:#A80036;stroke-width:1.5;\" width=\"227\" x=\"1276\" y=\"749\"/><rect fill=\"#FFFACD\" height=\"40.2656\" rx=\"10\" ry=\"10\" style=\"stroke:#FFFACD;stroke-width:1.5;\" width=\"227\" x=\"1276\" y=\"749\"/><rect fill=\"#FFFACD\" height=\"10\" style=\"stroke:#FFFACD;stroke-width:1.5;\" width=\"227\" x=\"1276\" y=\"779.2656\"/><rect fill=\"none\" height=\"142\" id=\"E12\" rx=\"10\" ry=\"10\" style=\"stroke:#A80036;stroke-width:1.5;\" width=\"227\" x=\"1276\" y=\"749\"/><text fill=\"#000000\" font-family=\"sans-serif\" font-size=\"12\" font-style=\"italic\" lengthAdjust=\"spacing\" textLength=\"75\" x=\"1352\" y=\"765.1387\">«reference»</text><text fill=\"#000000\" font-family=\"sans-serif\" font-size=\"14\" lengthAdjust=\"spacing\" textLength=\"177\" x=\"1297\" y=\"780.9639\">^signal: S-band Downlink</text><line style=\"stroke:#A80036;stroke-width:1.0;\" x1=\"1276\" x2=\"1503\" y1=\"789.2656\" y2=\"789.2656\"/></a></g><!--MD5=[ab3548ab6224ff035c4047a4d30b7567]\n",
       "cluster E15--><g id=\"cluster_E15\"><a href=\"psysml:d162b147-0a14-4e34-9736-3de9f33d0ae6\" target=\"_top\" title=\"psysml:d162b147-0a14-4e34-9736-3de9f33d0ae6\" xlink:actuate=\"onRequest\" xlink:href=\"psysml:d162b147-0a14-4e34-9736-3de9f33d0ae6\" xlink:show=\"new\" xlink:title=\"psysml:d162b147-0a14-4e34-9736-3de9f33d0ae6\" xlink:type=\"simple\"><rect fill=\"#FFFFFF\" filter=\"url(#f1ku1lqalg4xpe)\" height=\"292\" id=\"E15\" rx=\"10\" ry=\"10\" style=\"stroke:#A80036;stroke-width:1.5;\" width=\"334\" x=\"790\" y=\"647\"/><rect fill=\"#FFFACD\" height=\"26.2969\" rx=\"10\" ry=\"10\" style=\"stroke:#FFFACD;stroke-width:1.5;\" width=\"334\" x=\"790\" y=\"647\"/><rect fill=\"#FFFACD\" height=\"10\" style=\"stroke:#FFFACD;stroke-width:1.5;\" width=\"334\" x=\"790\" y=\"663.2969\"/><rect fill=\"none\" height=\"292\" id=\"E15\" rx=\"10\" ry=\"10\" style=\"stroke:#A80036;stroke-width:1.5;\" width=\"334\" x=\"790\" y=\"647\"/><text fill=\"#000000\" font-family=\"sans-serif\" font-size=\"14\" lengthAdjust=\"spacing\" textLength=\"81\" x=\"916.5\" y=\"664.9951\">ku_antenna</text><line style=\"stroke:#A80036;stroke-width:1.0;\" x1=\"790\" x2=\"1124\" y1=\"673.2969\" y2=\"673.2969\"/></a></g><!--MD5=[8f9210536e795b388518d3fe69e1cfa6]\n",
       "cluster E18--><g id=\"cluster_E18\"><a href=\"psysml:324669b2-459e-4705-89fb-e571b82514a0\" target=\"_top\" title=\"psysml:324669b2-459e-4705-89fb-e571b82514a0\" xlink:actuate=\"onRequest\" xlink:href=\"psysml:324669b2-459e-4705-89fb-e571b82514a0\" xlink:show=\"new\" xlink:title=\"psysml:324669b2-459e-4705-89fb-e571b82514a0\" xlink:type=\"simple\"><rect fill=\"#FFFFFF\" filter=\"url(#f1ku1lqalg4xpe)\" height=\"225\" id=\"E18\" rx=\"10\" ry=\"10\" style=\"stroke:#A80036;stroke-width:1.5;\" width=\"286\" x=\"814\" y=\"690\"/><rect fill=\"#FFFACD\" height=\"40.2656\" rx=\"10\" ry=\"10\" style=\"stroke:#FFFACD;stroke-width:1.5;\" width=\"286\" x=\"814\" y=\"690\"/><rect fill=\"#FFFACD\" height=\"10\" style=\"stroke:#FFFACD;stroke-width:1.5;\" width=\"286\" x=\"814\" y=\"720.2656\"/><rect fill=\"none\" height=\"225\" id=\"E18\" rx=\"10\" ry=\"10\" style=\"stroke:#A80036;stroke-width:1.5;\" width=\"286\" x=\"814\" y=\"690\"/><text fill=\"#000000\" font-family=\"sans-serif\" font-size=\"12\" font-style=\"italic\" lengthAdjust=\"spacing\" textLength=\"40\" x=\"937\" y=\"706.1387\">«port»</text><text fill=\"#000000\" font-family=\"sans-serif\" font-size=\"14\" lengthAdjust=\"spacing\" textLength=\"220\" x=\"843\" y=\"721.9639\">^commsOut: Ku_Downlink_Port</text><line style=\"stroke:#A80036;stroke-width:1.0;\" x1=\"814\" x2=\"1100\" y1=\"730.2656\" y2=\"730.2656\"/></a></g><!--MD5=[3e4be939245ddbd2da6080b60acb37a8]\n",
       "cluster E17--><g id=\"cluster_E17\"><a href=\"psysml:d1001b9a-0a2b-41d0-bbbd-b5fcb6ab6ad6\" target=\"_top\" title=\"psysml:d1001b9a-0a2b-41d0-bbbd-b5fcb6ab6ad6\" xlink:actuate=\"onRequest\" xlink:href=\"psysml:d1001b9a-0a2b-41d0-bbbd-b5fcb6ab6ad6\" xlink:show=\"new\" xlink:title=\"psysml:d1001b9a-0a2b-41d0-bbbd-b5fcb6ab6ad6\" xlink:type=\"simple\"><rect fill=\"#FFFFFF\" filter=\"url(#f1ku1lqalg4xpe)\" height=\"142\" id=\"E17\" rx=\"10\" ry=\"10\" style=\"stroke:#A80036;stroke-width:1.5;\" width=\"238\" x=\"838\" y=\"749\"/><rect fill=\"#FFFACD\" height=\"40.2656\" rx=\"10\" ry=\"10\" style=\"stroke:#FFFACD;stroke-width:1.5;\" width=\"238\" x=\"838\" y=\"749\"/><rect fill=\"#FFFACD\" height=\"10\" style=\"stroke:#FFFACD;stroke-width:1.5;\" width=\"238\" x=\"838\" y=\"779.2656\"/><rect fill=\"none\" height=\"142\" id=\"E17\" rx=\"10\" ry=\"10\" style=\"stroke:#A80036;stroke-width:1.5;\" width=\"238\" x=\"838\" y=\"749\"/><text fill=\"#000000\" font-family=\"sans-serif\" font-size=\"12\" font-style=\"italic\" lengthAdjust=\"spacing\" textLength=\"75\" x=\"919.5\" y=\"765.1387\">«reference»</text><text fill=\"#000000\" font-family=\"sans-serif\" font-size=\"14\" lengthAdjust=\"spacing\" textLength=\"186\" x=\"860\" y=\"780.9639\">^signal: Ku-band Downlink</text><line style=\"stroke:#A80036;stroke-width:1.0;\" x1=\"838\" x2=\"1076\" y1=\"789.2656\" y2=\"789.2656\"/></a></g><!--MD5=[ab20031b5f5b330fca1652864e8cfe71]\n",
       "cluster E22--><g id=\"cluster_E22\"><a href=\"psysml:a6d0ec3f-180c-4fb0-a22e-ff1f7034ebbd\" target=\"_top\" title=\"psysml:a6d0ec3f-180c-4fb0-a22e-ff1f7034ebbd\" xlink:actuate=\"onRequest\" xlink:href=\"psysml:a6d0ec3f-180c-4fb0-a22e-ff1f7034ebbd\" xlink:show=\"new\" xlink:title=\"psysml:a6d0ec3f-180c-4fb0-a22e-ff1f7034ebbd\" xlink:type=\"simple\"><rect fill=\"#FFFFFF\" filter=\"url(#f1ku1lqalg4xpe)\" height=\"375\" id=\"E22\" rx=\"10\" ry=\"10\" style=\"stroke:#A80036;stroke-width:1.5;\" width=\"1108\" x=\"750\" y=\"140\"/><rect fill=\"#FFFACD\" height=\"26.2969\" rx=\"10\" ry=\"10\" style=\"stroke:#FFFACD;stroke-width:1.5;\" width=\"1108\" x=\"750\" y=\"140\"/><rect fill=\"#FFFACD\" height=\"10\" style=\"stroke:#FFFACD;stroke-width:1.5;\" width=\"1108\" x=\"750\" y=\"156.2969\"/><rect fill=\"none\" height=\"375\" id=\"E22\" rx=\"10\" ry=\"10\" style=\"stroke:#A80036;stroke-width:1.5;\" width=\"1108\" x=\"750\" y=\"140\"/><text fill=\"#000000\" font-family=\"sans-serif\" font-size=\"14\" lengthAdjust=\"spacing\" textLength=\"100\" x=\"1254\" y=\"157.9951\">comms: TT&amp;C</text><line style=\"stroke:#A80036;stroke-width:1.0;\" x1=\"750\" x2=\"1858\" y1=\"166.2969\" y2=\"166.2969\"/></a></g><!--MD5=[2b498f8700fd69074bf9bb3cdfb8940b]\n",
       "cluster E23--><g id=\"cluster_E23\"><a href=\"psysml:92bd00b8-1eb1-4c59-8cf9-792f5acae044\" target=\"_top\" title=\"psysml:92bd00b8-1eb1-4c59-8cf9-792f5acae044\" xlink:actuate=\"onRequest\" xlink:href=\"psysml:92bd00b8-1eb1-4c59-8cf9-792f5acae044\" xlink:show=\"new\" xlink:title=\"psysml:92bd00b8-1eb1-4c59-8cf9-792f5acae044\" xlink:type=\"simple\"><rect fill=\"#FFFFFF\" filter=\"url(#f1ku1lqalg4xpe)\" height=\"292\" id=\"E23\" rx=\"10\" ry=\"10\" style=\"stroke:#A80036;stroke-width:1.5;\" width=\"678\" x=\"1148\" y=\"191\"/><rect fill=\"#FFFACD\" height=\"26.2969\" rx=\"10\" ry=\"10\" style=\"stroke:#FFFACD;stroke-width:1.5;\" width=\"678\" x=\"1148\" y=\"191\"/><rect fill=\"#FFFACD\" height=\"10\" style=\"stroke:#FFFACD;stroke-width:1.5;\" width=\"678\" x=\"1148\" y=\"207.2969\"/><rect fill=\"none\" height=\"292\" id=\"E23\" rx=\"10\" ry=\"10\" style=\"stroke:#A80036;stroke-width:1.5;\" width=\"678\" x=\"1148\" y=\"191\"/><text fill=\"#000000\" font-family=\"sans-serif\" font-size=\"14\" lengthAdjust=\"spacing\" textLength=\"84\" x=\"1445\" y=\"208.9951\">^s_antenna</text><line style=\"stroke:#A80036;stroke-width:1.0;\" x1=\"1148\" x2=\"1826\" y1=\"217.2969\" y2=\"217.2969\"/></a></g><!--MD5=[dc75c50e9758de09bc45469de8601ca7]\n",
       "cluster E26--><g id=\"cluster_E26\"><a href=\"psysml:ff8fd92b-47ae-4a59-b97b-208a7237b0ce\" target=\"_top\" title=\"psysml:ff8fd92b-47ae-4a59-b97b-208a7237b0ce\" xlink:actuate=\"onRequest\" xlink:href=\"psysml:ff8fd92b-47ae-4a59-b97b-208a7237b0ce\" xlink:show=\"new\" xlink:title=\"psysml:ff8fd92b-47ae-4a59-b97b-208a7237b0ce\" xlink:type=\"simple\"><rect fill=\"#FFFFFF\" filter=\"url(#f1ku1lqalg4xpe)\" height=\"225\" id=\"E26\" rx=\"10\" ry=\"10\" style=\"stroke:#A80036;stroke-width:1.5;\" width=\"251\" x=\"1551\" y=\"234\"/><rect fill=\"#FFFACD\" height=\"40.2656\" rx=\"10\" ry=\"10\" style=\"stroke:#FFFACD;stroke-width:1.5;\" width=\"251\" x=\"1551\" y=\"234\"/><rect fill=\"#FFFACD\" height=\"10\" style=\"stroke:#FFFACD;stroke-width:1.5;\" width=\"251\" x=\"1551\" y=\"264.2656\"/><rect fill=\"none\" height=\"225\" id=\"E26\" rx=\"10\" ry=\"10\" style=\"stroke:#A80036;stroke-width:1.5;\" width=\"251\" x=\"1551\" y=\"234\"/><text fill=\"#000000\" font-family=\"sans-serif\" font-size=\"12\" font-style=\"italic\" lengthAdjust=\"spacing\" textLength=\"40\" x=\"1656.5\" y=\"250.1387\">«port»</text><text fill=\"#000000\" font-family=\"sans-serif\" font-size=\"14\" lengthAdjust=\"spacing\" textLength=\"177\" x=\"1584\" y=\"265.9639\">^commsIn: S_Uplink_Port</text><line style=\"stroke:#A80036;stroke-width:1.0;\" x1=\"1551\" x2=\"1802\" y1=\"274.2656\" y2=\"274.2656\"/></a></g><!--MD5=[3360037429781029b6dfaf7a43bf1f7b]\n",
       "cluster E25--><g id=\"cluster_E25\"><a href=\"psysml:b99f6085-cc9b-478c-beb5-bcbaa1839e00\" target=\"_top\" title=\"psysml:b99f6085-cc9b-478c-beb5-bcbaa1839e00\" xlink:actuate=\"onRequest\" xlink:href=\"psysml:b99f6085-cc9b-478c-beb5-bcbaa1839e00\" xlink:show=\"new\" xlink:title=\"psysml:b99f6085-cc9b-478c-beb5-bcbaa1839e00\" xlink:type=\"simple\"><rect fill=\"#FFFFFF\" filter=\"url(#f1ku1lqalg4xpe)\" height=\"142\" id=\"E25\" rx=\"10\" ry=\"10\" style=\"stroke:#A80036;stroke-width:1.5;\" width=\"203\" x=\"1575\" y=\"293\"/><rect fill=\"#FFFACD\" height=\"40.2656\" rx=\"10\" ry=\"10\" style=\"stroke:#FFFACD;stroke-width:1.5;\" width=\"203\" x=\"1575\" y=\"293\"/><rect fill=\"#FFFACD\" height=\"10\" style=\"stroke:#FFFACD;stroke-width:1.5;\" width=\"203\" x=\"1575\" y=\"323.2656\"/><rect fill=\"none\" height=\"142\" id=\"E25\" rx=\"10\" ry=\"10\" style=\"stroke:#A80036;stroke-width:1.5;\" width=\"203\" x=\"1575\" y=\"293\"/><text fill=\"#000000\" font-family=\"sans-serif\" font-size=\"12\" font-style=\"italic\" lengthAdjust=\"spacing\" textLength=\"75\" x=\"1639\" y=\"309.1387\">«reference»</text><text fill=\"#000000\" font-family=\"sans-serif\" font-size=\"14\" lengthAdjust=\"spacing\" textLength=\"156\" x=\"1594.5\" y=\"324.9639\">^signal: S-band Uplink</text><line style=\"stroke:#A80036;stroke-width:1.0;\" x1=\"1575\" x2=\"1778\" y1=\"333.2656\" y2=\"333.2656\"/></a></g><!--MD5=[8d0e96a3685f4b58f26442a263df462b]\n",
       "cluster E29--><g id=\"cluster_E29\"><a href=\"psysml:57ae1b22-4613-4b54-b5b4-7f24ba8845a0\" target=\"_top\" title=\"psysml:57ae1b22-4613-4b54-b5b4-7f24ba8845a0\" xlink:actuate=\"onRequest\" xlink:href=\"psysml:57ae1b22-4613-4b54-b5b4-7f24ba8845a0\" xlink:show=\"new\" xlink:title=\"psysml:57ae1b22-4613-4b54-b5b4-7f24ba8845a0\" xlink:type=\"simple\"><rect fill=\"#FFFFFF\" filter=\"url(#f1ku1lqalg4xpe)\" height=\"225\" id=\"E29\" rx=\"10\" ry=\"10\" style=\"stroke:#A80036;stroke-width:1.5;\" width=\"275\" x=\"1252\" y=\"234\"/><rect fill=\"#FFFACD\" height=\"40.2656\" rx=\"10\" ry=\"10\" style=\"stroke:#FFFACD;stroke-width:1.5;\" width=\"275\" x=\"1252\" y=\"234\"/><rect fill=\"#FFFACD\" height=\"10\" style=\"stroke:#FFFACD;stroke-width:1.5;\" width=\"275\" x=\"1252\" y=\"264.2656\"/><rect fill=\"none\" height=\"225\" id=\"E29\" rx=\"10\" ry=\"10\" style=\"stroke:#A80036;stroke-width:1.5;\" width=\"275\" x=\"1252\" y=\"234\"/><text fill=\"#000000\" font-family=\"sans-serif\" font-size=\"12\" font-style=\"italic\" lengthAdjust=\"spacing\" textLength=\"40\" x=\"1369.5\" y=\"250.1387\">«port»</text><text fill=\"#000000\" font-family=\"sans-serif\" font-size=\"14\" lengthAdjust=\"spacing\" textLength=\"211\" x=\"1280\" y=\"265.9639\">^commsOut: S_Downlink_Port</text><line style=\"stroke:#A80036;stroke-width:1.0;\" x1=\"1252\" x2=\"1527\" y1=\"274.2656\" y2=\"274.2656\"/></a></g><!--MD5=[2f0afd24c78442d4f5bb8ec5a9a774bc]\n",
       "cluster E28--><g id=\"cluster_E28\"><a href=\"psysml:c16c361f-de51-42b7-9754-2fbf8c82645d\" target=\"_top\" title=\"psysml:c16c361f-de51-42b7-9754-2fbf8c82645d\" xlink:actuate=\"onRequest\" xlink:href=\"psysml:c16c361f-de51-42b7-9754-2fbf8c82645d\" xlink:show=\"new\" xlink:title=\"psysml:c16c361f-de51-42b7-9754-2fbf8c82645d\" xlink:type=\"simple\"><rect fill=\"#FFFFFF\" filter=\"url(#f1ku1lqalg4xpe)\" height=\"142\" id=\"E28\" rx=\"10\" ry=\"10\" style=\"stroke:#A80036;stroke-width:1.5;\" width=\"227\" x=\"1276\" y=\"293\"/><rect fill=\"#FFFACD\" height=\"40.2656\" rx=\"10\" ry=\"10\" style=\"stroke:#FFFACD;stroke-width:1.5;\" width=\"227\" x=\"1276\" y=\"293\"/><rect fill=\"#FFFACD\" height=\"10\" style=\"stroke:#FFFACD;stroke-width:1.5;\" width=\"227\" x=\"1276\" y=\"323.2656\"/><rect fill=\"none\" height=\"142\" id=\"E28\" rx=\"10\" ry=\"10\" style=\"stroke:#A80036;stroke-width:1.5;\" width=\"227\" x=\"1276\" y=\"293\"/><text fill=\"#000000\" font-family=\"sans-serif\" font-size=\"12\" font-style=\"italic\" lengthAdjust=\"spacing\" textLength=\"75\" x=\"1352\" y=\"309.1387\">«reference»</text><text fill=\"#000000\" font-family=\"sans-serif\" font-size=\"14\" lengthAdjust=\"spacing\" textLength=\"177\" x=\"1297\" y=\"324.9639\">^signal: S-band Downlink</text><line style=\"stroke:#A80036;stroke-width:1.0;\" x1=\"1276\" x2=\"1503\" y1=\"333.2656\" y2=\"333.2656\"/></a></g><!--MD5=[a4bfb023258c738d7c1473fd173d01a0]\n",
       "cluster E31--><g id=\"cluster_E31\"><a href=\"psysml:d162b147-0a14-4e34-9736-3de9f33d0ae6\" target=\"_top\" title=\"psysml:d162b147-0a14-4e34-9736-3de9f33d0ae6\" xlink:actuate=\"onRequest\" xlink:href=\"psysml:d162b147-0a14-4e34-9736-3de9f33d0ae6\" xlink:show=\"new\" xlink:title=\"psysml:d162b147-0a14-4e34-9736-3de9f33d0ae6\" xlink:type=\"simple\"><rect fill=\"#FFFFFF\" filter=\"url(#f1ku1lqalg4xpe)\" height=\"292\" id=\"E31\" rx=\"10\" ry=\"10\" style=\"stroke:#A80036;stroke-width:1.5;\" width=\"334\" x=\"790\" y=\"191\"/><rect fill=\"#FFFACD\" height=\"26.2969\" rx=\"10\" ry=\"10\" style=\"stroke:#FFFACD;stroke-width:1.5;\" width=\"334\" x=\"790\" y=\"191\"/><rect fill=\"#FFFACD\" height=\"10\" style=\"stroke:#FFFACD;stroke-width:1.5;\" width=\"334\" x=\"790\" y=\"207.2969\"/><rect fill=\"none\" height=\"292\" id=\"E31\" rx=\"10\" ry=\"10\" style=\"stroke:#A80036;stroke-width:1.5;\" width=\"334\" x=\"790\" y=\"191\"/><text fill=\"#000000\" font-family=\"sans-serif\" font-size=\"14\" lengthAdjust=\"spacing\" textLength=\"93\" x=\"910.5\" y=\"208.9951\">^ku_antenna</text><line style=\"stroke:#A80036;stroke-width:1.0;\" x1=\"790\" x2=\"1124\" y1=\"217.2969\" y2=\"217.2969\"/></a></g><!--MD5=[e302fcbac4582b63c9970770c719f06b]\n",
       "cluster E34--><g id=\"cluster_E34\"><a href=\"psysml:324669b2-459e-4705-89fb-e571b82514a0\" target=\"_top\" title=\"psysml:324669b2-459e-4705-89fb-e571b82514a0\" xlink:actuate=\"onRequest\" xlink:href=\"psysml:324669b2-459e-4705-89fb-e571b82514a0\" xlink:show=\"new\" xlink:title=\"psysml:324669b2-459e-4705-89fb-e571b82514a0\" xlink:type=\"simple\"><rect fill=\"#FFFFFF\" filter=\"url(#f1ku1lqalg4xpe)\" height=\"225\" id=\"E34\" rx=\"10\" ry=\"10\" style=\"stroke:#A80036;stroke-width:1.5;\" width=\"286\" x=\"814\" y=\"234\"/><rect fill=\"#FFFACD\" height=\"40.2656\" rx=\"10\" ry=\"10\" style=\"stroke:#FFFACD;stroke-width:1.5;\" width=\"286\" x=\"814\" y=\"234\"/><rect fill=\"#FFFACD\" height=\"10\" style=\"stroke:#FFFACD;stroke-width:1.5;\" width=\"286\" x=\"814\" y=\"264.2656\"/><rect fill=\"none\" height=\"225\" id=\"E34\" rx=\"10\" ry=\"10\" style=\"stroke:#A80036;stroke-width:1.5;\" width=\"286\" x=\"814\" y=\"234\"/><text fill=\"#000000\" font-family=\"sans-serif\" font-size=\"12\" font-style=\"italic\" lengthAdjust=\"spacing\" textLength=\"40\" x=\"937\" y=\"250.1387\">«port»</text><text fill=\"#000000\" font-family=\"sans-serif\" font-size=\"14\" lengthAdjust=\"spacing\" textLength=\"220\" x=\"843\" y=\"265.9639\">^commsOut: Ku_Downlink_Port</text><line style=\"stroke:#A80036;stroke-width:1.0;\" x1=\"814\" x2=\"1100\" y1=\"274.2656\" y2=\"274.2656\"/></a></g><!--MD5=[9bd75f22b0dfbcd1318714851d8a56bf]\n",
       "cluster E33--><g id=\"cluster_E33\"><a href=\"psysml:d1001b9a-0a2b-41d0-bbbd-b5fcb6ab6ad6\" target=\"_top\" title=\"psysml:d1001b9a-0a2b-41d0-bbbd-b5fcb6ab6ad6\" xlink:actuate=\"onRequest\" xlink:href=\"psysml:d1001b9a-0a2b-41d0-bbbd-b5fcb6ab6ad6\" xlink:show=\"new\" xlink:title=\"psysml:d1001b9a-0a2b-41d0-bbbd-b5fcb6ab6ad6\" xlink:type=\"simple\"><rect fill=\"#FFFFFF\" filter=\"url(#f1ku1lqalg4xpe)\" height=\"142\" id=\"E33\" rx=\"10\" ry=\"10\" style=\"stroke:#A80036;stroke-width:1.5;\" width=\"238\" x=\"838\" y=\"293\"/><rect fill=\"#FFFACD\" height=\"40.2656\" rx=\"10\" ry=\"10\" style=\"stroke:#FFFACD;stroke-width:1.5;\" width=\"238\" x=\"838\" y=\"293\"/><rect fill=\"#FFFACD\" height=\"10\" style=\"stroke:#FFFACD;stroke-width:1.5;\" width=\"238\" x=\"838\" y=\"323.2656\"/><rect fill=\"none\" height=\"142\" id=\"E33\" rx=\"10\" ry=\"10\" style=\"stroke:#A80036;stroke-width:1.5;\" width=\"238\" x=\"838\" y=\"293\"/><text fill=\"#000000\" font-family=\"sans-serif\" font-size=\"12\" font-style=\"italic\" lengthAdjust=\"spacing\" textLength=\"75\" x=\"919.5\" y=\"309.1387\">«reference»</text><text fill=\"#000000\" font-family=\"sans-serif\" font-size=\"14\" lengthAdjust=\"spacing\" textLength=\"186\" x=\"860\" y=\"324.9639\">^signal: Ku-band Downlink</text><line style=\"stroke:#A80036;stroke-width:1.0;\" x1=\"838\" x2=\"1076\" y1=\"333.2656\" y2=\"333.2656\"/></a></g><g><a href=\"psysml:2bcbc93a-7de9-424b-a3ff-1c0a565d4cfc\" target=\"_top\" title=\"psysml:2bcbc93a-7de9-424b-a3ff-1c0a565d4cfc\" xlink:actuate=\"onRequest\" xlink:href=\"psysml:2bcbc93a-7de9-424b-a3ff-1c0a565d4cfc\" xlink:show=\"new\" xlink:title=\"psysml:2bcbc93a-7de9-424b-a3ff-1c0a565d4cfc\" xlink:type=\"simple\"><rect fill=\"#FFFACD\" filter=\"url(#f1ku1lqalg4xpe)\" height=\"45.2656\" id=\"E3\" style=\"stroke:#A80036;stroke-width:1.5;\" width=\"75\" x=\"647.5\" y=\"359\"/><text fill=\"#000000\" font-family=\"sans-serif\" font-size=\"12\" font-style=\"italic\" lengthAdjust=\"spacing\" textLength=\"68\" x=\"651\" y=\"375.1387\">«part  def»</text><text fill=\"#000000\" font-family=\"sans-serif\" font-size=\"14\" font-style=\"italic\" lengthAdjust=\"spacing\" textLength=\"40\" x=\"665\" y=\"390.9639\">ADCS</text></a></g><g><a href=\"psysml:de45f338-2e53-4c66-92a2-29030dbadc26\" target=\"_top\" title=\"psysml:de45f338-2e53-4c66-92a2-29030dbadc26\" xlink:actuate=\"onRequest\" xlink:href=\"psysml:de45f338-2e53-4c66-92a2-29030dbadc26\" xlink:show=\"new\" xlink:title=\"psysml:de45f338-2e53-4c66-92a2-29030dbadc26\" xlink:type=\"simple\"><rect fill=\"#FFFACD\" filter=\"url(#f1ku1lqalg4xpe)\" height=\"45.2656\" id=\"E4\" style=\"stroke:#A80036;stroke-width:1.5;\" width=\"84\" x=\"528\" y=\"359\"/><text fill=\"#000000\" font-family=\"sans-serif\" font-size=\"12\" font-style=\"italic\" lengthAdjust=\"spacing\" textLength=\"68\" x=\"536\" y=\"375.1387\">«part  def»</text><text fill=\"#000000\" font-family=\"sans-serif\" font-size=\"14\" font-style=\"italic\" lengthAdjust=\"spacing\" textLength=\"73\" x=\"533.5\" y=\"390.9639\">Navigation</text></a></g><g><a href=\"psysml:0e45ecf6-5793-4c1a-8abf-a6291643a769\" target=\"_top\" title=\"psysml:0e45ecf6-5793-4c1a-8abf-a6291643a769\" xlink:actuate=\"onRequest\" xlink:href=\"psysml:0e45ecf6-5793-4c1a-8abf-a6291643a769\" xlink:show=\"new\" xlink:title=\"psysml:0e45ecf6-5793-4c1a-8abf-a6291643a769\" xlink:type=\"simple\"><rect fill=\"#FFFACD\" filter=\"url(#f1ku1lqalg4xpe)\" height=\"45.2656\" id=\"E5\" style=\"stroke:#A80036;stroke-width:1.5;\" width=\"75\" x=\"417.5\" y=\"359\"/><text fill=\"#000000\" font-family=\"sans-serif\" font-size=\"12\" font-style=\"italic\" lengthAdjust=\"spacing\" textLength=\"68\" x=\"421\" y=\"375.1387\">«part  def»</text><text fill=\"#000000\" font-family=\"sans-serif\" font-size=\"14\" font-style=\"italic\" lengthAdjust=\"spacing\" textLength=\"43\" x=\"433.5\" y=\"390.9639\">C&amp;DH</text></a></g><!--MD5=[bee11217b2f71d958a27249dc326068c]\n",
       "class E14--><a href=\"psysml:5a267b48-40dc-4b40-b17d-18230d2ad9e2\" target=\"_top\" title=\"psysml:5a267b48-40dc-4b40-b17d-18230d2ad9e2\" xlink:actuate=\"onRequest\" xlink:href=\"psysml:5a267b48-40dc-4b40-b17d-18230d2ad9e2\" xlink:show=\"new\" xlink:title=\"psysml:5a267b48-40dc-4b40-b17d-18230d2ad9e2\" xlink:type=\"simple\"><g id=\"elem_E14\"><rect fill=\"#FFFACD\" filter=\"url(#f1ku1lqalg4xpe)\" height=\"75.0813\" id=\"E14\" rx=\"10\" ry=\"10\" style=\"stroke:#181818;stroke-width:0.5;\" width=\"71\" x=\"1164.5\" y=\"800\"/><text fill=\"#000000\" font-family=\"sans-serif\" font-size=\"12\" font-style=\"italic\" lengthAdjust=\"spacing\" textLength=\"69\" x=\"1165.5\" y=\"816.1387\">«attribute»</text><text fill=\"#000000\" font-family=\"sans-serif\" font-size=\"14\" lengthAdjust=\"spacing\" textLength=\"29\" x=\"1181.5\" y=\"831.9639\">gain</text><line style=\"stroke:#181818;stroke-width:0.5;\" x1=\"1165.5\" x2=\"1234.5\" y1=\"840.2656\" y2=\"840.2656\"/><text fill=\"#000000\" font-family=\"sans-serif\" font-size=\"14\" lengthAdjust=\"spacing\" textLength=\"25\" x=\"1170.5\" y=\"867.7795\">= 3</text><text fill=\"#000000\" font-family=\"sans-serif\" font-size=\"14\" font-style=\"italic\" lengthAdjust=\"spacing\" textLength=\"44\" x=\"1178\" y=\"852.6123\">values</text></g></a><!--MD5=[b9389687b975829384b498ac4b7476b2]\n",
       "class E8--><a href=\"psysml:ae8cc829-603d-43ac-8889-687a43400911\" target=\"_top\" title=\"psysml:ae8cc829-603d-43ac-8889-687a43400911\" xlink:actuate=\"onRequest\" xlink:href=\"psysml:ae8cc829-603d-43ac-8889-687a43400911\" xlink:show=\"new\" xlink:title=\"psysml:ae8cc829-603d-43ac-8889-687a43400911\" xlink:type=\"simple\"><g id=\"elem_E8\"><rect fill=\"#FFFACD\" filter=\"url(#f1ku1lqalg4xpe)\" height=\"75.0813\" id=\"E8\" rx=\"10\" ry=\"10\" style=\"stroke:#181818;stroke-width:0.5;\" width=\"108\" x=\"1622\" y=\"800\"/><text fill=\"#000000\" font-family=\"sans-serif\" font-size=\"12\" font-style=\"italic\" lengthAdjust=\"spacing\" textLength=\"69\" x=\"1641.5\" y=\"816.1387\">«attribute»</text><text fill=\"#000000\" font-family=\"sans-serif\" font-size=\"14\" lengthAdjust=\"spacing\" textLength=\"81\" x=\"1631.5\" y=\"831.9639\">^frequency</text><line style=\"stroke:#181818;stroke-width:0.5;\" x1=\"1623\" x2=\"1729\" y1=\"840.2656\" y2=\"840.2656\"/><text fill=\"#000000\" font-family=\"sans-serif\" font-size=\"14\" lengthAdjust=\"spacing\" textLength=\"96\" x=\"1628\" y=\"867.7795\">= 2025 [MHz]</text><text fill=\"#000000\" font-family=\"sans-serif\" font-size=\"14\" font-style=\"italic\" lengthAdjust=\"spacing\" textLength=\"44\" x=\"1654\" y=\"852.6123\">values</text></g></a><!--MD5=[1dd1bfd58a279cf63c5f349dbc8fc6a1]\n",
       "class E11--><a href=\"psysml:051e99eb-90d1-410a-9f04-7472dc617fe1\" target=\"_top\" title=\"psysml:051e99eb-90d1-410a-9f04-7472dc617fe1\" xlink:actuate=\"onRequest\" xlink:href=\"psysml:051e99eb-90d1-410a-9f04-7472dc617fe1\" xlink:show=\"new\" xlink:title=\"psysml:051e99eb-90d1-410a-9f04-7472dc617fe1\" xlink:type=\"simple\"><g id=\"elem_E11\"><rect fill=\"#FFFACD\" filter=\"url(#f1ku1lqalg4xpe)\" height=\"75.0813\" id=\"E11\" rx=\"10\" ry=\"10\" style=\"stroke:#181818;stroke-width:0.5;\" width=\"108\" x=\"1335\" y=\"800\"/><text fill=\"#000000\" font-family=\"sans-serif\" font-size=\"12\" font-style=\"italic\" lengthAdjust=\"spacing\" textLength=\"69\" x=\"1354.5\" y=\"816.1387\">«attribute»</text><text fill=\"#000000\" font-family=\"sans-serif\" font-size=\"14\" lengthAdjust=\"spacing\" textLength=\"81\" x=\"1344.5\" y=\"831.9639\">^frequency</text><line style=\"stroke:#181818;stroke-width:0.5;\" x1=\"1336\" x2=\"1442\" y1=\"840.2656\" y2=\"840.2656\"/><text fill=\"#000000\" font-family=\"sans-serif\" font-size=\"14\" lengthAdjust=\"spacing\" textLength=\"96\" x=\"1341\" y=\"867.7795\">= 2200 [MHz]</text><text fill=\"#000000\" font-family=\"sans-serif\" font-size=\"14\" font-style=\"italic\" lengthAdjust=\"spacing\" textLength=\"44\" x=\"1367\" y=\"852.6123\">values</text></g></a><!--MD5=[35f0587eaee8d5bb9a02e25b63afc23b]\n",
       "class E16--><a href=\"psysml:221de0e0-f0cb-440f-9389-36e6f3f81eb2\" target=\"_top\" title=\"psysml:221de0e0-f0cb-440f-9389-36e6f3f81eb2\" xlink:actuate=\"onRequest\" xlink:href=\"psysml:221de0e0-f0cb-440f-9389-36e6f3f81eb2\" xlink:show=\"new\" xlink:title=\"psysml:221de0e0-f0cb-440f-9389-36e6f3f81eb2\" xlink:type=\"simple\"><g id=\"elem_E16\"><rect fill=\"#FFFACD\" filter=\"url(#f1ku1lqalg4xpe)\" height=\"75.0813\" id=\"E16\" rx=\"10\" ry=\"10\" style=\"stroke:#181818;stroke-width:0.5;\" width=\"117\" x=\"898.5\" y=\"800\"/><text fill=\"#000000\" font-family=\"sans-serif\" font-size=\"12\" font-style=\"italic\" lengthAdjust=\"spacing\" textLength=\"69\" x=\"922.5\" y=\"816.1387\">«attribute»</text><text fill=\"#000000\" font-family=\"sans-serif\" font-size=\"14\" lengthAdjust=\"spacing\" textLength=\"81\" x=\"912.5\" y=\"831.9639\">^frequency</text><line style=\"stroke:#181818;stroke-width:0.5;\" x1=\"899.5\" x2=\"1014.5\" y1=\"840.2656\" y2=\"840.2656\"/><text fill=\"#000000\" font-family=\"sans-serif\" font-size=\"14\" lengthAdjust=\"spacing\" textLength=\"105\" x=\"904.5\" y=\"867.7795\">= 25600 [MHz]</text><text fill=\"#000000\" font-family=\"sans-serif\" font-size=\"14\" font-style=\"italic\" lengthAdjust=\"spacing\" textLength=\"44\" x=\"935\" y=\"852.6123\">values</text></g></a><g><a href=\"psysml:cae26e94-182f-4803-b16d-a44fb52c3573\" target=\"_top\" title=\"psysml:cae26e94-182f-4803-b16d-a44fb52c3573\" xlink:actuate=\"onRequest\" xlink:href=\"psysml:cae26e94-182f-4803-b16d-a44fb52c3573\" xlink:show=\"new\" xlink:title=\"psysml:cae26e94-182f-4803-b16d-a44fb52c3573\" xlink:type=\"simple\"><rect fill=\"#FFFACD\" filter=\"url(#f1ku1lqalg4xpe)\" height=\"45.2656\" id=\"E19\" style=\"stroke:#A80036;stroke-width:1.5;\" width=\"75\" x=\"307.5\" y=\"359\"/><text fill=\"#000000\" font-family=\"sans-serif\" font-size=\"12\" font-style=\"italic\" lengthAdjust=\"spacing\" textLength=\"68\" x=\"311\" y=\"375.1387\">«part  def»</text><text fill=\"#000000\" font-family=\"sans-serif\" font-size=\"14\" font-style=\"italic\" lengthAdjust=\"spacing\" textLength=\"42\" x=\"324\" y=\"390.9639\">Power</text></a></g><g><a href=\"psysml:fbc994d2-0c9b-4432-85ae-a4dd1b38946b\" target=\"_top\" title=\"psysml:fbc994d2-0c9b-4432-85ae-a4dd1b38946b\" xlink:actuate=\"onRequest\" xlink:href=\"psysml:fbc994d2-0c9b-4432-85ae-a4dd1b38946b\" xlink:show=\"new\" xlink:title=\"psysml:fbc994d2-0c9b-4432-85ae-a4dd1b38946b\" xlink:type=\"simple\"><rect fill=\"#FFFACD\" filter=\"url(#f1ku1lqalg4xpe)\" height=\"45.2656\" id=\"E20\" style=\"stroke:#A80036;stroke-width:1.5;\" width=\"82\" x=\"190\" y=\"359\"/><text fill=\"#000000\" font-family=\"sans-serif\" font-size=\"12\" font-style=\"italic\" lengthAdjust=\"spacing\" textLength=\"68\" x=\"197\" y=\"375.1387\">«part  def»</text><text fill=\"#000000\" font-family=\"sans-serif\" font-size=\"14\" font-style=\"italic\" lengthAdjust=\"spacing\" textLength=\"71\" x=\"195.5\" y=\"390.9639\">Structures</text></a></g><g><a href=\"psysml:d390df2d-b143-48e8-bd0d-396ffb5b02e2\" target=\"_top\" title=\"psysml:d390df2d-b143-48e8-bd0d-396ffb5b02e2\" xlink:actuate=\"onRequest\" xlink:href=\"psysml:d390df2d-b143-48e8-bd0d-396ffb5b02e2\" xlink:show=\"new\" xlink:title=\"psysml:d390df2d-b143-48e8-bd0d-396ffb5b02e2\" xlink:type=\"simple\"><rect fill=\"#FFFACD\" filter=\"url(#f1ku1lqalg4xpe)\" height=\"45.2656\" id=\"E21\" style=\"stroke:#A80036;stroke-width:1.5;\" width=\"75\" x=\"79.5\" y=\"359\"/><text fill=\"#000000\" font-family=\"sans-serif\" font-size=\"12\" font-style=\"italic\" lengthAdjust=\"spacing\" textLength=\"68\" x=\"83\" y=\"375.1387\">«part  def»</text><text fill=\"#000000\" font-family=\"sans-serif\" font-size=\"14\" font-style=\"italic\" lengthAdjust=\"spacing\" textLength=\"56\" x=\"89\" y=\"390.9639\">Thermal</text></a></g><!--MD5=[6366ee80e77914263c86fca8571e11f5]\n",
       "class E30--><a href=\"psysml:5a267b48-40dc-4b40-b17d-18230d2ad9e2\" target=\"_top\" title=\"psysml:5a267b48-40dc-4b40-b17d-18230d2ad9e2\" xlink:actuate=\"onRequest\" xlink:href=\"psysml:5a267b48-40dc-4b40-b17d-18230d2ad9e2\" xlink:show=\"new\" xlink:title=\"psysml:5a267b48-40dc-4b40-b17d-18230d2ad9e2\" xlink:type=\"simple\"><g id=\"elem_E30\"><rect fill=\"#FFFACD\" filter=\"url(#f1ku1lqalg4xpe)\" height=\"75.0813\" id=\"E30\" rx=\"10\" ry=\"10\" style=\"stroke:#181818;stroke-width:0.5;\" width=\"71\" x=\"1164.5\" y=\"344\"/><text fill=\"#000000\" font-family=\"sans-serif\" font-size=\"12\" font-style=\"italic\" lengthAdjust=\"spacing\" textLength=\"69\" x=\"1165.5\" y=\"360.1387\">«attribute»</text><text fill=\"#000000\" font-family=\"sans-serif\" font-size=\"14\" lengthAdjust=\"spacing\" textLength=\"29\" x=\"1181.5\" y=\"375.9639\">gain</text><line style=\"stroke:#181818;stroke-width:0.5;\" x1=\"1165.5\" x2=\"1234.5\" y1=\"384.2656\" y2=\"384.2656\"/><text fill=\"#000000\" font-family=\"sans-serif\" font-size=\"14\" lengthAdjust=\"spacing\" textLength=\"25\" x=\"1170.5\" y=\"411.7795\">= 3</text><text fill=\"#000000\" font-family=\"sans-serif\" font-size=\"14\" font-style=\"italic\" lengthAdjust=\"spacing\" textLength=\"44\" x=\"1178\" y=\"396.6123\">values</text></g></a><!--MD5=[d961d9d5dcc77964a221abceaadb3cc6]\n",
       "class E24--><a href=\"psysml:ae8cc829-603d-43ac-8889-687a43400911\" target=\"_top\" title=\"psysml:ae8cc829-603d-43ac-8889-687a43400911\" xlink:actuate=\"onRequest\" xlink:href=\"psysml:ae8cc829-603d-43ac-8889-687a43400911\" xlink:show=\"new\" xlink:title=\"psysml:ae8cc829-603d-43ac-8889-687a43400911\" xlink:type=\"simple\"><g id=\"elem_E24\"><rect fill=\"#FFFACD\" filter=\"url(#f1ku1lqalg4xpe)\" height=\"75.0813\" id=\"E24\" rx=\"10\" ry=\"10\" style=\"stroke:#181818;stroke-width:0.5;\" width=\"108\" x=\"1622\" y=\"344\"/><text fill=\"#000000\" font-family=\"sans-serif\" font-size=\"12\" font-style=\"italic\" lengthAdjust=\"spacing\" textLength=\"69\" x=\"1641.5\" y=\"360.1387\">«attribute»</text><text fill=\"#000000\" font-family=\"sans-serif\" font-size=\"14\" lengthAdjust=\"spacing\" textLength=\"81\" x=\"1631.5\" y=\"375.9639\">^frequency</text><line style=\"stroke:#181818;stroke-width:0.5;\" x1=\"1623\" x2=\"1729\" y1=\"384.2656\" y2=\"384.2656\"/><text fill=\"#000000\" font-family=\"sans-serif\" font-size=\"14\" lengthAdjust=\"spacing\" textLength=\"96\" x=\"1628\" y=\"411.7795\">= 2025 [MHz]</text><text fill=\"#000000\" font-family=\"sans-serif\" font-size=\"14\" font-style=\"italic\" lengthAdjust=\"spacing\" textLength=\"44\" x=\"1654\" y=\"396.6123\">values</text></g></a><!--MD5=[066bc520e5788adc19ecb36845367d7b]\n",
       "class E27--><a href=\"psysml:051e99eb-90d1-410a-9f04-7472dc617fe1\" target=\"_top\" title=\"psysml:051e99eb-90d1-410a-9f04-7472dc617fe1\" xlink:actuate=\"onRequest\" xlink:href=\"psysml:051e99eb-90d1-410a-9f04-7472dc617fe1\" xlink:show=\"new\" xlink:title=\"psysml:051e99eb-90d1-410a-9f04-7472dc617fe1\" xlink:type=\"simple\"><g id=\"elem_E27\"><rect fill=\"#FFFACD\" filter=\"url(#f1ku1lqalg4xpe)\" height=\"75.0813\" id=\"E27\" rx=\"10\" ry=\"10\" style=\"stroke:#181818;stroke-width:0.5;\" width=\"108\" x=\"1335\" y=\"344\"/><text fill=\"#000000\" font-family=\"sans-serif\" font-size=\"12\" font-style=\"italic\" lengthAdjust=\"spacing\" textLength=\"69\" x=\"1354.5\" y=\"360.1387\">«attribute»</text><text fill=\"#000000\" font-family=\"sans-serif\" font-size=\"14\" lengthAdjust=\"spacing\" textLength=\"81\" x=\"1344.5\" y=\"375.9639\">^frequency</text><line style=\"stroke:#181818;stroke-width:0.5;\" x1=\"1336\" x2=\"1442\" y1=\"384.2656\" y2=\"384.2656\"/><text fill=\"#000000\" font-family=\"sans-serif\" font-size=\"14\" lengthAdjust=\"spacing\" textLength=\"96\" x=\"1341\" y=\"411.7795\">= 2200 [MHz]</text><text fill=\"#000000\" font-family=\"sans-serif\" font-size=\"14\" font-style=\"italic\" lengthAdjust=\"spacing\" textLength=\"44\" x=\"1367\" y=\"396.6123\">values</text></g></a><!--MD5=[541982d0c4e6f81f5d688cdf05a252dd]\n",
       "class E32--><a href=\"psysml:221de0e0-f0cb-440f-9389-36e6f3f81eb2\" target=\"_top\" title=\"psysml:221de0e0-f0cb-440f-9389-36e6f3f81eb2\" xlink:actuate=\"onRequest\" xlink:href=\"psysml:221de0e0-f0cb-440f-9389-36e6f3f81eb2\" xlink:show=\"new\" xlink:title=\"psysml:221de0e0-f0cb-440f-9389-36e6f3f81eb2\" xlink:type=\"simple\"><g id=\"elem_E32\"><rect fill=\"#FFFACD\" filter=\"url(#f1ku1lqalg4xpe)\" height=\"75.0813\" id=\"E32\" rx=\"10\" ry=\"10\" style=\"stroke:#181818;stroke-width:0.5;\" width=\"117\" x=\"898.5\" y=\"344\"/><text fill=\"#000000\" font-family=\"sans-serif\" font-size=\"12\" font-style=\"italic\" lengthAdjust=\"spacing\" textLength=\"69\" x=\"922.5\" y=\"360.1387\">«attribute»</text><text fill=\"#000000\" font-family=\"sans-serif\" font-size=\"14\" lengthAdjust=\"spacing\" textLength=\"81\" x=\"912.5\" y=\"375.9639\">^frequency</text><line style=\"stroke:#181818;stroke-width:0.5;\" x1=\"899.5\" x2=\"1014.5\" y1=\"384.2656\" y2=\"384.2656\"/><text fill=\"#000000\" font-family=\"sans-serif\" font-size=\"14\" lengthAdjust=\"spacing\" textLength=\"105\" x=\"904.5\" y=\"411.7795\">= 25600 [MHz]</text><text fill=\"#000000\" font-family=\"sans-serif\" font-size=\"14\" font-style=\"italic\" lengthAdjust=\"spacing\" textLength=\"44\" x=\"935\" y=\"396.6123\">values</text></g></a><a href=\"psysml:98185641-3bf2-4463-9952-bbccf171b0ec\" target=\"_top\" title=\"psysml:98185641-3bf2-4463-9952-bbccf171b0ec\" xlink:actuate=\"onRequest\" xlink:href=\"psysml:98185641-3bf2-4463-9952-bbccf171b0ec\" xlink:show=\"new\" xlink:title=\"psysml:98185641-3bf2-4463-9952-bbccf171b0ec\" xlink:type=\"simple\"><polygon fill=\"#FFFACD\" filter=\"url(#f1ku1lqalg4xpe)\" points=\"2173,811,2299,811,2306,833.2969,2313,833.2969,2313,863.5938,2173,863.5938,2173,811\" style=\"stroke:#181818;stroke-width:0.5;\"/><line style=\"stroke:#181818;stroke-width:0.5;\" x1=\"2173\" x2=\"2306\" y1=\"833.2969\" y2=\"833.2969\"/><text fill=\"#000000\" font-family=\"sans-serif\" font-size=\"14\" lengthAdjust=\"spacing\" textLength=\"120\" x=\"2177\" y=\"825.9951\">VehicleQuantities</text></a><a href=\"psysml:a96f8467-50ea-4fad-a982-d1d52c895ebf\" target=\"_top\" title=\"psysml:a96f8467-50ea-4fad-a982-d1d52c895ebf\" xlink:actuate=\"onRequest\" xlink:href=\"psysml:a96f8467-50ea-4fad-a982-d1d52c895ebf\" xlink:show=\"new\" xlink:title=\"psysml:a96f8467-50ea-4fad-a982-d1d52c895ebf\" xlink:type=\"simple\"><polygon fill=\"#FFFACD\" filter=\"url(#f1ku1lqalg4xpe)\" points=\"1978,811,2124,811,2131,833.2969,2138,833.2969,2138,863.5938,1978,863.5938,1978,811\" style=\"stroke:#181818;stroke-width:0.5;\"/><line style=\"stroke:#181818;stroke-width:0.5;\" x1=\"1978\" x2=\"2131\" y1=\"833.2969\" y2=\"833.2969\"/><text fill=\"#000000\" font-family=\"sans-serif\" font-size=\"14\" lengthAdjust=\"spacing\" textLength=\"140\" x=\"1982\" y=\"825.9951\">'Propulsion Element'</text></a><!--MD5=[ba1d469c6c98f29c82caba337661ff2e]\n",
       "link E22 to E6--><g id=\"link_E22_E6\"><a href=\"psysml:009fd9bb-75a3-4d09-8088-3e6cf0106e8f\" target=\"_top\" title=\"psysml:009fd9bb-75a3-4d09-8088-3e6cf0106e8f\" xlink:actuate=\"onRequest\" xlink:href=\"psysml:009fd9bb-75a3-4d09-8088-3e6cf0106e8f\" xlink:show=\"new\" xlink:title=\"psysml:009fd9bb-75a3-4d09-8088-3e6cf0106e8f\" xlink:type=\"simple\"><path d=\"M758,515.2384 C758,516.0407 758,516.8449 758,517.6509 C758,520.875 758,524.1289 758,527.4092 C758,540.5303 758,554.0744 758,567.8298 C758,571.2686 758,574.7207 758,578.1827 C758,578.6154 758,579.0483 758,579.4814 C758,579.5897 758,579.6979 758,579.8062 \" fill=\"none\" id=\"E22-to-E6\" style=\"stroke:#181818;stroke-width:1.0;\"/><polygon fill=\"#FFFFFF\" points=\"758,579.8062,751,560.8062,765,560.8062,758,579.8062\" style=\"stroke:#181818;stroke-width:1.0;\"/><ellipse cx=\"753\" cy=\"555.1062\" fill=\"#181818\" rx=\"2\" ry=\"2\" style=\"stroke:#181818;stroke-width:1.0;\"/><ellipse cx=\"763\" cy=\"555.1062\" fill=\"#181818\" rx=\"2\" ry=\"2\" style=\"stroke:#181818;stroke-width:1.0;\"/></a></g><!--MD5=[ff719b60d86bd37a66c0a4913da1a2ca]\n",
       "link E1 to E35--><g id=\"link_E1_E35\"><a href=\"psysml:bbf3f468-bd75-4c31-afb1-60b9cd9d6fdc\" target=\"_top\" title=\"psysml:bbf3f468-bd75-4c31-afb1-60b9cd9d6fdc\" xlink:actuate=\"onRequest\" xlink:href=\"psysml:bbf3f468-bd75-4c31-afb1-60b9cd9d6fdc\" xlink:show=\"new\" xlink:title=\"psysml:bbf3f468-bd75-4c31-afb1-60b9cd9d6fdc\" xlink:type=\"simple\"><path d=\"M1954.0265,387.1312 C1954.1653,387.2131 1954.3058,387.296 1954.4479,387.3799 C1954.732,387.5478 1955.0227,387.7199 1955.3198,387.8961 C1955.914,388.2485 1956.534,388.6176 1957.1788,389.0031 C1958.4686,389.774 1959.8581,390.6106 1961.3411,391.5113 C1964.307,393.3126 1967.6468,395.3702 1971.3102,397.6716 C1985.9634,406.8769 2005.7931,419.9812 2027.5788,436.1775 C2071.15,468.57 2122.545,513.33 2156,564 C2207.56,642.09 2230.35,752.85 2238.79,805.88 \" fill=\"none\" id=\"E1-to-E35\" style=\"stroke:#181818;stroke-width:1.0;stroke-dasharray:7.0,7.0;\"/><polygon fill=\"#181818\" points=\"2239.56,810.83,2242.1243,801.3208,2238.789,805.8898,2234.22,802.5545,2239.56,810.83\" style=\"stroke:#181818;stroke-width:1.0;\"/><text fill=\"#000000\" font-family=\"sans-serif\" font-size=\"13\" lengthAdjust=\"spacing\" textLength=\"65\" x=\"2148\" y=\"552.0669\">«import»*</text></a></g><!--MD5=[ad752e415f276dc279cfe12a35f90cab]\n",
       "link E2 to E36--><g id=\"link_E2_E36\"><a href=\"psysml:177f5cc7-6ba5-4844-aa1a-04489b91b7ec\" target=\"_top\" title=\"psysml:177f5cc7-6ba5-4844-aa1a-04489b91b7ec\" xlink:actuate=\"onRequest\" xlink:href=\"psysml:177f5cc7-6ba5-4844-aa1a-04489b91b7ec\" xlink:show=\"new\" xlink:title=\"psysml:177f5cc7-6ba5-4844-aa1a-04489b91b7ec\" xlink:type=\"simple\"><path d=\"M1906.1719,546.3022 C1906.6656,548.0049 1907.169,549.7082 1907.6819,551.4117 C1909.7333,558.226 1911.9359,565.0452 1914.2702,571.853 C1918.9388,585.4687 1924.1345,599.039 1929.7028,612.4336 C1940.8394,639.2228 1953.4663,665.3094 1966.3475,689.6513 C1992.11,738.335 2018.89,780.04 2036.8,806.43 \" fill=\"none\" id=\"E2-to-E36\" style=\"stroke:#181818;stroke-width:1.0;stroke-dasharray:7.0,7.0;\"/><polygon fill=\"#181818\" points=\"2039.73,810.73,2037.9431,801.0446,2036.904,806.6052,2031.3434,805.5662,2039.73,810.73\" style=\"stroke:#181818;stroke-width:1.0;\"/><text fill=\"#000000\" font-family=\"sans-serif\" font-size=\"13\" lengthAdjust=\"spacing\" textLength=\"65\" x=\"1908\" y=\"552.0669\">«import»*</text></a></g><!--MD5=[9f40f5f42fc2a2da98f0cf410dd9537d]\n",
       "@startuml\r\n",
       "skin sysmlc\r\n",
       "skinparam wrapWidth 300\r\n",
       "hide circle\r\n",
       "  skinparam ranksep 10\r\n",
       "skinparam rectangle {\r\n",
       " backgroundColor<<block>> LightGreen\r\n",
       "}\r\n",
       "\r\n",
       "package \"Spacecraft Bus Logical Architecture\" as E1  [[psysml:ebdb38e7-fd32-4e1f-b2f6-0447ec0a0c5f ]]  {\r\n",
       "rec def \"<i>Spacecraft Bus</i>\" as E2  <<(T,blue) part  def>> [[psysml:b8f50e5a-3122-4953-a92b-99e102f43ac6 ]] {\r\n",
       "rec def \"<i>ADCS</i>\" as E3  <<(T,blue) part  def>> [[psysml:2bcbc93a-7de9-424b-a3ff-1c0a565d4cfc ]] {\r\n",
       "}\r\n",
       "rec def \"<i>Navigation</i>\" as E4  <<(T,blue) part  def>> [[psysml:de45f338-2e53-4c66-92a2-29030dbadc26 ]] {\r\n",
       "}\r\n",
       "rec def \"<i>C&DH</i>\" as E5  <<(T,blue) part  def>> [[psysml:0e45ecf6-5793-4c1a-8abf-a6291643a769 ]] {\r\n",
       "}\r\n",
       "rec def \"<i>TT&C</i>\" as E6  <<(T,blue) part  def>> [[psysml:1979bb9a-a624-47e2-8de9-f65ff2a651cf ]] {\r\n",
       "rec usage \"s_antenna\" as E7 [[psysml:92bd00b8-1eb1-4c59-8cf9-792f5acae044 ]] {\r\n",
       "rec usage \"^commsIn: S_Uplink_Port  \" as E10  <<(T,blue) port>> [[psysml:ff8fd92b-47ae-4a59-b97b-208a7237b0ce ]] {\r\n",
       "rec usage \"^signal: S-band Uplink  \" as E9  <<(T,blue) reference>> [[psysml:b99f6085-cc9b-478c-beb5-bcbaa1839e00 ]] {\r\n",
       "comp usage \"^frequency  \" as E8  <<(T,blue) attribute>> [[psysml:ae8cc829-603d-43ac-8889-687a43400911 ]] {\r\n",
       "##//values//##\r\n",
       " <U+003D> 2025 [MHz]\r\n",
       "}\r\n",
       "}\r\n",
       "\r\n",
       "}\r\n",
       "rec usage \"^commsOut: S_Downlink_Port  \" as E13  <<(T,blue) port>> [[psysml:57ae1b22-4613-4b54-b5b4-7f24ba8845a0 ]] {\r\n",
       "rec usage \"^signal: S-band Downlink  \" as E12  <<(T,blue) reference>> [[psysml:c16c361f-de51-42b7-9754-2fbf8c82645d ]] {\r\n",
       "comp usage \"^frequency  \" as E11  <<(T,blue) attribute>> [[psysml:051e99eb-90d1-410a-9f04-7472dc617fe1 ]] {\r\n",
       "##//values//##\r\n",
       " <U+003D> 2200 [MHz]\r\n",
       "}\r\n",
       "}\r\n",
       "\r\n",
       "}\r\n",
       "comp usage \"gain  \" as E14  <<(T,blue) attribute>> [[psysml:5a267b48-40dc-4b40-b17d-18230d2ad9e2 ]] {\r\n",
       "##//values//##\r\n",
       " <U+003D> 3\r\n",
       "}\r\n",
       "}\r\n",
       "rec usage \"ku_antenna\" as E15 [[psysml:d162b147-0a14-4e34-9736-3de9f33d0ae6 ]] {\r\n",
       "rec usage \"^commsOut: Ku_Downlink_Port  \" as E18  <<(T,blue) port>> [[psysml:324669b2-459e-4705-89fb-e571b82514a0 ]] {\r\n",
       "rec usage \"^signal: Ku-band Downlink  \" as E17  <<(T,blue) reference>> [[psysml:d1001b9a-0a2b-41d0-bbbd-b5fcb6ab6ad6 ]] {\r\n",
       "comp usage \"^frequency  \" as E16  <<(T,blue) attribute>> [[psysml:221de0e0-f0cb-440f-9389-36e6f3f81eb2 ]] {\r\n",
       "##//values//##\r\n",
       " <U+003D> 25600 [MHz]\r\n",
       "}\r\n",
       "}\r\n",
       "\r\n",
       "}\r\n",
       "}\r\n",
       "}\r\n",
       "rec def \"<i>Power</i>\" as E19  <<(T,blue) part  def>> [[psysml:cae26e94-182f-4803-b16d-a44fb52c3573 ]] {\r\n",
       "}\r\n",
       "rec def \"<i>Structures</i>\" as E20  <<(T,blue) part  def>> [[psysml:fbc994d2-0c9b-4432-85ae-a4dd1b38946b ]] {\r\n",
       "}\r\n",
       "rec def \"<i>Thermal</i>\" as E21  <<(T,blue) part  def>> [[psysml:d390df2d-b143-48e8-bd0d-396ffb5b02e2 ]] {\r\n",
       "}\r\n",
       "rec usage \"comms: TT&C\" as E22 [[psysml:a6d0ec3f-180c-4fb0-a22e-ff1f7034ebbd ]] {\r\n",
       "rec usage \"^s_antenna\" as E23 [[psysml:92bd00b8-1eb1-4c59-8cf9-792f5acae044 ]] {\r\n",
       "rec usage \"^commsIn: S_Uplink_Port  \" as E26  <<(T,blue) port>> [[psysml:ff8fd92b-47ae-4a59-b97b-208a7237b0ce ]] {\r\n",
       "rec usage \"^signal: S-band Uplink  \" as E25  <<(T,blue) reference>> [[psysml:b99f6085-cc9b-478c-beb5-bcbaa1839e00 ]] {\r\n",
       "comp usage \"^frequency  \" as E24  <<(T,blue) attribute>> [[psysml:ae8cc829-603d-43ac-8889-687a43400911 ]] {\r\n",
       "##//values//##\r\n",
       " <U+003D> 2025 [MHz]\r\n",
       "}\r\n",
       "}\r\n",
       "\r\n",
       "}\r\n",
       "rec usage \"^commsOut: S_Downlink_Port  \" as E29  <<(T,blue) port>> [[psysml:57ae1b22-4613-4b54-b5b4-7f24ba8845a0 ]] {\r\n",
       "rec usage \"^signal: S-band Downlink  \" as E28  <<(T,blue) reference>> [[psysml:c16c361f-de51-42b7-9754-2fbf8c82645d ]] {\r\n",
       "comp usage \"^frequency  \" as E27  <<(T,blue) attribute>> [[psysml:051e99eb-90d1-410a-9f04-7472dc617fe1 ]] {\r\n",
       "##//values//##\r\n",
       " <U+003D> 2200 [MHz]\r\n",
       "}\r\n",
       "}\r\n",
       "\r\n",
       "}\r\n",
       "comp usage \"gain  \" as E30  <<(T,blue) attribute>> [[psysml:5a267b48-40dc-4b40-b17d-18230d2ad9e2 ]] {\r\n",
       "##//values//##\r\n",
       " <U+003D> 3\r\n",
       "}\r\n",
       "}\r\n",
       "rec usage \"^ku_antenna\" as E31 [[psysml:d162b147-0a14-4e34-9736-3de9f33d0ae6 ]] {\r\n",
       "rec usage \"^commsOut: Ku_Downlink_Port  \" as E34  <<(T,blue) port>> [[psysml:324669b2-459e-4705-89fb-e571b82514a0 ]] {\r\n",
       "rec usage \"^signal: Ku-band Downlink  \" as E33  <<(T,blue) reference>> [[psysml:d1001b9a-0a2b-41d0-bbbd-b5fcb6ab6ad6 ]] {\r\n",
       "comp usage \"^frequency  \" as E32  <<(T,blue) attribute>> [[psysml:221de0e0-f0cb-440f-9389-36e6f3f81eb2 ]] {\r\n",
       "##//values//##\r\n",
       " <U+003D> 25600 [MHz]\r\n",
       "}\r\n",
       "}\r\n",
       "\r\n",
       "}\r\n",
       "}\r\n",
       "}\r\n",
       "}\r\n",
       "}\r\n",
       "package \"VehicleQuantities\" as E35  [[psysml:98185641-3bf2-4463-9952-bbccf171b0ec ]]  {\r\n",
       "}\r\n",
       "package \"'Propulsion Element'\" as E36  [[psysml:a96f8467-50ea-4fad-a982-d1d52c895ebf ]]  {\r\n",
       "}\r\n",
       "E22 - -:|> E6 [[psysml:009fd9bb-75a3-4d09-8088-3e6cf0106e8f ]] \r\n",
       "E1 ..> E35 [[psysml:bbf3f468-bd75-4c31-afb1-60b9cd9d6fdc ]] : <<import>>*\r\n",
       "E2 ..> E36 [[psysml:177f5cc7-6ba5-4844-aa1a-04489b91b7ec ]] : <<import>>*\r\n",
       "@enduml\r\n",
       "\n",
       "PlantUML version 1.2022.7(Mon Aug 22 17:01:30 UTC 2022)\n",
       "(EPL source distribution)\n",
       "Java Runtime: OpenJDK Runtime Environment\n",
       "JVM: OpenJDK 64-Bit Server VM\n",
       "Default Encoding: UTF-8\n",
       "Language: en\n",
       "Country: null\n",
       "--></g></svg>"
      ]
     },
     "execution_count": 23,
     "metadata": {},
     "output_type": "execute_result"
    }
   ],
   "source": [
    "%viz --style=STDCOLOR --style=SHOWINHERITED --style=SHOWIMPORTED \"Spacecraft Bus Logical Architecture\""
   ]
  },
  {
   "cell_type": "code",
   "execution_count": 23,
   "id": "fe1ce612-f9fe-4d24-9c30-d1500c0514bd",
   "metadata": {
    "kernel": "SysML"
   },
   "outputs": [
    {
     "data": {
      "image/svg+xml": [
       "<?xml version=\"1.0\" encoding=\"UTF-8\" standalone=\"no\"?><svg xmlns=\"http://www.w3.org/2000/svg\" xmlns:xlink=\"http://www.w3.org/1999/xlink\" contentStyleType=\"text/css\" height=\"302px\" preserveAspectRatio=\"none\" style=\"width:1212px;height:302px;background:#FFFFFF;\" version=\"1.1\" viewBox=\"0 0 1212 302\" width=\"1212px\" zoomAndPan=\"magnify\"><defs><filter height=\"300%\" id=\"f3nc9vium7cut\" width=\"300%\" x=\"-1\" y=\"-1\"><feGaussianBlur result=\"blurOut\" stdDeviation=\"2.0\"/><feColorMatrix in=\"blurOut\" result=\"blurOut2\" type=\"matrix\" values=\"0 0 0 0 0 0 0 0 0 0 0 0 0 0 0 0 0 0 .4 0\"/><feOffset dx=\"4.0\" dy=\"4.0\" in=\"blurOut2\" result=\"blurOut3\"/><feBlend in=\"SourceGraphic\" in2=\"blurOut3\" mode=\"normal\"/></filter></defs><g><!--MD5=[fbc87193dbaf4d95561dea2c320d4a47]\n",
       "cluster E1--><g id=\"cluster_E1\"><a href=\"psysml:ce68784b-502f-458d-9f0a-ef561f14091b\" target=\"_top\" title=\"psysml:ce68784b-502f-458d-9f0a-ef561f14091b\" xlink:actuate=\"onRequest\" xlink:href=\"psysml:ce68784b-502f-458d-9f0a-ef561f14091b\" xlink:show=\"new\" xlink:title=\"psysml:ce68784b-502f-458d-9f0a-ef561f14091b\" xlink:type=\"simple\"><rect fill=\"#FFFFFF\" filter=\"url(#f3nc9vium7cut)\" height=\"107\" id=\"E1\" style=\"stroke:#A80036;stroke-width:1.5;\" width=\"417\" x=\"361\" y=\"7\"/><rect fill=\"#FFFACD\" height=\"40.2656\" style=\"stroke:#A80036;stroke-width:1.5;\" width=\"417\" x=\"361\" y=\"7\"/><text fill=\"#000000\" font-family=\"sans-serif\" font-size=\"12\" font-style=\"italic\" lengthAdjust=\"spacing\" textLength=\"68\" x=\"535.5\" y=\"23.1387\">«part  def»</text><text fill=\"#000000\" font-family=\"sans-serif\" font-size=\"14\" font-style=\"italic\" lengthAdjust=\"spacing\" textLength=\"126\" x=\"506.5\" y=\"38.9639\">Propulsion System</text></a></g><!--MD5=[f6df4d0ebaf0b5dfb2ced0ae5af7c670]\n",
       "cluster E4--><g id=\"cluster_E4\"><a href=\"psysml:f57e18b7-996a-4579-9dff-3c2ab47a802c\" target=\"_top\" title=\"psysml:f57e18b7-996a-4579-9dff-3c2ab47a802c\" xlink:actuate=\"onRequest\" xlink:href=\"psysml:f57e18b7-996a-4579-9dff-3c2ab47a802c\" xlink:show=\"new\" xlink:title=\"psysml:f57e18b7-996a-4579-9dff-3c2ab47a802c\" xlink:type=\"simple\"><rect fill=\"#FFFFFF\" filter=\"url(#f3nc9vium7cut)\" height=\"212\" id=\"E4\" style=\"stroke:#A80036;stroke-width:1.5;\" width=\"398\" x=\"802\" y=\"78\"/><rect fill=\"#FFFACD\" height=\"40.2656\" style=\"stroke:#A80036;stroke-width:1.5;\" width=\"398\" x=\"802\" y=\"78\"/><text fill=\"#000000\" font-family=\"sans-serif\" font-size=\"12\" font-style=\"italic\" lengthAdjust=\"spacing\" textLength=\"68\" x=\"967\" y=\"94.1387\">«part  def»</text><text fill=\"#000000\" font-family=\"sans-serif\" font-size=\"14\" lengthAdjust=\"spacing\" textLength=\"293\" x=\"854.5\" y=\"109.9639\">'Propulsion Element'::Hundred_N_Thruster</text></a></g><!--MD5=[168fadf3d0c3fd93dd5d6da1b1d7ab76]\n",
       "cluster E7--><g id=\"cluster_E7\"><a href=\"psysml:7dd4763d-71c3-414e-9340-e8e238d93a0a\" target=\"_top\" title=\"psysml:7dd4763d-71c3-414e-9340-e8e238d93a0a\" xlink:actuate=\"onRequest\" xlink:href=\"psysml:7dd4763d-71c3-414e-9340-e8e238d93a0a\" xlink:show=\"new\" xlink:title=\"psysml:7dd4763d-71c3-414e-9340-e8e238d93a0a\" xlink:type=\"simple\"><rect fill=\"#FFFFFF\" filter=\"url(#f3nc9vium7cut)\" height=\"212\" id=\"E7\" style=\"stroke:#A80036;stroke-width:1.5;\" width=\"330\" x=\"7\" y=\"78\"/><rect fill=\"#FFFACD\" height=\"40.2656\" style=\"stroke:#A80036;stroke-width:1.5;\" width=\"330\" x=\"7\" y=\"78\"/><text fill=\"#000000\" font-family=\"sans-serif\" font-size=\"12\" font-style=\"italic\" lengthAdjust=\"spacing\" textLength=\"68\" x=\"138\" y=\"94.1387\">«part  def»</text><text fill=\"#000000\" font-family=\"sans-serif\" font-size=\"14\" lengthAdjust=\"spacing\" textLength=\"234\" x=\"55\" y=\"109.9639\">'Propulsion Element'::Six_kg_Tank</text></a></g><g><a href=\"psysml:0788d272-605a-4c3a-beb5-9e5568aed46b\" target=\"_top\" title=\"psysml:0788d272-605a-4c3a-beb5-9e5568aed46b\" xlink:actuate=\"onRequest\" xlink:href=\"psysml:0788d272-605a-4c3a-beb5-9e5568aed46b\" xlink:show=\"new\" xlink:title=\"psysml:0788d272-605a-4c3a-beb5-9e5568aed46b\" xlink:type=\"simple\"><rect fill=\"#FFFACD\" filter=\"url(#f3nc9vium7cut)\" height=\"40\" id=\"E2\" rx=\"10\" ry=\"10\" style=\"stroke:#A80036;stroke-width:1.5;\" width=\"138\" x=\"377\" y=\"58\"/><text fill=\"#000000\" font-family=\"sans-serif\" font-size=\"14\" lengthAdjust=\"spacing\" textLength=\"127\" x=\"382.5\" y=\"75.9951\">Tank: Six_kg_Tank</text></a></g><g><a href=\"psysml:98c3d37f-cd66-4c95-a1fa-0bb956db5fd3\" target=\"_top\" title=\"psysml:98c3d37f-cd66-4c95-a1fa-0bb956db5fd3\" xlink:actuate=\"onRequest\" xlink:href=\"psysml:98c3d37f-cd66-4c95-a1fa-0bb956db5fd3\" xlink:show=\"new\" xlink:title=\"psysml:98c3d37f-cd66-4c95-a1fa-0bb956db5fd3\" xlink:type=\"simple\"><rect fill=\"#FFFACD\" filter=\"url(#f3nc9vium7cut)\" height=\"40\" id=\"E3\" rx=\"10\" ry=\"10\" style=\"stroke:#A80036;stroke-width:1.5;\" width=\"211\" x=\"550.5\" y=\"58\"/><text fill=\"#000000\" font-family=\"sans-serif\" font-size=\"14\" lengthAdjust=\"spacing\" textLength=\"200\" x=\"556\" y=\"75.9951\">Engine: Hundred_N_Thruster</text></a></g><!--MD5=[270fce915f116d4de14055a7c1d9a0f3]\n",
       "class E5--><a href=\"psysml:431ec4d7-7528-4b2d-b85f-d01a125647e9\" target=\"_top\" title=\"psysml:431ec4d7-7528-4b2d-b85f-d01a125647e9\" xlink:actuate=\"onRequest\" xlink:href=\"psysml:431ec4d7-7528-4b2d-b85f-d01a125647e9\" xlink:show=\"new\" xlink:title=\"psysml:431ec4d7-7528-4b2d-b85f-d01a125647e9\" xlink:type=\"simple\"><g id=\"elem_E5\"><rect fill=\"#FFFACD\" filter=\"url(#f3nc9vium7cut)\" height=\"75.0813\" id=\"E5\" rx=\"10\" ry=\"10\" style=\"stroke:#181818;stroke-width:0.5;\" width=\"79\" x=\"961.5\" y=\"191\"/><text fill=\"#000000\" font-family=\"sans-serif\" font-size=\"12\" font-style=\"italic\" lengthAdjust=\"spacing\" textLength=\"69\" x=\"966.5\" y=\"207.1387\">«attribute»</text><text fill=\"#000000\" font-family=\"sans-serif\" font-size=\"14\" lengthAdjust=\"spacing\" textLength=\"45\" x=\"974.5\" y=\"222.9639\">Thrust</text><line style=\"stroke:#181818;stroke-width:0.5;\" x1=\"962.5\" x2=\"1039.5\" y1=\"231.2656\" y2=\"231.2656\"/><text fill=\"#000000\" font-family=\"sans-serif\" font-size=\"14\" lengthAdjust=\"spacing\" textLength=\"67\" x=\"967.5\" y=\"258.7795\">= 100 [N]</text><text fill=\"#000000\" font-family=\"sans-serif\" font-size=\"14\" font-style=\"italic\" lengthAdjust=\"spacing\" textLength=\"44\" x=\"979\" y=\"243.6123\">values</text></g></a><text fill=\"#000000\" font-family=\"sans-serif\" font-size=\"14\" lengthAdjust=\"spacing\" textLength=\"115\" x=\"939.5\" y=\"56.6982\">fuelIn: ~FuelPort</text><rect fill=\"#FFFACD\" height=\"12\" style=\"stroke:#181818;stroke-width:1.5;\" width=\"12\" x=\"995\" y=\"72\"/><!--MD5=[b9389687b975829384b498ac4b7476b2]\n",
       "class E8--><a href=\"psysml:1d419fc9-3721-4bb9-b1ea-8dd0280bcbc3\" target=\"_top\" title=\"psysml:1d419fc9-3721-4bb9-b1ea-8dd0280bcbc3\" xlink:actuate=\"onRequest\" xlink:href=\"psysml:1d419fc9-3721-4bb9-b1ea-8dd0280bcbc3\" xlink:show=\"new\" xlink:title=\"psysml:1d419fc9-3721-4bb9-b1ea-8dd0280bcbc3\" xlink:type=\"simple\"><g id=\"elem_E8\"><rect fill=\"#FFFACD\" filter=\"url(#f3nc9vium7cut)\" height=\"75.0813\" id=\"E8\" rx=\"10\" ry=\"10\" style=\"stroke:#181818;stroke-width:0.5;\" width=\"71\" x=\"136.5\" y=\"191\"/><text fill=\"#000000\" font-family=\"sans-serif\" font-size=\"12\" font-style=\"italic\" lengthAdjust=\"spacing\" textLength=\"69\" x=\"137.5\" y=\"207.1387\">«attribute»</text><text fill=\"#000000\" font-family=\"sans-serif\" font-size=\"14\" lengthAdjust=\"spacing\" textLength=\"37\" x=\"149.5\" y=\"222.9639\">mass</text><line style=\"stroke:#181818;stroke-width:0.5;\" x1=\"137.5\" x2=\"206.5\" y1=\"231.2656\" y2=\"231.2656\"/><text fill=\"#000000\" font-family=\"sans-serif\" font-size=\"14\" lengthAdjust=\"spacing\" textLength=\"56\" x=\"142.5\" y=\"258.7795\">= 6 [kg]</text><text fill=\"#000000\" font-family=\"sans-serif\" font-size=\"14\" font-style=\"italic\" lengthAdjust=\"spacing\" textLength=\"44\" x=\"150\" y=\"243.6123\">values</text></g></a><text fill=\"#000000\" font-family=\"sans-serif\" font-size=\"14\" lengthAdjust=\"spacing\" textLength=\"116\" x=\"110\" y=\"56.6982\">fuelOut: FuelPort</text><rect fill=\"#FFFACD\" height=\"12\" style=\"stroke:#181818;stroke-width:1.5;\" width=\"12\" x=\"166\" y=\"72\"/><!--MD5=[e3d2a08a9c9236652057e8ed0cbc9b62]\n",
       "link E2 to E7--><g id=\"link_E2_E7\"><a href=\"psysml:05686b47-81ba-41d5-9f8b-7562d22ec293\" target=\"_top\" title=\"psysml:05686b47-81ba-41d5-9f8b-7562d22ec293\" xlink:actuate=\"onRequest\" xlink:href=\"psysml:05686b47-81ba-41d5-9f8b-7562d22ec293\" xlink:show=\"new\" xlink:title=\"psysml:05686b47-81ba-41d5-9f8b-7562d22ec293\" xlink:type=\"simple\"><path d=\"M405.34,98.21 C387.15,106.3 365.29,115.36 345,122 C343.2138,122.5844 341.4145,123.1639 339.6039,123.7385 C339.1512,123.8821 338.6978,124.0255 338.2438,124.1685 C338.0168,124.24 337.7896,124.3114 337.5622,124.3828 C337.4485,124.4185 337.3348,124.4541 337.221,124.4898 \" fill=\"none\" id=\"E2-to-E7\" style=\"stroke:#181818;stroke-width:1.0;\"/><polygon fill=\"#FFFFFF\" points=\"337.221,124.4898,353.2595,112.1299,357.4448,125.4897,337.221,124.4898\" style=\"stroke:#181818;stroke-width:1.0;\"/><ellipse cx=\"359.2968\" cy=\"112.3345\" fill=\"#181818\" rx=\"2\" ry=\"2\" style=\"stroke:#181818;stroke-width:1.0;\"/><ellipse cx=\"362.2862\" cy=\"121.8772\" fill=\"#181818\" rx=\"2\" ry=\"2\" style=\"stroke:#181818;stroke-width:1.0;\"/></a></g><!--MD5=[af87c684e3b0d8be13c1a698a818ef1e]\n",
       "link E3 to E4--><g id=\"link_E3_E4\"><a href=\"psysml:9b80bfd7-baee-484f-91b4-96fdb26d4579\" target=\"_top\" title=\"psysml:9b80bfd7-baee-484f-91b4-96fdb26d4579\" xlink:actuate=\"onRequest\" xlink:href=\"psysml:9b80bfd7-baee-484f-91b4-96fdb26d4579\" xlink:show=\"new\" xlink:title=\"psysml:9b80bfd7-baee-484f-91b4-96fdb26d4579\" xlink:type=\"simple\"><path d=\"M712.34,98.08 C737.2,106.1 766.87,115.14 794,122 C796.2469,122.5681 798.5091,123.1329 800.7847,123.6941 C801.0691,123.7643 801.3538,123.8344 801.6386,123.9044 \" fill=\"none\" id=\"E3-to-E4\" style=\"stroke:#181818;stroke-width:1.0;\"/><polygon fill=\"#FFFFFF\" points=\"801.6386,123.9044,781.5167,126.1651,784.8597,112.5701,801.6386,123.9044\" style=\"stroke:#181818;stroke-width:1.0;\"/><ellipse cx=\"776.4592\" cy=\"122.8619\" fill=\"#181818\" rx=\"2\" ry=\"2\" style=\"stroke:#181818;stroke-width:1.0;\"/><ellipse cx=\"778.847\" cy=\"113.1512\" fill=\"#181818\" rx=\"2\" ry=\"2\" style=\"stroke:#181818;stroke-width:1.0;\"/></a></g><!--MD5=[df7fa4b0e9cecbdf258870a731a7d94e]\n",
       "@startuml\r\n",
       "skin sysmlc\r\n",
       "skinparam wrapWidth 300\r\n",
       "hide circle\r\n",
       " skinparam ranksep 10\r\n",
       "skinparam rectangle {\r\n",
       " backgroundColor<<block>> LightGreen\r\n",
       "}\r\n",
       "\r\n",
       "rec def \"<i>Propulsion System</i>\" as E1  <<(T,blue) part  def>> [[psysml:ce68784b-502f-458d-9f0a-ef561f14091b ]] {\r\n",
       "rec usage \"Tank: Six_kg_Tank\" as E2 [[psysml:0788d272-605a-4c3a-beb5-9e5568aed46b ]] {\r\n",
       "}\r\n",
       "rec usage \"Engine: Hundred_N_Thruster\" as E3 [[psysml:98c3d37f-cd66-4c95-a1fa-0bb956db5fd3 ]] {\r\n",
       "}\r\n",
       "}\r\n",
       "rec def \"'Propulsion Element'::Hundred_N_Thruster\" as E4  <<(T,blue) part  def>> [[psysml:f57e18b7-996a-4579-9dff-3c2ab47a802c ]] {\r\n",
       "comp usage \"Thrust  \" as E5  <<(T,blue) attribute>> [[psysml:431ec4d7-7528-4b2d-b85f-d01a125647e9 ]] {\r\n",
       "##//values//##\r\n",
       " <U+003D> 100 [N]\r\n",
       "}\r\n",
       "portin \"fuelIn: ~FuelPort  \" as E6  <<(T,blue) port>> [[psysml:71040511-017d-42b2-a96c-9abe3e03bc1a ]] \r\n",
       "}\r\n",
       "rec def \"'Propulsion Element'::Six_kg_Tank\" as E7  <<(T,blue) part  def>> [[psysml:7dd4763d-71c3-414e-9340-e8e238d93a0a ]] {\r\n",
       "comp usage \"mass  \" as E8  <<(T,blue) attribute>> [[psysml:1d419fc9-3721-4bb9-b1ea-8dd0280bcbc3 ]] {\r\n",
       "##//values//##\r\n",
       " <U+003D> 6 [kg]\r\n",
       "}\r\n",
       "portin \"fuelOut: FuelPort  \" as E9  <<(T,blue) port>> [[psysml:908b6deb-8cca-44e9-9a7a-53d81680cf31 ]] \r\n",
       "}\r\n",
       "E2 - -:|> E7 [[psysml:05686b47-81ba-41d5-9f8b-7562d22ec293 ]] \r\n",
       "E3 - -:|> E4 [[psysml:9b80bfd7-baee-484f-91b4-96fdb26d4579 ]] \r\n",
       "@enduml\r\n",
       "\n",
       "PlantUML version 1.2022.7(Mon Aug 22 17:01:30 UTC 2022)\n",
       "(EPL source distribution)\n",
       "Java Runtime: OpenJDK Runtime Environment\n",
       "JVM: OpenJDK 64-Bit Server VM\n",
       "Default Encoding: UTF-8\n",
       "Language: en\n",
       "Country: null\n",
       "--></g></svg>"
      ]
     },
     "execution_count": 24,
     "metadata": {},
     "output_type": "execute_result"
    }
   ],
   "source": [
    "%viz --style=STDCOLOR --style=SHOWIMPORTED \"Spacecraft Bus Logical Architecture::Spacecraft Bus::Propulsion System\""
   ]
  },
  {
   "cell_type": "code",
   "execution_count": 24,
   "id": "8f4d1ba4-d017-4856-9a91-f594bc00a9ce",
   "metadata": {
    "kernel": "SysML"
   },
   "outputs": [
    {
     "data": {
      "text/plain": [
       "Usage: %viz [--view=<VIEW>] [--style=<STYLE>...] <NAME> [<NAME>...]\n",
       "\n",
       "Visualize model elements of <NAME>(s). <NAME>s must be fully qualified.\n",
       "\n",
       "<VIEW> is case insensitive and possible candidates are:\n",
       "   DEFAULT\t\tAutomatically choose an appropriate view from the given model element names\n",
       "   TREE\t\t\tShow a tree-structural view, like a Block Definition Diagram (BDD)\n",
       "   INTERCONNECTION\tShow an interconnection view, like an Internal Block Diagram (IBD)\n",
       "   STATE\t\tShow state machines\n",
       "   ACTION\t\tShow actions like an activity diagram\n",
       "   SEQUENCE\t\tShow events and messages in a sequence diagram\n",
       "   MIXED\t\tShow multiple views\n",
       "\n",
       "<STYLE> is also case insensitive. Multiple --style options are allowed.  The possible style names are:\n",
       "  DEFAULT\t\tStandard B&&W\n",
       "  STDCOLOR\t\tStandard style with colors\n",
       "  PLANTUML\t\tPlantUML Style\n",
       "  TB\t\t\tTop-to-Bottom orientation\n",
       "  LR\t\t\tLeft-to-Right orientation\n",
       "  POLYLINE\t\tPolyline style\n",
       "  ORTHOLINE\t\tOrthogonal line style\n",
       "  SHOWLIB\t\tShow elements of the standard libraries\n",
       "  SHOWINHERITED\t\tShow inherited members\n",
       "  COMPMOST\t\tShow as many memberships in a compartment as possible\n",
       "  COMPTREE\t\tShow nested ports in a compartment\n",
       "  SHOWIMPORTED\t\tShow imported elements\n",
       "  HIDEMETADATA\t\tHide metadata\n",
       "  SHOWMETACLASS\t\tShow metaclasses of metaobjects\n",
       "  EVAL\t\tEvaluate expressions\n",
       "\n",
       "Example:\n",
       "\t%viz --view Tree --style LR --style ortholine Pkg1::PartDef Pkg1::Pkg2::partUsage\n",
       "should visualize Pkg1::PartDef and Pkg1::Pkg2::partUsage with a tree view ordered in the left-to-right direction with orthogonal lines.\n"
      ]
     },
     "execution_count": 25,
     "metadata": {},
     "output_type": "execute_result"
    }
   ],
   "source": [
    "%viz -h"
   ]
  },
  {
   "cell_type": "code",
   "execution_count": 25,
   "id": "bd21ab3a-56bb-4954-9769-7d3bb54c990f",
   "metadata": {
    "kernel": "SysML"
   },
   "outputs": [
    {
     "data": {
      "image/svg+xml": [
       "<?xml version=\"1.0\" encoding=\"UTF-8\" standalone=\"no\"?><svg xmlns=\"http://www.w3.org/2000/svg\" xmlns:xlink=\"http://www.w3.org/1999/xlink\" contentStyleType=\"text/css\" height=\"329px\" preserveAspectRatio=\"none\" style=\"width:407px;height:329px;background:#FFFFFF;\" version=\"1.1\" viewBox=\"0 0 407 329\" width=\"407px\" zoomAndPan=\"magnify\"><defs><filter height=\"300%\" id=\"fw8tnop415kcj\" width=\"300%\" x=\"-1\" y=\"-1\"><feGaussianBlur result=\"blurOut\" stdDeviation=\"2.0\"/><feColorMatrix in=\"blurOut\" result=\"blurOut2\" type=\"matrix\" values=\"0 0 0 0 0 0 0 0 0 0 0 0 0 0 0 0 0 0 .4 0\"/><feOffset dx=\"4.0\" dy=\"4.0\" in=\"blurOut2\" result=\"blurOut3\"/><feBlend in=\"SourceGraphic\" in2=\"blurOut3\" mode=\"normal\"/></filter></defs><g><!--MD5=[fbc87193dbaf4d95561dea2c320d4a47]\n",
       "cluster E1--><g id=\"cluster_E1\"><a href=\"psysml:5e3913b0-b6b9-4fce-b16d-2c49f6cf513f\" target=\"_top\" title=\"psysml:5e3913b0-b6b9-4fce-b16d-2c49f6cf513f\" xlink:actuate=\"onRequest\" xlink:href=\"psysml:5e3913b0-b6b9-4fce-b16d-2c49f6cf513f\" xlink:show=\"new\" xlink:title=\"psysml:5e3913b0-b6b9-4fce-b16d-2c49f6cf513f\" xlink:type=\"simple\"><rect fill=\"#FFFFFF\" filter=\"url(#fw8tnop415kcj)\" height=\"142\" id=\"E1\" rx=\"10\" ry=\"10\" style=\"stroke:#A80036;stroke-width:1.5;\" width=\"199\" x=\"15\" y=\"7\"/><rect fill=\"#FFFACD\" height=\"26.2969\" rx=\"10\" ry=\"10\" style=\"stroke:#FFFACD;stroke-width:1.5;\" width=\"199\" x=\"15\" y=\"7\"/><rect fill=\"#FFFACD\" height=\"10\" style=\"stroke:#FFFACD;stroke-width:1.5;\" width=\"199\" x=\"15\" y=\"23.2969\"/><rect fill=\"none\" height=\"142\" id=\"E1\" rx=\"10\" ry=\"10\" style=\"stroke:#A80036;stroke-width:1.5;\" width=\"199\" x=\"15\" y=\"7\"/><text fill=\"#000000\" font-family=\"sans-serif\" font-size=\"14\" lengthAdjust=\"spacing\" textLength=\"159\" x=\"35\" y=\"24.9951\">spacecraft: 3UCubeSat</text><line style=\"stroke:#A80036;stroke-width:1.0;\" x1=\"15\" x2=\"214\" y1=\"33.2969\" y2=\"33.2969\"/></a></g><!--MD5=[d5e69f78d87373223dbae638b30a9c99]\n",
       "cluster E3--><g id=\"cluster_E3\"><a href=\"psysml:1e01db2f-893d-4d52-bec1-ec0b6caf39bc\" target=\"_top\" title=\"psysml:1e01db2f-893d-4d52-bec1-ec0b6caf39bc\" xlink:actuate=\"onRequest\" xlink:href=\"psysml:1e01db2f-893d-4d52-bec1-ec0b6caf39bc\" xlink:show=\"new\" xlink:title=\"psysml:1e01db2f-893d-4d52-bec1-ec0b6caf39bc\" xlink:type=\"simple\"><rect fill=\"#FFFFFF\" filter=\"url(#fw8tnop415kcj)\" height=\"128\" id=\"E3\" style=\"stroke:#A80036;stroke-width:1.5;\" width=\"380\" x=\"15\" y=\"189\"/><rect fill=\"#FFFACD\" height=\"40.2656\" style=\"stroke:#A80036;stroke-width:1.5;\" width=\"380\" x=\"15\" y=\"189\"/><text fill=\"#000000\" font-family=\"sans-serif\" font-size=\"12\" font-style=\"italic\" lengthAdjust=\"spacing\" textLength=\"68\" x=\"171\" y=\"205.1387\">«part  def»</text><text fill=\"#000000\" font-family=\"sans-serif\" font-size=\"14\" lengthAdjust=\"spacing\" textLength=\"312\" x=\"49\" y=\"220.9639\">'Spacecraft Logical Architecture'::'3UCubeSat'</text></a></g><!--MD5=[b4997ac47864f28c2f74865a473b2911]\n",
       "class E2--><a href=\"psysml:6984b8d1-20ce-427b-87f9-12b74ab07232\" target=\"_top\" title=\"psysml:6984b8d1-20ce-427b-87f9-12b74ab07232\" xlink:actuate=\"onRequest\" xlink:href=\"psysml:6984b8d1-20ce-427b-87f9-12b74ab07232\" xlink:show=\"new\" xlink:title=\"psysml:6984b8d1-20ce-427b-87f9-12b74ab07232\" xlink:type=\"simple\"><g id=\"elem_E2\"><rect fill=\"#FFFACD\" filter=\"url(#fw8tnop415kcj)\" height=\"75.0813\" id=\"E2\" rx=\"10\" ry=\"10\" style=\"stroke:#181818;stroke-width:0.5;\" width=\"132\" x=\"58\" y=\"50\"/><text fill=\"#000000\" font-family=\"sans-serif\" font-size=\"12\" font-style=\"italic\" lengthAdjust=\"spacing\" textLength=\"69\" x=\"89.5\" y=\"66.1387\">«attribute»</text><text fill=\"#000000\" font-family=\"sans-serif\" font-size=\"14\" lengthAdjust=\"spacing\" textLength=\"31\" x=\"104.5\" y=\"81.9639\">orbit</text><line style=\"stroke:#181818;stroke-width:0.5;\" x1=\"59\" x2=\"189\" y1=\"90.2656\" y2=\"90.2656\"/><text fill=\"#000000\" font-family=\"sans-serif\" font-size=\"14\" lengthAdjust=\"spacing\" textLength=\"120\" x=\"64\" y=\"117.7795\">sma = 8000 [km]</text><text fill=\"#000000\" font-family=\"sans-serif\" font-size=\"14\" font-style=\"italic\" lengthAdjust=\"spacing\" textLength=\"65\" x=\"91.5\" y=\"102.6123\">attributes</text></g></a><g><a href=\"psysml:134514c5-0a3d-4f10-9291-0819079b35ab\" target=\"_top\" title=\"psysml:134514c5-0a3d-4f10-9291-0819079b35ab\" xlink:actuate=\"onRequest\" xlink:href=\"psysml:134514c5-0a3d-4f10-9291-0819079b35ab\" xlink:show=\"new\" xlink:title=\"psysml:134514c5-0a3d-4f10-9291-0819079b35ab\" xlink:type=\"simple\"><rect fill=\"#FFFACD\" filter=\"url(#fw8tnop415kcj)\" height=\"45.2656\" id=\"E4\" style=\"stroke:#A80036;stroke-width:1.5;\" width=\"112\" x=\"158\" y=\"248\"/><text fill=\"#000000\" font-family=\"sans-serif\" font-size=\"12\" font-style=\"italic\" lengthAdjust=\"spacing\" textLength=\"105\" x=\"161.5\" y=\"264.1387\">«constraint  def»</text><text fill=\"#000000\" font-family=\"sans-serif\" font-size=\"14\" lengthAdjust=\"spacing\" textLength=\"50\" x=\"189\" y=\"279.9639\">volume</text></a></g><!--MD5=[5a52c8b875856e813bbf7898a393ae67]\n",
       "link E1 to E3--><g id=\"link_E1_E3\"><a href=\"psysml:ac16bea3-d967-4c06-b0c3-864929dab5f0\" target=\"_top\" title=\"psysml:ac16bea3-d967-4c06-b0c3-864929dab5f0\" xlink:actuate=\"onRequest\" xlink:href=\"psysml:ac16bea3-d967-4c06-b0c3-864929dab5f0\" xlink:show=\"new\" xlink:title=\"psysml:ac16bea3-d967-4c06-b0c3-864929dab5f0\" xlink:type=\"simple\"><path d=\"M23,149.709 C23,150.0351 23,150.3618 23,150.689 C23,151.9978 23,153.3153 23,154.6404 C23,157.2906 23,159.9709 23,162.6713 C23,168.072 23,173.553 23,179.0338 C23,181.7741 23,184.5145 23,187.2447 C23,187.586 23,187.9271 23,188.2681 C23,188.4386 23,188.609 23,188.7794 \" fill=\"none\" id=\"E1-to-E3\" style=\"stroke:#181818;stroke-width:1.0;\"/><polygon fill=\"#FFFFFF\" points=\"23,188.7794,16,169.7794,30,169.7794,23,188.7794\" style=\"stroke:#181818;stroke-width:1.0;\"/><ellipse cx=\"18\" cy=\"164.0794\" fill=\"#181818\" rx=\"2\" ry=\"2\" style=\"stroke:#181818;stroke-width:1.0;\"/><ellipse cx=\"28\" cy=\"164.0794\" fill=\"#181818\" rx=\"2\" ry=\"2\" style=\"stroke:#181818;stroke-width:1.0;\"/></a></g><!--MD5=[38cab19fa844dc5e6e5dda97eb7e7a88]\n",
       "@startuml\r\n",
       "skin sysmlc\r\n",
       "skinparam wrapWidth 300\r\n",
       "hide circle\r\n",
       " skinparam ranksep 10\r\n",
       "skinparam rectangle {\r\n",
       " backgroundColor<<block>> LightGreen\r\n",
       "}\r\n",
       "\r\n",
       "rec usage \"spacecraft: 3UCubeSat\" as E1 [[psysml:5e3913b0-b6b9-4fce-b16d-2c49f6cf513f ]] {\r\n",
       "comp usage \"orbit  \" as E2  <<(T,blue) attribute>> [[psysml:6984b8d1-20ce-427b-87f9-12b74ab07232 ]] {\r\n",
       "##//attributes//##\r\n",
       "sma <U+003D> 8000 [km]\r\n",
       "}\r\n",
       "}\r\n",
       "rec def \"'Spacecraft Logical Architecture'::'3UCubeSat'\" as E3  <<(T,blue) part  def>> [[psysml:1e01db2f-893d-4d52-bec1-ec0b6caf39bc ]] {\r\n",
       "def \"volume\" as E4  <<(T,blue) constraint  def>> [[psysml:134514c5-0a3d-4f10-9291-0819079b35ab ]] \r\n",
       "}\r\n",
       "E1 - -:|> E3 [[psysml:ac16bea3-d967-4c06-b0c3-864929dab5f0 ]] \r\n",
       "@enduml\r\n",
       "\n",
       "PlantUML version 1.2022.7(Mon Aug 22 17:01:30 UTC 2022)\n",
       "(EPL source distribution)\n",
       "Java Runtime: OpenJDK Runtime Environment\n",
       "JVM: OpenJDK 64-Bit Server VM\n",
       "Default Encoding: UTF-8\n",
       "Language: en\n",
       "Country: null\n",
       "--></g></svg>"
      ]
     },
     "execution_count": 26,
     "metadata": {},
     "output_type": "execute_result"
    }
   ],
   "source": [
    "%viz --style=STDCOLOR --style=SHOWIMPORTED \"Spacecraft Segment Logical Architecture::Spacecraft Segment::spacecraft\""
   ]
  },
  {
   "cell_type": "code",
   "execution_count": null,
   "id": "8cc1ee9a-90d2-499c-95a2-ee03e8e7efb7",
   "metadata": {
    "kernel": "SysML"
   },
   "outputs": [],
   "source": []
  }
 ],
 "metadata": {
  "kernelspec": {
   "display_name": "SoS",
   "language": "sos",
   "name": "sos"
  },
  "language_info": {
   "codemirror_mode": "sos",
   "file_extension": ".sos",
   "mimetype": "text/x-sos",
   "name": "sos",
   "nbconvert_exporter": "sos_notebook.converter.SoS_Exporter",
   "pygments_lexer": "sos"
  },
  "sos": {
   "kernels": [
    [
     "SysML",
     "sysml",
     "sysml",
     "",
     "sysml"
    ]
   ],
   "version": "0.24.2"
  },
  "toc-autonumbering": true,
  "toc-showcode": false,
  "toc-showmarkdowntxt": false
 },
 "nbformat": 4,
 "nbformat_minor": 5
}
