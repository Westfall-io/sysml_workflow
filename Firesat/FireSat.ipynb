{
 "cells": [
  {
   "cell_type": "markdown",
   "id": "668a6b23-acdc-483f-a919-768d16ae3eec",
   "metadata": {
    "kernel": "SoS",
    "tags": []
   },
   "source": [
    "# FireSat Concept"
   ]
  },
  {
   "cell_type": "markdown",
   "id": "54aaa9ba-614f-4340-810e-50d23d020a93",
   "metadata": {
    "kernel": "SoS"
   },
   "source": [
    "## 1. Mission"
   ]
  },
  {
   "cell_type": "markdown",
   "id": "ea78e44d-247e-4ff8-aef0-75673159bfe3",
   "metadata": {
    "kernel": "SoS"
   },
   "source": [
    "## 2. Payload"
   ]
  },
  {
   "cell_type": "markdown",
   "id": "88f86dd8-c8fb-46dc-a915-f67c7eaaaf11",
   "metadata": {
    "kernel": "SoS"
   },
   "source": [
    "## 3. Spacecraft"
   ]
  },
  {
   "cell_type": "markdown",
   "id": "8406e2ba-33f7-4e45-bece-92afcba0b0b6",
   "metadata": {
    "kernel": "SoS"
   },
   "source": [
    "![](_3_Spacecraft/spacecraft_model.png)"
   ]
  },
  {
   "cell_type": "markdown",
   "id": "bb139f0a-3f52-421f-b7da-4a94a1ad0289",
   "metadata": {
    "kernel": "SoS"
   },
   "source": [
    "#### 3.0.1 Description"
   ]
  },
  {
   "cell_type": "markdown",
   "id": "ca23cf6d-3e45-4e34-9079-3a62e4fa0cf2",
   "metadata": {
    "kernel": "SoS"
   },
   "source": [
    "A spacecraft ( PL : spacecraft) is a vehicle that is designed to fly in outer space and operate there. Spacecraft are used for a variety of purposes, including communications, Earth observation, meteorology, navigation, space colonization, planetary exploration, and transportation of humans and cargo."
   ]
  },
  {
   "cell_type": "markdown",
   "id": "ed92ab06-010f-4694-83a1-b13727a0c403",
   "metadata": {
    "kernel": "SoS"
   },
   "source": [
    "#### 3.0.2 Model Document"
   ]
  },
  {
   "cell_type": "markdown",
   "id": "6fc13d60-1cfa-4126-8963-1e351ae40ac8",
   "metadata": {
    "kernel": "SoS"
   },
   "source": [
    "[Spacecraft Document](_3_Spacecraft/Spacecraft_Document.ipynb)"
   ]
  },
  {
   "cell_type": "markdown",
   "id": "42f71e69-702d-4ea1-a68d-948b1d8f6e59",
   "metadata": {
    "kernel": "SoS"
   },
   "source": [
    "#### 3.0.3 Model Definitions"
   ]
  },
  {
   "cell_type": "markdown",
   "id": "976474e7-03c1-41ff-bcb9-a29f279d5cf0",
   "metadata": {
    "kernel": "SoS"
   },
   "source": [
    "[Spacecraft Models](_3_Spacecraft/Spacecraft_Model.ipynb)"
   ]
  },
  {
   "cell_type": "markdown",
   "id": "c2ab0120-fe00-4ad9-9c5b-1a19ea1a545c",
   "metadata": {
    "kernel": "SoS"
   },
   "source": [
    "## 4. Ground Segment"
   ]
  },
  {
   "cell_type": "markdown",
   "id": "5e6c7530-5629-4bb0-857f-8c5145515a02",
   "metadata": {
    "kernel": "SoS"
   },
   "source": [
    "## 5. Mission Operations"
   ]
  },
  {
   "cell_type": "markdown",
   "id": "642cedff-65d7-42a8-a126-53518f796346",
   "metadata": {
    "kernel": "SoS"
   },
   "source": [
    "## 6. Communication"
   ]
  },
  {
   "cell_type": "markdown",
   "id": "814a7ef0-b25a-46ab-bc24-4d36bdc05a2e",
   "metadata": {
    "kernel": "SoS"
   },
   "source": [
    "## 7. Launch"
   ]
  },
  {
   "cell_type": "code",
   "execution_count": 2,
   "id": "5a0666f6-f895-4c42-b0b4-b3480478ce19",
   "metadata": {
    "kernel": "SoS"
   },
   "outputs": [
    {
     "data": {
      "text/html": [
       "<div class=\"sos_logging sos_info\">INFO: Output saved to analysis.html</div>"
      ]
     },
     "metadata": {},
     "output_type": "display_data"
    },
    {
     "data": {
      "text/html": [
       "<div class=\"sos_hint\">Notebook saved to <a href=\"analysis.html\" target=\"_blank\">analysis.html</a></div>"
      ],
      "text/plain": [
       "Notebook saved to analysis.html\n"
      ]
     },
     "metadata": {},
     "output_type": "display_data"
    }
   ],
   "source": [
    "%convert analysis.html -f"
   ]
  },
  {
   "cell_type": "code",
   "execution_count": null,
   "id": "36bc578e-7222-4430-9cb3-98bc51a89481",
   "metadata": {
    "kernel": "SoS"
   },
   "outputs": [],
   "source": []
  }
 ],
 "metadata": {
  "kernelspec": {
   "display_name": "SoS",
   "language": "sos",
   "name": "sos"
  },
  "language_info": {
   "codemirror_mode": "sos",
   "file_extension": ".sos",
   "mimetype": "text/x-sos",
   "name": "sos",
   "nbconvert_exporter": "sos_notebook.converter.SoS_Exporter",
   "pygments_lexer": "sos"
  },
  "sos": {
   "kernels": [
    [
     "SoS",
     "sos",
     "",
     ""
    ]
   ],
   "version": "0.24.2"
  }
 },
 "nbformat": 4,
 "nbformat_minor": 5
}
