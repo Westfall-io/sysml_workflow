{
 "cells": [
  {
   "cell_type": "markdown",
   "id": "e23a6615-8edf-4d80-a877-f545591f4539",
   "metadata": {
    "kernel": "SoS",
    "tags": []
   },
   "source": [
    "# 3.1 Propulsion"
   ]
  },
  {
   "cell_type": "markdown",
   "id": "e6c6d2c4-8470-4810-ae19-4cf086232087",
   "metadata": {
    "kernel": "SoS"
   },
   "source": [
    "## 3.1.1 Requirements"
   ]
  },
  {
   "cell_type": "markdown",
   "id": "612c474c-f64a-4061-926b-edc867687599",
   "metadata": {
    "kernel": "SoS"
   },
   "source": [
    "### 3.1.1.1. Orbit Insertion"
   ]
  },
  {
   "cell_type": "markdown",
   "id": "1d08044d-a9b4-4011-9ede-da3c7aa7f416",
   "metadata": {
    "kernel": "SoS"
   },
   "source": [
    "### 3.1.1.2. Orbit Maintenance"
   ]
  },
  {
   "cell_type": "markdown",
   "id": "1399826d-7a78-47e6-b14c-d7f107cd4dad",
   "metadata": {
    "kernel": "SoS"
   },
   "source": [
    "### 3.1.1.3. Attitude Control"
   ]
  },
  {
   "cell_type": "markdown",
   "id": "b7c0de0e-c833-475e-ba6a-233b6e59c417",
   "metadata": {
    "kernel": "SoS"
   },
   "source": [
    "### 3.1.1.4. De-orbit"
   ]
  },
  {
   "cell_type": "markdown",
   "id": "bf282c5d-17e0-4659-8421-a192534dac50",
   "metadata": {
    "kernel": "SoS"
   },
   "source": [
    "### 3.1.1.5. Life Expentancy"
   ]
  },
  {
   "cell_type": "markdown",
   "id": "bf729dd5-dc52-43c4-9acd-b3a6382aeed8",
   "metadata": {
    "kernel": "SoS"
   },
   "source": [
    "## 3.1.2 Design Model"
   ]
  }
 ],
 "metadata": {
  "kernelspec": {
   "display_name": "SoS",
   "language": "sos",
   "name": "sos"
  },
  "language_info": {
   "codemirror_mode": "sos",
   "file_extension": ".sos",
   "mimetype": "text/x-sos",
   "name": "sos",
   "nbconvert_exporter": "sos_notebook.converter.SoS_Exporter",
   "pygments_lexer": "sos"
  },
  "sos": {
   "kernels": [
    [
     "SoS",
     "sos",
     "",
     ""
    ]
   ],
   "version": "0.24.2"
  }
 },
 "nbformat": 4,
 "nbformat_minor": 5
}
