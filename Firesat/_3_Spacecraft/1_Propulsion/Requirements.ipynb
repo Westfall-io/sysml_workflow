{
 "cells": [
  {
   "cell_type": "code",
   "execution_count": null,
   "id": "5d319d44-d160-481b-93c4-31543c01f447",
   "metadata": {
    "kernel": "SoS",
    "tags": []
   },
   "outputs": [],
   "source": []
  }
 ],
 "metadata": {
  "kernelspec": {
   "display_name": "SoS",
   "language": "sos",
   "name": "sos"
  },
  "language_info": {
   "codemirror_mode": "sos",
   "file_extension": ".sos",
   "mimetype": "text/x-sos",
   "name": "sos",
   "nbconvert_exporter": "sos_notebook.converter.SoS_Exporter",
   "pygments_lexer": "sos"
  },
  "sos": {
   "kernels": [
    [
     "SoS",
     "sos",
     "",
     ""
    ]
   ],
   "version": "0.24.2"
  }
 },
 "nbformat": 4,
 "nbformat_minor": 5
}
