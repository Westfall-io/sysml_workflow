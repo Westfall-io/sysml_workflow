{
 "cells": [
  {
   "cell_type": "markdown",
   "id": "54e27557-e877-4ff8-81b9-cf50e55752c2",
   "metadata": {
    "kernel": "SoS",
    "tags": []
   },
   "source": [
    "# 3. Spacecraft"
   ]
  },
  {
   "cell_type": "code",
   "execution_count": 1,
   "id": "59c17c75-8f73-4140-904d-339972fdbc2c",
   "metadata": {
    "kernel": "Python3",
    "tags": []
   },
   "outputs": [],
   "source": [
    "# %load spacecraft_model.sysml\n",
    "package SpacecraftModel {\n",
    "    import VehicleQuantities::*;\n",
    "    import EPSModel::*;\n",
    "    import CommModel::*;\n",
    "    import ADCSModel::*;\n",
    "    import GoProHERO10Model::*;\n",
    "    \n",
    "    part def Spacecraft {\n",
    "        attribute mass : MassValue;\n",
    "    }\n",
    "    \n",
    "    part Block1Design: Spacecraft {\n",
    "        part ElectricalPowerSystem :> EPSDesign {\n",
    "            \n",
    "        }\n",
    "        part CommunicationSystem :> CommDesign {\n",
    "            \n",
    "        }\n",
    "        part ADCSSystem :> ACDSDesign {\n",
    "            \n",
    "        }\n",
    "        part GoPro :> GoProHERO10 {\n",
    "            attribute graze : Real;\n",
    "            attribute squint : Real;\n",
    "            constraint TargetElevation { graze > 45 }\n",
    "            constraint VelocityRelativePointing { -45 < squint < 45 }\n",
    "        }\n",
    "    }\n",
    "}\n"
   ]
  },
  {
   "cell_type": "markdown",
   "id": "9e9de5a0-6110-4b2e-a266-c8e84d320394",
   "metadata": {
    "kernel": "SoS"
   },
   "source": [
    "![](spacecraft_model.png)"
   ]
  },
  {
   "cell_type": "markdown",
   "id": "65c867d4-337a-4949-875f-0712f54f3306",
   "metadata": {
    "kernel": "SoS"
   },
   "source": [
    "## 3.1 Propulsion"
   ]
  },
  {
   "cell_type": "markdown",
   "id": "5903b4e9-ba65-4dd5-8bfc-68584b0df84f",
   "metadata": {
    "kernel": "SoS"
   },
   "source": [
    "## 3.2 ADCS"
   ]
  },
  {
   "cell_type": "markdown",
   "id": "6b0386b7-64c6-424f-a331-e77f600d2e8a",
   "metadata": {
    "kernel": "SoS"
   },
   "source": [
    "## 3.3 Navigation"
   ]
  },
  {
   "cell_type": "markdown",
   "id": "5d39c755-f432-432b-aa38-fea549570d30",
   "metadata": {
    "kernel": "SoS"
   },
   "source": [
    "## 3.4 CD&H"
   ]
  },
  {
   "cell_type": "markdown",
   "id": "b3c11055-e6e8-4a7a-a835-31df2189b3fc",
   "metadata": {
    "kernel": "SoS"
   },
   "source": [
    "## 3.5 TT&C"
   ]
  },
  {
   "cell_type": "markdown",
   "id": "427e5fd4-7379-45f3-92a0-8f75bfa14ba6",
   "metadata": {
    "kernel": "SoS"
   },
   "source": [
    "## 3.6 Power"
   ]
  },
  {
   "cell_type": "markdown",
   "id": "3650064f-a98e-4160-9471-14e29bdbec03",
   "metadata": {
    "kernel": "SoS"
   },
   "source": [
    "## 3.7 Structures"
   ]
  },
  {
   "cell_type": "markdown",
   "id": "2177efff-97fc-4997-ac41-f27113e3a575",
   "metadata": {
    "kernel": "SoS"
   },
   "source": [
    "## 3.8 Thermal"
   ]
  }
 ],
 "metadata": {
  "kernelspec": {
   "display_name": "SoS",
   "language": "sos",
   "name": "sos"
  },
  "language_info": {
   "codemirror_mode": "sos",
   "file_extension": ".sos",
   "mimetype": "text/x-sos",
   "name": "sos",
   "nbconvert_exporter": "sos_notebook.converter.SoS_Exporter",
   "pygments_lexer": "sos"
  },
  "sos": {
   "kernels": [
    [
     "Python3",
     "python3",
     "Python3",
     "#FFD91A",
     ""
    ],
    [
     "SoS",
     "sos",
     "",
     "",
     "sos"
    ]
   ],
   "version": "0.24.2"
  }
 },
 "nbformat": 4,
 "nbformat_minor": 5
}
