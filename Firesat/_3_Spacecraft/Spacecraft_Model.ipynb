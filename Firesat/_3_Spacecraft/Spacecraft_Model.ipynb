{
 "cells": [
  {
   "cell_type": "code",
   "execution_count": 13,
   "id": "292b5d36-7427-4a21-98b0-ad484d0a9dbe",
   "metadata": {
    "kernel": "SysML",
    "tags": []
   },
   "outputs": [
    {
     "data": {
      "text/plain": [
       "Package VehicleQuantities (ff6f42fb-710f-420c-af38-db6fe3cb9dec)\n"
      ]
     },
     "execution_count": 13,
     "metadata": {},
     "output_type": "execute_result"
    }
   ],
   "source": [
    "package VehicleQuantities {\n",
    "    import ScalarValues::*;\n",
    "    import Quantities::*;\n",
    "    //import UnitsAndScales::*;\n",
    "    //import MeasurementReferences::*;\n",
    "    import VectorCalculations::*;\n",
    "    import ISQ::*;\n",
    "    import SI::*;\n",
    "    import USCustomaryUnits::*;\n",
    "    import Time::*;\n",
    "    \n",
    "    attribute dollars : Real;\n",
    "}"
   ]
  },
  {
   "cell_type": "code",
   "execution_count": 14,
   "id": "5e6c69bb-ec98-4e7f-bbec-26bf1c240dad",
   "metadata": {
    "kernel": "SysML",
    "tags": []
   },
   "outputs": [
    {
     "name": "stdout",
     "output_type": "stream",
     "text": [
      "WARNING:Should be a measurement reference (unit). (14.sysml line : 12 column : 39)\n",
      "WARNING:Should be a measurement reference (unit). (14.sysml line : 20 column : 38)\n"
     ]
    },
    {
     "data": {
      "text/plain": [
       "Package EPSModel (84e23993-7804-461c-a6c1-fd6f099b5317)\n"
      ]
     },
     "execution_count": 14,
     "metadata": {},
     "output_type": "execute_result"
    }
   ],
   "source": [
    "package EPSModel {\n",
    "    import VehicleQuantities::*;\n",
    "    \n",
    "    part def ElectricalPowerSubsystem {\n",
    "        attribute mass : MassValue;\n",
    "    }\n",
    "    \n",
    "    part def SolarPanel {\n",
    "        doc /* Cubesat shop */\n",
    "        attribute mass : MassValue = 50 [g];\n",
    "        attribute efficiency : Real = 0.3;\n",
    "        attribute cost : Real = 1450 ['dollars'];\n",
    "    }\n",
    "    \n",
    "    part def BatteryAndSolarPanelInterface {\n",
    "        doc /* Cubesat shop */\n",
    "        attribute mass : Real = 365 ['g'];\n",
    "        attribute power: PowerValue = 20 ['W'];\n",
    "        attribute powerStorage: EnergyValue = 230400 ['J'];\n",
    "        attribute cost: Real = 8500 ['dollars'];\n",
    "    }\n",
    "    \n",
    "    part EPSDesign : ElectricalPowerSubsystem {\n",
    "        part SolarPanels : SolarPanel {\n",
    "\n",
    "        }\n",
    "        part EPSManagement : BatteryAndSolarPanelInterface {\n",
    "            \n",
    "        }\n",
    "    }\n",
    "    \n",
    "}"
   ]
  },
  {
   "cell_type": "code",
   "execution_count": 15,
   "id": "5fddd0f1-760d-4f5b-b867-39f0e6f87e84",
   "metadata": {
    "kernel": "SysML"
   },
   "outputs": [
    {
     "name": "stdout",
     "output_type": "stream",
     "text": [
      "WARNING:Should be a measurement reference (unit). (15.sysml line : 12 column : 39)\n",
      "WARNING:Should be a measurement reference (unit). (15.sysml line : 20 column : 38)\n"
     ]
    },
    {
     "data": {
      "text/plain": [
       "Package CommModel (39c169cc-e9ca-4afd-ae45-822fddc1f66f)\n"
      ]
     },
     "execution_count": 15,
     "metadata": {},
     "output_type": "execute_result"
    }
   ],
   "source": [
    "package CommModel {\n",
    "    import VehicleQuantities::*;\n",
    "    \n",
    "    part def CommunicationSubsystem {\n",
    "        attribute mass : MassValue;\n",
    "    }\n",
    "    \n",
    "    part def Antenna {\n",
    "        doc /* Cubesat shop */\n",
    "        attribute mass : MassValue = 100 ['g'];\n",
    "        attribute gain : Real = 0;\n",
    "        attribute cost : Real = 7900 ['dollars'];\n",
    "    }\n",
    "    \n",
    "    part def Transceiver {\n",
    "        doc /* Cubesat shop */\n",
    "        attribute mass : Real = 75 ['g'];\n",
    "        attribute transmitPower: PowerValue = 4 ['W'];\n",
    "        attribute receivePower: PowerValue = 0.48 ['W'];\n",
    "        attribute cost: Real = 8500 ['dollars'];\n",
    "        \n",
    "        part def Transmitter {\n",
    "            attribute centerFrequency: FrequencyValue = 436500000 ['Hz'];\n",
    "            attribute actualTransmitPower : PowerValue = 27 ['dB'];\n",
    "            attribute dataRate: Real = 9600;\n",
    "        }\n",
    "    \n",
    "        part def Receiver {\n",
    "            attribute centerFrequency: FrequencyValue = 145900000 ['Hz'];\n",
    "            attribute dataRate: Real = 9600;\n",
    "        }\n",
    "    }\n",
    "    \n",
    "    \n",
    "    \n",
    "    part CommDesign : CommunicationSubsystem {\n",
    "        part antenna : Antenna {\n",
    "\n",
    "        }\n",
    "        part transceiver : Transceiver {\n",
    "            \n",
    "        }\n",
    "    }\n",
    "    \n",
    "}"
   ]
  },
  {
   "cell_type": "code",
   "execution_count": 23,
   "id": "cfa60f70-32db-4527-ac3c-74fc3c98d7d7",
   "metadata": {
    "kernel": "SysML"
   },
   "outputs": [
    {
     "data": {
      "text/html": [
       "<div class=\"sos_hint\">Cell content saved to <a href=\"2_ADCS/adcs_model.sysml\" target=\"_blank\">2_ADCS/adcs_model.sysml</a></div>"
      ],
      "text/plain": [
       "Cell content saved to 2_ADCS/adcs_model.sysml\n"
      ]
     },
     "metadata": {},
     "output_type": "display_data"
    },
    {
     "name": "stdout",
     "output_type": "stream",
     "text": [
      "WARNING:Should be a measurement reference (unit). (21.sysml line : 12 column : 40)\n"
     ]
    },
    {
     "data": {
      "text/plain": [
       "Package ADCSModel (3a77605f-a656-4c80-b881-89153f604444)\n"
      ]
     },
     "execution_count": 23,
     "metadata": {},
     "output_type": "execute_result"
    }
   ],
   "source": [
    "%save 2_ADCS/adcs_model.sysml -f -r\n",
    "package ADCSModel {\n",
    "    import VehicleQuantities::*;\n",
    "    \n",
    "    part def ADCSSubsystem {\n",
    "        attribute mass : MassValue;\n",
    "    }\n",
    "    \n",
    "    part def ADCSThreeAxis {\n",
    "        doc /* Cubesat shop */\n",
    "        attribute mass : MassValue = 506 ['g'];\n",
    "        attribute powerConsumption : PowerValue = 1 ['W'];\n",
    "        attribute cost : Real = 37400 ['dollars'];\n",
    "    }\n",
    "    \n",
    "    // value dynamically assigned\n",
    "    part ACDSDesign : ADCSSubsystem {\n",
    "        part CubeACDS : ADCSThreeAxis {\n",
    "\n",
    "        }\n",
    "    }\n",
    "}"
   ]
  },
  {
   "cell_type": "code",
   "execution_count": 5,
   "id": "e50e1508-cba0-4a5f-8804-f2147299dc4e",
   "metadata": {
    "kernel": "SysML"
   },
   "outputs": [
    {
     "name": "stdout",
     "output_type": "stream",
     "text": [
      "WARNING:Duplicate of inherited member name (5.sysml line : 17 column : 23)\n"
     ]
    },
    {
     "data": {
      "text/plain": [
       "Package GoProHERO10Model (c62abe12-2fb2-4117-9923-958bf13c7cd5)\n"
      ]
     },
     "execution_count": 6,
     "metadata": {},
     "output_type": "execute_result"
    }
   ],
   "source": [
    "package GoProHERO10Model {\n",
    "    import VehicleQuantities::*;\n",
    "    \n",
    "    part def GoPro {\n",
    "        attribute mass : MassValue = 153 ['g'];\n",
    "        attribute dataStorage : StorageCapacityValue = 100000000 ['bit'];\n",
    "    }\n",
    "    \n",
    "    part def camera {\n",
    "        attribute quality : String = \"4K\";\n",
    "        attribute fps : Real = 120;\n",
    "        attribute bitrate : Real = 100;\n",
    "    }\n",
    "    \n",
    "    part GoProHERO10 : GoPro {\n",
    "        part Camera : camera {\n",
    "            attribute fps : Real = 100;\n",
    "        }\n",
    "    }\n",
    "}"
   ]
  },
  {
   "cell_type": "code",
   "execution_count": 22,
   "id": "f8a64cb3-0042-4480-8935-9cc5f64441da",
   "metadata": {
    "kernel": "SysML"
   },
   "outputs": [
    {
     "data": {
      "text/html": [
       "<div class=\"sos_hint\">Cell content saved to <a href=\"spacecraft_model.sysml\" target=\"_blank\">spacecraft_model.sysml</a></div>"
      ],
      "text/plain": [
       "Cell content saved to spacecraft_model.sysml\n"
      ]
     },
     "metadata": {},
     "output_type": "display_data"
    },
    {
     "data": {
      "text/plain": [
       "Package SpacecraftModel (aef00d3e-8230-4f97-b6ef-3c9ed59817d6)\n"
      ]
     },
     "execution_count": 22,
     "metadata": {},
     "output_type": "execute_result"
    }
   ],
   "source": [
    "%save spacecraft_model.sysml -f -r\n",
    "package SpacecraftModel {\n",
    "    import VehicleQuantities::*;\n",
    "    import EPSModel::*;\n",
    "    import CommModel::*;\n",
    "    import ADCSModel::*;\n",
    "    import GoProHERO10Model::*;\n",
    "    \n",
    "    part def Spacecraft {\n",
    "        attribute mass : MassValue;\n",
    "    }\n",
    "    \n",
    "    part Block1Design: Spacecraft {\n",
    "        part ElectricalPowerSystem :> EPSDesign {\n",
    "            \n",
    "        }\n",
    "        part CommunicationSystem :> CommDesign {\n",
    "            \n",
    "        }\n",
    "        part ADCSSystem :> ACDSDesign {\n",
    "            \n",
    "        }\n",
    "        part GoPro :> GoProHERO10 {\n",
    "            attribute graze : Real;\n",
    "            attribute squint : Real;\n",
    "            constraint TargetElevation { graze > 45 }\n",
    "            constraint VelocityRelativePointing { -45 < squint < 45 }\n",
    "        }\n",
    "    }\n",
    "}"
   ]
  },
  {
   "cell_type": "code",
   "execution_count": 18,
   "id": "8d8fecc2-0d56-4deb-b0cb-0a5cc0dc71f9",
   "metadata": {
    "kernel": "SysML"
   },
   "outputs": [
    {
     "data": {
      "image/svg+xml": [
       "<?xml version=\"1.0\" encoding=\"UTF-8\" standalone=\"no\"?><svg xmlns=\"http://www.w3.org/2000/svg\" xmlns:xlink=\"http://www.w3.org/1999/xlink\" contentStyleType=\"text/css\" height=\"398px\" preserveAspectRatio=\"none\" style=\"width:1687px;height:398px;background:#FFFFFF;\" version=\"1.1\" viewBox=\"0 0 1687 398\" width=\"1687px\" zoomAndPan=\"magnify\"><defs><filter height=\"300%\" id=\"f1u1ihrp17flnk\" width=\"300%\" x=\"-1\" y=\"-1\"><feGaussianBlur result=\"blurOut\" stdDeviation=\"2.0\"/><feColorMatrix in=\"blurOut\" result=\"blurOut2\" type=\"matrix\" values=\"0 0 0 0 0 0 0 0 0 0 0 0 0 0 0 0 0 0 .4 0\"/><feOffset dx=\"4.0\" dy=\"4.0\" in=\"blurOut2\" result=\"blurOut3\"/><feBlend in=\"SourceGraphic\" in2=\"blurOut3\" mode=\"normal\"/></filter></defs><g><!--MD5=[fbc87193dbaf4d95561dea2c320d4a47]\n",
       "cluster E1--><g id=\"cluster_E1\"><a href=\"psysml:8b7d6421-9853-441b-b0f0-c14ba4851ccd\" target=\"_top\" title=\"psysml:8b7d6421-9853-441b-b0f0-c14ba4851ccd\" xlink:actuate=\"onRequest\" xlink:href=\"psysml:8b7d6421-9853-441b-b0f0-c14ba4851ccd\" xlink:show=\"new\" xlink:title=\"psysml:8b7d6421-9853-441b-b0f0-c14ba4851ccd\" xlink:type=\"simple\"><polygon fill=\"none\" filter=\"url(#f1u1ihrp17flnk)\" points=\"16,6,154,6,161,28.2969,1670,28.2969,1670,391,16,391,16,6\" style=\"stroke:#000000;stroke-width:1.5;\"/><line style=\"stroke:#000000;stroke-width:1.5;\" x1=\"16\" x2=\"161\" y1=\"28.2969\" y2=\"28.2969\"/><text fill=\"#000000\" font-family=\"sans-serif\" font-size=\"14\" font-weight=\"bold\" lengthAdjust=\"spacing\" textLength=\"132\" x=\"20\" y=\"20.9951\">SpacecraftModel</text></a></g><!--MD5=[b4997ac47864f28c2f74865a473b2911]\n",
       "class E2--><a href=\"psysml:01d95201-bf2d-4f45-8e56-b99418fb7b75\" target=\"_top\" title=\"psysml:01d95201-bf2d-4f45-8e56-b99418fb7b75\" xlink:actuate=\"onRequest\" xlink:href=\"psysml:01d95201-bf2d-4f45-8e56-b99418fb7b75\" xlink:show=\"new\" xlink:title=\"psysml:01d95201-bf2d-4f45-8e56-b99418fb7b75\" xlink:type=\"simple\"><g id=\"elem_E2\"><rect fill=\"#FFFACD\" filter=\"url(#f1u1ihrp17flnk)\" height=\"75.0813\" id=\"E2\" style=\"stroke:#181818;stroke-width:0.5;\" width=\"132\" x=\"32\" y=\"157\"/><text fill=\"#000000\" font-family=\"sans-serif\" font-size=\"12\" font-style=\"italic\" lengthAdjust=\"spacing\" textLength=\"68\" x=\"64\" y=\"173.1387\">«part  def»</text><text fill=\"#000000\" font-family=\"sans-serif\" font-size=\"14\" lengthAdjust=\"spacing\" textLength=\"73\" x=\"61.5\" y=\"188.9639\">Spacecraft</text><line style=\"stroke:#181818;stroke-width:0.5;\" x1=\"33\" x2=\"163\" y1=\"197.2656\" y2=\"197.2656\"/><text fill=\"#000000\" font-family=\"sans-serif\" font-size=\"14\" lengthAdjust=\"spacing\" textLength=\"120\" x=\"38\" y=\"224.7795\">mass: MassValue</text><text fill=\"#000000\" font-family=\"sans-serif\" font-size=\"14\" font-style=\"italic\" lengthAdjust=\"spacing\" textLength=\"65\" x=\"65.5\" y=\"209.6123\">attributes</text></g></a><!--MD5=[09b614a08d8cba4a07c9adeb5e0fee81]\n",
       "class E3--><a href=\"psysml:80b01156-682c-4017-a8fa-f93618b1913d\" target=\"_top\" title=\"psysml:80b01156-682c-4017-a8fa-f93618b1913d\" xlink:actuate=\"onRequest\" xlink:href=\"psysml:80b01156-682c-4017-a8fa-f93618b1913d\" xlink:show=\"new\" xlink:title=\"psysml:80b01156-682c-4017-a8fa-f93618b1913d\" xlink:type=\"simple\"><g id=\"elem_E3\"><rect fill=\"#FFFACD\" filter=\"url(#f1u1ihrp17flnk)\" height=\"48.2656\" id=\"E3\" rx=\"10\" ry=\"10\" style=\"stroke:#181818;stroke-width:0.5;\" width=\"192\" x=\"670\" y=\"41\"/><text fill=\"#000000\" font-family=\"sans-serif\" font-size=\"12\" font-style=\"italic\" lengthAdjust=\"spacing\" textLength=\"40\" x=\"746\" y=\"57.1387\">«part»</text><text fill=\"#000000\" font-family=\"sans-serif\" font-size=\"14\" lengthAdjust=\"spacing\" textLength=\"178\" x=\"673\" y=\"72.9639\">Block1Design: Spacecraft</text><line style=\"stroke:#181818;stroke-width:0.5;\" x1=\"671\" x2=\"861\" y1=\"81.2656\" y2=\"81.2656\"/></g></a><!--MD5=[ebbe1d658d1005bcc118a6aa81145e00]\n",
       "class E4--><a href=\"psysml:6c8b30ba-fdca-487d-bf48-0b651631aa14\" target=\"_top\" title=\"psysml:6c8b30ba-fdca-487d-bf48-0b651631aa14\" xlink:actuate=\"onRequest\" xlink:href=\"psysml:6c8b30ba-fdca-487d-bf48-0b651631aa14\" xlink:show=\"new\" xlink:title=\"psysml:6c8b30ba-fdca-487d-bf48-0b651631aa14\" xlink:type=\"simple\"><g id=\"elem_E4\"><rect fill=\"#FFFACD\" filter=\"url(#f1u1ihrp17flnk)\" height=\"48.2656\" id=\"E4\" rx=\"10\" ry=\"10\" style=\"stroke:#181818;stroke-width:0.5;\" width=\"341\" x=\"199.5\" y=\"170.5\"/><text fill=\"#000000\" font-family=\"sans-serif\" font-size=\"12\" font-style=\"italic\" lengthAdjust=\"spacing\" textLength=\"40\" x=\"350\" y=\"186.6387\">«part»</text><text fill=\"#000000\" font-family=\"sans-serif\" font-size=\"14\" lengthAdjust=\"spacing\" textLength=\"331\" x=\"202.5\" y=\"202.4639\">ElectricalPowerSystem :&gt;EPSModel::EPSDesign</text><line style=\"stroke:#181818;stroke-width:0.5;\" x1=\"200.5\" x2=\"539.5\" y1=\"210.7656\" y2=\"210.7656\"/></g></a><!--MD5=[270fce915f116d4de14055a7c1d9a0f3]\n",
       "class E5--><a href=\"psysml:af6f0e52-1d68-4893-929f-8e8ab1149ec3\" target=\"_top\" title=\"psysml:af6f0e52-1d68-4893-929f-8e8ab1149ec3\" xlink:actuate=\"onRequest\" xlink:href=\"psysml:af6f0e52-1d68-4893-929f-8e8ab1149ec3\" xlink:show=\"new\" xlink:title=\"psysml:af6f0e52-1d68-4893-929f-8e8ab1149ec3\" xlink:type=\"simple\"><g id=\"elem_E5\"><rect fill=\"#FFFACD\" filter=\"url(#f1u1ihrp17flnk)\" height=\"48.2656\" id=\"E5\" rx=\"10\" ry=\"10\" style=\"stroke:#181818;stroke-width:0.5;\" width=\"381\" x=\"575.5\" y=\"170.5\"/><text fill=\"#000000\" font-family=\"sans-serif\" font-size=\"12\" font-style=\"italic\" lengthAdjust=\"spacing\" textLength=\"40\" x=\"746\" y=\"186.6387\">«part»</text><text fill=\"#000000\" font-family=\"sans-serif\" font-size=\"14\" lengthAdjust=\"spacing\" textLength=\"371\" x=\"578.5\" y=\"202.4639\">CommunicationSystem :&gt;CommModel::CommDesign</text><line style=\"stroke:#181818;stroke-width:0.5;\" x1=\"576.5\" x2=\"955.5\" y1=\"210.7656\" y2=\"210.7656\"/></g></a><!--MD5=[60a26617385b1d2d0262a64233df1f8d]\n",
       "class E6--><a href=\"psysml:b1f5a2c2-f8b5-436c-a56e-617b26d9c8f2\" target=\"_top\" title=\"psysml:b1f5a2c2-f8b5-436c-a56e-617b26d9c8f2\" xlink:actuate=\"onRequest\" xlink:href=\"psysml:b1f5a2c2-f8b5-436c-a56e-617b26d9c8f2\" xlink:show=\"new\" xlink:title=\"psysml:b1f5a2c2-f8b5-436c-a56e-617b26d9c8f2\" xlink:type=\"simple\"><g id=\"elem_E6\"><rect fill=\"#FFFACD\" filter=\"url(#f1u1ihrp17flnk)\" height=\"48.2656\" id=\"E6\" rx=\"10\" ry=\"10\" style=\"stroke:#181818;stroke-width:0.5;\" width=\"300\" x=\"991\" y=\"170.5\"/><text fill=\"#000000\" font-family=\"sans-serif\" font-size=\"12\" font-style=\"italic\" lengthAdjust=\"spacing\" textLength=\"40\" x=\"1121\" y=\"186.6387\">«part»</text><text fill=\"#000000\" font-family=\"sans-serif\" font-size=\"14\" lengthAdjust=\"spacing\" textLength=\"290\" x=\"994\" y=\"202.4639\">ADCSSystem :&gt;ADCSModel::ACDSDesign</text><line style=\"stroke:#181818;stroke-width:0.5;\" x1=\"992\" x2=\"1290\" y1=\"210.7656\" y2=\"210.7656\"/></g></a><!--MD5=[2156ba9850f5573cc1fc38a6a4b2f02b]\n",
       "class E7--><a href=\"psysml:c559e590-fa69-45c5-ba8a-83b781398bab\" target=\"_top\" title=\"psysml:c559e590-fa69-45c5-ba8a-83b781398bab\" xlink:actuate=\"onRequest\" xlink:href=\"psysml:c559e590-fa69-45c5-ba8a-83b781398bab\" xlink:show=\"new\" xlink:title=\"psysml:c559e590-fa69-45c5-ba8a-83b781398bab\" xlink:type=\"simple\"><g id=\"elem_E7\"><rect fill=\"#FFFACD\" filter=\"url(#f1u1ihrp17flnk)\" height=\"91.3781\" id=\"E7\" rx=\"10\" ry=\"10\" style=\"stroke:#181818;stroke-width:0.5;\" width=\"328\" x=\"1326\" y=\"149\"/><text fill=\"#000000\" font-family=\"sans-serif\" font-size=\"12\" font-style=\"italic\" lengthAdjust=\"spacing\" textLength=\"40\" x=\"1470\" y=\"165.1387\">«part»</text><text fill=\"#000000\" font-family=\"sans-serif\" font-size=\"14\" lengthAdjust=\"spacing\" textLength=\"318\" x=\"1329\" y=\"180.9639\">GoPro :&gt;GoProHERO10Model::GoProHERO10</text><line style=\"stroke:#181818;stroke-width:0.5;\" x1=\"1327\" x2=\"1653\" y1=\"189.2656\" y2=\"189.2656\"/><text fill=\"#000000\" font-family=\"sans-serif\" font-size=\"14\" lengthAdjust=\"spacing\" textLength=\"78\" x=\"1332\" y=\"216.7795\">graze: Real</text><text fill=\"#000000\" font-family=\"sans-serif\" font-size=\"14\" lengthAdjust=\"spacing\" textLength=\"82\" x=\"1332\" y=\"233.0764\">squint: Real</text><text fill=\"#000000\" font-family=\"sans-serif\" font-size=\"14\" font-style=\"italic\" lengthAdjust=\"spacing\" textLength=\"65\" x=\"1457.5\" y=\"201.6123\">attributes</text></g></a><!--MD5=[b9389687b975829384b498ac4b7476b2]\n",
       "class E8--><a href=\"psysml:85434145-0fd3-41d0-917c-028eabcac16c\" target=\"_top\" title=\"psysml:85434145-0fd3-41d0-917c-028eabcac16c\" xlink:actuate=\"onRequest\" xlink:href=\"psysml:85434145-0fd3-41d0-917c-028eabcac16c\" xlink:show=\"new\" xlink:title=\"psysml:85434145-0fd3-41d0-917c-028eabcac16c\" xlink:type=\"simple\"><g id=\"elem_E8\"><rect fill=\"#FFFACD\" filter=\"url(#f1u1ihrp17flnk)\" height=\"75.0813\" id=\"E8\" rx=\"10\" ry=\"10\" style=\"stroke:#181818;stroke-width:0.5;\" width=\"153\" x=\"1251.5\" y=\"300\"/><text fill=\"#000000\" font-family=\"sans-serif\" font-size=\"12\" font-style=\"italic\" lengthAdjust=\"spacing\" textLength=\"77\" x=\"1289.5\" y=\"316.1387\">«constraint»</text><text fill=\"#000000\" font-family=\"sans-serif\" font-size=\"14\" lengthAdjust=\"spacing\" textLength=\"107\" x=\"1270.5\" y=\"331.9639\">TargetElevation</text><line style=\"stroke:#181818;stroke-width:0.5;\" x1=\"1252.5\" x2=\"1403.5\" y1=\"340.2656\" y2=\"340.2656\"/><text fill=\"#000000\" font-family=\"sans-serif\" font-size=\"14\" lengthAdjust=\"spacing\" textLength=\"103\" x=\"1257.5\" y=\"367.7795\">{ graze &gt; 45 }</text><text fill=\"#000000\" font-family=\"sans-serif\" font-size=\"14\" font-style=\"italic\" lengthAdjust=\"spacing\" textLength=\"145\" x=\"1255.5\" y=\"352.6123\">operator expressions</text></g></a><!--MD5=[fd4143e9d270a159db93a4ea2a975926]\n",
       "class E9--><a href=\"psysml:38aded1b-fb6f-43dc-a91c-ffbcb7eda088\" target=\"_top\" title=\"psysml:38aded1b-fb6f-43dc-a91c-ffbcb7eda088\" xlink:actuate=\"onRequest\" xlink:href=\"psysml:38aded1b-fb6f-43dc-a91c-ffbcb7eda088\" xlink:show=\"new\" xlink:title=\"psysml:38aded1b-fb6f-43dc-a91c-ffbcb7eda088\" xlink:type=\"simple\"><g id=\"elem_E9\"><rect fill=\"#FFFACD\" filter=\"url(#f1u1ihrp17flnk)\" height=\"75.0813\" id=\"E9\" rx=\"10\" ry=\"10\" style=\"stroke:#181818;stroke-width:0.5;\" width=\"177\" x=\"1439.5\" y=\"300\"/><text fill=\"#000000\" font-family=\"sans-serif\" font-size=\"12\" font-style=\"italic\" lengthAdjust=\"spacing\" textLength=\"77\" x=\"1489.5\" y=\"316.1387\">«constraint»</text><text fill=\"#000000\" font-family=\"sans-serif\" font-size=\"14\" lengthAdjust=\"spacing\" textLength=\"163\" x=\"1442.5\" y=\"331.9639\">VelocityRelativePointing</text><line style=\"stroke:#181818;stroke-width:0.5;\" x1=\"1440.5\" x2=\"1615.5\" y1=\"340.2656\" y2=\"340.2656\"/><text fill=\"#000000\" font-family=\"sans-serif\" font-size=\"14\" lengthAdjust=\"spacing\" textLength=\"150\" x=\"1445.5\" y=\"367.7795\">{ -45 &lt; squint &lt; 45 }</text><text fill=\"#000000\" font-family=\"sans-serif\" font-size=\"14\" font-style=\"italic\" lengthAdjust=\"spacing\" textLength=\"145\" x=\"1455.5\" y=\"352.6123\">operator expressions</text></g></a><!--MD5=[05d275557350bfb9b23a4ef7222b4c39]\n",
       "link E3 to E2--><g id=\"link_E3_E2\"><a href=\"psysml:4c6073d3-b0a5-4432-88c3-7a620ebd6776\" target=\"_top\" title=\"psysml:4c6073d3-b0a5-4432-88c3-7a620ebd6776\" xlink:actuate=\"onRequest\" xlink:href=\"psysml:4c6073d3-b0a5-4432-88c3-7a620ebd6776\" xlink:show=\"new\" xlink:title=\"psysml:4c6073d3-b0a5-4432-88c3-7a620ebd6776\" xlink:type=\"simple\"><path d=\"M669.91,69.52 C552.27,76.11 348.18,95 182,149 C181.47,149.17 180.94,149.35 180.42,149.52 \" fill=\"none\" id=\"E3-to-E2\" style=\"stroke:#181818;stroke-width:1.0;\"/><polygon fill=\"#FFFFFF\" points=\"161.67,156.9,176.7938,143.4363,181.9138,156.4664,161.67,156.9\" style=\"stroke:#181818;stroke-width:1.0;\"/><ellipse cx=\"182.8303\" cy=\"143.2131\" fill=\"#181818\" rx=\"2\" ry=\"2\" style=\"stroke:#181818;stroke-width:1.0;\"/><ellipse cx=\"186.4875\" cy=\"152.5204\" fill=\"#181818\" rx=\"2\" ry=\"2\" style=\"stroke:#181818;stroke-width:1.0;\"/></a></g><!--MD5=[4672eba38e49728da53d11aeb285b987]\n",
       "reverse link E3 to E4--><g id=\"link_E3_E4\"><a href=\"psysml:f26b64d9-1914-49da-8db3-85810f357aee\" target=\"_top\" title=\"psysml:f26b64d9-1914-49da-8db3-85810f357aee\" xlink:actuate=\"onRequest\" xlink:href=\"psysml:f26b64d9-1914-49da-8db3-85810f357aee\" xlink:show=\"new\" xlink:title=\"psysml:f26b64d9-1914-49da-8db3-85810f357aee\" xlink:type=\"simple\"><path d=\"M681.76,93.12 C610.34,116.12 509.04,148.73 441.51,170.48 \" fill=\"none\" id=\"E3-backto-E4\" style=\"stroke:#181818;stroke-width:1.0;\"/><polygon fill=\"#181818\" points=\"694.29,89.09,687.3525,87.1226,682.8681,92.7698,689.8057,94.7372,694.29,89.09\" style=\"stroke:#181818;stroke-width:1.0;\"/><text fill=\"#000000\" font-family=\"sans-serif\" font-size=\"13\" lengthAdjust=\"spacing\" textLength=\"8\" x=\"450.8094\" y=\"159.4529\">1</text></a></g><!--MD5=[191cde3d490a3f6d7bb551fe3ddca469]\n",
       "reverse link E3 to E5--><g id=\"link_E3_E5\"><a href=\"psysml:c13e6299-2693-4525-9532-8665336740d3\" target=\"_top\" title=\"psysml:c13e6299-2693-4525-9532-8665336740d3\" xlink:actuate=\"onRequest\" xlink:href=\"psysml:c13e6299-2693-4525-9532-8665336740d3\" xlink:show=\"new\" xlink:title=\"psysml:c13e6299-2693-4525-9532-8665336740d3\" xlink:type=\"simple\"><path d=\"M766,102.19 C766,124 766,151.15 766,170.15 \" fill=\"none\" id=\"E3-backto-E5\" style=\"stroke:#181818;stroke-width:1.0;\"/><polygon fill=\"#181818\" points=\"766,89.09,762,95.09,766,101.09,770,95.09,766,89.09\" style=\"stroke:#181818;stroke-width:1.0;\"/><text fill=\"#000000\" font-family=\"sans-serif\" font-size=\"13\" lengthAdjust=\"spacing\" textLength=\"8\" x=\"757.025\" y=\"159.4373\">1</text></a></g><!--MD5=[1026b4b93417a13aa8999a858998add2]\n",
       "reverse link E3 to E6--><g id=\"link_E3_E6\"><a href=\"psysml:29b09986-329d-452e-9355-2a4e1708ab65\" target=\"_top\" title=\"psysml:29b09986-329d-452e-9355-2a4e1708ab65\" xlink:actuate=\"onRequest\" xlink:href=\"psysml:29b09986-329d-452e-9355-2a4e1708ab65\" xlink:show=\"new\" xlink:title=\"psysml:29b09986-329d-452e-9355-2a4e1708ab65\" xlink:type=\"simple\"><path d=\"M846.61,93.41 C914.2,116.39 1009.59,148.82 1073.28,170.48 \" fill=\"none\" id=\"E3-backto-E6\" style=\"stroke:#181818;stroke-width:1.0;\"/><polygon fill=\"#181818\" points=\"833.91,89.09,838.3015,94.8097,845.2702,92.9559,840.8787,87.2362,833.91,89.09\" style=\"stroke:#181818;stroke-width:1.0;\"/><text fill=\"#000000\" font-family=\"sans-serif\" font-size=\"13\" lengthAdjust=\"spacing\" textLength=\"8\" x=\"1046.9018\" y=\"159.4529\">1</text></a></g><!--MD5=[85760999379eecfd2565a9fecdca67e4]\n",
       "reverse link E3 to E7--><g id=\"link_E3_E7\"><a href=\"psysml:48cfd609-0550-49c1-9279-4382d94cc502\" target=\"_top\" title=\"psysml:48cfd609-0550-49c1-9279-4382d94cc502\" xlink:actuate=\"onRequest\" xlink:href=\"psysml:48cfd609-0550-49c1-9279-4382d94cc502\" xlink:show=\"new\" xlink:title=\"psysml:48cfd609-0550-49c1-9279-4382d94cc502\" xlink:type=\"simple\"><path d=\"M875.18,79.77 C985.18,94.33 1159.58,119.27 1309,149 C1314.55,150.1 1320.19,151.27 1325.88,152.47 \" fill=\"none\" id=\"E3-backto-E7\" style=\"stroke:#181818;stroke-width:1.0;\"/><polygon fill=\"#181818\" points=\"862.09,78.04,867.5153,82.7904,873.9869,79.6095,868.5616,74.8591,862.09,78.04\" style=\"stroke:#181818;stroke-width:1.0;\"/><text fill=\"#000000\" font-family=\"sans-serif\" font-size=\"13\" lengthAdjust=\"spacing\" textLength=\"8\" x=\"1310.2621\" y=\"147.287\">1</text></a></g><!--MD5=[dc164f5e8a733ab456ef1add180e9e34]\n",
       "reverse link E7 to E8--><g id=\"link_E7_E8\"><a href=\"psysml:59afa0df-c1a6-4c8d-84dd-192eb5053072\" target=\"_top\" title=\"psysml:59afa0df-c1a6-4c8d-84dd-192eb5053072\" xlink:actuate=\"onRequest\" xlink:href=\"psysml:59afa0df-c1a6-4c8d-84dd-192eb5053072\" xlink:show=\"new\" xlink:title=\"psysml:59afa0df-c1a6-4c8d-84dd-192eb5053072\" xlink:type=\"simple\"><path d=\"M1428.67,248.88 C1409.09,265.92 1387.87,284.39 1369.98,299.96 \" fill=\"none\" id=\"E7-backto-E8\" style=\"stroke:#181818;stroke-width:1.0;\"/><polygon fill=\"#181818\" points=\"1438.74,240.11,1431.588,241.0315,1429.6879,247.9877,1436.8398,247.0662,1438.74,240.11\" style=\"stroke:#181818;stroke-width:1.0;\"/><text fill=\"#000000\" font-family=\"sans-serif\" font-size=\"13\" lengthAdjust=\"spacing\" textLength=\"7\" x=\"1369.8343\" y=\"289.0087\">*</text></a></g><!--MD5=[e4a10ef82d0e328e31cac39a31e58dda]\n",
       "reverse link E7 to E9--><g id=\"link_E7_E9\"><a href=\"psysml:163df304-3feb-424e-936d-0a6ee24cb5b4\" target=\"_top\" title=\"psysml:163df304-3feb-424e-936d-0a6ee24cb5b4\" xlink:actuate=\"onRequest\" xlink:href=\"psysml:163df304-3feb-424e-936d-0a6ee24cb5b4\" xlink:show=\"new\" xlink:title=\"psysml:163df304-3feb-424e-936d-0a6ee24cb5b4\" xlink:type=\"simple\"><path d=\"M1505.52,253.07 C1509.76,268.83 1514.25,285.48 1518.09,299.73 \" fill=\"none\" id=\"E7-backto-E9\" style=\"stroke:#181818;stroke-width:1.0;\"/><polygon fill=\"#181818\" points=\"1502.02,240.11,1499.7199,246.9444,1505.1439,251.6962,1507.444,244.8618,1502.02,240.11\" style=\"stroke:#181818;stroke-width:1.0;\"/><text fill=\"#000000\" font-family=\"sans-serif\" font-size=\"13\" lengthAdjust=\"spacing\" textLength=\"7\" x=\"1508.7852\" y=\"289.0205\">*</text></a></g><!--MD5=[350eea8beb45c954d88111b18027ef25]\n",
       "@startuml\r\n",
       "skin sysmlc\r\n",
       "skinparam wrapWidth 300\r\n",
       "hide circle\r\n",
       "\r\n",
       "package \"SpacecraftModel\" as E1  [[psysml:8b7d6421-9853-441b-b0f0-c14ba4851ccd ]]  {\r\n",
       "comp def \"Spacecraft\" as E2  <<(T,blue) part  def>> [[psysml:01d95201-bf2d-4f45-8e56-b99418fb7b75 ]] {\r\n",
       "##//attributes//##\r\n",
       "mass: MassValue\r\n",
       "}\r\n",
       "comp usage \"Block1Design: Spacecraft  \" as E3  <<(T,blue) part>> [[psysml:80b01156-682c-4017-a8fa-f93618b1913d ]] {\r\n",
       "}\r\n",
       "comp usage \"ElectricalPowerSystem :>EPSModel::EPSDesign \" as E4  <<(T,blue) part>> [[psysml:6c8b30ba-fdca-487d-bf48-0b651631aa14 ]] {\r\n",
       "}\r\n",
       "comp usage \"CommunicationSystem :>CommModel::CommDesign \" as E5  <<(T,blue) part>> [[psysml:af6f0e52-1d68-4893-929f-8e8ab1149ec3 ]] {\r\n",
       "}\r\n",
       "comp usage \"ADCSSystem :>ADCSModel::ACDSDesign \" as E6  <<(T,blue) part>> [[psysml:b1f5a2c2-f8b5-436c-a56e-617b26d9c8f2 ]] {\r\n",
       "}\r\n",
       "comp usage \"GoPro :>GoProHERO10Model::GoProHERO10 \" as E7  <<(T,blue) part>> [[psysml:c559e590-fa69-45c5-ba8a-83b781398bab ]] {\r\n",
       "##//attributes//##\r\n",
       "graze: Real\r\n",
       "squint: Real\r\n",
       "}\r\n",
       "comp usage \"TargetElevation  \" as E8  <<(T,blue) constraint>> [[psysml:85434145-0fd3-41d0-917c-028eabcac16c ]] {\r\n",
       "##//operator expressions//##\r\n",
       " { graze > 45 }\r\n",
       "}\r\n",
       "comp usage \"VelocityRelativePointing  \" as E9  <<(T,blue) constraint>> [[psysml:38aded1b-fb6f-43dc-a91c-ffbcb7eda088 ]] {\r\n",
       "##//operator expressions//##\r\n",
       " { <U+002D>45 <U+003C> squint <U+003C> 45 }\r\n",
       "}\r\n",
       "}\r\n",
       "E3 - -:|> E2 [[psysml:4c6073d3-b0a5-4432-88c3-7a620ebd6776 ]] \r\n",
       "E3 *- - \"1\"E4 [[psysml:f26b64d9-1914-49da-8db3-85810f357aee ]] \r\n",
       "E3 *- - \"1\"E5 [[psysml:c13e6299-2693-4525-9532-8665336740d3 ]] \r\n",
       "E3 *- - \"1\"E6 [[psysml:29b09986-329d-452e-9355-2a4e1708ab65 ]] \r\n",
       "E3 *- - \"1\"E7 [[psysml:48cfd609-0550-49c1-9279-4382d94cc502 ]] \r\n",
       "E7 *- - \"*\"E8 [[psysml:59afa0df-c1a6-4c8d-84dd-192eb5053072 ]] \r\n",
       "E7 *- - \"*\"E9 [[psysml:163df304-3feb-424e-936d-0a6ee24cb5b4 ]] \r\n",
       "@enduml\r\n",
       "\n",
       "PlantUML version 1.2022.7(Mon Aug 22 17:01:30 UTC 2022)\n",
       "(EPL source distribution)\n",
       "Java Runtime: OpenJDK Runtime Environment\n",
       "JVM: OpenJDK 64-Bit Server VM\n",
       "Default Encoding: UTF-8\n",
       "Language: en\n",
       "Country: null\n",
       "--></g></svg>"
      ]
     },
     "execution_count": 18,
     "metadata": {},
     "output_type": "execute_result"
    }
   ],
   "source": [
    "%capture -t __3_0_Model raw\n",
    "%viz --style=STDCOLOR SpacecraftModel"
   ]
  },
  {
   "cell_type": "code",
   "execution_count": 21,
   "id": "e2080a0c-db79-4b1f-9304-2d93b6504265",
   "metadata": {
    "kernel": "Python3",
    "tags": []
   },
   "outputs": [],
   "source": [
    "%get __3_0_Model\n",
    "import pyvips\n",
    "\n",
    "img = pyvips.Image.svgload_buffer(bytes(__3_0_Model[0][1]['data']['image/svg+xml'], 'utf-8'))\n",
    "\n",
    "# save to second arg\n",
    "img.write_to_file(\"spacecraft_model.png\")"
   ]
  },
  {
   "cell_type": "code",
   "execution_count": 12,
   "id": "b6f2700c-793b-4782-9571-86fe35a91e34",
   "metadata": {
    "kernel": "SysML"
   },
   "outputs": [
    {
     "data": {
      "text/plain": [
       "Package CommercialConstellation (7f5c9ce3-e610-42ab-b9d9-f210ef36d8a3)\n"
      ]
     },
     "execution_count": 12,
     "metadata": {},
     "output_type": "execute_result"
    }
   ],
   "source": [
    "package CommercialConstellation {\n",
    "    import VehicleQuantities::*;\n",
    "    import SpacecraftModel::*;\n",
    "    \n",
    "    part def SpaceConstellation {\n",
    "        attribute planes : Real;\n",
    "        attribute sats_per_plane: Real;\n",
    "    }\n",
    "    \n",
    "    part Phase1 : SpaceConstellation {\n",
    "        part Block1 :> Block1Design[20] {\n",
    "        }\n",
    "    }\n",
    "}"
   ]
  },
  {
   "cell_type": "code",
   "execution_count": 11,
   "id": "a8f17b4e-c2ac-4070-b006-9e6483b0933e",
   "metadata": {
    "kernel": "SysML"
   },
   "outputs": [
    {
     "data": {
      "text/plain": [
       "Package ConstellationRequirements (345508f9-8555-4fee-8405-d529e857f369)\n"
      ]
     },
     "execution_count": 11,
     "metadata": {},
     "output_type": "execute_result"
    }
   ],
   "source": [
    "package ConstellationRequirements {\n",
    "    import VehicleQuantities::*;\n",
    "    \n",
    "    requirement MttaRequirement {\n",
    "        doc /* The constellation shall have a MTTA of less than 10 minutes to a target at 0 degrees North.\n",
    "        */\n",
    "        attribute mtta : TimeUnit;\n",
    "        constraint { mtta <= 10 ['min'] }\n",
    "    }\n",
    "    \n",
    "}"
   ]
  },
  {
   "cell_type": "code",
   "execution_count": 10,
   "id": "12d7a5eb-89d3-4d9b-ac7b-490dd38db547",
   "metadata": {
    "kernel": "SysML"
   },
   "outputs": [
    {
     "name": "stderr",
     "output_type": "stream",
     "text": [
      "ERROR:no viable alternative at input 'requirement' (10.sysml line : 15 column : 9)\n",
      "ERROR:no viable alternative at input 'objective' (10.sysml line : 15 column : 21)\n",
      "ERROR:mismatched input 'require' expecting '}' (10.sysml line : 20 column : 13)\n",
      "ERROR:no viable alternative at input '(' (10.sysml line : 23 column : 24)\n",
      "ERROR:no viable alternative at input 'out' (10.sysml line : 23 column : 47)\n",
      "ERROR:no viable alternative at input 'mtta' (10.sysml line : 23 column : 51)\n",
      "ERROR:no viable alternative at input ')' (10.sysml line : 23 column : 65)\n",
      "ERROR:missing EOF at '}' (10.sysml line : 25 column : 9)\n"
     ]
    },
    {
     "data": {
      "text/plain": []
     },
     "execution_count": 10,
     "metadata": {},
     "output_type": "execute_result"
    }
   ],
   "source": [
    "package MTTAAnalysisModel {\n",
    "    import VehicleQuantities::*;\n",
    "    import CommercialConstellation::*;\n",
    "    import ConstellationRequirements::*;\n",
    "    \n",
    "    attribute def ScenarioState {\n",
    "        epoch : Iso8601DateTimeEncoding;\n",
    "    }\n",
    "    \n",
    "    attribute phase1orbit : ScenarioState;\n",
    "    \n",
    "    analysis VerifyMTTARequirement {\n",
    "        subject constellation: Phase1;\n",
    "        attribute :>> scenario = phase1orbit;\n",
    "        requirement :>> \n",
    "        \n",
    "        objective thisobjective {\n",
    "            doc /* Run an MTTA analysis */\n",
    "            \n",
    "            require MttaRequirement;\n",
    "        }\n",
    "        \n",
    "        action mttatool(in sc: ScenarioState, out mtta: TimeUnit[*]) {\n",
    "            /* Run MTTA Tool */\n",
    "        }\n",
    "    }\n",
    "}"
   ]
  },
  {
   "cell_type": "code",
   "execution_count": null,
   "id": "3db2433d-16bb-442e-b4e7-7a782a60e1d9",
   "metadata": {
    "kernel": "SysML"
   },
   "outputs": [],
   "source": []
  }
 ],
 "metadata": {
  "kernelspec": {
   "display_name": "SoS",
   "language": "sos",
   "name": "sos"
  },
  "language_info": {
   "codemirror_mode": "sos",
   "file_extension": ".sos",
   "mimetype": "text/x-sos",
   "name": "sos",
   "nbconvert_exporter": "sos_notebook.converter.SoS_Exporter",
   "pygments_lexer": "sos"
  },
  "sos": {
   "kernels": [
    [
     "Python3",
     "python3",
     "Python3",
     "#FFD91A",
     ""
    ],
    [
     "SysML",
     "sysml",
     "sysml",
     "",
     "sysml"
    ]
   ],
   "version": "0.24.2"
  }
 },
 "nbformat": 4,
 "nbformat_minor": 5
}
