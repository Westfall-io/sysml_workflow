{
 "cells": [
  {
   "cell_type": "markdown",
   "id": "f2a4d1cc-f545-4cf2-8b61-0201e46ae3f1",
   "metadata": {
    "kernel": "SoS",
    "tags": []
   },
   "source": [
    "# Rocket Design"
   ]
  },
  {
   "cell_type": "markdown",
   "id": "6a79577a-cd60-49e6-8268-735a258a5dd5",
   "metadata": {
    "kernel": "SoS"
   },
   "source": [
    "## Stage 1"
   ]
  },
  {
   "cell_type": "code",
   "execution_count": 1,
   "id": "ed6ce635-c749-4d67-a6fb-dd566d93484e",
   "metadata": {
    "kernel": "Python3",
    "tags": []
   },
   "outputs": [
    {
     "ename": "SyntaxError",
     "evalue": "invalid syntax (3263080829.py, line 2)",
     "output_type": "error",
     "traceback": [
      "\u001b[0;36m  Cell \u001b[0;32mIn [1], line 2\u001b[0;36m\u001b[0m\n\u001b[0;31m    package AnalysisAnnotation {\u001b[0m\n\u001b[0m            ^\u001b[0m\n\u001b[0;31mSyntaxError\u001b[0m\u001b[0;31m:\u001b[0m invalid syntax\n"
     ]
    }
   ],
   "source": [
    "# %load model.sysml\n",
    "package AnalysisAnnotation {\n",
    "\timport ScalarValues::Real;\n",
    "\timport AnalysisTooling::*;\n",
    "\timport ISQ::*;\n",
    "\t\n",
    "\taction def ComputeDynamics {\n",
    "\t\tmetadata ToolExecution {\n",
    "\t\t\ttoolName = \"ModelCenter\";\n",
    "\t\t\turi = \"aserv://localhost/Vehicle/Equation1\";\n",
    "\t\t}\n",
    "\t\t\t\n",
    "\t\tin dt : TimeValue             { @ToolVariable { name = \"deltaT\"; } }\n",
    "\t\tin whlpwr : PowerValue        { @ToolVariable { name = \"power\"; } }\n",
    "\t\tin Cd : Real                  { @ToolVariable { name = \"C_D\"; } }\n",
    "\t\tin Cf: Real                   { @ToolVariable { name = \"C_F\"; } }\n",
    "\t\tin tm : MassValue             { @ToolVariable { name = \"mass\"; } }\n",
    "\t\tin v_in : SpeedValue          { @ToolVariable { name = \"v0\"; } }\n",
    "\t\tin x_in : LengthValue         { @ToolVariable { name = \"x0\"; } }\n",
    "\t\t\n",
    "\t\tout a_out : AccelerationValue { @ToolVariable { name = \"a\"; } }\n",
    "\t\tout v_out : SpeedValue        { @ToolVariable { name = \"v\"; } }\n",
    "\t\tout x_out : LengthValue       { @ToolVariable { name = \"x\"; } }\n",
    "\t\t\t\n",
    "\t}\n",
    "\n",
    "}\n"
   ]
  },
  {
   "cell_type": "markdown",
   "id": "2f5a8e18-4a43-45df-b6db-5f79cde18422",
   "metadata": {
    "kernel": "SoS"
   },
   "source": [
    "![](test.png)"
   ]
  },
  {
   "cell_type": "code",
   "execution_count": null,
   "id": "1918c9c6-7abe-474a-b1e9-5176b0865a36",
   "metadata": {
    "kernel": "Python3"
   },
   "outputs": [],
   "source": []
  }
 ],
 "metadata": {
  "kernelspec": {
   "display_name": "SoS",
   "language": "sos",
   "name": "sos"
  },
  "language_info": {
   "codemirror_mode": "sos",
   "file_extension": ".sos",
   "mimetype": "text/x-sos",
   "name": "sos",
   "nbconvert_exporter": "sos_notebook.converter.SoS_Exporter",
   "pygments_lexer": "sos"
  },
  "sos": {
   "kernels": [
    [
     "Python3",
     "python3",
     "Python3",
     "#FFD91A",
     ""
    ],
    [
     "SoS",
     "sos",
     "",
     "",
     "sos"
    ]
   ],
   "version": "0.24.2"
  }
 },
 "nbformat": 4,
 "nbformat_minor": 5
}
