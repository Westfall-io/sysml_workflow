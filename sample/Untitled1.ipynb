{
 "cells": [
  {
   "cell_type": "markdown",
   "id": "c7254b69-6891-4400-85e7-21b1addbcabd",
   "metadata": {
    "kernel": "SysML"
   },
   "source": [
    "# Package"
   ]
  },
  {
   "cell_type": "code",
   "execution_count": null,
   "id": "8127ff47-3aac-4fff-9767-d7eeea062fe9",
   "metadata": {
    "kernel": "SysML",
    "tags": []
   },
   "outputs": [],
   "source": [
    "package AnalysisAnnotation {\n",
    "    import AnalysisAnnotation2::*;\n",
    "\timport ScalarValues::Real;\n",
    "\timport AnalysisTooling::*;\n",
    "\timport ISQ::*;\n",
    "\t\n",
    "\taction def ComputeDynamics {\n",
    "\t\tmetadata ToolExecution {\n",
    "\t\t\ttoolName = \"ModelCenter\";\n",
    "\t\t\turi = \"aserv://localhost/Vehicle/Equation1\";\n",
    "\t\t}\n",
    "\t\t\t\n",
    "\t\tin dt : TimeValue             { @ToolVariable { name = \"deltaT\"; } }\n",
    "\t\tin whlpwr : PowerValue        { @ToolVariable { name = \"power\"; } }\n",
    "\t\tin Cd : Real                  { @ToolVariable { name = \"C_D\"; } }\n",
    "\t\tin Cf: Real                   { @ToolVariable { name = \"C_F\"; } }\n",
    "\t\tin tm : MassValue             { @ToolVariable { name = \"mass\"; } }\n",
    "\t\tin v_in : SpeedValue          { @ToolVariable { name = \"v0\"; } }\n",
    "\t\tin x_in : LengthValue         { @ToolVariable { name = \"x0\"; } }\n",
    "\t\t\n",
    "\t\tout a_out : AccelerationValue { @ToolVariable { name = \"a\"; } }\n",
    "\t\tout v_out : SpeedValue        { @ToolVariable { name = \"v\"; } }\n",
    "\t\tout x_out : LengthValue       { @ToolVariable { name = \"x\"; } }\n",
    "\t\t\t\n",
    "\t}\n",
    "\n",
    "}"
   ]
  },
  {
   "cell_type": "code",
   "execution_count": 61,
   "id": "fdfa16eb-ca99-4dba-a08a-f485408edda8",
   "metadata": {
    "kernel": "SysML",
    "tags": []
   },
   "outputs": [
    {
     "data": {
      "image/svg+xml": [
       "<?xml version=\"1.0\" encoding=\"UTF-8\" standalone=\"no\"?><svg xmlns=\"http://www.w3.org/2000/svg\" xmlns:xlink=\"http://www.w3.org/1999/xlink\" contentStyleType=\"text/css\" height=\"386px\" preserveAspectRatio=\"none\" style=\"width:702px;height:386px;background:#FFFFFF;\" version=\"1.1\" viewBox=\"0 0 702 386\" width=\"702px\" zoomAndPan=\"magnify\"><defs/><g><!--MD5=[fbc87193dbaf4d95561dea2c320d4a47]\n",
       "cluster E1--><g id=\"cluster_E1\"><a href=\"psysml:e4b820c6-2786-4618-9e44-db0d5677a769\" target=\"_top\" title=\"psysml:e4b820c6-2786-4618-9e44-db0d5677a769\" xlink:actuate=\"onRequest\" xlink:href=\"psysml:e4b820c6-2786-4618-9e44-db0d5677a769\" xlink:show=\"new\" xlink:title=\"psysml:e4b820c6-2786-4618-9e44-db0d5677a769\" xlink:type=\"simple\"><polygon fill=\"none\" points=\"16,6,173,6,180,28.2969,685,28.2969,685,379.72,16,379.72,16,6\" style=\"stroke:#000000;stroke-width:1.5;\"/><line style=\"stroke:#000000;stroke-width:1.5;\" x1=\"16\" x2=\"180\" y1=\"28.2969\" y2=\"28.2969\"/><text fill=\"#000000\" font-family=\"sans-serif\" font-size=\"14\" font-weight=\"bold\" lengthAdjust=\"spacing\" textLength=\"151\" x=\"20\" y=\"20.9951\">AnalysisAnnotation</text></a></g><!--MD5=[e4f7fae6ed58524ba242bb0b0d3be6b7]\n",
       "cluster E2--><g id=\"cluster_E2\"><a href=\"psysml:1aede2d9-b6cc-4e3c-9c5d-dc1ec3f13695\" target=\"_top\" title=\"psysml:1aede2d9-b6cc-4e3c-9c5d-dc1ec3f13695\" xlink:actuate=\"onRequest\" xlink:href=\"psysml:1aede2d9-b6cc-4e3c-9c5d-dc1ec3f13695\" xlink:show=\"new\" xlink:title=\"psysml:1aede2d9-b6cc-4e3c-9c5d-dc1ec3f13695\" xlink:type=\"simple\"><rect fill=\"#FFFFFF\" height=\"261.22\" id=\"E2\" style=\"stroke:#383838;stroke-width:1.5;\" width=\"318\" x=\"347\" y=\"80.5\"/><text fill=\"#000000\" font-family=\"sans-serif\" font-size=\"12\" font-style=\"italic\" lengthAdjust=\"spacing\" textLength=\"112\" x=\"450\" y=\"96.6387\">«#ToolExecution»</text><text fill=\"#000000\" font-family=\"sans-serif\" font-size=\"14\" lengthAdjust=\"spacing\" textLength=\"131\" x=\"440.5\" y=\"112.4639\">ComputeDynamics</text><line style=\"stroke:#383838;stroke-width:1.0;\" x1=\"347\" x2=\"665\" y1=\"120.7656\" y2=\"120.7656\"/></a></g><g id=\"elem_E3\"><path d=\"M32,41 L32,119.5313 L324,119.5313 L324,51 L314,41 L32,41 \" fill=\"#FAFAFA\" style=\"stroke:#181818;stroke-width:0.5;\"/><path d=\"M314,41 L314,51 L324,51 L314,41 \" fill=\"#FAFAFA\" style=\"stroke:#181818;stroke-width:1.0;\"/><text fill=\"#000000\" font-family=\"monospace\" font-size=\"13\" lengthAdjust=\"spacing\" textLength=\"112\" x=\"38\" y=\"58.0669\">              </text><a href=\"psysml:5955f636-eec6-4e68-8947-11f9d6343c9b\" target=\"_top\" title=\"psysml:5955f636-eec6-4e68-8947-11f9d6343c9b\" xlink:actuate=\"onRequest\" xlink:href=\"psysml:5955f636-eec6-4e68-8947-11f9d6343c9b\" xlink:show=\"new\" xlink:title=\"psysml:5955f636-eec6-4e68-8947-11f9d6343c9b\" xlink:type=\"simple\"><text fill=\"#000000\" font-family=\"sans-serif\" font-size=\"13\" lengthAdjust=\"spacing\" text-decoration=\"underline\" textLength=\"79\" x=\"150\" y=\"58.0669\">«metadata»</text></a><text fill=\"#000000\" font-family=\"monospace\" font-size=\"13\" font-style=\"italic\" lengthAdjust=\"spacing\" textLength=\"104\" x=\"38\" y=\"73.1997\">             </text><text fill=\"#000000\" font-family=\"sans-serif\" font-size=\"13\" font-style=\"italic\" lengthAdjust=\"spacing\" textLength=\"90\" x=\"142\" y=\"73.1997\">ToolExecution</text><line style=\"stroke:#181818;stroke-width:1.0;\" x1=\"33\" x2=\"323\" y1=\"76.2656\" y2=\"76.2656\"/><text fill=\"#000000\" font-family=\"sans-serif\" font-size=\"13\" lengthAdjust=\"spacing\" textLength=\"177\" x=\"38\" y=\"92.3325\">toolName =  \"ModelCenter\"</text><text fill=\"#000000\" font-family=\"sans-serif\" font-size=\"13\" lengthAdjust=\"spacing\" textLength=\"271\" x=\"38\" y=\"107.4653\">uri =  \"aserv://localhost/Vehicle/Equation1\"</text></g><text fill=\"#000000\" font-family=\"sans-serif\" font-size=\"14\" lengthAdjust=\"spacing\" textLength=\"14\" x=\"358\" y=\"59.1982\">dt</text><rect fill=\"#FFFFFF\" height=\"12\" style=\"stroke:#181818;stroke-width:1.5;\" width=\"12\" x=\"359\" y=\"74.5\"/><text fill=\"#000000\" font-family=\"sans-serif\" font-size=\"14\" lengthAdjust=\"spacing\" textLength=\"48\" x=\"388\" y=\"59.1982\">whlpwr</text><rect fill=\"#FFFFFF\" height=\"12\" style=\"stroke:#181818;stroke-width:1.5;\" width=\"12\" x=\"406\" y=\"74.5\"/><text fill=\"#000000\" font-family=\"sans-serif\" font-size=\"14\" lengthAdjust=\"spacing\" textLength=\"19\" x=\"449.5\" y=\"59.1982\">Cd</text><rect fill=\"#FFFFFF\" height=\"12\" style=\"stroke:#181818;stroke-width:1.5;\" width=\"12\" x=\"453\" y=\"74.5\"/><text fill=\"#000000\" font-family=\"sans-serif\" font-size=\"14\" lengthAdjust=\"spacing\" textLength=\"14\" x=\"499\" y=\"59.1982\">Cf</text><rect fill=\"#FFFFFF\" height=\"12\" style=\"stroke:#181818;stroke-width:1.5;\" width=\"12\" x=\"500\" y=\"74.5\"/><text fill=\"#000000\" font-family=\"sans-serif\" font-size=\"14\" lengthAdjust=\"spacing\" textLength=\"18\" x=\"544\" y=\"59.1982\">tm</text><rect fill=\"#FFFFFF\" height=\"12\" style=\"stroke:#181818;stroke-width:1.5;\" width=\"12\" x=\"547\" y=\"74.5\"/><text fill=\"#000000\" font-family=\"sans-serif\" font-size=\"14\" lengthAdjust=\"spacing\" textLength=\"26\" x=\"587\" y=\"59.1982\">v_in</text><rect fill=\"#FFFFFF\" height=\"12\" style=\"stroke:#181818;stroke-width:1.5;\" width=\"12\" x=\"594\" y=\"74.5\"/><text fill=\"#000000\" font-family=\"sans-serif\" font-size=\"14\" lengthAdjust=\"spacing\" textLength=\"26\" x=\"634\" y=\"59.1982\">x_in</text><rect fill=\"#FFFFFF\" height=\"12\" style=\"stroke:#181818;stroke-width:1.5;\" width=\"12\" x=\"641\" y=\"74.5\"/><text fill=\"#000000\" font-family=\"sans-serif\" font-size=\"14\" lengthAdjust=\"spacing\" textLength=\"38\" x=\"354\" y=\"360.7151\">a_out</text><rect fill=\"#FFFFFF\" height=\"12\" style=\"stroke:#181818;stroke-width:1.5;\" width=\"12\" x=\"367\" y=\"335.72\"/><text fill=\"#000000\" font-family=\"sans-serif\" font-size=\"14\" lengthAdjust=\"spacing\" textLength=\"37\" x=\"401.5\" y=\"360.7151\">v_out</text><rect fill=\"#FFFFFF\" height=\"12\" style=\"stroke:#181818;stroke-width:1.5;\" width=\"12\" x=\"414\" y=\"335.72\"/><text fill=\"#000000\" font-family=\"sans-serif\" font-size=\"14\" lengthAdjust=\"spacing\" textLength=\"37\" x=\"448.5\" y=\"360.7151\">x_out</text><rect fill=\"#FFFFFF\" height=\"12\" style=\"stroke:#181818;stroke-width:1.5;\" width=\"12\" x=\"461\" y=\"335.72\"/><!--MD5=[05d275557350bfb9b23a4ef7222b4c39]\n",
       "link E3 to E2--><g id=\"link_E3_E2\"><a href=\"psysml:5955f636-eec6-4e68-8947-11f9d6343c9b\" target=\"_top\" title=\"psysml:5955f636-eec6-4e68-8947-11f9d6343c9b\" xlink:actuate=\"onRequest\" xlink:href=\"psysml:5955f636-eec6-4e68-8947-11f9d6343c9b\" xlink:show=\"new\" xlink:title=\"psysml:5955f636-eec6-4e68-8947-11f9d6343c9b\" xlink:type=\"simple\"><path d=\"M286.79,120.11 C301.13,125.2 316.0956,130.5119 331.1634,135.86 C334.9304,137.197 338.7037,138.5363 342.4753,139.875 C343.4182,140.2097 344.3609,140.5443 345.3035,140.8788 C345.7747,141.0461 346.246,141.2133 346.7171,141.3806 \" fill=\"none\" id=\"E3-to-E2\" style=\"stroke:#181818;stroke-width:1.0;stroke-dasharray:7.0,7.0;\"/><ellipse cx=\"341.0627\" cy=\"139.3736\" fill=\"#181818\" rx=\"6\" ry=\"6\" style=\"stroke:#181818;stroke-width:1.5;\"/><text fill=\"#000000\" font-family=\"sans-serif\" font-size=\"13\" lengthAdjust=\"spacing\" textLength=\"7\" x=\"448.4\" y=\"177.0269\">*</text></a></g><!--MD5=[c4085d1b8ed9e98e4c81f12978e61ac4]\n",
       "@startuml\r\n",
       "skin sysmlbw\r\n",
       "skinparam monochrome true\r\n",
       "skinparam wrapWidth 300\r\n",
       "hide circle\r\n",
       "\r\n",
       "package \"AnalysisAnnotation\" as E1  [[psysml:e4b820c6-2786-4618-9e44-db0d5677a769 ]]  {\r\n",
       "rec def \"ComputeDynamics\" as E2 <<#ToolExecution>>[[psysml:1aede2d9-b6cc-4e3c-9c5d-dc1ec3f13695 ]] {\r\n",
       "portin \"dt\" as E4  [[psysml:e3b1392a-d342-41f4-952c-86b7e8b277c7 ]] \r\n",
       "portin \"whlpwr\" as E5  [[psysml:35458eb6-0e03-4bbb-abe3-a5bb8bbe326c ]] \r\n",
       "portin \"Cd\" as E6  [[psysml:d9df70cd-b8c0-4d2f-b3f6-4d3ab68f6f7e ]] \r\n",
       "portin \"Cf\" as E7  [[psysml:014b3982-bde1-48ea-95c2-f7499c64ec25 ]] \r\n",
       "portin \"tm\" as E8  [[psysml:3965e842-f76a-48d1-b39a-58f4112185eb ]] \r\n",
       "portin \"v_in\" as E9  [[psysml:f0bc29c1-2cd2-46fc-b4d8-66b23df07dc3 ]] \r\n",
       "portin \"x_in\" as E10  [[psysml:4afd45bb-75ec-4c7b-ac1a-4e393609f30b ]] \r\n",
       "portout \"a_out\" as E11  [[psysml:d1dd4116-e98f-4866-b481-a59521e7bccc ]] \r\n",
       "portout \"v_out\" as E12  [[psysml:42a4926a-4061-45bc-815d-c1a2eab082f3 ]] \r\n",
       "portout \"x_out\" as E13  [[psysml:84430b4b-5ff9-40a8-8dd2-a0f1172d3bbd ]] \r\n",
       "}\r\n",
       "\r\n",
       "note as E3\r\n",
       "\"\"              \"\"[[psysml:5955f636-eec6-4e68-8947-11f9d6343c9b «metadata»]]\r\n",
       "==== \"\"             \"\"ToolExecution\r\n",
       "- -\r\n",
       "toolName =  \"ModelCenter\"\r\n",
       "uri =  \"aserv://localhost/Vehicle/Equation1\"\r\n",
       "end note\r\n",
       "}\r\n",
       "E3 ..@ \"*\"E2 [[psysml:5955f636-eec6-4e68-8947-11f9d6343c9b ]] \r\n",
       "@enduml\r\n",
       "\n",
       "PlantUML version 1.2022.7(Mon Aug 22 17:01:30 UTC 2022)\n",
       "(EPL source distribution)\n",
       "Java Runtime: OpenJDK Runtime Environment\n",
       "JVM: OpenJDK 64-Bit Server VM\n",
       "Default Encoding: UTF-8\n",
       "Language: en\n",
       "Country: null\n",
       "--></g></svg>"
      ]
     },
     "execution_count": 61,
     "metadata": {},
     "output_type": "execute_result"
    }
   ],
   "source": [
    "%capture raw --as json -t aa_view\n",
    "%viz AnalysisAnnotation"
   ]
  },
  {
   "cell_type": "code",
   "execution_count": 85,
   "id": "e355dd76-3f24-484e-b1f7-9f9363bb4b0e",
   "metadata": {
    "kernel": "Python3",
    "tags": []
   },
   "outputs": [
    {
     "data": {
      "text/html": [
       "aa_view[0][1]['data']['image/svg+xml']\n"
      ],
      "text/plain": [
       "<IPython.core.display.HTML object>"
      ]
     },
     "metadata": {},
     "output_type": "display_data"
    }
   ],
   "source": [
    "%get aa_view\n",
    "%%html\n",
    "aa_view[0][1]['data']['image/svg+xml']"
   ]
  },
  {
   "cell_type": "code",
   "execution_count": 86,
   "id": "65d77b40-01ce-4c7d-a234-2a5f97b34d6e",
   "metadata": {
    "kernel": "SoS",
    "tags": []
   },
   "outputs": [],
   "source": [
    "%put --to SysML\n",
    "model = '''package AnalysisAnnotation {\n",
    "    import AnalysisAnnotation2::*;\n",
    "\timport ScalarValues::Real;\n",
    "\timport AnalysisTooling::*;\n",
    "\timport ISQ::*;\n",
    "\t\n",
    "\taction def ComputeDynamics {\n",
    "\t\tmetadata ToolExecution {\n",
    "\t\t\ttoolName = \"ModelCenter\";\n",
    "\t\t\turi = \"aserv://localhost/Vehicle/Equation1\";\n",
    "\t\t}\n",
    "\t\t\t\n",
    "\t\tin dt : TimeValue             { @ToolVariable { name = \"deltaT\"; } }\n",
    "\t\tin whlpwr : PowerValue        { @ToolVariable { name = \"power\"; } }\n",
    "\t\tin Cd : Real                  { @ToolVariable { name = \"C_D\"; } }\n",
    "\t\tin Cf: Real                   { @ToolVariable { name = \"C_F\"; } }\n",
    "\t\tin tm : MassValue             { @ToolVariable { name = \"mass\"; } }\n",
    "\t\tin v_in : SpeedValue          { @ToolVariable { name = \"v0\"; } }\n",
    "\t\tin x_in : LengthValue         { @ToolVariable { name = \"x0\"; } }\n",
    "\t\t\n",
    "\t\tout a_out : AccelerationValue { @ToolVariable { name = \"a\"; } }\n",
    "\t\tout v_out : SpeedValue        { @ToolVariable { name = \"v\"; } }\n",
    "\t\tout x_out : LengthValue       { @ToolVariable { name = \"x\"; } }\n",
    "\t\t\t\n",
    "\t}\n",
    "\n",
    "}'''"
   ]
  },
  {
   "cell_type": "code",
   "execution_count": 88,
   "id": "e55cf12a-379f-4aec-ad3b-c3479f99f389",
   "metadata": {
    "kernel": "SysML",
    "tags": []
   },
   "outputs": [
    {
     "name": "stderr",
     "output_type": "stream",
     "text": [
      "Magic %get failed because the language module for SysML is not properly installed. Please install it according to language specific instructions on the Running SoS section of the SoS homepage and restart Jupyter server.\n",
      "ERROR:no viable alternative at input '<EOF>' (19.sysml line : 1 column : 6)\n"
     ]
    },
    {
     "data": {
      "text/plain": []
     },
     "execution_count": 88,
     "metadata": {},
     "output_type": "execute_result"
    }
   ],
   "source": []
  },
  {
   "cell_type": "code",
   "execution_count": null,
   "id": "833287da-8dc3-4033-a54e-3043102adff1",
   "metadata": {
    "kernel": "SysML"
   },
   "outputs": [],
   "source": []
  }
 ],
 "metadata": {
  "kernelspec": {
   "display_name": "SoS",
   "language": "sos",
   "name": "sos"
  },
  "language_info": {
   "codemirror_mode": "sos",
   "file_extension": ".sos",
   "mimetype": "text/x-sos",
   "name": "sos",
   "nbconvert_exporter": "sos_notebook.converter.SoS_Exporter",
   "pygments_lexer": "sos"
  },
  "sos": {
   "kernels": [
    [
     "Python3",
     "python3",
     "Python3",
     "#FFD91A",
     {
      "name": "ipython",
      "version": 3
     }
    ],
    [
     "SoS",
     "sos",
     "",
     "",
     "sos"
    ],
    [
     "SysML",
     "sysml",
     "sysml",
     "",
     "sysml"
    ]
   ],
   "version": "0.24.2"
  }
 },
 "nbformat": 4,
 "nbformat_minor": 5
}
